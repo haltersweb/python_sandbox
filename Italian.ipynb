{
 "cells": [
  {
   "cell_type": "code",
   "execution_count": null,
   "id": "37d3a82b",
   "metadata": {},
   "outputs": [],
   "source": [
    "sock = \"la calza\"\n",
    "sweater = \"il maglione\"\n",
    "hat = \"il cappello\"\n",
    "clothes = \"i vestiti\"\n",
    "boot = \"lo stivale\" #***\n",
    "shirt = \"la maglia\" #***\n",
    "suit = \"l'abito\" #***\n",
    "turkey = \"tacchino\"\n",
    "uniform = \"divisa\"#***"
   ]
  }
 ],
 "metadata": {
  "kernelspec": {
   "display_name": "Python 3 (ipykernel)",
   "language": "python",
   "name": "python3"
  },
  "language_info": {
   "codemirror_mode": {
    "name": "ipython",
    "version": 3
   },
   "file_extension": ".py",
   "mimetype": "text/x-python",
   "name": "python",
   "nbconvert_exporter": "python",
   "pygments_lexer": "ipython3",
   "version": "3.9.6"
  }
 },
 "nbformat": 4,
 "nbformat_minor": 5
}
