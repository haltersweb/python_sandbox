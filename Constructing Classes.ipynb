{
 "cells": [
  {
   "cell_type": "markdown",
   "id": "dd73d37c",
   "metadata": {},
   "source": [
    "# Constructing Classes\n",
    "\n",
    "## Basic construction\n",
    "\n",
    "* `class` instead of `def`\n",
    "* Class name should start with a capital letter\n",
    "* first line should describe the class within `\"\"\" \"\"\"`\n",
    "* initialize with `def __init__(<parameters>)` (double underline `__` is called __dunder__)\n",
    "* first `__init__` parameter is always `self`\n",
    "* rest of `__init__` parameters are called __instance variables__ when they are bound to self (i.e. `self.x`)\n",
    "\n",
    "### example 1"
   ]
  },
  {
   "cell_type": "code",
   "execution_count": 1,
   "id": "0bae7f24",
   "metadata": {},
   "outputs": [
    {
     "name": "stdout",
     "output_type": "stream",
     "text": [
      "3\n",
      "5\n"
     ]
    }
   ],
   "source": [
    "class Point:\n",
    "    \"\"\"Point class for representing and manipulating x,y coordinates\"\"\"\n",
    "    def __init__(self, init_x, init_y):\n",
    "        self.x = init_x\n",
    "        self.y = init_y\n",
    "        \n",
    "#try it out\n",
    "p = Point(3,5)\n",
    "print(p.x)\n",
    "print(p.y)"
   ]
  },
  {
   "cell_type": "markdown",
   "id": "48bc29d0",
   "metadata": {},
   "source": [
    "### example 2\n",
    "\n",
    "Create a class called `NumberSet` that accepts 2 integers as input, and defines two instance variables: `num1` and `num2`, which hold each of the input integers. Then, create an instance of NumberSet where its `num1` is `6` and its `num2` is `10`. Save this instance to a variable `t`."
   ]
  },
  {
   "cell_type": "code",
   "execution_count": 3,
   "id": "1a3cd9fa",
   "metadata": {},
   "outputs": [
    {
     "name": "stdout",
     "output_type": "stream",
     "text": [
      "10\n"
     ]
    }
   ],
   "source": [
    "class NumberSet:\n",
    "    \"\"\"Point class for a set of numbers\"\"\"\n",
    "    def __init__(self, num1, num2):\n",
    "        self.num1 = num1\n",
    "        self.num2 = num2\n",
    "        \n",
    "#try it out\n",
    "t = NumberSet(6, 10)\n",
    "print(t.num2)"
   ]
  },
  {
   "cell_type": "markdown",
   "id": "e36d97fb",
   "metadata": {},
   "source": [
    "## Adding methods\n",
    "\n",
    "### example 1"
   ]
  },
  {
   "cell_type": "code",
   "execution_count": 5,
   "id": "c2434b82",
   "metadata": {},
   "outputs": [
    {
     "name": "stdout",
     "output_type": "stream",
     "text": [
      "7\n"
     ]
    }
   ],
   "source": [
    "class Point:\n",
    "    \"\"\" Point class for representing and manipulating x,y coordinates. \"\"\"\n",
    "    def __init__(self, x, y):\n",
    "        self.x = x\n",
    "        self.y = y\n",
    "    \n",
    "    def getX(self):\n",
    "        return self.x\n",
    "    \n",
    "    def getY(self):\n",
    "        return self.y\n",
    "    \n",
    "#try it out\n",
    "p = Point(7,8)\n",
    "print(p.getX())"
   ]
  },
  {
   "cell_type": "markdown",
   "id": "f809c8a3",
   "metadata": {},
   "source": [
    "### example 2"
   ]
  },
  {
   "cell_type": "code",
   "execution_count": 10,
   "id": "4220ed50",
   "metadata": {},
   "outputs": [
    {
     "data": {
      "text/plain": [
       "5.0"
      ]
     },
     "execution_count": 10,
     "metadata": {},
     "output_type": "execute_result"
    }
   ],
   "source": [
    "class Point:\n",
    "    \"\"\" Point class for representing and manipulating x,y coordinates. \"\"\"\n",
    "    def __init__(self, x, y):\n",
    "        self.x = x\n",
    "        self.y = y\n",
    "    \n",
    "    def getX(self):\n",
    "        return self.x\n",
    "    \n",
    "    def getY(self):\n",
    "        return self.y\n",
    "    \n",
    "    def distanceFromOrigin(self):\n",
    "        h = (self.x ** 2 + self.y ** 2) ** (1/2)\n",
    "        return h\n",
    "    \n",
    "#try it out\n",
    "p = Point(3,4)\n",
    "p.distanceFromOrigin()"
   ]
  },
  {
   "cell_type": "markdown",
   "id": "1cb31e3d",
   "metadata": {},
   "source": [
    "### example 3\n",
    "\n",
    "Create a class called `Animal` that accepts two numbers as inputs and assigns them respectively to two instance variables: `arms` and `legs`. Create an instance method called `limbs` that, when called, returns the total number of limbs the animal has.\n",
    "\n",
    "To the variable name `spider`, assign an instance of Animal that has `4` arms and `4` legs. Call the `limbs` method on the spider instance and save the result to the variable name `spidlimbs`."
   ]
  },
  {
   "cell_type": "code",
   "execution_count": 12,
   "id": "fe68fc72",
   "metadata": {},
   "outputs": [
    {
     "name": "stdout",
     "output_type": "stream",
     "text": [
      "8\n"
     ]
    }
   ],
   "source": [
    "class Animal:\n",
    "    \"\"\"Animal class that can be used to create all sorts of animals\"\"\"\n",
    "    \n",
    "    def __init__(self, arms, legs):\n",
    "        self.arms = arms\n",
    "        self.legs = legs\n",
    "        \n",
    "    def limbs(self):\n",
    "        return self.arms + self.legs\n",
    "    \n",
    "spider = Animal(4, 4)\n",
    "spidlimbs = spider.limbs()\n",
    "print(spidlimbs)"
   ]
  },
  {
   "cell_type": "markdown",
   "id": "5980927c",
   "metadata": {},
   "source": [
    "## Creating instances from data\n",
    "### example 1"
   ]
  },
  {
   "cell_type": "code",
   "execution_count": 14,
   "id": "bc60852d",
   "metadata": {},
   "outputs": [],
   "source": [
    "cityNames = ['Detroit', 'Ann Arbor', 'Pittsburgh', 'Mars', 'New York']\n",
    "populations = [680250, 117070, 304391, 1683, 8406000]\n",
    "states = ['MI', 'MI', 'PA', 'PA', 'NY']\n"
   ]
  },
  {
   "cell_type": "code",
   "execution_count": 20,
   "id": "7517f331",
   "metadata": {},
   "outputs": [
    {
     "data": {
      "text/plain": [
       "[('Detroit', 680250, 'MI'),\n",
       " ('Ann Arbor', 117070, 'MI'),\n",
       " ('Pittsburgh', 304391, 'PA'),\n",
       " ('Mars', 1683, 'PA'),\n",
       " ('New York', 8406000, 'NY')]"
      ]
     },
     "execution_count": 20,
     "metadata": {},
     "output_type": "execute_result"
    }
   ],
   "source": [
    "city_tuples = list(zip(cityNames, populations, states))\n",
    "city_tuples"
   ]
  },
  {
   "cell_type": "markdown",
   "id": "5b91a59d",
   "metadata": {},
   "source": [
    "When considering Class construction ask:\n",
    "* __What should instances have:__ name, pop, state\n",
    "* __What should each instance be:__ a city"
   ]
  },
  {
   "cell_type": "code",
   "execution_count": 28,
   "id": "5433ebe1",
   "metadata": {},
   "outputs": [],
   "source": [
    "class City:\n",
    "    \"\"\"City class that holds city name, population, and state\"\"\"\n",
    "    \n",
    "    def __init__(self, n, p, s):\n",
    "        self.name = n\n",
    "        self.population = p\n",
    "        self.state = s\n",
    "        \n",
    "    def __str__(self):\n",
    "        return '{}, {} (pop: {})'.format(self.name, self.state, self.population)"
   ]
  },
  {
   "cell_type": "code",
   "execution_count": 29,
   "id": "fba21cd7",
   "metadata": {},
   "outputs": [
    {
     "data": {
      "text/plain": [
       "[<__main__.City at 0x105394bb0>,\n",
       " <__main__.City at 0x104f36d30>,\n",
       " <__main__.City at 0x10512a220>,\n",
       " <__main__.City at 0x104891580>,\n",
       " <__main__.City at 0x1052a0970>]"
      ]
     },
     "execution_count": 29,
     "metadata": {},
     "output_type": "execute_result"
    }
   ],
   "source": [
    "cities = [City(*t) for t in city_tuples]\n",
    "cities"
   ]
  },
  {
   "cell_type": "code",
   "execution_count": 30,
   "id": "ef9905eb",
   "metadata": {},
   "outputs": [
    {
     "name": "stdout",
     "output_type": "stream",
     "text": [
      "Detroit, MI (pop: 680250)\n"
     ]
    }
   ],
   "source": [
    "print(cities[0])"
   ]
  },
  {
   "cell_type": "code",
   "execution_count": 31,
   "id": "c795592f",
   "metadata": {},
   "outputs": [
    {
     "name": "stdout",
     "output_type": "stream",
     "text": [
      "Detroit, MI (pop: 680250)\n",
      "Ann Arbor, MI (pop: 117070)\n",
      "Pittsburgh, PA (pop: 304391)\n",
      "Mars, PA (pop: 1683)\n",
      "New York, NY (pop: 8406000)\n"
     ]
    }
   ],
   "source": [
    "for city in cities:\n",
    "    print(city)"
   ]
  },
  {
   "cell_type": "code",
   "execution_count": null,
   "id": "a2cb631d",
   "metadata": {},
   "outputs": [],
   "source": []
  },
  {
   "cell_type": "code",
   "execution_count": null,
   "id": "3dcf5c31",
   "metadata": {},
   "outputs": [],
   "source": []
  },
  {
   "cell_type": "code",
   "execution_count": null,
   "id": "b6151f7b",
   "metadata": {},
   "outputs": [],
   "source": []
  },
  {
   "cell_type": "code",
   "execution_count": null,
   "id": "97169b25",
   "metadata": {},
   "outputs": [],
   "source": []
  }
 ],
 "metadata": {
  "kernelspec": {
   "display_name": "Python 3 (ipykernel)",
   "language": "python",
   "name": "python3"
  },
  "language_info": {
   "codemirror_mode": {
    "name": "ipython",
    "version": 3
   },
   "file_extension": ".py",
   "mimetype": "text/x-python",
   "name": "python",
   "nbconvert_exporter": "python",
   "pygments_lexer": "ipython3",
   "version": "3.8.11"
  }
 },
 "nbformat": 4,
 "nbformat_minor": 5
}
