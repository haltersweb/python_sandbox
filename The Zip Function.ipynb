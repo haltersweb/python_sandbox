{
 "cells": [
  {
   "cell_type": "markdown",
   "id": "b6c2c4c2",
   "metadata": {},
   "source": [
    "# The Zip Function\n",
    "\n",
    "* takes 2 or more iteratives\n",
    "* `zip()` just returns a `zip object`\n",
    "* use `list()` to translate the `zip object` into a list of tuples\n",
    "\n",
    "i.e. `list(zip([a,b], [c,d], [e,f]))` equals `[(a,c,e), (b,d,f)]`"
   ]
  },
  {
   "cell_type": "code",
   "execution_count": 2,
   "id": "9d87e3e7",
   "metadata": {},
   "outputs": [],
   "source": [
    "# two vectors\n",
    "v1 = [1,2,3]\n",
    "v2 = [4,5,6]\n",
    "# add the two vectors together"
   ]
  },
  {
   "cell_type": "code",
   "execution_count": 3,
   "id": "09ce7024",
   "metadata": {},
   "outputs": [
    {
     "name": "stdout",
     "output_type": "stream",
     "text": [
      "[5, 7, 9]\n"
     ]
    }
   ],
   "source": [
    "# the old way:\n",
    "v3 = []\n",
    "for i in range(len(v1)):\n",
    "    v3.append(v1[i] + v2[i])\n",
    "print(v3)"
   ]
  },
  {
   "cell_type": "code",
   "execution_count": 4,
   "id": "53635528",
   "metadata": {},
   "outputs": [
    {
     "name": "stdout",
     "output_type": "stream",
     "text": [
      "zipping the vectors gives [(1, 4), (2, 5), (3, 6)]\n",
      "adding vectors v1 and v2 gives [5, 7, 9]\n"
     ]
    }
   ],
   "source": [
    "# the zip way:\n",
    "v4 = list(zip(v1, v2))\n",
    "print('zipping the vectors gives',v4)\n",
    "v5 = []\n",
    "for x,y in v4:\n",
    "    v5.append(x+y)\n",
    "print('adding vectors v1 and v2 gives',v5)"
   ]
  },
  {
   "cell_type": "code",
   "execution_count": 6,
   "id": "6de2d02d",
   "metadata": {},
   "outputs": [
    {
     "name": "stdout",
     "output_type": "stream",
     "text": [
      "[5, 7, 9]\n"
     ]
    }
   ],
   "source": [
    "# zip with map\n",
    "v7 = list(map(lambda tup : tup[0] + tup[1], list(zip(v1, v2))))\n",
    "print(v7)"
   ]
  },
  {
   "cell_type": "code",
   "execution_count": 5,
   "id": "65b633f8",
   "metadata": {},
   "outputs": [
    {
     "name": "stdout",
     "output_type": "stream",
     "text": [
      "[5, 7, 9]\n"
     ]
    }
   ],
   "source": [
    "# the pythonic way: zip + list comprehension\n",
    "v6 = [x+y for (x,y) in list(zip(v1, v2))]\n",
    "print(v6)"
   ]
  },
  {
   "cell_type": "markdown",
   "id": "9bf574bc",
   "metadata": {},
   "source": [
    "__Q:__ Can you zip more than two lists?\n",
    "\n",
    "__A:__ Yes.  The resultant length of each tuple will be the same as the number of lists used."
   ]
  },
  {
   "cell_type": "code",
   "execution_count": 8,
   "id": "9763202a",
   "metadata": {},
   "outputs": [
    {
     "name": "stdout",
     "output_type": "stream",
     "text": [
      "[('a', 'c', 'e', 'g'), ('b', 'd', 'f', 'h')]\n"
     ]
    }
   ],
   "source": [
    "a1 = ['a','b']\n",
    "a2 = ['c','d']\n",
    "a3 = ['e','f']\n",
    "a4 = ['g','h']\n",
    "print(list(zip(a1,a2,a3,a4)))"
   ]
  },
  {
   "cell_type": "markdown",
   "id": "04de79d1",
   "metadata": {},
   "source": [
    "__Q:__ What if you try to zip lists of different lengths?\n",
    "\n",
    "__A:__ It will only zip until one of the lists runs out.  The length of the zipped list will equal the length of the shortest list."
   ]
  },
  {
   "cell_type": "code",
   "execution_count": 7,
   "id": "f8366ff7",
   "metadata": {},
   "outputs": [
    {
     "name": "stdout",
     "output_type": "stream",
     "text": [
      "[(0, 3, 6), (1, 4, 7)]\n"
     ]
    }
   ],
   "source": [
    "l1 = [0,1]\n",
    "l2 = [3,4,5]\n",
    "l3 = [6,7,8,9]\n",
    "print(list(zip(l1,l2,l3)))"
   ]
  },
  {
   "cell_type": "code",
   "execution_count": null,
   "id": "44f24227",
   "metadata": {},
   "outputs": [],
   "source": []
  }
 ],
 "metadata": {
  "kernelspec": {
   "display_name": "Python 3 (ipykernel)",
   "language": "python",
   "name": "python3"
  },
  "language_info": {
   "codemirror_mode": {
    "name": "ipython",
    "version": 3
   },
   "file_extension": ".py",
   "mimetype": "text/x-python",
   "name": "python",
   "nbconvert_exporter": "python",
   "pygments_lexer": "ipython3",
   "version": "3.8.11"
  }
 },
 "nbformat": 4,
 "nbformat_minor": 5
}
