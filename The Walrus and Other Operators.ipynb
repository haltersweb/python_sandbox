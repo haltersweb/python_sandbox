{
 "cells": [
  {
   "cell_type": "markdown",
   "id": "c1a5b05e",
   "metadata": {},
   "source": [
    "# The Walrus and Other Operators\n",
    "## the walrus operator :=\n",
    "* For defining a variable within an expression\n",
    "* New to 3.8\n",
    "* Looks like a walrus **:=** eyes and tusks\n",
    "* make sure to __wrap the walrus statement__ in __( )__, otherwise the var will equal the result of the comparison, not the expression\n",
    "* i.e. merging an assignment and a test:\n",
    "    * `(name := expression)` followed by `[comparison operator]` and then `[comparison value]`.\n",
    "    * Eg: `(city := len('hello')) > 0` notice the assignment (not the entire test) is surrounded by `( )`\n",
    "* some love it, some hate it\n",
    "\n",
    "Normally, you must define a variable and then use it in an expression:"
   ]
  },
  {
   "cell_type": "code",
   "execution_count": 1,
   "id": "57882ac6",
   "metadata": {},
   "outputs": [
    {
     "name": "stdout",
     "output_type": "stream",
     "text": [
      "True\n"
     ]
    }
   ],
   "source": [
    "happy = True\n",
    "print(happy)"
   ]
  },
  {
   "cell_type": "markdown",
   "id": "88e2db03",
   "metadata": {},
   "source": [
    "But, you can't define a variable within an expression:"
   ]
  },
  {
   "cell_type": "code",
   "execution_count": 2,
   "id": "f50bec70",
   "metadata": {},
   "outputs": [
    {
     "ename": "TypeError",
     "evalue": "'happy' is an invalid keyword argument for print()",
     "output_type": "error",
     "traceback": [
      "\u001b[0;31m---------------------------------------------------------------------------\u001b[0m",
      "\u001b[0;31mTypeError\u001b[0m                                 Traceback (most recent call last)",
      "\u001b[0;32m/var/folders/bq/fvvldy095vz80qbkf7d8zz2h0000gp/T/ipykernel_35150/321862957.py\u001b[0m in \u001b[0;36m<module>\u001b[0;34m\u001b[0m\n\u001b[0;32m----> 1\u001b[0;31m \u001b[0mprint\u001b[0m\u001b[0;34m(\u001b[0m\u001b[0mhappy\u001b[0m \u001b[0;34m=\u001b[0m \u001b[0;32mTrue\u001b[0m\u001b[0;34m)\u001b[0m\u001b[0;34m\u001b[0m\u001b[0;34m\u001b[0m\u001b[0m\n\u001b[0m",
      "\u001b[0;31mTypeError\u001b[0m: 'happy' is an invalid keyword argument for print()"
     ]
    }
   ],
   "source": [
    "print(happy = True)"
   ]
  },
  {
   "cell_type": "markdown",
   "id": "ee40f299",
   "metadata": {},
   "source": [
    "Unless you use the walrus operator which assigns the variable and then uses that variable all at once:"
   ]
  },
  {
   "cell_type": "code",
   "execution_count": 3,
   "id": "d566f8b3",
   "metadata": {},
   "outputs": [
    {
     "name": "stdout",
     "output_type": "stream",
     "text": [
      "True\n"
     ]
    }
   ],
   "source": [
    "print(happy := True)"
   ]
  },
  {
   "cell_type": "markdown",
   "id": "908a5705",
   "metadata": {},
   "source": [
    "### some examples\n",
    "#### example 1:"
   ]
  },
  {
   "cell_type": "code",
   "execution_count": 1,
   "id": "55dc3271",
   "metadata": {},
   "outputs": [
    {
     "name": "stdout",
     "output_type": "stream",
     "text": [
      "Oops! You went over by 219 characters.\n"
     ]
    }
   ],
   "source": [
    "# no walrus\n",
    "tweet_limit = 280\n",
    "tweet_string = (\"blah \" * 100).strip()\n",
    "diff = tweet_limit - len(tweet_string)\n",
    "if diff >= 0:\n",
    "    print(\"A fitting tweet: \\\"{}\\\"\".format(tweet_string))\n",
    "else:\n",
    "    print(f'Oops! You went over by {abs(diff)} characters.')"
   ]
  },
  {
   "cell_type": "code",
   "execution_count": 6,
   "id": "f2fbacd0",
   "metadata": {},
   "outputs": [
    {
     "name": "stdout",
     "output_type": "stream",
     "text": [
      "Oops! You went over by 219 characters.\n"
     ]
    }
   ],
   "source": [
    "# using walrus to define variable in if statement\n",
    "tweet_limit = 280\n",
    "tweet_string = (\"blah \" * 100).strip()\n",
    "if (diff := tweet_limit - len(tweet_string)) >= 0: # notice the walrus assignment is contained in \"( )\"\n",
    "    print(\"A fitting tweet: \\\"{}\\\"\".format(tweet_string))\n",
    "else:\n",
    "    print(f'Oops! You went over by {abs(diff)} characters.')"
   ]
  },
  {
   "cell_type": "markdown",
   "id": "0aad94ea",
   "metadata": {},
   "source": [
    "#### example 2:"
   ]
  },
  {
   "cell_type": "code",
   "execution_count": 3,
   "id": "04307fec",
   "metadata": {},
   "outputs": [
    {
     "name": "stdout",
     "output_type": "stream",
     "text": [
      "What type of food do you like? (type \"quit\" to end) sushi\n",
      "What type of food do you like? (type \"quit\" to end) italian\n",
      "What type of food do you like? (type \"quit\" to end) french\n",
      "What type of food do you like? (type \"quit\" to end) quit\n",
      "['sushi', 'italian', 'french']\n"
     ]
    }
   ],
   "source": [
    "# without walrus -- 8 lines of code\n",
    "food_list = list()\n",
    "while True:\n",
    "    food = input('What type of food do you like? (type \"quit\" to end) ')\n",
    "    if food != \"quit\":\n",
    "        food_list.append(food)\n",
    "    else:\n",
    "        break\n",
    "print(food_list)"
   ]
  },
  {
   "cell_type": "code",
   "execution_count": 5,
   "id": "6280ee1d",
   "metadata": {},
   "outputs": [
    {
     "name": "stdout",
     "output_type": "stream",
     "text": [
      "What type of plants do you like?  (type \"quit\" to end) roses\n",
      "What type of plants do you like?  (type \"quit\" to end) fig trees\n",
      "What type of plants do you like?  (type \"quit\" to end) basil\n",
      "What type of plants do you like?  (type \"quit\" to end) quit\n",
      "['roses', 'fig trees', 'basil']\n"
     ]
    }
   ],
   "source": [
    "# using walrus -- 4 lines of code\n",
    "plant_list = list()\n",
    "while (plant := input('What type of plants do you like?  (type \"quit\" to end) ')) != 'quit':\n",
    "    plant_list.append(plant)\n",
    "print(plant_list)"
   ]
  },
  {
   "cell_type": "markdown",
   "id": "fd1bcb45",
   "metadata": {},
   "source": [
    "## other operators\n",
    "* __//__ is __truncating division__ (it does not round, just lops off the fraction)\n",
    "* __%__ is __modulus__ (the remainder.  this is different from the fraction)\n",
    "* __divmod(n1, n2)__ returns a tuple of __// and %__ (n1 // n2, n1 % n2)\n",
    "* all of these return integers\n"
   ]
  },
  {
   "cell_type": "code",
   "execution_count": 7,
   "id": "e43b5bb2",
   "metadata": {},
   "outputs": [
    {
     "name": "stdout",
     "output_type": "stream",
     "text": [
      "\n",
      "2.6\n",
      "2\n",
      "3\n",
      "(2, 3)\n",
      "\n"
     ]
    }
   ],
   "source": [
    "print()\n",
    "print(13 / 5) # 2.6\n",
    "print(13 // 5) # 2\n",
    "print(13 % 5) # 13 - (2 * 5) = 3\n",
    "print(divmod(13, 5))\n",
    "print()"
   ]
  },
  {
   "cell_type": "code",
   "execution_count": null,
   "id": "61cd412f",
   "metadata": {},
   "outputs": [],
   "source": []
  }
 ],
 "metadata": {
  "kernelspec": {
   "display_name": "Python 3 (ipykernel)",
   "language": "python",
   "name": "python3"
  },
  "language_info": {
   "codemirror_mode": {
    "name": "ipython",
    "version": 3
   },
   "file_extension": ".py",
   "mimetype": "text/x-python",
   "name": "python",
   "nbconvert_exporter": "python",
   "pygments_lexer": "ipython3",
   "version": "3.8.11"
  }
 },
 "nbformat": 4,
 "nbformat_minor": 5
}
