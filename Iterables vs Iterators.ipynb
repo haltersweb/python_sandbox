{
 "cells": [
  {
   "cell_type": "markdown",
   "id": "d211af3b",
   "metadata": {},
   "source": [
    "# Iterables vs Iterators\n",
    "\n",
    "__iterator__ and __iterables__ are not the same thing.\n",
    "\n",
    "## Iterables\n",
    "\n",
    "Can iterate over:\n",
    "\n",
    "* lists\n",
    "* tuples\n",
    "* dictionaries\n",
    "* strings\n",
    "* files\n",
    "* generators\n",
    "* etc."
   ]
  },
  {
   "cell_type": "code",
   "execution_count": 41,
   "id": "2073f67f",
   "metadata": {},
   "outputs": [
    {
     "name": "stdout",
     "output_type": "stream",
     "text": [
      "1\n",
      "2\n",
      "3\n"
     ]
    }
   ],
   "source": [
    "num_list = [1, 2, 3] # an array\n",
    "\n",
    "for num in num_list:\n",
    "    print(num)"
   ]
  },
  {
   "cell_type": "markdown",
   "id": "2a6790a5",
   "metadata": {},
   "source": [
    "### is it iterable?\n",
    "\n",
    "Must have __iter__() special method"
   ]
  },
  {
   "cell_type": "code",
   "execution_count": 42,
   "id": "c1a4e7d7",
   "metadata": {},
   "outputs": [
    {
     "name": "stdout",
     "output_type": "stream",
     "text": [
      "[1, 2, 3]\n",
      "\n",
      "['__add__', '__class__', '__class_getitem__', '__contains__', '__delattr__', '__delitem__', '__dir__', '__doc__', '__eq__', '__format__', '__ge__', '__getattribute__', '__getitem__', '__gt__', '__hash__', '__iadd__', '__imul__', '__init__', '__init_subclass__', '__iter__', '__le__', '__len__', '__lt__', '__mul__', '__ne__', '__new__', '__reduce__', '__reduce_ex__', '__repr__', '__reversed__', '__rmul__', '__setattr__', '__setitem__', '__sizeof__', '__str__', '__subclasshook__', 'append', 'clear', 'copy', 'count', 'extend', 'index', 'insert', 'pop', 'remove', 'reverse', 'sort']\n"
     ]
    }
   ],
   "source": [
    "print(num_list)\n",
    "print(\"\")\n",
    "print(dir(num_list))"
   ]
  },
  {
   "cell_type": "markdown",
   "id": "01d7d844",
   "metadata": {},
   "source": [
    "Just being iterable doesn't make it an iterator\n",
    "\n",
    "i.e.  a __list__ is __iterable__ but is __not an iterator__.\n",
    "\n",
    "It __doesn't have__ a dunder __\\_\\_next\\_\\___ method.\n",
    "\n",
    "i.e. list\n",
    "* doesn't have a state that remembers where it is\n",
    "* doesn't know how to get its next value\n",
    "\n",
    "## Iterator object\n",
    "\n",
    "* Has a __state__ that remembers __where it is__ during iteration.\n",
    "* Knows how to get the __next value__\n",
    "* __Gets next__ value with its dunder __\\_\\_next\\_\\___ method"
   ]
  },
  {
   "cell_type": "code",
   "execution_count": 43,
   "id": "958f148a",
   "metadata": {},
   "outputs": [
    {
     "ename": "TypeError",
     "evalue": "'list' object is not an iterator",
     "output_type": "error",
     "traceback": [
      "\u001b[0;31m---------------------------------------------------------------------------\u001b[0m",
      "\u001b[0;31mTypeError\u001b[0m                                 Traceback (most recent call last)",
      "\u001b[0;32m/var/folders/bq/fvvldy095vz80qbkf7d8zz2h0000gp/T/ipykernel_41370/3319880292.py\u001b[0m in \u001b[0;36m<module>\u001b[0;34m\u001b[0m\n\u001b[1;32m      1\u001b[0m \u001b[0;31m# next() will give a TypeError\u001b[0m\u001b[0;34m\u001b[0m\u001b[0;34m\u001b[0m\u001b[0;34m\u001b[0m\u001b[0m\n\u001b[0;32m----> 2\u001b[0;31m \u001b[0mprint\u001b[0m\u001b[0;34m(\u001b[0m\u001b[0mnext\u001b[0m\u001b[0;34m(\u001b[0m\u001b[0mnum_list\u001b[0m\u001b[0;34m)\u001b[0m\u001b[0;34m)\u001b[0m\u001b[0;34m\u001b[0m\u001b[0;34m\u001b[0m\u001b[0m\n\u001b[0m\u001b[1;32m      3\u001b[0m \u001b[0;34m\u001b[0m\u001b[0m\n\u001b[1;32m      4\u001b[0m \u001b[0;31m# ERROR RESULT: \"TypeError: 'list' object is not an iterator\"\u001b[0m\u001b[0;34m\u001b[0m\u001b[0;34m\u001b[0m\u001b[0;34m\u001b[0m\u001b[0m\n",
      "\u001b[0;31mTypeError\u001b[0m: 'list' object is not an iterator"
     ]
    }
   ],
   "source": [
    "# next() will give a TypeError\n",
    "print(next(num_list))\n",
    "\n",
    "# ERROR RESULT: \"TypeError: 'list' object is not an iterator\""
   ]
  },
  {
   "cell_type": "code",
   "execution_count": 44,
   "id": "8852f386",
   "metadata": {},
   "outputs": [
    {
     "name": "stdout",
     "output_type": "stream",
     "text": [
      "<list_iterator object at 0x109833a30>\n",
      "\n",
      "['__class__', '__delattr__', '__dir__', '__doc__', '__eq__', '__format__', '__ge__', '__getattribute__', '__gt__', '__hash__', '__init__', '__init_subclass__', '__iter__', '__le__', '__length_hint__', '__lt__', '__ne__', '__new__', '__next__', '__reduce__', '__reduce_ex__', '__repr__', '__setattr__', '__setstate__', '__sizeof__', '__str__', '__subclasshook__']\n"
     ]
    }
   ],
   "source": [
    "i_nums = iter(num_list) # same thing as nums.__iter__()\n",
    "\n",
    "print(i_nums) # a list iterator object\n",
    "print(\"\")\n",
    "print(dir(i_nums)) # now has __next__()"
   ]
  },
  {
   "cell_type": "code",
   "execution_count": 45,
   "id": "85994ffc",
   "metadata": {},
   "outputs": [
    {
     "name": "stdout",
     "output_type": "stream",
     "text": [
      "1\n",
      "2\n",
      "3\n"
     ]
    }
   ],
   "source": [
    "# get the next value of i_nums\n",
    "print(next(i_nums)) # 1\n",
    "print(next(i_nums)) # 2\n",
    "print(next(i_nums)) # 3"
   ]
  },
  {
   "cell_type": "code",
   "execution_count": 46,
   "id": "2b922009",
   "metadata": {},
   "outputs": [
    {
     "ename": "StopIteration",
     "evalue": "",
     "output_type": "error",
     "traceback": [
      "\u001b[0;31m---------------------------------------------------------------------------\u001b[0m",
      "\u001b[0;31mStopIteration\u001b[0m                             Traceback (most recent call last)",
      "\u001b[0;32m/var/folders/bq/fvvldy095vz80qbkf7d8zz2h0000gp/T/ipykernel_41370/2696173357.py\u001b[0m in \u001b[0;36m<module>\u001b[0;34m\u001b[0m\n\u001b[1;32m      1\u001b[0m \u001b[0;31m# one more next() gives a StopIteration error since there are no more items in the iterator object\u001b[0m\u001b[0;34m\u001b[0m\u001b[0;34m\u001b[0m\u001b[0;34m\u001b[0m\u001b[0m\n\u001b[0;32m----> 2\u001b[0;31m \u001b[0mprint\u001b[0m\u001b[0;34m(\u001b[0m\u001b[0mnext\u001b[0m\u001b[0;34m(\u001b[0m\u001b[0mi_nums\u001b[0m\u001b[0;34m)\u001b[0m\u001b[0;34m)\u001b[0m\u001b[0;34m\u001b[0m\u001b[0;34m\u001b[0m\u001b[0m\n\u001b[0m\u001b[1;32m      3\u001b[0m \u001b[0;34m\u001b[0m\u001b[0m\n\u001b[1;32m      4\u001b[0m \u001b[0;31m# ERROR RESULT: \"StopIteration\" gives a StopIteration error\"\u001b[0m\u001b[0;34m\u001b[0m\u001b[0;34m\u001b[0m\u001b[0;34m\u001b[0m\u001b[0m\n",
      "\u001b[0;31mStopIteration\u001b[0m: "
     ]
    }
   ],
   "source": [
    "# one more next() gives a StopIteration error since there are no more items in the iterator object\n",
    "print(next(i_nums))\n",
    "\n",
    "# ERROR RESULT: \"StopIteration\" gives a StopIteration error\""
   ]
  },
  {
   "cell_type": "markdown",
   "id": "13dd5040",
   "metadata": {},
   "source": [
    "### what next does\n",
    "\n",
    "* iterators (unlike solely iterable objects) cannot go back or loop around\n",
    "* when next goes past last item, it throws a StopIteration error\n",
    "* after that happens, next only works by creating a new itrator object.\n",
    "* therefore the iteration architecture for lists, tuples, etc use a try catch method like below."
   ]
  },
  {
   "cell_type": "code",
   "execution_count": 47,
   "id": "b2ca972d",
   "metadata": {},
   "outputs": [
    {
     "name": "stdout",
     "output_type": "stream",
     "text": [
      "1\n",
      "2\n",
      "3\n"
     ]
    }
   ],
   "source": [
    "nums = [1, 2, 3]\n",
    "i_nums = iter(nums)\n",
    "while True:\n",
    "    try:\n",
    "        item = next(i_nums)\n",
    "        print(item)\n",
    "    except StopIteration:\n",
    "        break"
   ]
  },
  {
   "cell_type": "code",
   "execution_count": null,
   "id": "d23ee69f",
   "metadata": {},
   "outputs": [],
   "source": []
  }
 ],
 "metadata": {
  "kernelspec": {
   "display_name": "Python 3 (ipykernel)",
   "language": "python",
   "name": "python3"
  },
  "language_info": {
   "codemirror_mode": {
    "name": "ipython",
    "version": 3
   },
   "file_extension": ".py",
   "mimetype": "text/x-python",
   "name": "python",
   "nbconvert_exporter": "python",
   "pygments_lexer": "ipython3",
   "version": "3.9.6"
  }
 },
 "nbformat": 4,
 "nbformat_minor": 5
}
