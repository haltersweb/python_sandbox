{
 "cells": [
  {
   "cell_type": "markdown",
   "id": "f549a942",
   "metadata": {},
   "source": [
    "# \\_\\_dir\\_\\_, \\_\\_str\\_\\_, \\_\\_repr\\_\\_\n",
    "\n",
    "## \\_\\_dir\\_\\_()\n",
    "\n",
    "Returns the __list of the attributes and methods__ of any object.  This __includes inherited__ attributes and methods."
   ]
  },
  {
   "cell_type": "code",
   "execution_count": 3,
   "id": "b080caee",
   "metadata": {},
   "outputs": [
    {
     "data": {
      "text/plain": [
       "['__add__',\n",
       " '__class__',\n",
       " '__contains__',\n",
       " '__delattr__',\n",
       " '__dir__',\n",
       " '__doc__',\n",
       " '__eq__',\n",
       " '__format__',\n",
       " '__ge__',\n",
       " '__getattribute__',\n",
       " '__getitem__',\n",
       " '__getnewargs__',\n",
       " '__gt__',\n",
       " '__hash__',\n",
       " '__init__',\n",
       " '__init_subclass__',\n",
       " '__iter__',\n",
       " '__le__',\n",
       " '__len__',\n",
       " '__lt__',\n",
       " '__mod__',\n",
       " '__mul__',\n",
       " '__ne__',\n",
       " '__new__',\n",
       " '__reduce__',\n",
       " '__reduce_ex__',\n",
       " '__repr__',\n",
       " '__rmod__',\n",
       " '__rmul__',\n",
       " '__setattr__',\n",
       " '__sizeof__',\n",
       " '__str__',\n",
       " '__subclasshook__',\n",
       " 'capitalize',\n",
       " 'casefold',\n",
       " 'center',\n",
       " 'count',\n",
       " 'encode',\n",
       " 'endswith',\n",
       " 'expandtabs',\n",
       " 'find',\n",
       " 'format',\n",
       " 'format_map',\n",
       " 'index',\n",
       " 'isalnum',\n",
       " 'isalpha',\n",
       " 'isascii',\n",
       " 'isdecimal',\n",
       " 'isdigit',\n",
       " 'isidentifier',\n",
       " 'islower',\n",
       " 'isnumeric',\n",
       " 'isprintable',\n",
       " 'isspace',\n",
       " 'istitle',\n",
       " 'isupper',\n",
       " 'join',\n",
       " 'ljust',\n",
       " 'lower',\n",
       " 'lstrip',\n",
       " 'maketrans',\n",
       " 'partition',\n",
       " 'removeprefix',\n",
       " 'removesuffix',\n",
       " 'replace',\n",
       " 'rfind',\n",
       " 'rindex',\n",
       " 'rjust',\n",
       " 'rpartition',\n",
       " 'rsplit',\n",
       " 'rstrip',\n",
       " 'split',\n",
       " 'splitlines',\n",
       " 'startswith',\n",
       " 'strip',\n",
       " 'swapcase',\n",
       " 'title',\n",
       " 'translate',\n",
       " 'upper',\n",
       " 'zfill']"
      ]
     },
     "execution_count": 3,
     "metadata": {},
     "output_type": "execute_result"
    }
   ],
   "source": [
    "dir(str)"
   ]
  },
  {
   "cell_type": "code",
   "execution_count": 4,
   "id": "ec53a22d",
   "metadata": {},
   "outputs": [
    {
     "data": {
      "text/plain": [
       "['__abs__',\n",
       " '__add__',\n",
       " '__and__',\n",
       " '__bool__',\n",
       " '__ceil__',\n",
       " '__class__',\n",
       " '__delattr__',\n",
       " '__dir__',\n",
       " '__divmod__',\n",
       " '__doc__',\n",
       " '__eq__',\n",
       " '__float__',\n",
       " '__floor__',\n",
       " '__floordiv__',\n",
       " '__format__',\n",
       " '__ge__',\n",
       " '__getattribute__',\n",
       " '__getnewargs__',\n",
       " '__gt__',\n",
       " '__hash__',\n",
       " '__index__',\n",
       " '__init__',\n",
       " '__init_subclass__',\n",
       " '__int__',\n",
       " '__invert__',\n",
       " '__le__',\n",
       " '__lshift__',\n",
       " '__lt__',\n",
       " '__mod__',\n",
       " '__mul__',\n",
       " '__ne__',\n",
       " '__neg__',\n",
       " '__new__',\n",
       " '__or__',\n",
       " '__pos__',\n",
       " '__pow__',\n",
       " '__radd__',\n",
       " '__rand__',\n",
       " '__rdivmod__',\n",
       " '__reduce__',\n",
       " '__reduce_ex__',\n",
       " '__repr__',\n",
       " '__rfloordiv__',\n",
       " '__rlshift__',\n",
       " '__rmod__',\n",
       " '__rmul__',\n",
       " '__ror__',\n",
       " '__round__',\n",
       " '__rpow__',\n",
       " '__rrshift__',\n",
       " '__rshift__',\n",
       " '__rsub__',\n",
       " '__rtruediv__',\n",
       " '__rxor__',\n",
       " '__setattr__',\n",
       " '__sizeof__',\n",
       " '__str__',\n",
       " '__sub__',\n",
       " '__subclasshook__',\n",
       " '__truediv__',\n",
       " '__trunc__',\n",
       " '__xor__',\n",
       " 'as_integer_ratio',\n",
       " 'bit_length',\n",
       " 'conjugate',\n",
       " 'denominator',\n",
       " 'from_bytes',\n",
       " 'imag',\n",
       " 'numerator',\n",
       " 'real',\n",
       " 'to_bytes']"
      ]
     },
     "execution_count": 4,
     "metadata": {},
     "output_type": "execute_result"
    }
   ],
   "source": [
    "dir(int)"
   ]
  },
  {
   "cell_type": "code",
   "execution_count": 5,
   "id": "811a1843",
   "metadata": {},
   "outputs": [],
   "source": [
    "class Sundae:\n",
    "    \n",
    "    available_sizes = [\"small\", \"medium\", \"large\"]\n",
    "    \n",
    "    def __init__(self, ice_cream_flavor, *toppings):\n",
    "        self.ice_cream_flavor = ice_cream_flavor\n",
    "        self.toppings = toppings\n",
    "        self.selected_size = next(iter(self.available_sizes))\n",
    "    def select_size(self, size):\n",
    "        if size in self.available_sizes:\n",
    "            self.selected_size = size\n",
    "            \n",
    "    @classmethod\n",
    "    def change_available_sizes(cls, newSizes):\n",
    "        cls.available_sizes = newSizes \n",
    "\n",
    "    @classmethod\n",
    "    def hot_fudge_sundae(cls):\n",
    "        return cls(\"vanilla\", \"hot fudge\", \"whipped cream\", \"cherry\")\n",
    "    \n",
    "    @classmethod\n",
    "    def brownie_sundae(cls):\n",
    "        return Sundae(\"vanilla\", \"brownie\", \"chocolate sauce\", \"whipped cream\", \"cherry\")\n",
    "        # notice I returned \"Sundae() rather than cls() since they are synonymous\n",
    "\n",
    "    @staticmethod\n",
    "    def calculate_calories(sundae):\n",
    "        calorie_count = 250 # base calories for small\n",
    "        # calculate calorie count\n",
    "        for size in available_sizes:\n",
    "            if sundae.selected_size == size:\n",
    "                break\n",
    "            calorie_count += 250\n",
    "        return calorie_count\n",
    "    "
   ]
  },
  {
   "cell_type": "code",
   "execution_count": 6,
   "id": "7a115fd9",
   "metadata": {},
   "outputs": [
    {
     "data": {
      "text/plain": [
       "['__class__',\n",
       " '__delattr__',\n",
       " '__dict__',\n",
       " '__dir__',\n",
       " '__doc__',\n",
       " '__eq__',\n",
       " '__format__',\n",
       " '__ge__',\n",
       " '__getattribute__',\n",
       " '__gt__',\n",
       " '__hash__',\n",
       " '__init__',\n",
       " '__init_subclass__',\n",
       " '__le__',\n",
       " '__lt__',\n",
       " '__module__',\n",
       " '__ne__',\n",
       " '__new__',\n",
       " '__reduce__',\n",
       " '__reduce_ex__',\n",
       " '__repr__',\n",
       " '__setattr__',\n",
       " '__sizeof__',\n",
       " '__str__',\n",
       " '__subclasshook__',\n",
       " '__weakref__',\n",
       " 'available_sizes',\n",
       " 'brownie_sundae',\n",
       " 'calculate_calories',\n",
       " 'change_available_sizes',\n",
       " 'hot_fudge_sundae',\n",
       " 'select_size']"
      ]
     },
     "execution_count": 6,
     "metadata": {},
     "output_type": "execute_result"
    }
   ],
   "source": [
    "dir(Sundae)"
   ]
  },
  {
   "cell_type": "code",
   "execution_count": 7,
   "id": "2682ded0",
   "metadata": {},
   "outputs": [
    {
     "data": {
      "text/plain": [
       "['__class__',\n",
       " '__delattr__',\n",
       " '__dict__',\n",
       " '__dir__',\n",
       " '__doc__',\n",
       " '__eq__',\n",
       " '__format__',\n",
       " '__ge__',\n",
       " '__getattribute__',\n",
       " '__gt__',\n",
       " '__hash__',\n",
       " '__init__',\n",
       " '__init_subclass__',\n",
       " '__le__',\n",
       " '__lt__',\n",
       " '__module__',\n",
       " '__ne__',\n",
       " '__new__',\n",
       " '__reduce__',\n",
       " '__reduce_ex__',\n",
       " '__repr__',\n",
       " '__setattr__',\n",
       " '__sizeof__',\n",
       " '__str__',\n",
       " '__subclasshook__',\n",
       " '__weakref__',\n",
       " 'available_sizes',\n",
       " 'brownie_sundae',\n",
       " 'calculate_calories',\n",
       " 'change_available_sizes',\n",
       " 'hot_fudge_sundae',\n",
       " 'ice_cream_flavor',\n",
       " 'select_size',\n",
       " 'selected_size',\n",
       " 'toppings']"
      ]
     },
     "execution_count": 7,
     "metadata": {},
     "output_type": "execute_result"
    }
   ],
   "source": [
    "my_sundae = Sundae(\"chocolate\", \"caramel sauce\", \"whipped cream\")\n",
    "dir(my_sundae)"
   ]
  },
  {
   "cell_type": "code",
   "execution_count": 32,
   "id": "5f5d907a",
   "metadata": {},
   "outputs": [
    {
     "name": "stdout",
     "output_type": "stream",
     "text": [
      "foo bar\n"
     ]
    },
    {
     "data": {
      "text/plain": [
       "['__class__',\n",
       " '__delattr__',\n",
       " '__dict__',\n",
       " '__dir__',\n",
       " '__doc__',\n",
       " '__eq__',\n",
       " '__format__',\n",
       " '__ge__',\n",
       " '__getattribute__',\n",
       " '__gt__',\n",
       " '__hash__',\n",
       " '__init__',\n",
       " '__init_subclass__',\n",
       " '__le__',\n",
       " '__lt__',\n",
       " '__module__',\n",
       " '__ne__',\n",
       " '__new__',\n",
       " '__reduce__',\n",
       " '__reduce_ex__',\n",
       " '__repr__',\n",
       " '__setattr__',\n",
       " '__sizeof__',\n",
       " '__str__',\n",
       " '__subclasshook__',\n",
       " '__weakref__']"
      ]
     },
     "execution_count": 32,
     "metadata": {},
     "output_type": "execute_result"
    }
   ],
   "source": [
    "class FooBar:\n",
    "    print('foo bar')\n",
    "    \n",
    "dir(FooBar) #shows just inherited methods for a class object"
   ]
  },
  {
   "cell_type": "code",
   "execution_count": 33,
   "id": "4b9bfe25",
   "metadata": {},
   "outputs": [
    {
     "data": {
      "text/plain": [
       "['__class__',\n",
       " '__delattr__',\n",
       " '__dict__',\n",
       " '__dir__',\n",
       " '__doc__',\n",
       " '__eq__',\n",
       " '__format__',\n",
       " '__ge__',\n",
       " '__getattribute__',\n",
       " '__gt__',\n",
       " '__hash__',\n",
       " '__init__',\n",
       " '__init_subclass__',\n",
       " '__le__',\n",
       " '__lt__',\n",
       " '__module__',\n",
       " '__ne__',\n",
       " '__new__',\n",
       " '__reduce__',\n",
       " '__reduce_ex__',\n",
       " '__repr__',\n",
       " '__setattr__',\n",
       " '__sizeof__',\n",
       " '__str__',\n",
       " '__subclasshook__',\n",
       " '__weakref__']"
      ]
     },
     "execution_count": 33,
     "metadata": {},
     "output_type": "execute_result"
    }
   ],
   "source": [
    "my_foobar = FooBar()\n",
    "\n",
    "dir(my_foobar) #shows methods for the instance which were inherited from class object"
   ]
  },
  {
   "cell_type": "code",
   "execution_count": 34,
   "id": "a4803b95",
   "metadata": {},
   "outputs": [
    {
     "name": "stdout",
     "output_type": "stream",
     "text": [
      "26\n",
      "26\n"
     ]
    }
   ],
   "source": [
    "print(len(dir(FooBar)))\n",
    "print(len(dir(my_foobar)))"
   ]
  },
  {
   "cell_type": "markdown",
   "id": "979470fe",
   "metadata": {},
   "source": [
    "## \\_\\_str\\_\\_() and \\_\\_repr\\_\\_()\n",
    "\n",
    "* The goal of str is to be readable\n",
    "* The goal of repr is to be unambiguous\n",
    "\n",
    "Representation (\\_\\_repr\\_\\_()) is really meant for developers"
   ]
  },
  {
   "cell_type": "code",
   "execution_count": 26,
   "id": "e01658ea",
   "metadata": {},
   "outputs": [
    {
     "name": "stdout",
     "output_type": "stream",
     "text": [
      "<class 'str'>\n",
      "<class 'str'>\n"
     ]
    }
   ],
   "source": [
    "print(str(str))\n",
    "print(repr(str))"
   ]
  },
  {
   "cell_type": "code",
   "execution_count": 13,
   "id": "e79bd579",
   "metadata": {},
   "outputs": [],
   "source": [
    "import datetime\n",
    "\n",
    "a = datetime.datetime.utcnow()\n",
    "b = str(a)"
   ]
  },
  {
   "cell_type": "code",
   "execution_count": 36,
   "id": "eee313fe",
   "metadata": {},
   "outputs": [
    {
     "name": "stdout",
     "output_type": "stream",
     "text": [
      "str(a): 2021-09-30 03:30:28.087287\n",
      "str(b): 2021-09-30 03:30:28.087287\n"
     ]
    }
   ],
   "source": [
    "print('str(a): {}'.format(str(a)))\n",
    "print('str(b): {}'.format(str(b)))\n",
    "\n",
    "#they look the same using str()"
   ]
  },
  {
   "cell_type": "code",
   "execution_count": 37,
   "id": "41df73ef",
   "metadata": {},
   "outputs": [
    {
     "name": "stdout",
     "output_type": "stream",
     "text": [
      "repr(a): datetime.datetime(2021, 9, 30, 3, 30, 28, 87287)\n",
      "repr(b): '2021-09-30 03:30:28.087287'\n"
     ]
    }
   ],
   "source": [
    "print('repr(a): {}'.format(repr(a)))\n",
    "print('repr(b): {}'.format(repr(b)))\n",
    "\n",
    "# using repr() it is clear that a is a datetime and b is a string"
   ]
  },
  {
   "cell_type": "code",
   "execution_count": null,
   "id": "7d1bc563",
   "metadata": {},
   "outputs": [],
   "source": []
  }
 ],
 "metadata": {
  "kernelspec": {
   "display_name": "Python 3 (ipykernel)",
   "language": "python",
   "name": "python3"
  },
  "language_info": {
   "codemirror_mode": {
    "name": "ipython",
    "version": 3
   },
   "file_extension": ".py",
   "mimetype": "text/x-python",
   "name": "python",
   "nbconvert_exporter": "python",
   "pygments_lexer": "ipython3",
   "version": "3.9.6"
  }
 },
 "nbformat": 4,
 "nbformat_minor": 5
}
