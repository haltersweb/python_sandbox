{
    "cells": [
        {
            "cell_type": "code",
            "execution_count": 1,
            "source": [
                "print(\"hello world\")"
            ],
            "outputs": [
                {
                    "output_type": "stream",
                    "name": "stdout",
                    "text": [
                        "hello world\n"
                    ]
                }
            ],
            "metadata": {}
        },
        {
            "cell_type": "code",
            "execution_count": null,
            "source": [],
            "outputs": [],
            "metadata": {}
        }
    ],
    "metadata": {
        "orig_nbformat": 4,
        "language_info": {
            "name": "python",
            "version": "3.9.6",
            "mimetype": "text/x-python",
            "codemirror_mode": {
                "name": "ipython",
                "version": 3
            },
            "pygments_lexer": "ipython3",
            "nbconvert_exporter": "python",
            "file_extension": ".py"
        },
        "kernelspec": {
            "name": "python3",
            "display_name": "Python 3.9.6 64-bit ('3.9.6': pyenv)"
        },
        "interpreter": {
            "hash": "df3ff67e0385fbac442fbf54bc64b5340c6bfaa8f8c2c6a59623a19faa88cda0"
        }
    },
    "nbformat": 4,
    "nbformat_minor": 2
}