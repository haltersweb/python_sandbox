{
 "cells": [
  {
   "cell_type": "markdown",
   "id": "1f790da6",
   "metadata": {},
   "source": [
    "# Python Functions, Files, and Dictionaries PROJECT\n",
    "\n",
    "by the University of Michigan via Coursera\n",
    "\n",
    "## Part 1: Sentiment Classifier\n",
    "\n",
    "We have provided some synthetic (fake, semi-randomly generated) twitter data in a csv file named `project_twitter_data.csv` which has the text of a tweet, the number of retweets of that tweet, and the number of replies to that tweet. We have also words that express positive sentiment and negative sentiment, in the files `positive_words.txt` and `negative_words.txt`.\n",
    "\n",
    "Your task is to build a sentiment classifier, which will detect how positive or negative each tweet is.\n",
    "\n",
    "You will create a csv file, which contains columns for the `Number of Retweets`, `Number of Replies`, `Positive Score` (which is how many happy words are in the tweet), `Negative Score` (which is how many angry words are in the tweet), and the `Net Score` for each tweet.\n",
    "\n",
    "At the end, you upload the csv file to Excel or Google Sheets, and produce a graph of the Net Score vs Number of Retweets.\n",
    "\n",
    "### Step 1\n",
    "\n",
    "To start, define a function called `strip_punctuation` which takes one parameter, a string which represents a word, and removes characters considered punctuation from everywhere in the word. (Hint: remember the **.replace()** method for strings.)"
   ]
  },
  {
   "cell_type": "code",
   "execution_count": 17,
   "id": "b6fb3d7e",
   "metadata": {},
   "outputs": [
    {
     "name": "stdout",
     "output_type": "stream",
     "text": [
      "Amazing\n"
     ]
    }
   ],
   "source": [
    "punctuation_chars = [\"'\", '\"', \",\", \".\", \"!\", \":\", \";\", '#', '@']\n",
    "\n",
    "def strip_punctuation(word):\n",
    "    # remove any punctuation from the word\n",
    "    # use the .replace() method\n",
    "    # NOTE: replace() does not modify the original word\n",
    "    for punct in punctuation_chars:\n",
    "        word = word.replace(punct, '')\n",
    "    return word\n",
    "\n",
    "print(strip_punctuation('!Amazing#'))"
   ]
  },
  {
   "cell_type": "markdown",
   "id": "5d08151f",
   "metadata": {},
   "source": [
    "### Step 2\n",
    "\n",
    "Next, copy in your `strip_punctuation` function and define a function called `get_pos` which takes one parameter, a string which represents one or more sentences, and calculates how many words in the string are considered positive words.\n",
    "\n",
    "Use the list, `positive_words` to determine what words will count as positive. The function should return a positive integer - how many occurrences there are of positive words in the text.\n",
    "\n",
    "Note that all of the words in `positive_words` are lower cased, so you’ll need to convert all the words in the input string to lower case as well."
   ]
  },
  {
   "cell_type": "code",
   "execution_count": 32,
   "id": "393abf4d",
   "metadata": {},
   "outputs": [
    {
     "name": "stdout",
     "output_type": "stream",
     "text": [
      "['a+', 'abound', 'abounds', 'abundance', 'abundant']\n"
     ]
    }
   ],
   "source": [
    "# copy in strip_punctuation function...\n",
    "def strip_punctuation(word):\n",
    "    for punct in punctuation_chars:\n",
    "        word = word.replace(punct, '')\n",
    "    return word\n",
    "\n",
    "punctuation_chars = [\"'\", '\"', \",\", \".\", \"!\", \":\", \";\", '#', '@']\n",
    "\n",
    "# create a list of positive words from positive_words.txt\n",
    "positive_words = []\n",
    "with open(\"files/positive_words.txt\") as pos_f: ## REMOVE files/ WHEN PASTING ##\n",
    "    for lin in pos_f:\n",
    "        if lin[0] != ';' and lin[0] != '\\n':\n",
    "            # print(lin)\n",
    "            positive_words.append(lin.strip())\n",
    "print(positive_words[:5])\n",
    "pos_f.close()"
   ]
  },
  {
   "cell_type": "code",
   "execution_count": 42,
   "id": "e94413b5",
   "metadata": {},
   "outputs": [],
   "source": [
    "def get_pos(string):\n",
    "    count = 0\n",
    "    #clean string by:\n",
    "        #1. lowercasing it\n",
    "        #2. split into words\n",
    "    #IMPORTANT: must use word list rather than just counting in string\n",
    "                # because, for example, we don't want to overcount the word 'wonderful'\n",
    "                # since 'won', 'wonder', 'wonderful' are all positive words\n",
    "    #for each word:\n",
    "        #1. strip punctuation\n",
    "        #2. see if it is in the positive word list\n",
    "        #2. if so increment the count\n",
    "    string = string.lower()\n",
    "    word_list = string.split()\n",
    "    print(word_list)\n",
    "    for word in word_list:\n",
    "        word = strip_punctuation(word)\n",
    "        if word in positive_words:\n",
    "            count += 1\n",
    "    return count"
   ]
  },
  {
   "cell_type": "code",
   "execution_count": 43,
   "id": "a5060d6e",
   "metadata": {},
   "outputs": [],
   "source": [
    "foo1 = \"what a truly Wonderful day it is today! #incredible\" #2\n",
    "foo2 = \"what a truly wonderful day it is today!\" #1\n",
    "foo3 = \"the weather is what it is.\" #0\n",
    "foo4 = \"The weather truely is abnormal - it's october and already snowing!\" #0"
   ]
  },
  {
   "cell_type": "code",
   "execution_count": 47,
   "id": "11084e6c",
   "metadata": {},
   "outputs": [
    {
     "name": "stdout",
     "output_type": "stream",
     "text": [
      "['the', 'weather', 'truely', 'is', 'abnormal', '-', \"it's\", 'october', 'and', 'already', 'snowing!']\n"
     ]
    },
    {
     "data": {
      "text/plain": [
       "0"
      ]
     },
     "execution_count": 47,
     "metadata": {},
     "output_type": "execute_result"
    }
   ],
   "source": [
    "get_pos(foo4)"
   ]
  },
  {
   "cell_type": "markdown",
   "id": "79e37584",
   "metadata": {},
   "source": [
    "### Step 3\n",
    "\n",
    "Next, copy in your `strip_punctuation` function and define a function called `get_neg` which takes one parameter, a string which represents one or more sentences, and calculates how many words in the string are considered negative words.\n",
    "\n",
    "Use the list, `negative_words` to determine what words will count as negative. The function should return a positive integer - how many occurrences there are of negative words in the text.\n",
    "\n",
    "Note that all of the words in `negative_words` are lower cased, so you’ll need to convert all the words in the input string to lower case as well."
   ]
  },
  {
   "cell_type": "code",
   "execution_count": 48,
   "id": "d33cb8e6",
   "metadata": {},
   "outputs": [
    {
     "name": "stdout",
     "output_type": "stream",
     "text": [
      "['2-faced', '2-faces', 'abnormal', 'abolish', 'abominable']\n"
     ]
    }
   ],
   "source": [
    "# copy in strip_punctuation function...\n",
    "def strip_punctuation(word):\n",
    "    for punct in punctuation_chars:\n",
    "        word = word.replace(punct, '')\n",
    "    return word\n",
    "\n",
    "punctuation_chars = [\"'\", '\"', \",\", \".\", \"!\", \":\", \";\", '#', '@']\n",
    "\n",
    "# create a list of negative words from negative_words.txt\n",
    "negative_words = []\n",
    "with open(\"files/negative_words.txt\") as neg_f: ## REMOVE files/ WHEN PASTING ##\n",
    "    for lin in neg_f:\n",
    "        if lin[0] != ';' and lin[0] != '\\n':\n",
    "            # print(lin)\n",
    "            negative_words.append(lin.strip())\n",
    "print(negative_words[:5])\n",
    "neg_f.close()            \n",
    "\n",
    "def get_neg(string):\n",
    "    count = 0\n",
    "    string = string.lower()\n",
    "    word_list = string.split()\n",
    "    print(word_list)\n",
    "    for word in word_list:\n",
    "        word = strip_punctuation(word)\n",
    "        if word in negative_words:\n",
    "            count += 1\n",
    "    return count"
   ]
  },
  {
   "cell_type": "markdown",
   "id": "b67292ce",
   "metadata": {},
   "source": [
    "### Step 4\n",
    "\n",
    "Finally, copy in your previous functions and write code that opens the file `project_twitter_data.csv` which has the fake generated twitter data (the text of a tweet, the number of retweets of that tweet, and the number of replies to that tweet).\n",
    "\n",
    "Your task is to build a sentiment classifier, which will detect how positive or negative each tweet is.\n",
    "\n",
    "Copy the code from the code windows above, and put that in the top of this code window.\n",
    "\n",
    "Now, you will write code to create a csv file called `resulting_data.csv`, which contains the `Number of Retweets`, `Number of Replies`, `Positive Score` (which is how many happy words are in the tweet), `Negative Score` (which is how many angry words are in the tweet), and the `Net Score` (how positive or negative the text is overall) for each tweet. The file should have those headers in that order.\n",
    "\n",
    "Remember that there is another component to this project.\n",
    "\n",
    "You will upload the csv file to Excel or Google Sheets and produce a graph of the Net Score vs Number of Retweets. Check Coursera for that portion of the assignment, if you’re accessing this textbook from Coursera."
   ]
  },
  {
   "cell_type": "code",
   "execution_count": 67,
   "id": "a070f80a",
   "metadata": {},
   "outputs": [],
   "source": [
    "# copy in all of my functions...\n",
    "def strip_punctuation(word):\n",
    "    for punct in punctuation_chars:\n",
    "        word = word.replace(punct, '')\n",
    "    return word\n",
    "\n",
    "def get_pos(string):\n",
    "    count = 0\n",
    "    string = string.lower()\n",
    "    word_list = string.split()\n",
    "    for word in word_list:\n",
    "        word = strip_punctuation(word)\n",
    "        if word in positive_words:\n",
    "            count += 1\n",
    "    return count\n",
    "\n",
    "def get_neg(string):\n",
    "    count = 0\n",
    "    string = string.lower()\n",
    "    word_list = string.split()\n",
    "    for word in word_list:\n",
    "        word = strip_punctuation(word)\n",
    "        if word in negative_words:\n",
    "            count += 1\n",
    "    return count\n",
    "\n",
    "punctuation_chars = [\"'\", '\"', \",\", \".\", \"!\", \":\", \";\", '#', '@']\n",
    "\n",
    "# create a list of positive words from positive_words.txt\n",
    "positive_words = []\n",
    "with open(\"files/positive_words.txt\") as pos_f: ## REMOVE files/ WHEN PASTING ##\n",
    "    for lin in pos_f:\n",
    "        if lin[0] != ';' and lin[0] != '\\n':\n",
    "            positive_words.append(lin.strip())\n",
    "pos_f.close()\n",
    "\n",
    "# create a list of negative words from negative_words.txt\n",
    "negative_words = []\n",
    "with open(\"files/negative_words.txt\") as neg_f: ## REMOVE files/ WHEN PASTING ##\n",
    "    for lin in neg_f:\n",
    "        if lin[0] != ';' and lin[0] != '\\n':\n",
    "            negative_words.append(lin.strip())\n",
    "neg_f.close()"
   ]
  },
  {
   "cell_type": "code",
   "execution_count": 68,
   "id": "9608cbf1",
   "metadata": {},
   "outputs": [],
   "source": [
    "twitter_file = open('files/project_twitter_data.csv') ## REMOVE files/ WHEN PASTING ##\n",
    "t_data = []\n",
    "for lin in twitter_file:\n",
    "    t_data.append(lin.strip().split(','))\n",
    "twitter_file.close()"
   ]
  },
  {
   "cell_type": "code",
   "execution_count": 69,
   "id": "b669a9fe",
   "metadata": {},
   "outputs": [],
   "source": [
    "t_txt_id = t_data[0].index('tweet_text') #0\n",
    "t_rt_id = t_data[0].index('retweet_count') #1\n",
    "r_rp_id = t_data[0].index('reply_count') #2"
   ]
  },
  {
   "cell_type": "code",
   "execution_count": 71,
   "id": "b95b3747",
   "metadata": {},
   "outputs": [],
   "source": [
    "my_data = open('files/resulting_data.csv', 'w')\n",
    "my_data.write('Number of Retweets,Number of Replies,Positive Score,Negative Score,Net Score\\n')\n",
    "for data in t_data[1:]:\n",
    "    retweets = data[t_rt_id]\n",
    "    replies = data[r_rp_id]\n",
    "    positive = get_pos(data[t_txt_id])\n",
    "    negative = get_neg(data[t_txt_id])\n",
    "    net = positive - negative\n",
    "    my_data.write('{0},{1},{2},{3},{4}\\n'.format(retweets, replies, positive, negative, net))\n",
    "my_data.close()"
   ]
  },
  {
   "cell_type": "code",
   "execution_count": null,
   "id": "221d38e4",
   "metadata": {},
   "outputs": [],
   "source": []
  }
 ],
 "metadata": {
  "kernelspec": {
   "display_name": "Python 3 (ipykernel)",
   "language": "python",
   "name": "python3"
  },
  "language_info": {
   "codemirror_mode": {
    "name": "ipython",
    "version": 3
   },
   "file_extension": ".py",
   "mimetype": "text/x-python",
   "name": "python",
   "nbconvert_exporter": "python",
   "pygments_lexer": "ipython3",
   "version": "3.8.11"
  }
 },
 "nbformat": 4,
 "nbformat_minor": 5
}
