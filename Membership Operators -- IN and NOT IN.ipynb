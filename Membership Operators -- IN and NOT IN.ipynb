{
 "cells": [
  {
   "cell_type": "markdown",
   "id": "12b79c9b",
   "metadata": {},
   "source": [
    "# Membership operators -- IN and NOT IN\n",
    "\n",
    "You can't group logical operations `y != 1 and !=2 and !=3)`.\n",
    "\n",
    "You have to use the long way `y != 1 and y != 2 and y != 3` which is annoying. \n",
    "\n",
    "But `in` and `not in` lets you test a list of possibilities.\n",
    "\n",
    "(Note: `not` is something completely different in Python)"
   ]
  },
  {
   "cell_type": "code",
   "execution_count": 1,
   "id": "1180485e",
   "metadata": {},
   "outputs": [
    {
     "data": {
      "text/plain": [
       "True"
      ]
     },
     "execution_count": 1,
     "metadata": {},
     "output_type": "execute_result"
    }
   ],
   "source": [
    "4 not in (1, 2, 3) # True"
   ]
  },
  {
   "cell_type": "code",
   "execution_count": 2,
   "id": "31ab1f9c",
   "metadata": {},
   "outputs": [
    {
     "data": {
      "text/plain": [
       "False"
      ]
     },
     "execution_count": 2,
     "metadata": {},
     "output_type": "execute_result"
    }
   ],
   "source": [
    "4 in (1, 2, 3) # False"
   ]
  },
  {
   "cell_type": "code",
   "execution_count": 3,
   "id": "161b0760",
   "metadata": {},
   "outputs": [
    {
     "data": {
      "text/plain": [
       "True"
      ]
     },
     "execution_count": 3,
     "metadata": {},
     "output_type": "execute_result"
    }
   ],
   "source": [
    "4 in range(53) # True"
   ]
  },
  {
   "cell_type": "code",
   "execution_count": 4,
   "id": "78b5dd2d",
   "metadata": {},
   "outputs": [
    {
     "data": {
      "text/plain": [
       "False"
      ]
     },
     "execution_count": 4,
     "metadata": {},
     "output_type": "execute_result"
    }
   ],
   "source": [
    "4 not in range(53) # False"
   ]
  },
  {
   "cell_type": "code",
   "execution_count": 5,
   "id": "79704ebb",
   "metadata": {},
   "outputs": [
    {
     "data": {
      "text/plain": [
       "True"
      ]
     },
     "execution_count": 5,
     "metadata": {},
     "output_type": "execute_result"
    }
   ],
   "source": [
    "\"ap\" in \"apple\" # True"
   ]
  },
  {
   "cell_type": "code",
   "execution_count": 6,
   "id": "c0a0ed85",
   "metadata": {},
   "outputs": [
    {
     "data": {
      "text/plain": [
       "False"
      ]
     },
     "execution_count": 6,
     "metadata": {},
     "output_type": "execute_result"
    }
   ],
   "source": [
    "\"pa\" in \"apple\" # False"
   ]
  },
  {
   "cell_type": "code",
   "execution_count": 10,
   "id": "90063972",
   "metadata": {},
   "outputs": [
    {
     "data": {
      "text/plain": [
       "False"
      ]
     },
     "execution_count": 10,
     "metadata": {},
     "output_type": "execute_result"
    }
   ],
   "source": [
    "\"a\" in [\"apple\", \"avocado\", \"anjou pear\"] # False"
   ]
  },
  {
   "cell_type": "markdown",
   "id": "579955c3",
   "metadata": {},
   "source": [
    "Empty string `\"\"` is IN a string"
   ]
  },
  {
   "cell_type": "code",
   "execution_count": 7,
   "id": "78acf3cf",
   "metadata": {},
   "outputs": [
    {
     "data": {
      "text/plain": [
       "True"
      ]
     },
     "execution_count": 7,
     "metadata": {},
     "output_type": "execute_result"
    }
   ],
   "source": [
    "# empty string is in a string\n",
    "\"\" in \"apple\" # True"
   ]
  },
  {
   "cell_type": "markdown",
   "id": "2897b2a7",
   "metadata": {},
   "source": [
    "Python will resolve statements before testing for True/False"
   ]
  },
  {
   "cell_type": "code",
   "execution_count": 12,
   "id": "f6abaa2d",
   "metadata": {},
   "outputs": [
    {
     "data": {
      "text/plain": [
       "True"
      ]
     },
     "execution_count": 12,
     "metadata": {},
     "output_type": "execute_result"
    }
   ],
   "source": [
    "# Python will solve for x before testing\n",
    "x = \"a\"\n",
    "\"a\" in [x, \"b\", \"c\"] # True"
   ]
  },
  {
   "cell_type": "code",
   "execution_count": 13,
   "id": "de911286",
   "metadata": {},
   "outputs": [
    {
     "data": {
      "text/plain": [
       "True"
      ]
     },
     "execution_count": 13,
     "metadata": {},
     "output_type": "execute_result"
    }
   ],
   "source": [
    "foo = \"apple\"\n",
    "\"a\" in foo"
   ]
  },
  {
   "cell_type": "markdown",
   "id": "dd952066",
   "metadata": {},
   "source": [
    "Can't contract `in` with `and` or `or`"
   ]
  },
  {
   "cell_type": "code",
   "execution_count": 27,
   "id": "0137eb60",
   "metadata": {},
   "outputs": [
    {
     "name": "stdout",
     "output_type": "stream",
     "text": [
      "zebra\n",
      "True\n"
     ]
    }
   ],
   "source": [
    "y = \"yak\"\n",
    "z = \"zebra\"\n",
    "print('z' in y or z)\n",
    "# is not the same as\n",
    "print('z' in y or 'z' in z)"
   ]
  },
  {
   "cell_type": "code",
   "execution_count": 26,
   "id": "84d89aa5",
   "metadata": {},
   "outputs": [
    {
     "name": "stdout",
     "output_type": "stream",
     "text": [
      "False\n",
      "zebra\n"
     ]
    }
   ],
   "source": [
    "# ('z' in y or z) resolves in this manner:\n",
    "# step 1:\n",
    "print('z' in y) # False\n",
    "# step 2:\n",
    "print(False or z) # prints \"zebra\" since the first part is False"
   ]
  },
  {
   "cell_type": "code",
   "execution_count": null,
   "id": "469235aa",
   "metadata": {},
   "outputs": [],
   "source": []
  }
 ],
 "metadata": {
  "kernelspec": {
   "display_name": "Python 3 (ipykernel)",
   "language": "python",
   "name": "python3"
  },
  "language_info": {
   "codemirror_mode": {
    "name": "ipython",
    "version": 3
   },
   "file_extension": ".py",
   "mimetype": "text/x-python",
   "name": "python",
   "nbconvert_exporter": "python",
   "pygments_lexer": "ipython3",
   "version": "3.8.11"
  }
 },
 "nbformat": 4,
 "nbformat_minor": 5
}
