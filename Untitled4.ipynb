{
 "cells": [
  {
   "cell_type": "code",
   "execution_count": 15,
   "id": "0f732e3a",
   "metadata": {},
   "outputs": [
    {
     "name": "stdout",
     "output_type": "stream",
     "text": [
      "found in page-specific cache\n"
     ]
    },
    {
     "ename": "TypeError",
     "evalue": "__init__() takes 1 positional argument but 3 were given",
     "output_type": "error",
     "traceback": [
      "\u001b[0;31m---------------------------------------------------------------------------\u001b[0m",
      "\u001b[0;31mTypeError\u001b[0m                                 Traceback (most recent call last)",
      "Input \u001b[0;32mIn [15]\u001b[0m, in \u001b[0;36m<cell line: 72>\u001b[0;34m()\u001b[0m\n\u001b[1;32m     69\u001b[0m         \u001b[38;5;28;01mreturn\u001b[39;00m resp\n\u001b[1;32m     71\u001b[0m parameters \u001b[38;5;241m=\u001b[39m {\u001b[38;5;124m\"\u001b[39m\u001b[38;5;124mterm\u001b[39m\u001b[38;5;124m\"\u001b[39m: \u001b[38;5;124m\"\u001b[39m\u001b[38;5;124mAnn Arbor\u001b[39m\u001b[38;5;124m\"\u001b[39m, \u001b[38;5;124m\"\u001b[39m\u001b[38;5;124mentity\u001b[39m\u001b[38;5;124m\"\u001b[39m: \u001b[38;5;124m\"\u001b[39m\u001b[38;5;124mpodcast\u001b[39m\u001b[38;5;124m\"\u001b[39m}\n\u001b[0;32m---> 72\u001b[0m iTunes_response \u001b[38;5;241m=\u001b[39m \u001b[43mget\u001b[49m\u001b[43m(\u001b[49m\u001b[38;5;124;43m\"\u001b[39;49m\u001b[38;5;124;43mhttps://itunes.apple.com/search\u001b[39;49m\u001b[38;5;124;43m\"\u001b[39;49m\u001b[43m,\u001b[49m\u001b[43m \u001b[49m\u001b[43mparams\u001b[49m\u001b[43m \u001b[49m\u001b[38;5;241;43m=\u001b[39;49m\u001b[43m \u001b[49m\u001b[43mparameters\u001b[49m\u001b[43m,\u001b[49m\u001b[43mpermanent_cache_file\u001b[49m\u001b[38;5;241;43m=\u001b[39;49m\u001b[38;5;124;43m\"\u001b[39;49m\u001b[38;5;124;43mitunes_cache.txt\u001b[39;49m\u001b[38;5;124;43m\"\u001b[39;49m\u001b[43m)\u001b[49m\n",
      "Input \u001b[0;32mIn [15]\u001b[0m, in \u001b[0;36mget\u001b[0;34m(baseurl, params, private_keys_to_ignore, permanent_cache_file, temp_cache_file)\u001b[0m\n\u001b[1;32m     56\u001b[0m     \u001b[38;5;28mprint\u001b[39m(\u001b[38;5;124m\"\u001b[39m\u001b[38;5;124mfound in page-specific cache\u001b[39m\u001b[38;5;124m\"\u001b[39m)\n\u001b[1;32m     57\u001b[0m     \u001b[38;5;66;03m# make a Response object containing text from the change, and the full_url that would have been fetched\u001b[39;00m\n\u001b[0;32m---> 58\u001b[0m     \u001b[38;5;28;01mreturn\u001b[39;00m \u001b[43mrequests\u001b[49m\u001b[38;5;241;43m.\u001b[39;49m\u001b[43mResponse\u001b[49m\u001b[43m(\u001b[49m\u001b[43mtemp_cache\u001b[49m\u001b[43m[\u001b[49m\u001b[43mcache_key\u001b[49m\u001b[43m]\u001b[49m\u001b[43m,\u001b[49m\u001b[43m \u001b[49m\u001b[43mfull_url\u001b[49m\u001b[43m)\u001b[49m\n\u001b[1;32m     59\u001b[0m \u001b[38;5;28;01melif\u001b[39;00m cache_key \u001b[38;5;129;01min\u001b[39;00m permanent_cache:\n\u001b[1;32m     60\u001b[0m     \u001b[38;5;28mprint\u001b[39m(\u001b[38;5;124m\"\u001b[39m\u001b[38;5;124mfound in permanent_cache\u001b[39m\u001b[38;5;124m\"\u001b[39m)\n",
      "\u001b[0;31mTypeError\u001b[0m: __init__() takes 1 positional argument but 3 were given"
     ]
    }
   ],
   "source": [
    "import requests\n",
    "import json\n",
    "\n",
    "PERMANENT_CACHE_FNAME = \"permanent_cache.txt\"\n",
    "TEMP_CACHE_FNAME = \"this_page_cache.txt\"\n",
    "\n",
    "def _requestURL(baseurl, params={}):\n",
    "    try:\n",
    "        if len(params) == 0:\n",
    "            return baseurl\n",
    "        complete_url = baseurl + \"?\"\n",
    "        pairs = [\"{}={}\".format(_subst(k), _subst(params[k])) for k in params]\n",
    "        complete_url += \"&\".join(pairs)\n",
    "        return complete_url\n",
    "    except:\n",
    "        return None\n",
    "\n",
    "def _write_to_file(cache, fname):\n",
    "    with open(fname, 'w') as outfile:\n",
    "        outfile.write(json.dumps(cache, indent=2))\n",
    "\n",
    "def _read_from_file(fname):\n",
    "    try:\n",
    "        with open(fname, 'r') as infile:\n",
    "            res = infile.read()\n",
    "            return json.loads(res)\n",
    "    except:\n",
    "        return {}\n",
    "\n",
    "def add_to_cache(cache_file, cache_key, cache_value):\n",
    "    temp_cache = _read_from_file(cache_file)\n",
    "    temp_cache[cache_key] = cache_value\n",
    "    _write_to_file(temp_cache, cache_file)\n",
    "\n",
    "def clear_cache(cache_file=TEMP_CACHE_FNAME):\n",
    "    _write_to_file({}, cache_file)\n",
    "\n",
    "def make_cache_key(baseurl, params_d, private_keys=[\"api_key\", \"apikey\"]):\n",
    "    \"\"\"Makes a long string representing the query.\n",
    "    Alphabetize the keys from the params dictionary so we get the same order each time.\n",
    "    Omit keys with private info.\"\"\"\n",
    "    alphabetized_keys = sorted(params_d.keys())\n",
    "    res = []\n",
    "    for k in alphabetized_keys:\n",
    "        if k not in private_keys:\n",
    "            res.append(\"{}-{}\".format(k, params_d[k]))\n",
    "    return baseurl + \"_\".join(res)\n",
    "\n",
    "def get(baseurl, params={}, private_keys_to_ignore=[\"api_key\", \"apikey\"], permanent_cache_file=PERMANENT_CACHE_FNAME, temp_cache_file=TEMP_CACHE_FNAME):\n",
    "    full_url = _requestURL(baseurl, params)\n",
    "    cache_key = make_cache_key(baseurl, params, private_keys_to_ignore)\n",
    "    # Load the permanent and page-specific caches from files\n",
    "    permanent_cache = _read_from_file(permanent_cache_file)\n",
    "    temp_cache = _read_from_file(temp_cache_file)\n",
    "    if cache_key in temp_cache:\n",
    "        print(\"found in page-specific cache\")\n",
    "        # make a Response object containing text from the change, and the full_url that would have been fetched\n",
    "        return requests.Response(temp_cache[cache_key], full_url)\n",
    "    elif cache_key in permanent_cache:\n",
    "        print(\"found in permanent_cache\")\n",
    "        # make a Response object containing text from the change, and the full_url that would have been fetched\n",
    "        return requests.Response(permanent_cache[cache_key], full_url)\n",
    "    else:\n",
    "        print(\"new; adding to cache\")\n",
    "        # actually request it\n",
    "        resp = requests.get(baseurl, params)\n",
    "        # save it\n",
    "        add_to_cache(temp_cache_file, cache_key, resp.text)\n",
    "        return resp\n",
    "\n",
    "parameters = {\"term\": \"Ann Arbor\", \"entity\": \"podcast\"}\n",
    "iTunes_response = get(\"https://itunes.apple.com/search\", params = parameters,permanent_cache_file=\"itunes_cache.txt\")\n",
    "\n",
    "#py_data = json.loads(iTunes_response.text)\n",
    "#print(py_data)\n",
    "\n"
   ]
  },
  {
   "cell_type": "code",
   "execution_count": 6,
   "id": "5e9bd772",
   "metadata": {},
   "outputs": [
    {
     "data": {
      "text/plain": [
       "True"
      ]
     },
     "execution_count": 6,
     "metadata": {},
     "output_type": "execute_result"
    }
   ],
   "source": [
    "import requests\n",
    "import json\n",
    "requests?\n",
    "def foobar(baseurl, params={}):\n",
    "    return True\n",
    "\n",
    "foobar(\"https://itunes.apple.com/search\", {\"term\": \"Ann Arbor\", \"entity\": \"podcast\"})"
   ]
  },
  {
   "cell_type": "code",
   "execution_count": 7,
   "id": "56bb7a56",
   "metadata": {},
   "outputs": [
    {
     "name": "stdout",
     "output_type": "stream",
     "text": [
      "<module 'requests' from '/Users/ahalte200/Library/CloudStorage/OneDrive-Comcast/Mac Desktop/Git_Repositories/python_sandbox/lib/python3.8/site-packages/requests/__init__.py'>\n"
     ]
    }
   ],
   "source": [
    "print(requests)"
   ]
  },
  {
   "cell_type": "code",
   "execution_count": null,
   "id": "4c6240ac",
   "metadata": {},
   "outputs": [],
   "source": [
    "requests.Response?"
   ]
  },
  {
   "cell_type": "code",
   "execution_count": 18,
   "id": "3dc06363",
   "metadata": {},
   "outputs": [],
   "source": [
    "nums = list(range(0,68))"
   ]
  },
  {
   "cell_type": "code",
   "execution_count": 22,
   "id": "bd4892f8",
   "metadata": {},
   "outputs": [
    {
     "data": {
      "text/plain": [
       "{'s': 5,\n",
       " 'u': 7,\n",
       " 'm': 3,\n",
       " 'e': 12,\n",
       " 'r': 3,\n",
       " ' ': 20,\n",
       " 'i': 3,\n",
       " 'a': 6,\n",
       " 'g': 3,\n",
       " 't': 9,\n",
       " 'o': 8,\n",
       " 'd': 1,\n",
       " '.': 2,\n",
       " 'y': 1,\n",
       " 'h': 6,\n",
       " 'v': 1,\n",
       " 'b': 2,\n",
       " 'c': 2,\n",
       " 'f': 3,\n",
       " 'l': 1,\n",
       " 'n': 1}"
      ]
     },
     "execution_count": 22,
     "metadata": {},
     "output_type": "execute_result"
    }
   ],
   "source": [
    "p = \"Summer is a great time to go outside. You have to be careful of the sun though because of the heat.\"\n",
    "low_d = {}\n",
    "for ch in p:\n",
    "    ch = ch.lower()\n",
    "    if ch not in low_d:\n",
    "        low_d[ch] = 0\n",
    "    low_d[ch] += 1\n",
    "low_d"
   ]
  },
  {
   "cell_type": "markdown",
   "id": "fa19e4b2",
   "metadata": {},
   "source": [
    "You will be sorting the following list by each element’s second letter, a to z. Create a function to use when sorting, called `second_let`. It will take a string as input and return the second letter of that string. Then sort the list, create a variable called `sorted_by_second_let` and assign the sorted list to it. Do not use `lambda`."
   ]
  },
  {
   "cell_type": "code",
   "execution_count": 24,
   "id": "350cf917",
   "metadata": {},
   "outputs": [
    {
     "data": {
      "text/plain": [
       "['dance', 'zebra', 'hi', 'how are you', 'apple', 'bye']"
      ]
     },
     "execution_count": 24,
     "metadata": {},
     "output_type": "execute_result"
    }
   ],
   "source": [
    "ex_lst = ['hi', 'how are you', 'bye', 'apple', 'zebra', 'dance']\n",
    "def second_let(word):\n",
    "    return word[1]\n",
    "sorted_by_second_let = sorted(ex_lst, key=second_let)\n",
    "sorted_by_second_let"
   ]
  },
  {
   "cell_type": "markdown",
   "id": "460d1204",
   "metadata": {},
   "source": [
    "The dictionary, `medals`, shows the medal count for six countries during the Rio Olympics. Sort the country names so they appear alphabetically. Save this list to the variable `alphabetical`."
   ]
  },
  {
   "cell_type": "code",
   "execution_count": 30,
   "id": "b8eaa39d",
   "metadata": {},
   "outputs": [
    {
     "data": {
      "text/plain": [
       "['China', 'Germany', 'Japan', 'Russia', 'South Korea', 'United States']"
      ]
     },
     "execution_count": 30,
     "metadata": {},
     "output_type": "execute_result"
    }
   ],
   "source": [
    "medals = {'Japan':41, 'Russia':56, 'South Korea':21, 'United States':121, 'Germany':42, 'China':70}\n",
    "sorted(list(medals.keys()))"
   ]
  },
  {
   "cell_type": "markdown",
   "id": "77ce1a76",
   "metadata": {},
   "source": [
    "Below we have provided two lists of numbers, `L1` and `L2`. Using `zip` and list comprehension, create a new list, `L3`, that sums the two numbers if the number from `L1` is greater than `10` and the number from `L2` is less than `5`. This can be accomplished in one line of code."
   ]
  },
  {
   "cell_type": "code",
   "execution_count": 43,
   "id": "1740565b",
   "metadata": {},
   "outputs": [
    {
     "data": {
      "text/plain": [
       "[18, 57, 103]"
      ]
     },
     "execution_count": 43,
     "metadata": {},
     "output_type": "execute_result"
    }
   ],
   "source": [
    "L1 = [1, 5, 2, 16, 32, 3, 54, 8, 100]\n",
    "L2 = [1, 3, 10, 2, 42, 2, 3, 4, 3]\n",
    "L3 = [t[0] + t[1] for t in list(zip(L1,L2)) if t[0] > 10 and t[1] < 5]\n",
    "L3"
   ]
  },
  {
   "cell_type": "code",
   "execution_count": 45,
   "id": "877a909d",
   "metadata": {},
   "outputs": [
    {
     "data": {
      "text/plain": [
       "['apples',\n",
       " 'bananas',\n",
       " 'carrots',\n",
       " 'cereal',\n",
       " 'coffee',\n",
       " 'granola bars',\n",
       " 'onions',\n",
       " 'orange juice',\n",
       " 'pasta',\n",
       " 'peanut butter',\n",
       " 'popcorn',\n",
       " 'rice',\n",
       " 'salsa',\n",
       " 'spinach']"
      ]
     },
     "execution_count": 45,
     "metadata": {},
     "output_type": "execute_result"
    }
   ],
   "source": [
    "groceries = {'apples': 5, 'pasta': 3, 'carrots': 12, 'orange juice': 2, 'bananas': 8, 'popcorn': 1, 'salsa': 3, 'cereal': 4, 'coffee': 5, 'granola bars': 15, 'onions': 7, 'rice': 1, 'peanut butter': 2, 'spinach': 9}\n",
    "sorted(groceries) # returns a list"
   ]
  },
  {
   "cell_type": "markdown",
   "id": "ad05eb08",
   "metadata": {},
   "source": [
    "Read in the contents of the file `SP500.txt` which has monthly data for 2016 and 2017 about the S&P 500 closing prices as well as some other financial indicators, including the “Long Term Interest Rate”, which is interest rate paid on 10-year U.S. government bonds.\n",
    "\n",
    "Write a program that computes the average closing price (the second column, labeled `SP500`) and the highest long-term interest rate. Both should be computed only for the period from June 2016 through May 2017. Save the results in the variables `mean_SP` and `max_interest`."
   ]
  },
  {
   "cell_type": "code",
   "execution_count": 68,
   "id": "c08d2795",
   "metadata": {},
   "outputs": [
    {
     "name": "stdout",
     "output_type": "stream",
     "text": [
      "2236.8816666666667 2.49\n"
     ]
    }
   ],
   "source": [
    "with open('files/SP500.txt', 'r') as f:\n",
    "    catg = f.readline()\n",
    "    data = f.readlines()\n",
    "    \n",
    "catg = catg.split(',')\n",
    "i_sp500 = catg.index('SP500')\n",
    "i_date = catg.index('Date')\n",
    "i_int = catg.index('Long Interest Rate')\n",
    "\n",
    "sum_sp500 = 0\n",
    "max_interest = -5.00\n",
    "mo_count = 0\n",
    "\n",
    "for d in data:\n",
    "    d = d.strip().split(',')\n",
    "    sp500 = float(d[i_sp500])\n",
    "    intr = float(d[i_int])\n",
    "    # process date\n",
    "    date = d[i_date].split('/')\n",
    "    yr = date[2] # no need to change to int\n",
    "    mo = int(date[0])\n",
    "\n",
    "    if (yr == '2016' and mo >=6) or (yr == '2017' and mo <=5):\n",
    "        sum_sp500 += sp500\n",
    "        mo_count += 1\n",
    "        if max_interest < intr: max_interest = intr\n",
    "\n",
    "mean_SP = sum_sp500/mo_count\n",
    "\n",
    "print(mean_SP, max_interest)"
   ]
  },
  {
   "cell_type": "markdown",
   "id": "83a56905",
   "metadata": {},
   "source": [
    "Create a dictionary named `letter_counts` that contains each letter and the number of times it occurs in `string1`. __Challenge:__ Letters should not be counted separately as upper-case and lower-case. Intead, all of them should be counted as lower-case."
   ]
  },
  {
   "cell_type": "code",
   "execution_count": 85,
   "id": "4b390805",
   "metadata": {},
   "outputs": [
    {
     "name": "stdout",
     "output_type": "stream",
     "text": [
      "{'t': 19, 'h': 11, 'e': 29, 'r': 12, 'i': 14, 's': 15, 'a': 17, 'd': 7, 'n': 15, 'f': 9, 'o': 17, 'm': 4, 'w': 6, 'c': 3, 'k': 2, 'l': 11, 'u': 8, 'v': 3, 'y': 1, 'g': 1, 'b': 1}\n"
     ]
    }
   ],
   "source": [
    "string1 = \"There is a tide in the affairs of men, Which taken at the flood, leads on to fortune. Omitted, all the voyage of their life is bound in shallows and in miseries. On such a full sea are we now afloat. And we must take the current when it serves, or lose our ventures.\"\n",
    "punc = '''!()- []{};:'\"\\,<>./?@#$%^&*_~''' # added space\n",
    "letter_counts = {}\n",
    "\n",
    "# make entire sentence lowercase\n",
    "string1 = string1.lower()\n",
    "\n",
    "for ch in string1:\n",
    "    if ch in punc: # disregard punctuation\n",
    "        continue\n",
    "    if ch not in letter_counts:\n",
    "        letter_counts[ch] = 0\n",
    "    letter_counts[ch] += 1\n",
    "\n",
    "print(letter_counts)\n"
   ]
  },
  {
   "cell_type": "code",
   "execution_count": 92,
   "id": "b9793f4d",
   "metadata": {},
   "outputs": [
    {
     "name": "stdout",
     "output_type": "stream",
     "text": [
      "[1, 'a', 2, 3, 'b']\n"
     ]
    }
   ],
   "source": [
    "def check_nums(lst):\n",
    "    lst_till_7 = []\n",
    "    i = 0\n",
    "    while i != len(lst) and lst[i] != 7:\n",
    "        lst_till_7.append(lst[i])\n",
    "        i += 1\n",
    "    return lst_till_7\n",
    "\n",
    "foo = check_nums([1,'a', 2, 3, 'b'])\n",
    "print(foo)"
   ]
  },
  {
   "cell_type": "code",
   "execution_count": 98,
   "id": "a451353a",
   "metadata": {},
   "outputs": [
    {
     "name": "stdout",
     "output_type": "stream",
     "text": [
      "['South Korea', 'Japan', 'Germany', 'Russia', 'China', 'United States']\n",
      "['Russia', 'China', 'United States']\n"
     ]
    }
   ],
   "source": [
    "\n",
    "medals = {'Japan':41, 'Russia':56, 'South Korea':21, 'United States':121, 'Germany':42, 'China':70}\n",
    "medals = sorted(medals, key=lambda d : medals[d])\n",
    "top_three = medals[-3:]\n",
    "print(medals)\n",
    "print(top_three)"
   ]
  },
  {
   "cell_type": "code",
   "execution_count": 101,
   "id": "1e108dd2",
   "metadata": {},
   "outputs": [
    {
     "data": {
      "text/plain": [
       "dict_items([(3, 'Jim'), (2, 'Jack'), (4, 'Jane'), (1, 'Jill')])"
      ]
     },
     "execution_count": 101,
     "metadata": {},
     "output_type": "execute_result"
    }
   ],
   "source": [
    "people = {3: \"Jim\", 2: \"Jack\", 4: \"Jane\", 1: \"Jill\"}\n",
    "people.items()"
   ]
  },
  {
   "cell_type": "code",
   "execution_count": 113,
   "id": "f0ca1035",
   "metadata": {},
   "outputs": [
    {
     "name": "stdout",
     "output_type": "stream",
     "text": [
      "{'United States': 121, 'China': 70, 'Russia': 56, 'Germany': 42, 'Japan': 41, 'South Korea': 21}\n",
      "['United States', 'China', 'Russia']\n"
     ]
    }
   ],
   "source": [
    "medals = {'Japan':41, 'Russia':56, 'South Korea':21, 'United States':121, 'Germany':42, 'China':70}\n",
    "medals = dict(sorted(medals.items(), reverse=True, key=lambda i : i[1]))\n",
    "top_three = list(medals.keys())[:3]\n",
    "print(medals)\n",
    "print(top_three)"
   ]
  },
  {
   "cell_type": "code",
   "execution_count": 115,
   "id": "d640b49c",
   "metadata": {},
   "outputs": [
    {
     "data": {
      "text/plain": [
       "[('left', 'right'), ('front', 'back')]"
      ]
     },
     "execution_count": 115,
     "metadata": {},
     "output_type": "execute_result"
    }
   ],
   "source": [
    "\n",
    "l1 = ['left', 'up', 'front']\n",
    "l2 = ['right', 'down', 'back']\n",
    "opposites = list(filter(lambda i : len(i[0]) > 3 and len(i[1]) > 3, list(zip(l1,l2))))\n",
    "opposites"
   ]
  },
  {
   "cell_type": "code",
   "execution_count": null,
   "id": "e5753824",
   "metadata": {},
   "outputs": [],
   "source": []
  }
 ],
 "metadata": {
  "kernelspec": {
   "display_name": "Python 3 (ipykernel)",
   "language": "python",
   "name": "python3"
  },
  "language_info": {
   "codemirror_mode": {
    "name": "ipython",
    "version": 3
   },
   "file_extension": ".py",
   "mimetype": "text/x-python",
   "name": "python",
   "nbconvert_exporter": "python",
   "pygments_lexer": "ipython3",
   "version": "3.8.11"
  }
 },
 "nbformat": 4,
 "nbformat_minor": 5
}
