{
 "cells": [
  {
   "cell_type": "markdown",
   "id": "04797cb4",
   "metadata": {},
   "source": [
    "# Variable Length \\*Args and \\*\\*KWArgs\n",
    "\n",
    "* Use a \\*args (tuple argument) parameter when you might pass a tuple argument of unknown length\n",
    "* Use a \\*\\*kwargs (key word argument) parameter when you might pass a dictionary of unknown length"
   ]
  },
  {
   "cell_type": "code",
   "execution_count": 14,
   "id": "8015ff39",
   "metadata": {},
   "outputs": [
    {
     "name": "stdout",
     "output_type": "stream",
     "text": [
      "hello\n",
      "(1, 2, '3')\n",
      "{'foo1': 4, 'foo2': 'bar'}\n"
     ]
    }
   ],
   "source": [
    "def do_something(yada, *foo, **bar):\n",
    "    print (yada)\n",
    "    if foo:\n",
    "        print(foo)\n",
    "    if bar:\n",
    "        print(bar)\n",
    "        \n",
    "do_something('hello', 1, 2, \"3\", foo1 = 4, foo2 = \"bar\")"
   ]
  },
  {
   "cell_type": "code",
   "execution_count": 15,
   "id": "2250f486",
   "metadata": {},
   "outputs": [
    {
     "name": "stdout",
     "output_type": "stream",
     "text": [
      "hello\n",
      "{'foo1': 4, 'foo2': 'bar'}\n"
     ]
    }
   ],
   "source": [
    "do_something('hello', foo1 = 4, foo2 = \"bar\")"
   ]
  },
  {
   "cell_type": "code",
   "execution_count": null,
   "id": "7ab36e9e",
   "metadata": {},
   "outputs": [],
   "source": []
  }
 ],
 "metadata": {
  "kernelspec": {
   "display_name": "Python 3 (ipykernel)",
   "language": "python",
   "name": "python3"
  },
  "language_info": {
   "codemirror_mode": {
    "name": "ipython",
    "version": 3
   },
   "file_extension": ".py",
   "mimetype": "text/x-python",
   "name": "python",
   "nbconvert_exporter": "python",
   "pygments_lexer": "ipython3",
   "version": "3.9.6"
  }
 },
 "nbformat": 4,
 "nbformat_minor": 5
}
