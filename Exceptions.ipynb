{
 "cells": [
  {
   "cell_type": "markdown",
   "id": "0e1dfcc5",
   "metadata": {},
   "source": [
    "# Exceptions\n",
    "\n",
    "## Types of errors\n",
    "\n",
    "* Python won't run at all if there's a Syntactic error\n",
    "* Python will run until it hits a Runtime error.\n",
    "* Python will run all the way through even if there's a Semantic error"
   ]
  },
  {
   "cell_type": "code",
   "execution_count": 2,
   "id": "2b9dd3b0",
   "metadata": {},
   "outputs": [
    {
     "ename": "SyntaxError",
     "evalue": "invalid syntax (2671129660.py, line 2)",
     "output_type": "error",
     "traceback": [
      "\u001b[0;36m  Input \u001b[0;32mIn [2]\u001b[0;36m\u001b[0m\n\u001b[0;31m    a = b +\u001b[0m\n\u001b[0m           ^\u001b[0m\n\u001b[0;31mSyntaxError\u001b[0m\u001b[0;31m:\u001b[0m invalid syntax\n"
     ]
    }
   ],
   "source": [
    "#Syntactic Error\n",
    "print('start')\n",
    "a = b +   #forgot to finish the equation\n",
    "print('finish')"
   ]
  },
  {
   "cell_type": "code",
   "execution_count": 6,
   "id": "c5321941",
   "metadata": {},
   "outputs": [
    {
     "name": "stdout",
     "output_type": "stream",
     "text": [
      "start\n",
      "-------------\n"
     ]
    },
    {
     "ename": "IndexError",
     "evalue": "list index out of range",
     "output_type": "error",
     "traceback": [
      "\u001b[0;31m---------------------------------------------------------------------------\u001b[0m",
      "\u001b[0;31mIndexError\u001b[0m                                Traceback (most recent call last)",
      "Input \u001b[0;32mIn [6]\u001b[0m, in \u001b[0;36m<cell line: 5>\u001b[0;34m()\u001b[0m\n\u001b[1;32m      3\u001b[0m \u001b[38;5;28mprint\u001b[39m(\u001b[38;5;124m'\u001b[39m\u001b[38;5;124mstart\u001b[39m\u001b[38;5;124m'\u001b[39m) \u001b[38;5;66;03m#this will print\u001b[39;00m\n\u001b[1;32m      4\u001b[0m \u001b[38;5;28mprint\u001b[39m(\u001b[38;5;124m'\u001b[39m\u001b[38;5;124m-------------\u001b[39m\u001b[38;5;124m'\u001b[39m) \u001b[38;5;66;03m#this will too\u001b[39;00m\n\u001b[0;32m----> 5\u001b[0m \u001b[38;5;28mprint\u001b[39m(\u001b[43mfoo\u001b[49m\u001b[43m[\u001b[49m\u001b[38;5;241;43m3\u001b[39;49m\u001b[43m]\u001b[49m) \u001b[38;5;66;03m#this will throw a runtime error\u001b[39;00m\n\u001b[1;32m      6\u001b[0m \u001b[38;5;28mprint\u001b[39m(\u001b[38;5;124m'\u001b[39m\u001b[38;5;124mfinish\u001b[39m\u001b[38;5;124m'\u001b[39m)\n",
      "\u001b[0;31mIndexError\u001b[0m: list index out of range"
     ]
    }
   ],
   "source": [
    "#Runtime error (type of error: IndexError)\n",
    "foo = [1,2,3]\n",
    "print('start') #this will print\n",
    "print('-------------') #this will too\n",
    "print(foo[3]) #this will throw a runtime error\n",
    "print('finish') #this won't print due to the program flow being interrupted"
   ]
  },
  {
   "cell_type": "code",
   "execution_count": 5,
   "id": "611910dc",
   "metadata": {},
   "outputs": [
    {
     "data": {
      "text/plain": [
       "-3"
      ]
     },
     "execution_count": 5,
     "metadata": {},
     "output_type": "execute_result"
    }
   ],
   "source": [
    "#Semantic Error\n",
    "def add(a,b):\n",
    "    return a - b\n",
    "\n",
    "add(3,6) #returns -3 since it subtracted rather than added"
   ]
  },
  {
   "cell_type": "markdown",
   "id": "ee85c9e6",
   "metadata": {},
   "source": [
    "## Flow of control\n",
    "\n",
    "Flow of Control is sequential unless there is an interruption. Based on the type of interruption the flow is altered or stopped altogether\n",
    "\n",
    "### some types of interruptions\n",
    "#### `if` statements:\n",
    "\n",
    "will only run code inside block if condition is `True`\n",
    "\n",
    "#### `for` loops:\n",
    "\n",
    "will rerun code inside block while condition remains `True`\n",
    "\n",
    "#### function invocations:\n",
    "\n",
    "will run the code inside of the invocated function before continuing on\n",
    "\n",
    "#### runtime errors:\n",
    "\n",
    "will stop at the runtime error\n",
    "\n",
    "## try except\n",
    "\n",
    "* use exceptions to continue flow after runtime error.\n",
    "* code with the runtime error must be inside of the try block\n",
    "* narrow results by defining error type\n",
    "* you can use multiple error types\n",
    "\n",
    "### syntax:\n",
    "\n",
    "```\n",
    "try:\n",
    "    <try clause code block>\n",
    "except <optional ErrorType>:\n",
    "    <exception handler code block>\n",
    "```\n",
    "__Note:__ using `except Exception:` or just using `except:` will catch all runtime errors"
   ]
  },
  {
   "cell_type": "code",
   "execution_count": 14,
   "id": "e2ab1a81",
   "metadata": {},
   "outputs": [
    {
     "name": "stdout",
     "output_type": "stream",
     "text": [
      "index isn't right\n",
      "-------------\n",
      "can't add a number and a string\n"
     ]
    }
   ],
   "source": [
    "bar = [4, '5', 6]\n",
    "\n",
    "try:\n",
    "    print(bar[3])\n",
    "except IndexError:\n",
    "    print('index isn\\'t right')\n",
    "    \n",
    "print('-------------')\n",
    "\n",
    "# Multiple Error Types\n",
    "try:\n",
    "    print(bar[0] + bar[1])\n",
    "except IndexError:\n",
    "    print('index isn\\'t right')\n",
    "except TypeError:\n",
    "    print('can\\'t add a number and a string')\n",
    "except Exception:\n",
    "    print('something else went wrong')\n"
   ]
  },
  {
   "cell_type": "markdown",
   "id": "ab97cc40",
   "metadata": {},
   "source": [
    "[Coursera listed most error types here](https://fopp.umsi.education/books/published/fopp/Exceptions/standard-exceptions.html)"
   ]
  },
  {
   "cell_type": "code",
   "execution_count": null,
   "id": "e14386be",
   "metadata": {},
   "outputs": [],
   "source": []
  }
 ],
 "metadata": {
  "kernelspec": {
   "display_name": "Python 3 (ipykernel)",
   "language": "python",
   "name": "python3"
  },
  "language_info": {
   "codemirror_mode": {
    "name": "ipython",
    "version": 3
   },
   "file_extension": ".py",
   "mimetype": "text/x-python",
   "name": "python",
   "nbconvert_exporter": "python",
   "pygments_lexer": "ipython3",
   "version": "3.8.11"
  }
 },
 "nbformat": 4,
 "nbformat_minor": 5
}
