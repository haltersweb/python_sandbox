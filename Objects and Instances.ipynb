{
 "cells": [
  {
   "cell_type": "markdown",
   "id": "f15eb16a",
   "metadata": {},
   "source": [
    "# Objects and Instances\n",
    "\n",
    "## Converting an object to a string\n",
    "\n",
    "Use __str__ in the Object definition to print out if the instance is ever printed out\n",
    "\n",
    "### without `__str__`"
   ]
  },
  {
   "cell_type": "code",
   "execution_count": 9,
   "id": "250fa4cf",
   "metadata": {},
   "outputs": [
    {
     "name": "stdout",
     "output_type": "stream",
     "text": [
      "Ginger\n",
      "Woof!\n",
      "<__main__.Dog object at 0x10446fbe0>\n"
     ]
    }
   ],
   "source": [
    "class Dog:\n",
    "    def __init__(self, name):\n",
    "        self.name = name\n",
    "        self.says = 'Woof!'\n",
    "\n",
    "my_dog = Dog('Ginger')\n",
    "print(my_dog.name)\n",
    "print(my_dog.says)\n",
    "print(my_dog)"
   ]
  },
  {
   "cell_type": "markdown",
   "id": "26ee1018",
   "metadata": {},
   "source": [
    "### with `__str__`"
   ]
  },
  {
   "cell_type": "code",
   "execution_count": 10,
   "id": "211314c0",
   "metadata": {},
   "outputs": [
    {
     "name": "stdout",
     "output_type": "stream",
     "text": [
      "Percy\n",
      "Meow!\n",
      "My cat, Percy, says Meow!\n"
     ]
    }
   ],
   "source": [
    "class Cat:\n",
    "    def __init__(self, name):\n",
    "        self.name = name\n",
    "        self.says = 'Meow!'\n",
    "    def __str__(self):\n",
    "        return 'My cat, {}, says {}'.format(self.name, self.says)\n",
    "\n",
    "my_cat = Cat('Percy')\n",
    "print(my_cat.name)\n",
    "print(my_cat.says)\n",
    "print(my_cat)"
   ]
  },
  {
   "cell_type": "markdown",
   "id": "7c2feb60",
   "metadata": {},
   "source": [
    "## Special dunderscore methods\n",
    "\n",
    "Besides `__init__` and `__str__` ther are other methods.  Some examples are:\n",
    "* `__add__`\n",
    "* `__sub__`\n",
    "* `__len__`"
   ]
  },
  {
   "cell_type": "code",
   "execution_count": 29,
   "id": "644298f7",
   "metadata": {},
   "outputs": [
    {
     "ename": "TypeError",
     "evalue": "unsupported operand type(s) for +: 'Point' and 'Point'",
     "output_type": "error",
     "traceback": [
      "\u001b[0;31m---------------------------------------------------------------------------\u001b[0m",
      "\u001b[0;31mTypeError\u001b[0m                                 Traceback (most recent call last)",
      "Input \u001b[0;32mIn [29]\u001b[0m, in \u001b[0;36m<cell line: 11>\u001b[0;34m()\u001b[0m\n\u001b[1;32m      9\u001b[0m p1 \u001b[38;5;241m=\u001b[39m Point(\u001b[38;5;241m3\u001b[39m, \u001b[38;5;241m4\u001b[39m)\n\u001b[1;32m     10\u001b[0m p2 \u001b[38;5;241m=\u001b[39m Point(\u001b[38;5;241m9\u001b[39m, \u001b[38;5;241m10\u001b[39m)\n\u001b[0;32m---> 11\u001b[0m \u001b[38;5;28mprint\u001b[39m(\u001b[43mp1\u001b[49m\u001b[43m \u001b[49m\u001b[38;5;241;43m+\u001b[39;49m\u001b[43m \u001b[49m\u001b[43mp2\u001b[49m)\n",
      "\u001b[0;31mTypeError\u001b[0m: unsupported operand type(s) for +: 'Point' and 'Point'"
     ]
    }
   ],
   "source": [
    "class Point:\n",
    "    def __init__(self, x, y):\n",
    "        self.x = x\n",
    "        self.y = y\n",
    "        \n",
    "    def __str__(self):\n",
    "        return 'Point ({}, {})'.format(self.x, self.y)\n",
    "    \n",
    "p1 = Point(3, 4)\n",
    "p2 = Point(9, 10)\n",
    "print(p1 + p2) # try to add the two points without __add__"
   ]
  },
  {
   "cell_type": "code",
   "execution_count": 36,
   "id": "b84ef660",
   "metadata": {},
   "outputs": [
    {
     "name": "stdout",
     "output_type": "stream",
     "text": [
      "12 , 14\n"
     ]
    }
   ],
   "source": [
    "# you would need to do this to add the two points\n",
    "print((p1.x + p2.x), ',', (p1.y + p2.y))"
   ]
  },
  {
   "cell_type": "code",
   "execution_count": 35,
   "id": "ff462bd9",
   "metadata": {},
   "outputs": [
    {
     "name": "stdout",
     "output_type": "stream",
     "text": [
      "Point (5, 6)\n"
     ]
    }
   ],
   "source": [
    "class Point:\n",
    "    def __init__(self, x, y):\n",
    "        self.x = x\n",
    "        self.y = y\n",
    "        \n",
    "    def __str__(self):\n",
    "        return 'Point ({}, {})'.format(self.x, self.y)\n",
    "    \n",
    "    def __add__(self, other_point):\n",
    "        return Point(self.x + other_point.x, self.y + other_point.y)\n",
    "    \n",
    "p3 = Point(1, 2)\n",
    "p4 = Point(4, 4)\n",
    "print(p3 + p4)"
   ]
  },
  {
   "cell_type": "markdown",
   "id": "3d82dd72",
   "metadata": {},
   "source": [
    "## Instances as return values\n",
    "Class methods can also __return instances__ of the __same class__ or __another class__ as well as just a value.\n",
    "\n",
    "### example: class `Point.halfway()` returns a new `Point` instance"
   ]
  },
  {
   "cell_type": "code",
   "execution_count": 56,
   "id": "236b87d7",
   "metadata": {},
   "outputs": [
    {
     "name": "stdout",
     "output_type": "stream",
     "text": [
      "Distance from origin: 5.0 units\n",
      "p_half is a: <class '__main__.Point'>\n",
      "p_half: Point (6.5, 12.0)\n"
     ]
    }
   ],
   "source": [
    "class Point:\n",
    "    def __init__(self, x, y):\n",
    "        self.x = x\n",
    "        self.y = y\n",
    "        \n",
    "    def __str__(self):\n",
    "        return 'Point ({}, {})'.format(self.x, self.y)\n",
    "    \n",
    "    def getX(self):\n",
    "        return self.x\n",
    "    \n",
    "    def getY(self):\n",
    "        return self.y\n",
    "    \n",
    "    def distanceFromOrigin(self):\n",
    "        return (self.x**2 + self.y**2)**0.5 # returns a value\n",
    "    \n",
    "    def halfway(self, target):\n",
    "        half_x = (self.x + target.x)/2\n",
    "        half_y = (self.y + target.y)/2\n",
    "        return Point(half_x, half_y) # returns new Point instance\n",
    "    \n",
    "p1 = Point(3, 4)\n",
    "p2 = Point(10,20)\n",
    "print('Distance from origin:', p1.distanceFromOrigin(),'units')\n",
    "p_half = p1.halfway(p2)\n",
    "print('p_half is a:',type(p_half))\n",
    "print('p_half:', p_half)"
   ]
  },
  {
   "cell_type": "code",
   "execution_count": null,
   "id": "8f26d5da",
   "metadata": {},
   "outputs": [],
   "source": []
  },
  {
   "cell_type": "markdown",
   "id": "afbcfea0",
   "metadata": {},
   "source": [
    "## Sorting Lists of Instances\n",
    "\n",
    "If you have a sort priority specific to a class, you would:\n",
    "1. write a method in the class that returns the value you want ordered by\n",
    "2. call the class method either by:\n",
    "    * `Fruit.sort_priority` (calling the name of the Fruit object's sort priority method)\n",
    "    * `lambda x: x.sort_priority()` (running each instance's sort priority method via lambda)"
   ]
  },
  {
   "cell_type": "code",
   "execution_count": 75,
   "id": "6cdbf04d",
   "metadata": {},
   "outputs": [
    {
     "name": "stdout",
     "output_type": "stream",
     "text": [
      "-----sorted by price, referencing the class' method name-----\n",
      "apple\n",
      "cherry\n",
      "blueberry\n",
      "-----sorted by price, using lambda to run the instance's sort method-----\n",
      "apple\n",
      "cherry\n",
      "blueberry\n"
     ]
    }
   ],
   "source": [
    "class Fruit:\n",
    "    def __init__(self, name, price):\n",
    "        self.name = name\n",
    "        self.price = price\n",
    "        \n",
    "    def sort_priority(self):\n",
    "        return self.price # sort by price\n",
    "    \n",
    "fruit_l = [\n",
    "    Fruit('cherry', 10),\n",
    "    Fruit('apple', 5),\n",
    "    Fruit('blueberry', 20)\n",
    "]\n",
    "\n",
    "#one way: use Fruit's sort_priority method\n",
    "print('-----sorted by price, referencing the class\\' method name-----')\n",
    "for f in sorted(fruit_l, key=Fruit.sort_priority):\n",
    "    print(f.name)\n",
    "        \n",
    "#another way: run each fruit's inherited sort_priority method via lambda\n",
    "print('-----sorted by price, using lambda to run the instance\\'s sort method-----')\n",
    "for f in sorted(fruit_l, key=lambda l : l.sort_priority()):\n",
    "      print(f.name)\n",
    "\n"
   ]
  },
  {
   "cell_type": "markdown",
   "id": "f24fa841",
   "metadata": {},
   "source": [
    "## Class vs instance variables\n",
    "\n",
    "If an instance method, say, comes across a variable name it will look for it in this order:\n",
    "1. Instance.  If not there than look in...\n",
    "2. Class.  If not there than...\n",
    "3. Runtime Error"
   ]
  },
  {
   "cell_type": "code",
   "execution_count": 85,
   "id": "e19539cd",
   "metadata": {},
   "outputs": [
    {
     "name": "stdout",
     "output_type": "stream",
     "text": [
      "2\n",
      "5*\n",
      "3\n",
      "3<\n"
     ]
    }
   ],
   "source": [
    "class Point:\n",
    "    def __init__(self, x, y):\n",
    "        self.x = x\n",
    "        self.y = y\n",
    "            \n",
    "    def mark_y(self):\n",
    "        print(self.x)\n",
    "        print('{}{}'.format(self.y, self.marker))\n",
    "        \n",
    "    marker = '*' # is referred to as self.marker in method above\n",
    "\n",
    "        \n",
    "p1 = Point(2,5)\n",
    "p2 = Point(3,3)\n",
    "\n",
    "p1.mark_y()\n",
    "\n",
    "p2.marker = '<' # change marker for this instance\n",
    "p2.mark_y()"
   ]
  },
  {
   "cell_type": "markdown",
   "id": "b79fbb06",
   "metadata": {},
   "source": [
    "## Planning out Classes and Instances\n",
    "\n",
    "Before you define a new class, ask yourself these questions:\n",
    "\n",
    "* What is the data that you want to deal with?\n",
    "* What will one instance of your class represent?\n",
    "* What information should each instance have as instance variables?\n",
    "* What instance methods should each instance have?\n",
    "* What should the printed version (`__str__`) of an instance look like?\n",
    "\n",
    "### example: Tamagotchi\n",
    "\n",
    "* Pet class\n",
    "* Each instance will be one electronic pet for the user to take care of\n",
    "* Each instance will have a current state, consisting of three instance variables:\n",
    "    * hunger, an integer\n",
    "    * boredom, an integer\n",
    "    * sounds, list of strings (each a word that the pet has been taught to say)\n",
    "    \n",
    "#### `__init__`:\n",
    "\n",
    "Set `hunger` and `boredom` to random values between 0 and the threshold for being hungry or bored.\n",
    "\n",
    "The `sounds` instance variable is initialized to be a __copy of the class variable__ with the same name.\n",
    "\n",
    "We make a copy of the `sounds` list since we will __perform destructive operations__ (appending new sounds) __to the list__. Otherwise the destructive operations would affect the list that the class variable points to, teaching a sound to all instances of the class!\n",
    "\n",
    "#### `clock_tick()`:\n",
    "\n",
    "Increments the `boredom` and `hunger` instance variables by `1`, simulating the idea that as time passes, the pet gets more bored and hungry.\n",
    "\n",
    "#### `__str__`:\n",
    "\n",
    "the pet’s current state: bored, hungry, or happy.\n",
    "\n",
    "It's __bored__ if the boredom instance variable is larger than the `threshold` (which is set as a class variable).\n",
    "\n",
    "To relieve boredom, the pet owner can:\n",
    "\n",
    "#### `teach()`:\n",
    "\n",
    "Teach the pet a new word.  Result:\n",
    "* pet adds new word to `sounds` list\n",
    "* calls `reduce_boredom()`\n",
    "    \n",
    "#### `hi()`:\n",
    "\n",
    "Interact by saying `hi()`.  Result:\n",
    "* pet randomly picks a `sound` to say\n",
    "* calls `reduce_boredom()`\n",
    "    \n",
    "#### `reduce_boredom()`:\n",
    "\n",
    "Decrements `boredom` by `boredom_decrement`.  No lower than `0`.\n",
    "\n",
    "It's __hungry__ if ???????\n",
    "\n",
    "To relieve hunger, the pet owner can:\n",
    "\n",
    "#### `feed()`:\n",
    "\n",
    "Feed your Tamagotchi.  Result:\n",
    "* calls `reduce_hunger()`\n",
    "    \n",
    "#### `reduce_hunger()`:\n",
    "\n",
    "Decrements `hunger` by ???????\n",
    "\n",
    "#### `mood()`:\n",
    "\n",
    "* `happy` if `hunger` and `boredom` above their thresholds"
   ]
  },
  {
   "cell_type": "code",
   "execution_count": 140,
   "id": "a6cc0b77",
   "metadata": {},
   "outputs": [],
   "source": [
    "from random import randrange # returns integer\n",
    "\n",
    "class Pet:\n",
    "    \"\"\"Class Pet creates a Tamagotchi\"\"\"\n",
    "        \n",
    "    boredom_decrement = 4\n",
    "    hunger_decrement = 6\n",
    "    boredom_threshold = 5\n",
    "    hunger_threshold = 10\n",
    "    sounds = ['Mrrp']\n",
    "    \n",
    "    def __init__(self, name = 'Kitty'):\n",
    "        self.name = name\n",
    "        self.hunger = randrange(self.hunger_threshold) #random\n",
    "        self.boredom = randrange(self.boredom_threshold) #random\n",
    "        self.sounds = self.sounds[:] # copy the class attribute sounds so we can make changes per pet\n",
    "    \n",
    "    def __str__(self):\n",
    "        state = 'I\\'m {}. '.format(self.name)\n",
    "        state += 'I feel {}.'.format(self.mood())\n",
    "        return state\n",
    "    \n",
    "    def clock_tick(self):\n",
    "        self.boredom += 1\n",
    "        self.hunger += 1\n",
    "    \n",
    "    def reduce_boredom(self):\n",
    "        self.boredom = max(self.boredom - self.boredom_decrement, 0)\n",
    "    \n",
    "    def reduce_hunger(self):\n",
    "        self.hunger = max(self.hunger - self.hunger_decrement, 0)\n",
    "    \n",
    "    def teach(self, word):\n",
    "        self.sounds.append(word)\n",
    "        self.reduce_boredom()\n",
    "        \n",
    "    def hi(self):\n",
    "        sound = self.sounds[randrange(0,len(self.sounds))]\n",
    "        print(sound)\n",
    "        self.reduce_boredom()\n",
    "    \n",
    "    def feed(self):\n",
    "        self.reduce_hunger()\n",
    "    \n",
    "    def mood(self):\n",
    "        if self.hunger <= self.hunger_threshold and self.boredom <= self.boredom_threshold:\n",
    "            return 'happy'\n",
    "        elif self.hunger > self.hunger_threshold:\n",
    "            return 'hungry'\n",
    "        else:\n",
    "            return 'bored'\n",
    "        \n",
    "    def check_stats(self):\n",
    "        print('Boredom: {}.  Hunger: {}.'.format(self.boredom, self.hunger))\n",
    "    "
   ]
  },
  {
   "cell_type": "code",
   "execution_count": 141,
   "id": "5afce82b",
   "metadata": {},
   "outputs": [
    {
     "name": "stdout",
     "output_type": "stream",
     "text": [
      "I'm Fido. I feel happy.\n"
     ]
    }
   ],
   "source": [
    "fido = Pet('Fido')\n",
    "print(fido)"
   ]
  },
  {
   "cell_type": "code",
   "execution_count": 142,
   "id": "d6d70ff3",
   "metadata": {},
   "outputs": [
    {
     "name": "stdout",
     "output_type": "stream",
     "text": [
      "0\n",
      "5\n"
     ]
    }
   ],
   "source": [
    "print(fido.boredom)\n",
    "print(fido.hunger)"
   ]
  },
  {
   "cell_type": "code",
   "execution_count": 152,
   "id": "91da5790",
   "metadata": {},
   "outputs": [
    {
     "name": "stdout",
     "output_type": "stream",
     "text": [
      "I'm Fido. I feel hungry.\n",
      "I'm Fido. I feel hungry.\n",
      "I'm Fido. I feel hungry.\n",
      "I'm Fido. I feel hungry.\n",
      "I'm Fido. I feel hungry.\n",
      "I'm Fido. I feel hungry.\n",
      "I'm Fido. I feel hungry.\n",
      "I'm Fido. I feel hungry.\n",
      "I'm Fido. I feel hungry.\n",
      "I'm Fido. I feel hungry.\n"
     ]
    }
   ],
   "source": [
    "for i in range(10):\n",
    "    fido.clock_tick()\n",
    "    print(fido)"
   ]
  },
  {
   "cell_type": "code",
   "execution_count": 144,
   "id": "69f6083a",
   "metadata": {},
   "outputs": [
    {
     "data": {
      "text/plain": [
       "['Mrrp', 'Boo']"
      ]
     },
     "execution_count": 144,
     "metadata": {},
     "output_type": "execute_result"
    }
   ],
   "source": [
    "fido.teach('Boo')\n",
    "fido.sounds"
   ]
  },
  {
   "cell_type": "code",
   "execution_count": 145,
   "id": "6e64e4ff",
   "metadata": {},
   "outputs": [
    {
     "name": "stdout",
     "output_type": "stream",
     "text": [
      "Mrrp\n",
      "Boo\n",
      "Mrrp\n"
     ]
    }
   ],
   "source": [
    "fido.hi()\n",
    "fido.hi()\n",
    "fido.hi()"
   ]
  },
  {
   "cell_type": "code",
   "execution_count": 156,
   "id": "7fdad132",
   "metadata": {},
   "outputs": [],
   "source": [
    "fido.feed()"
   ]
  },
  {
   "cell_type": "code",
   "execution_count": 184,
   "id": "af9116ed",
   "metadata": {},
   "outputs": [
    {
     "name": "stdout",
     "output_type": "stream",
     "text": [
      "Boredom: 2.  Hunger: 0.\n"
     ]
    }
   ],
   "source": [
    "fido.check_stats()"
   ]
  },
  {
   "cell_type": "code",
   "execution_count": 154,
   "id": "cbb5bd8d",
   "metadata": {},
   "outputs": [
    {
     "name": "stdout",
     "output_type": "stream",
     "text": [
      "Boo\n"
     ]
    }
   ],
   "source": [
    "fido.hi()"
   ]
  },
  {
   "cell_type": "code",
   "execution_count": 185,
   "id": "22884c61",
   "metadata": {},
   "outputs": [
    {
     "name": "stdout",
     "output_type": "stream",
     "text": [
      "I'm Fido. I feel happy.\n"
     ]
    }
   ],
   "source": [
    "print(fido)"
   ]
  },
  {
   "cell_type": "code",
   "execution_count": 170,
   "id": "6a74159d",
   "metadata": {},
   "outputs": [],
   "source": [
    "fido.feed()"
   ]
  },
  {
   "cell_type": "code",
   "execution_count": 175,
   "id": "79ac61a0",
   "metadata": {},
   "outputs": [],
   "source": [
    "fido.teach('Vuuuu')"
   ]
  },
  {
   "cell_type": "code",
   "execution_count": 183,
   "id": "7f1f2747",
   "metadata": {},
   "outputs": [
    {
     "name": "stdout",
     "output_type": "stream",
     "text": [
      "Vuuuu\n"
     ]
    }
   ],
   "source": [
    "fido.hi()"
   ]
  },
  {
   "cell_type": "markdown",
   "id": "9b465729",
   "metadata": {},
   "source": [
    "### example: game play for Tamagotchi\n",
    "\n",
    "We will use the [Listener Loop](https://fopp.umsi.education/books/published/fopp/MoreAboutIteration/listenerLoop.html#listener-loop) pattern.\n",
    "\n",
    "At __each iteration__, we will display a __text prompt__ reminding the user of what __commands__ are available.\n",
    "\n",
    "The user will have a __list of pets__, each with a name.\n",
    "\n",
    "The user can issue a command to __adopt a new pet__, which will create a new instance of Pet.\n",
    "\n",
    "Or the user can __interact__ with an existing pet, with a Greet, Teach, or Feed command.\n",
    "\n",
    "No matter what the user does, with __each command-- entered, the __clock ticks for all__ their pets.\n",
    "\n",
    "Watch out.  If you have too many pets, you won’t be able to keep them all satisfied!\n",
    "\n",
    "#### List of actions:\n",
    "* `Quit`\n",
    "* `Adopt <petname_with_no_spaces_please>`\n",
    "* `Greet <petname>`\n",
    "* `Teach <petname> <word>`\n",
    "* `Feed <petname>`\n"
   ]
  },
  {
   "cell_type": "code",
   "execution_count": 241,
   "id": "fda9f97f",
   "metadata": {},
   "outputs": [],
   "source": [
    "def play():\n",
    "    pets = []\n",
    "    prompt = \"\"\"\n",
    "You can:\n",
    "    * Quit\n",
    "    * Adopt <petname_with_no_spaces_please>\n",
    "    * Greet <petname>\n",
    "    * Teach <petname> <word>\n",
    "    * Feed <petname>\n",
    "What would you like to do?\n",
    "    \"\"\"\n",
    "    response = \"\"\n",
    "    confusion = \"I don't understand that request.\"\n",
    "    no_pet = \"You don't have a pet by that name.\"\n",
    "    \n",
    "    def getPet(pets_list, name):\n",
    "        for pet in pets_list:\n",
    "            if pet.name == name:\n",
    "                return pet\n",
    "        return None\n",
    "    \n",
    "    while(True):\n",
    "        request = input(response + '\\n' + prompt)\n",
    "        pet = None\n",
    "        action, name, word = '', '', ''\n",
    "\n",
    "        #split request into key words\n",
    "        request = request.split()\n",
    "        if len(request) > 0:\n",
    "            action = request[0]\n",
    "        if len(request) > 1:\n",
    "            name = request[1]\n",
    "        if len(request) > 2:\n",
    "            word = request[2]\n",
    "\n",
    "        #Quit\n",
    "        if action == 'Quit':\n",
    "            print('Goodbye!')\n",
    "            return\n",
    "\n",
    "        #Adopt\n",
    "        elif action == 'Adopt':\n",
    "            if name:\n",
    "                if getPet(pets, name):\n",
    "                    print('You already have a pet named', name)\n",
    "                else:\n",
    "                    pet = Pet(name)\n",
    "                    pets.append(pet)\n",
    "            else:\n",
    "                print(confusion)\n",
    "\n",
    "        #Greet\n",
    "        elif action == 'Greet':\n",
    "            if name:\n",
    "                pet = getPet(pets, name)\n",
    "                if pet:\n",
    "                    pet.hi()\n",
    "                else:\n",
    "                    print(no_pet)\n",
    "            else:\n",
    "                print(confusion)\n",
    "\n",
    "        #Teach\n",
    "        elif action == 'Teach':\n",
    "            if name and word:\n",
    "                pet = getPet(pets, name)\n",
    "                if pet:\n",
    "                    pet.teach(word)\n",
    "                else:\n",
    "                    print(no_pet)\n",
    "            else:\n",
    "                print(confusion)\n",
    "\n",
    "        #Feed\n",
    "        elif action == 'Feed':\n",
    "            if name:\n",
    "                pet = getPet(pets, name)\n",
    "                if pet:\n",
    "                    pet.feed()\n",
    "                else:\n",
    "                    print(no_pet)\n",
    "            else:\n",
    "                print(confusion)\n",
    "\n",
    "        #other\n",
    "        else:\n",
    "            print(confusion)\n",
    "            \n",
    "        #time passes\n",
    "        for pet in pets:\n",
    "            pet.clock_tick()\n",
    "            print(pet.__str__())"
   ]
  },
  {
   "cell_type": "code",
   "execution_count": 242,
   "id": "48bd8027",
   "metadata": {},
   "outputs": [
    {
     "name": "stdout",
     "output_type": "stream",
     "text": [
      "\n",
      "\n",
      "You can:\n",
      "    * Quit\n",
      "    * Adopt <petname_with_no_spaces_please>\n",
      "    * Greet <petname>\n",
      "    * Teach <petname> <word>\n",
      "    * Feed <petname>\n",
      "What would you like to do?\n",
      "    Adopt Percy\n",
      "I'm Percy. I feel happy.\n",
      "\n",
      "\n",
      "You can:\n",
      "    * Quit\n",
      "    * Adopt <petname_with_no_spaces_please>\n",
      "    * Greet <petname>\n",
      "    * Teach <petname> <word>\n",
      "    * Feed <petname>\n",
      "What would you like to do?\n",
      "    Adopt Wulfric\n",
      "I'm Percy. I feel bored.\n",
      "I'm Wulfric. I feel happy.\n",
      "\n",
      "\n",
      "You can:\n",
      "    * Quit\n",
      "    * Adopt <petname_with_no_spaces_please>\n",
      "    * Greet <petname>\n",
      "    * Teach <petname> <word>\n",
      "    * Feed <petname>\n",
      "What would you like to do?\n",
      "    Greet Percy\n",
      "Mrrp\n",
      "I'm Percy. I feel happy.\n",
      "I'm Wulfric. I feel happy.\n",
      "\n",
      "\n",
      "You can:\n",
      "    * Quit\n",
      "    * Adopt <petname_with_no_spaces_please>\n",
      "    * Greet <petname>\n",
      "    * Teach <petname> <word>\n",
      "    * Feed <petname>\n",
      "What would you like to do?\n",
      "    Teach Wulfric Meow\n",
      "I'm Percy. I feel hungry.\n",
      "I'm Wulfric. I feel happy.\n",
      "\n",
      "\n",
      "You can:\n",
      "    * Quit\n",
      "    * Adopt <petname_with_no_spaces_please>\n",
      "    * Greet <petname>\n",
      "    * Teach <petname> <word>\n",
      "    * Feed <petname>\n",
      "What would you like to do?\n",
      "    Feed Percy\n",
      "I'm Percy. I feel happy.\n",
      "I'm Wulfric. I feel hungry.\n",
      "\n",
      "\n",
      "You can:\n",
      "    * Quit\n",
      "    * Adopt <petname_with_no_spaces_please>\n",
      "    * Greet <petname>\n",
      "    * Teach <petname> <word>\n",
      "    * Feed <petname>\n",
      "What would you like to do?\n",
      "    Feed Wulfric\n",
      "I'm Percy. I feel bored.\n",
      "I'm Wulfric. I feel happy.\n",
      "\n",
      "\n",
      "You can:\n",
      "    * Quit\n",
      "    * Adopt <petname_with_no_spaces_please>\n",
      "    * Greet <petname>\n",
      "    * Teach <petname> <word>\n",
      "    * Feed <petname>\n",
      "What would you like to do?\n",
      "    Greet Percy\n",
      "Mrrp\n",
      "I'm Percy. I feel happy.\n",
      "I'm Wulfric. I feel happy.\n",
      "\n",
      "\n",
      "You can:\n",
      "    * Quit\n",
      "    * Adopt <petname_with_no_spaces_please>\n",
      "    * Greet <petname>\n",
      "    * Teach <petname> <word>\n",
      "    * Feed <petname>\n",
      "What would you like to do?\n",
      "    Teach Percy 'Meow'\n",
      "I'm Percy. I feel happy.\n",
      "I'm Wulfric. I feel happy.\n",
      "\n",
      "\n",
      "You can:\n",
      "    * Quit\n",
      "    * Adopt <petname_with_no_spaces_please>\n",
      "    * Greet <petname>\n",
      "    * Teach <petname> <word>\n",
      "    * Feed <petname>\n",
      "What would you like to do?\n",
      "    Greet Percy\n",
      "Mrrp\n",
      "I'm Percy. I feel happy.\n",
      "I'm Wulfric. I feel bored.\n",
      "\n",
      "\n",
      "You can:\n",
      "    * Quit\n",
      "    * Adopt <petname_with_no_spaces_please>\n",
      "    * Greet <petname>\n",
      "    * Teach <petname> <word>\n",
      "    * Feed <petname>\n",
      "What would you like to do?\n",
      "    Greet Percy\n",
      "Mrrp\n",
      "I'm Percy. I feel hungry.\n",
      "I'm Wulfric. I feel bored.\n",
      "\n",
      "\n",
      "You can:\n",
      "    * Quit\n",
      "    * Adopt <petname_with_no_spaces_please>\n",
      "    * Greet <petname>\n",
      "    * Teach <petname> <word>\n",
      "    * Feed <petname>\n",
      "What would you like to do?\n",
      "    Greet Percy\n",
      "Mrrp\n",
      "I'm Percy. I feel hungry.\n",
      "I'm Wulfric. I feel hungry.\n",
      "\n",
      "\n",
      "You can:\n",
      "    * Quit\n",
      "    * Adopt <petname_with_no_spaces_please>\n",
      "    * Greet <petname>\n",
      "    * Teach <petname> <word>\n",
      "    * Feed <petname>\n",
      "What would you like to do?\n",
      "    Feed Wulfric\n",
      "I'm Percy. I feel hungry.\n",
      "I'm Wulfric. I feel bored.\n",
      "\n",
      "\n",
      "You can:\n",
      "    * Quit\n",
      "    * Adopt <petname_with_no_spaces_please>\n",
      "    * Greet <petname>\n",
      "    * Teach <petname> <word>\n",
      "    * Feed <petname>\n",
      "What would you like to do?\n",
      "    Greet Wulfric\n",
      "Mrrp\n",
      "I'm Percy. I feel hungry.\n",
      "I'm Wulfric. I feel bored.\n",
      "\n",
      "\n",
      "You can:\n",
      "    * Quit\n",
      "    * Adopt <petname_with_no_spaces_please>\n",
      "    * Greet <petname>\n",
      "    * Teach <petname> <word>\n",
      "    * Feed <petname>\n",
      "What would you like to do?\n",
      "    Quit\n",
      "Goodbye!\n"
     ]
    }
   ],
   "source": [
    "play()"
   ]
  },
  {
   "cell_type": "markdown",
   "id": "4e6c2e3c",
   "metadata": {},
   "source": [
    "## Week 1 Assignment\n",
    "\n",
    "### question 1\n",
    "\n",
    "Define a class called `Bike` that accepts a string and a float as input, and assigns those inputs respectively to two instance variables, `color` and `price`. Assign to the variable `testOne` an instance of `Bike` whose `color` is blue and whose `price` is 89.99. Assign to the variable `testTwo` an instance of `Bike` whose `color` is purple and whose `price` is 25.0."
   ]
  },
  {
   "cell_type": "code",
   "execution_count": 250,
   "id": "7f90b0df",
   "metadata": {},
   "outputs": [],
   "source": [
    "class Bike:\n",
    "    \"\"\"Bike Class which takes a color(string) and a price(float)\"\"\"\n",
    "    def __init__(self, color_s, price_f):\n",
    "        self.color = color_s\n",
    "        self.price = price_f\n",
    "    def __str__(self):\n",
    "        return 'A {} bike which costs ${:.2f}.'.format(self.color, self.price)\n",
    "\n",
    "testOne = Bike('blue', 89.99)\n",
    "testTwo = Bike('purple', 25.00)"
   ]
  },
  {
   "cell_type": "code",
   "execution_count": 251,
   "id": "8c228905",
   "metadata": {},
   "outputs": [
    {
     "name": "stdout",
     "output_type": "stream",
     "text": [
      "A blue bike which costs $89.99.\n"
     ]
    }
   ],
   "source": [
    "print(testOne)"
   ]
  },
  {
   "cell_type": "code",
   "execution_count": 252,
   "id": "85015a59",
   "metadata": {},
   "outputs": [
    {
     "name": "stdout",
     "output_type": "stream",
     "text": [
      "A purple bike which costs $25.00.\n"
     ]
    }
   ],
   "source": [
    "print(testTwo)"
   ]
  },
  {
   "cell_type": "markdown",
   "id": "43d052c6",
   "metadata": {},
   "source": [
    "### question 2\n",
    "\n",
    "Create a class called `AppleBasket` whose __constructor__ accepts two inputs: a string representing a color, and a number representing a quantity of apples. The constructor should initialize two instance variables: `apple_color` and `apple_quantity`.\n",
    "\n",
    "Write a class __method__ called `increase` that increases the quantity by 1 each time it is invoked.\n",
    "\n",
    "You should also write a `__str__` method for this class that returns a string of the format: `\"A basket of <quantity> <color> apples.\"` e.g. \"A basket of 4 red apples.\" or \"A basket of 50 blue apples.\""
   ]
  },
  {
   "cell_type": "code",
   "execution_count": 259,
   "id": "a78f1e4f",
   "metadata": {},
   "outputs": [],
   "source": [
    "class AppleBasket:\n",
    "    \"\"\"An AppleBasket Class which creates a basket with a certain amount of a certain color of apples.\"\"\"\n",
    "    \n",
    "    def __init__(self, apple_color, apple_quantity):\n",
    "        self.apple_color = apple_color\n",
    "        self.apple_quantity = apple_quantity\n",
    "            \n",
    "    def __str__(self):\n",
    "        return 'A basket of {} {} apples.'.format(self.apple_quantity, self.apple_color)\n",
    "    \n",
    "    def increase(self):\n",
    "        self.apple_quantity += 1"
   ]
  },
  {
   "cell_type": "code",
   "execution_count": 260,
   "id": "42894fd7",
   "metadata": {},
   "outputs": [],
   "source": [
    "gala = AppleBasket('pink', 5)\n",
    "granny = AppleBasket('green', 10)"
   ]
  },
  {
   "cell_type": "code",
   "execution_count": 266,
   "id": "0b03e339",
   "metadata": {},
   "outputs": [],
   "source": [
    "granny.increase()"
   ]
  },
  {
   "cell_type": "code",
   "execution_count": 267,
   "id": "885da4ad",
   "metadata": {},
   "outputs": [
    {
     "name": "stdout",
     "output_type": "stream",
     "text": [
      "A basket of 6 pink apples. \n",
      " A basket of 13 green apples.\n"
     ]
    }
   ],
   "source": [
    "print(gala,'\\n',granny)"
   ]
  },
  {
   "cell_type": "markdown",
   "id": "08a91249",
   "metadata": {},
   "source": [
    "### question 3\n",
    "\n",
    "Define a class called `BankAccount` that accepts the name you want associated with your bank account in a string, and an integer that represents the amount of money in the account. The __constructor__ should initialize two instance variables from those inputs: `name` and `amt`.\n",
    "\n",
    "Add a string method so that when you print an instance of `BankAccount`, you see `\"Your account, <name>, has <start_amt> dollars.\"`\n",
    "\n",
    "Create an instance of this class with `\"Bob\"` as the name and `100` as the amount. Save this to the variable `t1`."
   ]
  },
  {
   "cell_type": "code",
   "execution_count": 269,
   "id": "e648e965",
   "metadata": {},
   "outputs": [
    {
     "name": "stdout",
     "output_type": "stream",
     "text": [
      "Your account, Bob, has 100 dollars.\n"
     ]
    }
   ],
   "source": [
    "class BankAccount:\n",
    "    \"\"\"BankAccount Class which opens a bank account at a named bank (string) with a starting amount (integer).\"\"\"\n",
    "    \n",
    "    def __init__(self, name, amt):\n",
    "        self.name = name\n",
    "        self.amt = amt\n",
    "        \n",
    "    def __str__(self):\n",
    "        return \"Your account, {}, has {} dollars.\".format(self.name, self.amt)\n",
    "    \n",
    "t1 = BankAccount('Bob', 100)\n",
    "\n",
    "print(t1)"
   ]
  },
  {
   "cell_type": "code",
   "execution_count": null,
   "id": "24ff1dea",
   "metadata": {},
   "outputs": [],
   "source": []
  }
 ],
 "metadata": {
  "kernelspec": {
   "display_name": "Python 3 (ipykernel)",
   "language": "python",
   "name": "python3"
  },
  "language_info": {
   "codemirror_mode": {
    "name": "ipython",
    "version": 3
   },
   "file_extension": ".py",
   "mimetype": "text/x-python",
   "name": "python",
   "nbconvert_exporter": "python",
   "pygments_lexer": "ipython3",
   "version": "3.8.11"
  }
 },
 "nbformat": 4,
 "nbformat_minor": 5
}
