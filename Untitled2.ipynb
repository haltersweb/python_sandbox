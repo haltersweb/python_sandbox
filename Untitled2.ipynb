{
 "cells": [
  {
   "cell_type": "markdown",
   "id": "05e98eef",
   "metadata": {},
   "source": [
    "We have created conditionals for you to use. Do not change the provided conditional statements. Find an integer value for x that will cause output to hold the values True and None. (Drawing diagrams or flow charts for yourself may help!)"
   ]
  },
  {
   "cell_type": "code",
   "execution_count": 1,
   "id": "c3445af8",
   "metadata": {},
   "outputs": [],
   "source": [
    "\n",
    "x = 64\n",
    "output = []\n",
    "\n",
    "if x > 63:\n",
    "    output.append(True)\n",
    "elif x > 55:\n",
    "    output.append(False)\n",
    "else:\n",
    "    output.append(\"Neither\")\n",
    "\n",
    "if x > 67:\n",
    "    output.append(True)\n",
    "else:\n",
    "    output.append(None)\n",
    "\n"
   ]
  },
  {
   "cell_type": "code",
   "execution_count": 2,
   "id": "f023a120",
   "metadata": {},
   "outputs": [
    {
     "data": {
      "text/plain": [
       "[True, None]"
      ]
     },
     "execution_count": 2,
     "metadata": {},
     "output_type": "execute_result"
    }
   ],
   "source": [
    "output"
   ]
  },
  {
   "cell_type": "code",
   "execution_count": 27,
   "id": "f7073d54",
   "metadata": {},
   "outputs": [
    {
     "data": {
      "text/plain": [
       "22653"
      ]
     },
     "execution_count": 27,
     "metadata": {},
     "output_type": "execute_result"
    }
   ],
   "source": [
    "foo = open(\"files/positive_words.txt\", \"r\")\n",
    "num_char = len(foo.read())\n",
    "num_char"
   ]
  },
  {
   "cell_type": "code",
   "execution_count": 28,
   "id": "8a484974",
   "metadata": {},
   "outputs": [],
   "source": [
    "foo.close()"
   ]
  },
  {
   "cell_type": "code",
   "execution_count": 23,
   "id": "71ae7be5",
   "metadata": {},
   "outputs": [
    {
     "data": {
      "text/plain": [
       "'You can apply to SI!'"
      ]
     },
     "execution_count": 23,
     "metadata": {},
     "output_type": "execute_result"
    }
   ],
   "source": [
    "# Write code to assign the string \"You can apply to SI!\" to output\n",
    "# if the string \"SI 106\" is in the list courses.\n",
    "# If it is not in courses, assign the value \"Take SI 106!\" to the variable output.\n",
    "courses = [\"ENGR 101\", \"SI 110\", \"ENG 125\", \"SI 106\", \"CHEM 130\"]\n",
    "if 'SI 106' in courses:\n",
    "    output = \"You can apply to SI!\"\n",
    "else:\n",
    "    output = \"Take SI 106!\"\n",
    "output"
   ]
  },
  {
   "cell_type": "code",
   "execution_count": 27,
   "id": "dd800a76",
   "metadata": {},
   "outputs": [
    {
     "data": {
      "text/plain": [
       "4"
      ]
     },
     "execution_count": 27,
     "metadata": {},
     "output_type": "execute_result"
    }
   ],
   "source": [
    "a = [1, 2, 3, 4]\n",
    "b = enumerate(a)\n",
    "for (count, line) in enumerate(a):\n",
    "    pass\n",
    "count + 1"
   ]
  },
  {
   "cell_type": "code",
   "execution_count": 41,
   "id": "5f139d70",
   "metadata": {},
   "outputs": [
    {
     "data": {
      "text/plain": [
       "{'The': 1,\n",
       " 'dog': 1,\n",
       " 'chased': 1,\n",
       " 'the': 3,\n",
       " 'rabbit': 2,\n",
       " 'into': 1,\n",
       " 'forest': 1,\n",
       " 'but': 1,\n",
       " 'was': 1,\n",
       " 'too': 1,\n",
       " 'quick.': 1}"
      ]
     },
     "execution_count": 41,
     "metadata": {},
     "output_type": "execute_result"
    }
   ],
   "source": [
    "\n",
    "sentence = \"The dog chased the rabbit into the forest but the rabbit was too quick.\"\n",
    "word_counts = {}\n",
    "words = sentence.split()\n",
    "for w in words:\n",
    "    if not w in word_counts:\n",
    "        word_counts[w] = 0\n",
    "    word_counts[w] += 1\n",
    "word_counts"
   ]
  },
  {
   "cell_type": "code",
   "execution_count": null,
   "id": "f43cecc7",
   "metadata": {},
   "outputs": [],
   "source": [
    "medal_events = {'Shooting': 7, 'Fencing': 4, 'Judo': 2, 'Swimming': 3, 'Diving': 2}\n",
    "events = list(medal_events.keys())\n",
    "events"
   ]
  },
  {
   "cell_type": "code",
   "execution_count": 42,
   "id": "877319fd",
   "metadata": {},
   "outputs": [],
   "source": [
    "import requests_with_caching"
   ]
  },
  {
   "cell_type": "code",
   "execution_count": 45,
   "id": "2c49bb1e",
   "metadata": {},
   "outputs": [],
   "source": [
    "??requests_with_caching.get"
   ]
  },
  {
   "cell_type": "markdown",
   "id": "f6a46d95",
   "metadata": {},
   "source": [
    "Read in the contents of the file `SP500.txt` which has monthly data for 2016 and 2017 about the S&P 500 closing prices as well as some other financial indicators, including the \"Long Term Interest Rate\", which is interest rate paid on 10-year U.S. government bonds.\n",
    "\n",
    "Write a program that computes the average closing price (the second column, labeled `SP500`) and the highest long-term interest rate. Both should be computed only for the period from June 2016 through May 2017. Save the results in the variables `mean_SP` and `max_interest`."
   ]
  },
  {
   "cell_type": "code",
   "execution_count": 51,
   "id": "d8c0db86",
   "metadata": {},
   "outputs": [
    {
     "name": "stdout",
     "output_type": "stream",
     "text": [
      "['1/1/2016', '1918.6', '43.55', '86.5', '236.92', '2.09', '2023.23', '45.93', '91.22', '24.21']\n",
      "['2/1/2016', '1904.42', '43.72', '86.47', '237.11', '1.78', '2006.62', '46.06', '91.11', '24']\n",
      "['3/1/2016', '2021.95', '43.88', '86.44', '238.13', '1.89', '2121.32', '46.04', '90.69', '25.37']\n",
      "['4/1/2016', '2075.54', '44.07', '86.6', '239.26', '1.81', '2167.27', '46.02', '90.43', '25.92']\n",
      "['5/1/2016', '2065.55', '44.27', '86.76', '240.23', '1.81', '2148.15', '46.04', '90.23', '25.69']\n",
      "['6/1/2016', '2083.89', '44.46', '86.92', '241.02', '1.64', '2160.13', '46.09', '90.1', '25.84']\n",
      "['7/1/2016', '2148.9', '44.65', '87.64', '240.63', '1.5', '2231.13', '46.36', '91', '26.69']\n",
      "['8/1/2016', '2170.95', '44.84', '88.37', '240.85', '1.56', '2251.95', '46.51', '91.66', '26.95']\n",
      "['9/1/2016', '2157.69', '45.03', '89.09', '241.43', '1.63', '2232.83', '46.6', '92.19', '26.73']\n",
      "['10/1/2016', '2143.02', '45.25', '90.91', '241.73', '1.76', '2214.89', '46.77', '93.96', '26.53']\n",
      "['11/1/2016', '2164.99', '45.48', '92.73', '241.35', '2.14', '2241.08', '47.07', '95.99', '26.85']\n",
      "['12/1/2016', '2246.63', '45.7', '94.55', '241.43', '2.49', '2324.83', '47.29', '97.84', '27.87']\n",
      "['1/1/2017', '2275.12', '45.93', '96.46', '242.84', '2.43', '2340.67', '47.25', '99.24', '28.06']\n",
      "['2/1/2017', '2329.91', '46.15', '98.38', '243.6', '2.42', '2389.52', '47.33', '100.89', '28.66']\n",
      "['3/1/2017', '2366.82', '46.38', '100.29', '243.8', '2.48', '2425.4', '47.53', '102.77', '29.09']\n",
      "['4/1/2017', '2359.31', '46.66', '101.53', '244.52', '2.3', '2410.56', '47.67', '103.74', '28.9']\n",
      "['5/1/2017', '2395.35', '46.94', '102.78', '244.73', '2.3', '2445.29', '47.92', '104.92', '29.31']\n",
      "['6/1/2017', '2433.99', '47.22', '104.02', '244.96', '2.19', '2482.48', '48.16', '106.09', '29.75']\n",
      "['7/1/2017', '2454.1', '47.54', '105.04', '244.79', '2.32', '2504.72', '48.52', '107.21', '30']\n",
      "['8/1/2017', '2456.22', '47.85', '106.06', '245.52', '2.21', '2499.4', '48.69', '107.92', '29.91']\n",
      "['9/1/2017', '2492.84', '48.17', '107.08', '246.82', '2.2', '2523.31', '48.76', '108.39', '30.17']\n",
      "['10/1/2017', '2557', '48.42', '108.01', '246.66', '2.36', '2589.89', '49.05', '109.4', '30.92']\n",
      "['11/1/2017', '2593.61', '48.68', '108.95', '246.67', '2.35', '2626.9', '49.3', '110.35', '31.3']\n",
      "['12/1/2017', '2664.34', '48.93', '109.88', '246.52', '2.4', '2700.13', '49.59', '111.36', '32.09']\n"
     ]
    }
   ],
   "source": [
    "with open('files/SP500.txt', 'r') as f:\n",
    "    lines = f.readlines()[1:]\n",
    "    date, avg_closing_price, int_rate = 0, 1, 5\n",
    "    for line in lines:\n",
    "        line = line.rstrip().split(',')\n",
    "        print(line)"
   ]
  },
  {
   "cell_type": "code",
   "execution_count": 90,
   "id": "379c151d",
   "metadata": {},
   "outputs": [
    {
     "name": "stdout",
     "output_type": "stream",
     "text": [
      "2236.88\n",
      "2.49\n"
     ]
    }
   ],
   "source": [
    "#from datetime import datetime\n",
    "count, mean_SP, max_interest = 0, 0.0, 0.0\n",
    "#in fopp can't use datetime.strptime\n",
    "#start_date = datetime.strptime('6/1/2016', '%d/%m/%Y')\n",
    "#end_date = datetime.strptime('5/1/2017', '%d/%m/%Y')\n",
    "with open('files/SP500.txt', 'r') as f:\n",
    "    lines = f.readlines()[1:]\n",
    "    date_i, sp_i, rate_i = 0, 1, 5\n",
    "    for line in lines:\n",
    "        line = line.rstrip().split(',')\n",
    "#in fopp can't use datetime.strptime\n",
    "#        if start_date <= datetime.strptime(line[date_i], '%d/%m/%Y') <= end_date:\n",
    "        date = line[date_i].split('/')\n",
    "        mo = int(date[0])\n",
    "        yr = int(date[2])\n",
    "        if (yr == 2016 and mo >= 6) or (yr == 2017 and mo <=5):\n",
    "            count += 1\n",
    "            mean_SP += float(line[sp_i])\n",
    "            if float(line[rate_i]) > max_interest:\n",
    "                max_interest = float(line[rate_i])\n",
    "mean_SP = round((mean_SP / count), 2)\n",
    "print(mean_SP)\n",
    "print(max_interest)"
   ]
  },
  {
   "cell_type": "code",
   "execution_count": 62,
   "id": "61812bb8",
   "metadata": {},
   "outputs": [
    {
     "name": "stdout",
     "output_type": "stream",
     "text": [
      "2000-12-12 00:00:00\n"
     ]
    }
   ],
   "source": [
    "from datetime import datetime\n",
    "foo = \"12/12/2000\"\n",
    "print(datetime.strptime(foo, '%d/%m/%Y'))"
   ]
  },
  {
   "cell_type": "markdown",
   "id": "9d5885f1",
   "metadata": {},
   "source": [
    "Write code that uses slicing to get rid of the the second 8 so that here are only two 8’s in the list bound to the variable nums."
   ]
  },
  {
   "cell_type": "code",
   "execution_count": 91,
   "id": "9c4cb0f2",
   "metadata": {},
   "outputs": [
    {
     "data": {
      "text/plain": [
       "[4, 2, 8, 23.4, 9, 545, 9, 1, 234.001, 5, 49, 8, 9, 34, 52, 1, -2, 9.1, 4]"
      ]
     },
     "execution_count": 91,
     "metadata": {},
     "output_type": "execute_result"
    }
   ],
   "source": [
    "nums = [4, 2, 8, 23.4, 8, 9, 545, 9, 1, 234.001, 5, 49, 8, 9 , 34, 52, 1, -2, 9.1, 4]\n",
    "nums = nums[:4] + nums[5:]\n",
    "nums"
   ]
  },
  {
   "cell_type": "markdown",
   "id": "30a154d9",
   "metadata": {},
   "source": [
    "Read in the contents of the file `SP500.txt` which has monthly data for 2016 and 2017 about the S&P 500 closing prices as well as some other financial indicators, including the “Long Term Interest Rate”, which is interest rate paid on 10-year U.S. government bonds.\n",
    "\n",
    "Write a program that computes the average closing price (the second column, labeled `SP500`) and the highest long-term interest rate. Both should be computed only for the period from June 2016 through May 2017. Save the results in the variables `mean_SP` and `max_interest`."
   ]
  },
  {
   "cell_type": "code",
   "execution_count": 132,
   "id": "606de423",
   "metadata": {},
   "outputs": [
    {
     "name": "stdout",
     "output_type": "stream",
     "text": [
      "2.49\n"
     ]
    }
   ],
   "source": [
    "with open('SP500.txt', 'r') as f:\n",
    "# with open('files/SP500.txt', 'r') as f:\n",
    "    lines = f.readlines()\n",
    "    # get index of 'Date', SP500', 'Long Interest Rate' from readlines[0]\n",
    "    titles = lines[0].strip().split(',')\n",
    "    date_i = titles.index('Date')\n",
    "    sp_i = titles.index('SP500')\n",
    "    int_i = titles.index('Long Interest Rate')\n",
    "    # define count (0), mean_SP (0.0), max_interest (0.0)\n",
    "    count, mean_SP, max_interest = 0, 0.0, 0.0\n",
    "    # loop thru readlines[1:]\n",
    "    for l in lines[1:]:\n",
    "        l_array = l.strip().split(',')\n",
    "        # Split date (m/d/yyyy) as int\n",
    "        dmy = l_array[date_i].split('/')\n",
    "        if (int(dmy[2]) == 2016 and int(dmy[0]) >= 6) or (int(dmy[2]) == 2017 and int(dmy[0]) <= 5):\n",
    "            #iterate count\n",
    "            count += 1\n",
    "            # add float SP500 to mean_SP\n",
    "            mean_SP += float(l_array[sp_i])\n",
    "            # reassign max_interest if float Long Interest Rate > max_interest (do as filter)\n",
    "            if (max_interest <= float(l_array[int_i])) : max_interest = float(l_array[int_i]) \n",
    "    # print(count) # => 12\n",
    "    mean_SP = round(mean_SP/count, 2)\n",
    "    print(max_interest)"
   ]
  },
  {
   "cell_type": "markdown",
   "id": "329abe57",
   "metadata": {},
   "source": [
    "Below, we have provided the dictionary `groceries`, whose keys are grocery items, and values are the number of each item that you need to buy at the store. Sort the dictionary’s keys into alphabetical order, and save them as a list called `grocery_keys_sorted`."
   ]
  },
  {
   "cell_type": "code",
   "execution_count": 153,
   "id": "fc11d535",
   "metadata": {},
   "outputs": [
    {
     "data": {
      "text/plain": [
       "['apples',\n",
       " 'bananas',\n",
       " 'carrots',\n",
       " 'cereal',\n",
       " 'coffee',\n",
       " 'granola bars',\n",
       " 'onions',\n",
       " 'orange juice',\n",
       " 'pasta',\n",
       " 'peanut butter',\n",
       " 'popcorn',\n",
       " 'rice',\n",
       " 'salsa',\n",
       " 'spinach']"
      ]
     },
     "execution_count": 153,
     "metadata": {},
     "output_type": "execute_result"
    }
   ],
   "source": [
    "groceries = {'apples': 5, 'pasta': 3, 'carrots': 12, 'orange juice': 2, 'bananas': 8, 'popcorn': 1, 'salsa': 3, 'cereal': 4, 'coffee': 5, 'granola bars': 15, 'onions': 7, 'rice': 1, 'peanut butter': 2, 'spinach': 9}\n",
    "grocery_keys_sorted = sorted(groceries)\n",
    "grocery_keys_sorted"
   ]
  },
  {
   "cell_type": "code",
   "execution_count": 148,
   "id": "f4e6ed9a",
   "metadata": {},
   "outputs": [
    {
     "data": {
      "text/plain": [
       "['apples',\n",
       " 'bananas',\n",
       " 'carrots',\n",
       " 'cereal',\n",
       " 'coffee',\n",
       " 'granola bars',\n",
       " 'onions',\n",
       " 'orange juice',\n",
       " 'pasta',\n",
       " 'peanut butter',\n",
       " 'popcorn',\n",
       " 'rice',\n",
       " 'salsa',\n",
       " 'spinach']"
      ]
     },
     "execution_count": 148,
     "metadata": {},
     "output_type": "execute_result"
    }
   ],
   "source": [
    "groceries = {'apples': 5, 'pasta': 3, 'carrots': 12, 'orange juice': 2, 'bananas': 8, 'popcorn': 1, 'salsa': 3, 'cereal': 4, 'coffee': 5, 'granola bars': 15, 'onions': 7, 'rice': 1, 'peanut butter': 2, 'spinach': 9}\n",
    "grocery_keys_sorted = sorted(groceries)\n",
    "grocery_keys_sorted"
   ]
  },
  {
   "cell_type": "markdown",
   "id": "fcb97470",
   "metadata": {},
   "source": [
    "We have provided the dictionary `groceries`. You should return a list of its keys, but they should be sorted by their values, from highest to lowest. Save the new list as `most_needed`."
   ]
  },
  {
   "cell_type": "code",
   "execution_count": 152,
   "id": "b1ab4f2b",
   "metadata": {},
   "outputs": [
    {
     "data": {
      "text/plain": [
       "['popcorn',\n",
       " 'rice',\n",
       " 'orange juice',\n",
       " 'peanut butter',\n",
       " 'pasta',\n",
       " 'salsa',\n",
       " 'cereal',\n",
       " 'apples',\n",
       " 'coffee',\n",
       " 'onions',\n",
       " 'bananas',\n",
       " 'spinach',\n",
       " 'carrots',\n",
       " 'granola bars']"
      ]
     },
     "execution_count": 152,
     "metadata": {},
     "output_type": "execute_result"
    }
   ],
   "source": [
    "\n",
    "groceries = {'apples': 5, 'pasta': 3, 'carrots': 12, 'orange juice': 2, 'bananas': 8, 'popcorn': 1, 'salsa': 3, 'cereal': 4, 'coffee': 5, 'granola bars': 15, 'onions': 7, 'rice': 1, 'peanut butter': 2, 'spinach': 9}\n",
    "groc_sorted = dict(sorted(groceries.items(), key=lambda x:x[1]))\n",
    "most_needed = list(groc_sorted.keys())\n",
    "most_needed"
   ]
  },
  {
   "cell_type": "code",
   "execution_count": 154,
   "id": "565e05ee",
   "metadata": {},
   "outputs": [
    {
     "name": "stdout",
     "output_type": "stream",
     "text": [
      "[1, 2, 3, 1, 2, 3]\n",
      "['1', '2', '3', '1', '2', '3']\n"
     ]
    }
   ],
   "source": [
    "foo = [1, 2, 3]\n",
    "bar = ['1', '2', '3']\n",
    "print(foo * 2)\n",
    "print(bar * 2)"
   ]
  },
  {
   "cell_type": "code",
   "execution_count": null,
   "id": "f52fe805",
   "metadata": {},
   "outputs": [],
   "source": []
  },
  {
   "cell_type": "code",
   "execution_count": 207,
   "id": "0cf67bd0",
   "metadata": {},
   "outputs": [
    {
     "data": {
      "text/plain": [
       "['focus', 'color', 'title', 'id', 'dimmed', 'blank']"
      ]
     },
     "execution_count": 207,
     "metadata": {},
     "output_type": "execute_result"
    }
   ],
   "source": [
    "master = ['focus', 'color', 'title', 'id']\n",
    "props = master + ['dimmed', 'blank']\n",
    "props"
   ]
  },
  {
   "cell_type": "code",
   "execution_count": 208,
   "id": "0fe8e8ef",
   "metadata": {},
   "outputs": [
    {
     "data": {
      "text/plain": [
       "[('focus', True),\n",
       " ('color', True),\n",
       " ('title', True),\n",
       " ('id', True),\n",
       " ('dimmed', False),\n",
       " ('blank', False)]"
      ]
     },
     "execution_count": 208,
     "metadata": {},
     "output_type": "execute_result"
    }
   ],
   "source": [
    "props = [(p, p in master) for p in props]\n",
    "props"
   ]
  },
  {
   "cell_type": "code",
   "execution_count": 193,
   "id": "18ebefd3",
   "metadata": {},
   "outputs": [
    {
     "name": "stdout",
     "output_type": "stream",
     "text": [
      "<li class=\"property inherited\">focus</li>\n",
      "<li class=\"property inherited\">color</li>\n",
      "<li class=\"property inherited\">title</li>\n",
      "<li class=\"property inherited\">id</li>\n",
      "<li class=\"property\">dimmed</li>\n",
      "<li class=\"property\">blank</li>\n"
     ]
    }
   ],
   "source": [
    "for prop,inh in props:\n",
    "    cl = ''\n",
    "    if inh:\n",
    "        cl = ' inherited'\n",
    "    li = '<li class=\"property{}\">{}</li>'.format(cl,prop)\n",
    "    print(li)"
   ]
  },
  {
   "cell_type": "code",
   "execution_count": 2,
   "id": "ec8625ee",
   "metadata": {},
   "outputs": [
    {
     "name": "stdout",
     "output_type": "stream",
     "text": [
      "37\n"
     ]
    }
   ],
   "source": [
    "addition_str = \"2+5+10+20\"\n",
    "sum_val = 0\n",
    "addition_nums = addition_str.split('+')\n",
    "for n in addition_nums:\n",
    "    sum_val += int(n)\n",
    "print(sum_val)"
   ]
  },
  {
   "cell_type": "code",
   "execution_count": 8,
   "id": "71bfcdf8",
   "metadata": {},
   "outputs": [
    {
     "data": {
      "text/plain": [
       "['hello', 'goodbye', 'peace', 'out', 'while']"
      ]
     },
     "execution_count": 8,
     "metadata": {},
     "output_type": "execute_result"
    }
   ],
   "source": [
    "def beginning(lst):\n",
    "    i = 0\n",
    "    strings = []\n",
    "    while i < len(lst) and lst[i] != 'bye':\n",
    "        if i < 5:\n",
    "            strings.append(lst[i])\n",
    "        i += 1\n",
    "    return strings\n",
    "\n",
    "foo = beginning(['hello', 'goodbye', 'peace', 'out', 'while', 'sleepy', 'awake', 'bye', 'now'])\n",
    "foo"
   ]
  },
  {
   "cell_type": "code",
   "execution_count": 12,
   "id": "301b889d",
   "metadata": {},
   "outputs": [
    {
     "data": {
      "text/plain": [
       "['z',\n",
       " 'w',\n",
       " 'w',\n",
       " 'u',\n",
       " 's',\n",
       " 's',\n",
       " 'n',\n",
       " 'l',\n",
       " 'l',\n",
       " 'l',\n",
       " 'k',\n",
       " 'j',\n",
       " 'i',\n",
       " 'i',\n",
       " 'f',\n",
       " 'e',\n",
       " 'e',\n",
       " 'd',\n",
       " 'a',\n",
       " 'a',\n",
       " 'a',\n",
       " 'a']"
      ]
     },
     "execution_count": 12,
     "metadata": {},
     "output_type": "execute_result"
    }
   ],
   "source": [
    "letters = \"alwnfiwaksuezlaeiajsdl\"\n",
    "sorted_letters = sorted(letters, reverse=True)"
   ]
  },
  {
   "cell_type": "code",
   "execution_count": 20,
   "id": "006dcad9",
   "metadata": {},
   "outputs": [
    {
     "name": "stdout",
     "output_type": "stream",
     "text": [
      "['USA', 'ESP', 'CHN', 'JPN', 'MEX', 'CAN', 'RUS', 'RSA', 'JAM']\n"
     ]
    }
   ],
   "source": [
    "abbrevs = [\"usa\", \"esp\", \"chn\", \"jpn\", \"mex\", \"can\", \"rus\", \"rsa\", \"jam\"]\n",
    "abbrevs_upper = list(map(lambda x : x.upper(), abbrevs))\n",
    "print(abbrevs_upper)"
   ]
  },
  {
   "cell_type": "code",
   "execution_count": 28,
   "id": "58490e7d",
   "metadata": {},
   "outputs": [
    {
     "name": "stdout",
     "output_type": "stream",
     "text": [
      "[1, 2, 3, 4]\n",
      "[1, 2, 3]\n"
     ]
    }
   ],
   "source": [
    "x = [1, 2, 3]\n",
    "y = x\n",
    "x = x + [4]\n",
    "print(x)\n",
    "print(y)"
   ]
  },
  {
   "cell_type": "code",
   "execution_count": 39,
   "id": "e4acc776",
   "metadata": {},
   "outputs": [
    {
     "name": "stdout",
     "output_type": "stream",
     "text": [
      "{'the': 4, 'dog': 1, 'chased': 1, 'rabbit': 2, 'into': 1, 'forest': 1, 'but': 1, 'was': 1, 'too': 1, 'quick.': 1}\n"
     ]
    }
   ],
   "source": [
    "sentence = \"The dog chased the rabbit into the forest but the rabbit was too quick.\"\n",
    "sentence = sentence.lower()\n",
    "words = sentence.split()\n",
    "word_counts = {}\n",
    "for word in words:\n",
    "    if word not in word_counts:\n",
    "        word_counts[word] = 0\n",
    "    word_counts[word] += 1\n",
    "print(word_counts)"
   ]
  },
  {
   "cell_type": "code",
   "execution_count": 42,
   "id": "2e189b2c",
   "metadata": {},
   "outputs": [
    {
     "name": "stdout",
     "output_type": "stream",
     "text": [
      "n\n"
     ]
    }
   ],
   "source": [
    "product = \"iphone and android phones\"\n",
    "lett_d = {}\n",
    "val = 0\n",
    "for char in product:\n",
    "    if char not in lett_d:\n",
    "        lett_d[char] = 0\n",
    "    lett_d[char] += 1\n",
    "    if lett_d[char] > val:\n",
    "        val = lett_d[char]\n",
    "        max_value = char\n",
    "print(max_value)\n"
   ]
  },
  {
   "cell_type": "markdown",
   "id": "9b675b7d",
   "metadata": {},
   "source": [
    "Write code to switch the order of the `winners` list so that it is now A to Z by __last name__. Assign this list to the variable `z_winners`."
   ]
  },
  {
   "cell_type": "code",
   "execution_count": 43,
   "id": "5e2065fb",
   "metadata": {},
   "outputs": [
    {
     "data": {
      "text/plain": [
       "['Kazuo Ishiguro',\n",
       " 'Alice Munro',\n",
       " 'Alvin E. Roth',\n",
       " 'Youyou Tu',\n",
       " 'Rainer Weiss',\n",
       " 'Malala Yousafzai']"
      ]
     },
     "execution_count": 43,
     "metadata": {},
     "output_type": "execute_result"
    }
   ],
   "source": [
    "winners = ['Alice Munro', 'Alvin E. Roth', 'Kazuo Ishiguro', 'Malala Yousafzai', 'Rainer Weiss', 'Youyou Tu']\n",
    "z_winners = sorted(winners, key=lambda w : w.split()[-1])\n",
    "z_winners"
   ]
  },
  {
   "cell_type": "code",
   "execution_count": 45,
   "id": "61d844d6",
   "metadata": {},
   "outputs": [
    {
     "data": {
      "text/plain": [
       "'yz ab'"
      ]
     },
     "execution_count": 45,
     "metadata": {},
     "output_type": "execute_result"
    }
   ],
   "source": [
    "foo = 'ab'\n",
    "bar = 'yz ' + foo\n",
    "bar"
   ]
  },
  {
   "cell_type": "code",
   "execution_count": 50,
   "id": "7ef8c548",
   "metadata": {},
   "outputs": [
    {
     "data": {
      "text/plain": [
       "[('left', 'right'), ('front', 'back')]"
      ]
     },
     "execution_count": 50,
     "metadata": {},
     "output_type": "execute_result"
    }
   ],
   "source": [
    "\n",
    "l1 = ['left', 'up', 'front']\n",
    "l2 = ['right', 'down', 'back']\n",
    "zipped = list(zip(l1, l2))\n",
    "opposites = list(filter(lambda x : len(x[0]) > 3 and len(x[1]) > 3, zipped))\n",
    "opposites"
   ]
  },
  {
   "cell_type": "markdown",
   "id": "857fea60",
   "metadata": {},
   "source": [
    "Write code to determine how many 9’s are in the list nums and assign that value to the variable `how_many`. Do not use a for loop to do this."
   ]
  },
  {
   "cell_type": "code",
   "execution_count": 3,
   "id": "57a9e191",
   "metadata": {},
   "outputs": [
    {
     "data": {
      "text/plain": [
       "3"
      ]
     },
     "execution_count": 3,
     "metadata": {},
     "output_type": "execute_result"
    }
   ],
   "source": [
    "nums = [4, 2, 23.4, 9, 545, 9, 1, 234.001, 5, 49, 8, 9 , 34, 52, 1, -2, 9.1, 4]\n",
    "how_many = nums.count(9)\n",
    "how_many"
   ]
  },
  {
   "cell_type": "markdown",
   "id": "0b3ed498",
   "metadata": {},
   "source": [
    "`addition_str` is a string with a list of numbers separated by the `+` sign. Write code that uses the accumulation pattern to take the sum of all of the numbers and assigns it to `sum_val` (an integer). (You should use the `.split(\"+\")` function to split by `\"+\"` and `int()` to cast to an integer)."
   ]
  },
  {
   "cell_type": "code",
   "execution_count": 4,
   "id": "27a7d8f4",
   "metadata": {},
   "outputs": [
    {
     "data": {
      "text/plain": [
       "37"
      ]
     },
     "execution_count": 4,
     "metadata": {},
     "output_type": "execute_result"
    }
   ],
   "source": [
    "addition_str = \"2+5+10+20\"\n",
    "nums = addition_str.split(\"+\")\n",
    "sum_val = 0\n",
    "for n in nums:\n",
    "    sum_val += int(n)\n",
    "sum_val"
   ]
  },
  {
   "cell_type": "markdown",
   "id": "6ef05572",
   "metadata": {},
   "source": [
    "Create an empty list called `resps`. Using the list `percent_rain`, for each percent, if it is above `90`, add the string `\"Bring an umbrella.\"` to `resps`, otherwise if it is above `80`, add the string `\"Good for the flowers?\"` to `resps`, otherwise if it is above `50`, add the string `\"Watch out for clouds!\"` to `resps`, otherwise, add the string `\"Nice day!\"` to `resps`. Note: if you’re sure you’ve got the problem right but it doesn’t pass, then check that you’ve matched up the strings exactly."
   ]
  },
  {
   "cell_type": "code",
   "execution_count": 5,
   "id": "6f8ff9b1",
   "metadata": {},
   "outputs": [
    {
     "name": "stdout",
     "output_type": "stream",
     "text": [
      "['Bring an umbrella.', 'Nice day!', 'Bring an umbrella.', 'Watch out for clouds!', 'Nice day!', 'Nice day!', 'Watch out for clouds!', 'Good for the flowers?']\n"
     ]
    }
   ],
   "source": [
    "percent_rain = [94.3, 45, 100, 78, 16, 5.3, 79, 86]\n",
    "resps = []\n",
    "for p in percent_rain:\n",
    "    if p > 90:\n",
    "        resps.append(\"Bring an umbrella.\")\n",
    "    elif p > 80:\n",
    "        resps.append(\"Good for the flowers?\")\n",
    "    elif p > 50:\n",
    "        resps.append(\"Watch out for clouds!\")\n",
    "    else:\n",
    "        resps.append(\"Nice day!\")\n",
    "print(resps)"
   ]
  },
  {
   "cell_type": "code",
   "execution_count": 12,
   "id": "6be248d3",
   "metadata": {},
   "outputs": [
    {
     "name": "stdout",
     "output_type": "stream",
     "text": [
      "['China', 'England', 'Brazil', 'Japan']\n"
     ]
    }
   ],
   "source": [
    "tuples_lst = [('Beijing', 'China', 2008), ('London', 'England', 2012), ('Rio', 'Brazil', 2016, 'Current'), ('Tokyo', 'Japan', 2020, 'Future')]\n",
    "country = []\n",
    "for t in tuples_lst:\n",
    "    country.append(t[1])\n",
    "print(country)"
   ]
  },
  {
   "cell_type": "code",
   "execution_count": 14,
   "id": "e7a50e16",
   "metadata": {},
   "outputs": [],
   "source": [
    "water,fire,electric,grass = 'Squirtle','Charmander','Pikachu','Bulbasaur'\n"
   ]
  },
  {
   "cell_type": "markdown",
   "id": "4f2177b7",
   "metadata": {},
   "source": [
    "Create a function called `last_four` that takes in a single ID number and returns the last four digits. For example, the number `17573005` should return `3005`. Then, use the resulting function to sort the list of ids stored in the variable, `ids`, from lowest to highest. Save this sorted list in the variable, `sorted_ids`. Hint: Remember that only strings can be indexed, so conversions may be needed."
   ]
  },
  {
   "cell_type": "code",
   "execution_count": 32,
   "id": "f1857fe4",
   "metadata": {},
   "outputs": [
    {
     "name": "stdout",
     "output_type": "stream",
     "text": [
      "[17573005, 17572342, 17579000, 17570002, 17572345, 17579329]\n",
      "<class 'NoneType'>\n",
      "[17570002, 17572342, 17572345, 17573005, 17579000, 17579329]\n",
      "[17570002, 17572342, 17572345, 17573005, 17579000, 17579329]\n"
     ]
    }
   ],
   "source": [
    "def last_four(x):\n",
    "    four = str(x)[-4:]\n",
    "    return int(four)\n",
    "\n",
    "ids = [17573005, 17572342, 17579000, 17570002, 17572345, 17579329]\n",
    "print(ids)\n",
    "print(type(ids.sort(key=last_four)))\n",
    "sorted_ids = ids\n",
    "print(ids)\n",
    "print(sorted_ids)"
   ]
  },
  {
   "cell_type": "code",
   "execution_count": 18,
   "id": "7e4e26a6",
   "metadata": {},
   "outputs": [
    {
     "data": {
      "text/plain": [
       "3005"
      ]
     },
     "execution_count": 18,
     "metadata": {},
     "output_type": "execute_result"
    }
   ],
   "source": [
    "last_four(17573005)"
   ]
  },
  {
   "cell_type": "code",
   "execution_count": 28,
   "id": "25fd9601",
   "metadata": {},
   "outputs": [
    {
     "data": {
      "text/plain": [
       "'2345'"
      ]
     },
     "execution_count": 28,
     "metadata": {},
     "output_type": "execute_result"
    }
   ],
   "source": [
    "foo = str(12345)\n",
    "foo[-4:]"
   ]
  },
  {
   "cell_type": "code",
   "execution_count": 36,
   "id": "7b5bad32",
   "metadata": {},
   "outputs": [
    {
     "data": {
      "text/plain": [
       "80.67142857142858"
      ]
     },
     "execution_count": 36,
     "metadata": {},
     "output_type": "execute_result"
    }
   ],
   "source": [
    "\n",
    "week_temps_f = \"75.1,77.7,83.2,82.5,81.0,79.5,85.7\"\n",
    "temps = week_temps_f.split(',')\n",
    "temps = list(map(lambda t:float(t), temps))\n",
    "avg_temp = sum(temps)/len(temps)\n",
    "print(avg_temp)"
   ]
  },
  {
   "cell_type": "code",
   "execution_count": 37,
   "id": "30878b12",
   "metadata": {},
   "outputs": [
    {
     "name": "stdout",
     "output_type": "stream",
     "text": [
      "n\n"
     ]
    }
   ],
   "source": [
    "sally = \"sally sells sea shells by the sea shore and by the road\"\n",
    "characters = {}\n",
    "worst_char = sally[0]\n",
    "for ch in sally:\n",
    "    if ch not in characters:\n",
    "        characters[ch] = 0\n",
    "    characters[ch] += 1\n",
    "for ch, amt in characters.items():\n",
    "    if amt < characters[worst_char]:\n",
    "        worst_char = ch\n",
    "print(worst_char)"
   ]
  },
  {
   "cell_type": "markdown",
   "id": "99044fca",
   "metadata": {},
   "source": [
    "Sort the following list by each element’s second letter a to z. Do so by using `lambda`. Assign the resulting value to the variable `lambda_sort`."
   ]
  },
  {
   "cell_type": "code",
   "execution_count": 38,
   "id": "b1048034",
   "metadata": {},
   "outputs": [
    {
     "name": "stdout",
     "output_type": "stream",
     "text": [
      "['dance', 'zebra', 'hi', 'how are you', 'apple', 'bye']\n"
     ]
    }
   ],
   "source": [
    "ex_lst = ['hi', 'how are you', 'bye', 'apple', 'zebra', 'dance']\n",
    "lambda_sort = sorted(ex_lst, reverse=False, key=(lambda el: el[1]))\n",
    "print(lambda_sort)"
   ]
  },
  {
   "cell_type": "markdown",
   "id": "5a969a49",
   "metadata": {},
   "source": [
    "Sort the following dictionary’s keys based on the value from highest to lowest. Assign the resulting value to the variable `sorted_values`."
   ]
  },
  {
   "cell_type": "code",
   "execution_count": 40,
   "id": "d645f051",
   "metadata": {},
   "outputs": [
    {
     "name": "stdout",
     "output_type": "stream",
     "text": [
      "['Trees', 'Lights', 'Flowers', 'Chairs', 'Grill', 'Firepit']\n"
     ]
    }
   ],
   "source": [
    "dictionary = {\"Flowers\": 10, 'Trees': 20, 'Chairs': 6, \"Firepit\": 1, 'Grill': 2, 'Lights': 14}\n",
    "sorted_values = sorted(dictionary, reverse=True, key=(lambda k:dictionary[k]))\n",
    "print(sorted_values)"
   ]
  },
  {
   "cell_type": "code",
   "execution_count": 43,
   "id": "177ebcb1",
   "metadata": {},
   "outputs": [
    {
     "name": "stdout",
     "output_type": "stream",
     "text": [
      "['watermelon', 'kiwi', 'strawberries']\n"
     ]
    }
   ],
   "source": [
    "lst_check = ['plums', 'watermelon', 'kiwi', 'strawberries', 'blueberries', 'peaches', 'apples', 'mangos', 'papaya']\n",
    "filter_testing = list(filter(lambda el:'w' in el, lst_check))\n",
    "print(filter_testing)"
   ]
  },
  {
   "cell_type": "code",
   "execution_count": 49,
   "id": "5d05130e",
   "metadata": {},
   "outputs": [
    {
     "name": "stdout",
     "output_type": "stream",
     "text": [
      "[{'Library Data': {'count': 3500, 'rows': 10, 'locations': 3}}, {'Movie Theater Data': {'count': 8, 'rows': 25, 'locations': 2}}]\n"
     ]
    }
   ],
   "source": [
    "import json\n",
    "entertainment = \"\"\"[{\"Library Data\": {\"count\": 3500, \"rows\": 10, \"locations\": 3}}, {\"Movie Theater Data\": {\"count\": 8, \"rows\": 25, \"locations\": 2}}]\"\"\"\n",
    "print(json.loads(entertainment))"
   ]
  },
  {
   "cell_type": "markdown",
   "id": "fe0eed31",
   "metadata": {},
   "source": [
    "Below, we have provided a `species` list and a `population` list. Use `zip` to combine these lists into one list of tuples called `pop_info`. From this list, create a new list called `endangered` that contains the names of species whose populations are below `2500`."
   ]
  },
  {
   "cell_type": "code",
   "execution_count": 55,
   "id": "db515856",
   "metadata": {},
   "outputs": [
    {
     "name": "stdout",
     "output_type": "stream",
     "text": [
      "['black rhino', 'orangutan', 'sumatran elephant', 'blue whale', 'giant panda', 'green turtle']\n"
     ]
    }
   ],
   "source": [
    "species = ['golden retriever', 'white tailed deer', 'black rhino', 'brown squirrel', 'field mouse', 'orangutan', 'sumatran elephant', 'rainbow trout', 'black bear', 'blue whale', 'water moccasin', 'giant panda', 'green turtle', 'blue jay', 'japanese beetle']\n",
    "population = [10000, 90000, 1000, 2000000, 500000, 500, 1200, 8000, 12000, 2300, 7500, 100, 1800, 9500, 125000]\n",
    "pop_info=list(zip(species, population))\n",
    "endangered = [l[0] for l in pop_info if l[1] < 2500]\n",
    "print(endangered)"
   ]
  },
  {
   "cell_type": "code",
   "execution_count": 58,
   "id": "fa06679e",
   "metadata": {},
   "outputs": [
    {
     "name": "stdout",
     "output_type": "stream",
     "text": [
      "ab_ra_ca_dab_ra\n",
      "abracadabra\n"
     ]
    }
   ],
   "source": [
    "magic = ['ab','ra','ca','dab','ra']\n",
    "print('_'.join(magic))\n",
    "print(''.join(magic))"
   ]
  },
  {
   "cell_type": "code",
   "execution_count": null,
   "id": "ecf0d961",
   "metadata": {},
   "outputs": [],
   "source": []
  }
 ],
 "metadata": {
  "kernelspec": {
   "display_name": "Python 3 (ipykernel)",
   "language": "python",
   "name": "python3"
  },
  "language_info": {
   "codemirror_mode": {
    "name": "ipython",
    "version": 3
   },
   "file_extension": ".py",
   "mimetype": "text/x-python",
   "name": "python",
   "nbconvert_exporter": "python",
   "pygments_lexer": "ipython3",
   "version": "3.8.11"
  }
 },
 "nbformat": 4,
 "nbformat_minor": 5
}
