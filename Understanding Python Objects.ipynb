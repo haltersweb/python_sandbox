{
 "cells": [
  {
   "cell_type": "code",
   "execution_count": null,
   "id": "2cb18c70",
   "metadata": {},
   "outputs": [],
   "source": [
    "# From Knowledgefest fall 2021"
   ]
  },
  {
   "cell_type": "markdown",
   "id": "7d2f63e9",
   "metadata": {},
   "source": [
    "# Understanding Python Objects\n",
    "## Object terminology\n",
    "---\n",
    "### Class\n",
    "\n",
    "* Blueprint for an object\n",
    "* data and methods are tied together\n",
    "\n",
    "example: Class is like a house blueprint\n",
    "\n",
    "### Object\n",
    "\n",
    "* Instance of a class\n",
    "* class type defines attributes and behaviors\n",
    "\n",
    "example: house blueprint can be used to create lots of different houses\n",
    "\n",
    "### Attribute\n",
    "\n",
    "* data describing an object or instance\n",
    "\n",
    "example: roof, foundation, floors, siding, windows\n",
    "\n",
    "### Methods\n",
    "\n",
    "* behaviors of a class\n",
    "* also known as functions or operations\n",
    "\n",
    "example:"
   ]
  },
  {
   "cell_type": "markdown",
   "id": "6ac9b4f2",
   "metadata": {},
   "source": [
    "## Attributes\n",
    "\n",
    "Attributes at the class level and attributes at the instance level\n",
    "\n",
    "### Class Attribute -- of the class\n",
    "\n",
    "__example:__ House.floors = 2\n",
    "\n",
    "### Instance attribute -- of a class instantiation\n",
    "\n",
    "__example:__ colonial.windows\n",
    "\n",
    "__example:__ rancher.windows\n",
    "\n",
    "## Constructor function \\_\\_init\\_\\_\n",
    "\n",
    "### \\_\\_init\\_\\_(self, foo, bar)\n",
    "\n",
    "init is the function which is run when the instance is being created\n",
    "\n",
    "### self\n",
    "\n",
    "* self is the instance of the class, not the class itself\n",
    "* use dot notation (i.e. self.yada) to define the class' attributes and methods.\n",
    "* then you can call the attributes and methods (i.e. foo.yada)\n",
    "\n",
    "self.yada means these attributes will be __defined by the current instance__ of the object\n",
    "\n",
    "example from code below:\n",
    "* floors is owned by the class\n",
    "* windows and doors (self.windows and self.doors) are owned by the instance created from this class"
   ]
  },
  {
   "cell_type": "code",
   "execution_count": 37,
   "id": "7944f7e1",
   "metadata": {},
   "outputs": [],
   "source": [
    "class House :\n",
    "    \n",
    "    # class attribute\n",
    "    sump_pump = 0\n",
    "    \n",
    "    # the constructor function\n",
    "    def __init__(self, win, doors):\n",
    "        # instance attributes\n",
    "        # will be passed in as parameters during instantiation\n",
    "        self.windows = win\n",
    "        self.doors = doors\n",
    "        \n",
    "# instantiation\n",
    "colonial = House(12, 8)\n",
    "rancher = House(10, 5)"
   ]
  },
  {
   "cell_type": "code",
   "execution_count": 39,
   "id": "eef6e338",
   "metadata": {},
   "outputs": [
    {
     "name": "stdout",
     "output_type": "stream",
     "text": [
      "number of sump pumps required in colonial by law: 0\n",
      "number of sump pumps required in rancher by law: 0\n"
     ]
    }
   ],
   "source": [
    "print (\"number of sump pumps required in colonial by law: \" + str(colonial.sump_pump))\n",
    "print (\"number of sump pumps required in rancher by law: \" + str(rancher.sump_pump))"
   ]
  },
  {
   "cell_type": "code",
   "execution_count": 40,
   "id": "85aa9eb9",
   "metadata": {},
   "outputs": [
    {
     "name": "stdout",
     "output_type": "stream",
     "text": [
      "number of windows in colonial: 12\n",
      "number of windows in rancher: 10\n"
     ]
    }
   ],
   "source": [
    "print (\"number of windows in colonial: \" + str(colonial.windows))\n",
    "print (\"number of windows in rancher: \" + str(rancher.windows))"
   ]
  },
  {
   "cell_type": "markdown",
   "id": "fc220399",
   "metadata": {},
   "source": [
    "## Namespaces\n",
    "---\n",
    "* Namespaces are where values live\n",
    "* Namespaces are dictionary objects.  Attribute name is a key.\n",
    "* Therefore, dot notation is used to call attribute or function object.\n",
    "* Namespaces insure there are no clashes when objects happen to have like names.\n",
    "* created and maintained with dictionary object\n",
    "* classes and instances have their own unique name spaces\n",
    "\n",
    "### Changing class attributes\n",
    "\n",
    "* Change at class level so all instances are updated.  The attribute is in the class namespace.\n",
    "* Changing at instance level creates an instance attribute that won't update when class attribute is updated. \n",
    "\n",
    "### Hierarchy of namespace\n",
    "* looks in the instance dictionary first\n",
    "* moves up the namespace hierarchy (i.e. class) if can't find the key"
   ]
  },
  {
   "cell_type": "code",
   "execution_count": 44,
   "id": "7ab2c929",
   "metadata": {},
   "outputs": [
    {
     "name": "stdout",
     "output_type": "stream",
     "text": [
      "number of sump pumps in all houses has been changed to: 1\n",
      "number of sump pumps in colonial is now: 1\n",
      "but the number of sump pumps in rancher is: 2\n"
     ]
    }
   ],
   "source": [
    "# class designation\n",
    "House.sump_pump = 1 # for example, the required sump pump law had changed\n",
    "\n",
    "# instance designation\n",
    "rancher.sump_pump = 2\n",
    "\n",
    "print(\"number of sump pumps in all houses has been changed to: \" + str(House.sump_pump))\n",
    "print(\"number of sump pumps in colonial is now: \" + str(colonial.sump_pump))\n",
    "print(\"but the number of sump pumps in rancher is: \" + str(rancher.sump_pump))"
   ]
  },
  {
   "cell_type": "code",
   "execution_count": 45,
   "id": "fd139054",
   "metadata": {},
   "outputs": [
    {
     "name": "stdout",
     "output_type": "stream",
     "text": [
      "colonial's \u001b[1mclass namespace value\u001b[0m for sump_pump: \u001b[1m1\u001b[0m\n",
      "rancher's \u001b[1mclass namespace value\u001b[0m for sump_pump: \u001b[1m1\u001b[0m\n"
     ]
    }
   ],
   "source": [
    "# look in the instance's class namespace\n",
    "# even though number of sump pumps in class namespace for colonial and rancher match House\n",
    "print(f\"colonial's \\033[1mclass namespace value\\033[0m for sump_pump: \\033[1m{colonial.__class__.__dict__['sump_pump']}\\033[0m\")\n",
    "print(f\"rancher's \\033[1mclass namespace value\\033[0m for sump_pump: \\033[1m{rancher.__class__.__dict__['sump_pump']}\\033[0m\")"
   ]
  },
  {
   "cell_type": "code",
   "execution_count": 58,
   "id": "1e29777f",
   "metadata": {},
   "outputs": [
    {
     "name": "stdout",
     "output_type": "stream",
     "text": [
      "The key \"sump_pump\" was not found in colonial's instance dictionary\n",
      "In rancher's \u001b[1minstance namespace\u001b[0m has key:value pair \"sump_pump\":2\n"
     ]
    }
   ],
   "source": [
    "# look in the instance's namespace\n",
    "try:\n",
    "    print(f\"In colonial's \\033[1minstance namespace\\033[0m has key:value pair \\\"sump_pump\\\":{colonial.__dict__['sump_pump']}\")\n",
    "except:\n",
    "    print(\"The key \\\"sump_pump\\\" was not found in colonial's instance dictionary\")\n",
    "\n",
    "try:\n",
    "    print(f\"In rancher's \\033[1minstance namespace\\033[0m has key:value pair \\\"sump_pump\\\":{rancher.__dict__['sump_pump']}\")\n",
    "except:\n",
    "    print(\"The key \\\"sump_pump\\\" was not found in rancher's instance dictionary\")\n",
    "    "
   ]
  },
  {
   "cell_type": "markdown",
   "id": "c98bc06f",
   "metadata": {},
   "source": [
    "## Private Python attributes\n",
    "---\n",
    "* No true private attributes in Python. They are not hidden.\n",
    "* Syntactical solution: add leading underscore (\"-\") to indicate that these class objects are private.\n",
    "* This flags them that they should not be used outside the class\n",
    "* Warning: The syntax isn't enforced.  I can still reference the private class attributes and methods outside of the class.\n",
    "\n",
    "example: foo = \"yada\"\n",
    "example: self.\\_bar = 3"
   ]
  },
  {
   "cell_type": "code",
   "execution_count": 64,
   "id": "b23a3328",
   "metadata": {},
   "outputs": [
    {
     "name": "stdout",
     "output_type": "stream",
     "text": [
      "709 Woodfield Rd\n"
     ]
    }
   ],
   "source": [
    "class Adinas_Address :\n",
    "    \n",
    "    def __init__(self, street, city, state, zipcode):\n",
    "        self._street = street\n",
    "        self._city = city\n",
    "        self._state = state\n",
    "        self._zipcode = zipcode\n",
    "\n",
    "    \n",
    "my_addr = Adinas_Address(\"709 Woodfield Rd\", \"Villanova\", \"PA\", \"19085\")\n",
    "\n",
    "# But I still can still reference the \"private\" attribute\n",
    "print(my_addr._street)\n"
   ]
  },
  {
   "cell_type": "markdown",
   "id": "32dce532",
   "metadata": {},
   "source": [
    "### Getters and setters\n",
    "\n",
    "* One benefit: ensures data encapsulation\n",
    "* Proides a method for access to these \"private\" objects\n",
    "* Class' omission of setters indicates these attributes/methods should be considered immutable."
   ]
  },
  {
   "cell_type": "code",
   "execution_count": 88,
   "id": "3b3ab03e",
   "metadata": {},
   "outputs": [
    {
     "name": "stdout",
     "output_type": "stream",
     "text": [
      "My address in 2009 was 622 Hamilton Street, Collegeville, PA\n",
      "changed street\n",
      "changed city\n",
      "changed year\n",
      "My address in 2021 is: 709 Woodfield Road, Villanova, PA\n"
     ]
    }
   ],
   "source": [
    "class Address :\n",
    "    \n",
    "    def __init__(self, street, city, state, year):\n",
    "        # no \"_\" denotes mutable, public.\n",
    "        self.year = year\n",
    "        \n",
    "        # initial \"_\" character denotes immutable, not available to access\n",
    "        self._street = street # private\n",
    "        self._city = city # private\n",
    "        self._state = state # private\n",
    "\n",
    "    #getters for street, city, and state\n",
    "    def get_street(self):\n",
    "        return self._street\n",
    "    \n",
    "    def get_city(self):\n",
    "        return self._city\n",
    "    \n",
    "    def get_state(self):\n",
    "        return self._state\n",
    "    \n",
    "    #setters - to \"allow\" them to change street and city, not state.\n",
    "    def set_street(self, street):\n",
    "        self._street = street\n",
    "        \n",
    "    def set_city(self, city):\n",
    "        self._city = city\n",
    "    \n",
    "    # What about street?\n",
    "    # Not private. They are welcom to change year directly.\n",
    "\n",
    "cur_addr = Address(\"622 Hamilton Street\", \"Collegeville\", \"PA\", \"2009\")\n",
    "\n",
    "print(\"My address in {} was {}, {}, {}\".format(cur_addr.year, cur_addr.get_street(), cur_addr.get_city(), cur_addr.get_state()))\n",
    "\n",
    "cur_addr.set_street(\"709 Woodfield Road\")\n",
    "print(\"changed street\")\n",
    "cur_addr.set_city(\"Villanova\")\n",
    "print(\"changed city\")\n",
    "cur_addr.year = \"2021\" # mutable. didn't need a setter\n",
    "print(\"changed year\")\n",
    "\n",
    "print(\"My address in {} is: {}, {}, {}\".format(cur_addr.year, cur_addr.get_street(), cur_addr.get_city(), cur_addr.get_state()))\n"
   ]
  },
  {
   "cell_type": "markdown",
   "id": "353c4e27",
   "metadata": {},
   "source": [
    "## Types of class methods\n",
    "---\n",
    "### Instance type\n",
    "* They are owned by the instance\n",
    "* __\\_\\_init\\_\\___ is the default instance method\n",
    "* __self__ is always the first parameter (__self__ is the reference to the instance)\n",
    "* They have access to everything owned by the class \n",
    "* They can modify instance attributes\n",
    "* They can call other instance methods\n",
    "\n",
    "__Example code__\n",
    "\n",
    "The example code below has the following two instance methods:\n",
    "* \\_\\_init\\_\\_()\n",
    "* select_size()"
   ]
  },
  {
   "cell_type": "code",
   "execution_count": 132,
   "id": "3e9b898a",
   "metadata": {},
   "outputs": [
    {
     "name": "stdout",
     "output_type": "stream",
     "text": [
      "Flavor is strawberry\n",
      "Requested toppings are sprinkles, fudge\n",
      "Size is medium\n"
     ]
    }
   ],
   "source": [
    "class Sundae:\n",
    "    \n",
    "    available_sizes = [\"small\", \"medium\", \"large\"]\n",
    "    \n",
    "    def __init__(self, ice_cream_flavor, *toppings):\n",
    "        self.ice_cream_flavor = ice_cream_flavor\n",
    "        self.toppings = toppings\n",
    "        # assign selected_size a default size by:\n",
    "        # taking next() of iterator version of available_sizes\n",
    "        # which returns the first size in available_sizes list\n",
    "        self.selected_size = next(iter(self.available_sizes))\n",
    "        \n",
    "    def select_size(self, size):\n",
    "        # only assign selected_size as requested size if it is one of the available sizes\n",
    "        # otherwise selected_size is the default size of \"small\"\n",
    "        if size in self.available_sizes:\n",
    "            self.selected_size = size\n",
    "\n",
    "# create this test instance if I am running this code directly from\n",
    "# this file rather than as an import\n",
    "if __name__ == \"__main__\":\n",
    "    sundae = Sundae(\"strawberry\", \"sprinkles\", \"fudge\")\n",
    "    sundae.select_size(\"medium\")\n",
    "    \n",
    "    print(\"Flavor is \" + sundae.ice_cream_flavor)\n",
    "\n",
    "    toppings = \"Requested toppings are\"\n",
    "    for topping in sundae.toppings:\n",
    "        toppings = toppings + \" \" + topping + \",\"\n",
    "    print(toppings[:-1]) # print without final \",\"\n",
    "\n",
    "    print(\"Size is \" + sundae.selected_size)"
   ]
  },
  {
   "cell_type": "markdown",
   "id": "f1f4c471",
   "metadata": {},
   "source": [
    "### Class type\n",
    "* Always start with @classmethod decorator \\*\n",
    "* __cls__ is always the first parameter (__cls__ is the reference to the class)\n",
    "* Are owned by the class\n",
    "* Can modify class attributes\n",
    "* Can call other class methods\n",
    "\n",
    "\\* *A decorator takes in a function, adds some functionality and returns it. It extends function behavior without actually changing any of the code.* \n",
    "\n",
    "__Example code__\n",
    "\n",
    "The example code below has the following three class methods:\n",
    "* change_available_sizes()\n",
    "* hot_fudge_sundae()\n",
    "* brownie_sundae()"
   ]
  },
  {
   "cell_type": "code",
   "execution_count": 163,
   "id": "f312a1b6",
   "metadata": {},
   "outputs": [
    {
     "name": "stdout",
     "output_type": "stream",
     "text": [
      "My sundae flavor is strawberry\n",
      "My sundae size is x-large\n",
      "\n",
      "Your sundae flavor is rocky road\n",
      "Your sundae size is small\n",
      "Your sundae toppings are ('reese pieces', 'caramel sauce')\n",
      "\n",
      "Jonathan's hot fudge sundae size is x-large\n",
      "\n",
      "Lydia's brownie sundae ice cream is vanilla\n"
     ]
    }
   ],
   "source": [
    "class Sundae:\n",
    "    \n",
    "    available_sizes = [\"small\", \"medium\", \"large\"]\n",
    "    def __init__(self, ice_cream_flavor, *toppings):\n",
    "        self.ice_cream_flavor = ice_cream_flavor\n",
    "        self.toppings = toppings\n",
    "        self.selected_size = next(iter(self.available_sizes))\n",
    "    def select_size(self, size):\n",
    "        if size in self.available_sizes:\n",
    "            self.selected_size = size\n",
    "            \n",
    "    @classmethod\n",
    "    def change_available_sizes(cls, newSizes):\n",
    "        cls.available_sizes = newSizes \n",
    "\n",
    "    @classmethod\n",
    "    def hot_fudge_sundae(cls):\n",
    "        return cls(\"vanilla\", \"hot fudge\", \"whipped cream\", \"cherry\")\n",
    "    \n",
    "    @classmethod\n",
    "    def brownie_sundae(cls):\n",
    "        return Sundae(\"vanilla\", \"brownie\", \"chocolate sauce\", \"whipped cream\", \"cherry\")\n",
    "        # notice I returned \"Sundae() rather than cls() since they are synonymous\n",
    "\n",
    "# create this test instance if I am running this code directly from\n",
    "# this file rather than as an import\n",
    "if __name__ == \"__main__\":\n",
    "    # make a sundae\n",
    "    sundae = Sundae(\"strawberry\", \"sprinkles\")\n",
    "    \n",
    "    # replace the Sundae class with new sizes (for all instances)\n",
    "    Sundae.change_available_sizes([\"small\", \"medium\", \"large\", \"x-large\"])\n",
    "\n",
    "    # change my sundae to extra large\n",
    "    sundae.select_size(\"x-large\")\n",
    "\n",
    "    # make another sundae\n",
    "    your_sundae = Sundae(\"rocky road\", \"reese pieces\", \"caramel sauce\")\n",
    "    \n",
    "    # make a hot fudge sundae\n",
    "    my_fudgie = Sundae.hot_fudge_sundae()\n",
    "    \n",
    "    #make a brownie sundae\n",
    "    my_fudgie.select_size(\"x-large\")\n",
    "    my_brownie = Sundae.brownie_sundae()\n",
    "    \n",
    "    print(\"My sundae flavor is \" + sundae.ice_cream_flavor)\n",
    "    print(\"My sundae size is \" + sundae.selected_size)\n",
    "    print(\"\")\n",
    "    print(\"Your sundae flavor is \" + your_sundae.ice_cream_flavor)\n",
    "    print(\"Your sundae size is \" + your_sundae.selected_size)\n",
    "    print(\"Your sundae toppings are \" + str(your_sundae.toppings))\n",
    "    print(\"\")\n",
    "    print(\"Jonathan's hot fudge sundae size is \" + str(my_fudgie.selected_size))\n",
    "    print(\"\")\n",
    "    print(\"Lydia's brownie sundae ice cream is \" + my_brownie.ice_cream_flavor)\n",
    "    "
   ]
  },
  {
   "cell_type": "markdown",
   "id": "b87066ef",
   "metadata": {},
   "source": [
    "### Static type\n",
    "* Most restricted method type\n",
    "* No required parameters such as self or cls.  No association with the class other than it's in the class' namespace\n",
    "* Called with the class name (i.e. Sundae.) as its designator rather than instance name\n",
    "* Owned by the class\n",
    "* Can't modify class attributes or methods\n",
    "* Assignment of method to a namespace"
   ]
  },
  {
   "cell_type": "code",
   "execution_count": 171,
   "id": "6fa8edd3",
   "metadata": {},
   "outputs": [
    {
     "name": "stdout",
     "output_type": "stream",
     "text": [
      "Calorie count for my extra large sundae is 1000\n"
     ]
    }
   ],
   "source": [
    "class Sundae:\n",
    "    \n",
    "    available_sizes = [\"small\", \"medium\", \"large\"]\n",
    "    def __init__(self, ice_cream_flavor, *toppings):\n",
    "        self.ice_cream_flavor = ice_cream_flavor\n",
    "        self.toppings = toppings\n",
    "        self.selected_size = next(iter(self.available_sizes))\n",
    "    def select_size(self, size):\n",
    "        if size in self.available_sizes:\n",
    "            self.selected_size = size\n",
    "    @classmethod\n",
    "    def change_available_sizes(cls, newSizes):\n",
    "        cls.available_sizes = newSizes \n",
    "    @classmethod\n",
    "    def hot_fudge_sundae(cls):\n",
    "        return cls(\"vanilla\", \"hot fudge\", \"whipped cream\", \"cherry\")\n",
    "    @classmethod\n",
    "    def brownie_sundae(cls):\n",
    "        return Sundae(\"vanilla\", \"brownie\", \"chocolate sauce\", \"whipped cream\", \"cherry\")\n",
    "    \n",
    "    @staticmethod\n",
    "    def calculate_calories(sundae):\n",
    "        calorie_count = 250 # base calories for small\n",
    "        # calculate calorie count\n",
    "        for size in available_sizes:\n",
    "            if sundae.selected_size == size:\n",
    "                break\n",
    "            calorie_count += 250\n",
    "        return calorie_count\n",
    "    \n",
    "if __name__ == \"__main__\":\n",
    "    Sundae.change_available_sizes([\"small\", \"medium\", \"large\", \"x-large\"])\n",
    "    sundae = Sundae(\"strawberry\", \"sprinkles\")\n",
    "    sundae.select_size(\"x-large\")\n",
    "    my_fudgie = Sundae.hot_fudge_sundae()\n",
    "    \n",
    "    print(f\"Calorie count for my extra large sundae is {Sundae.calculate_calories(sundae)}\")\n",
    "    "
   ]
  },
  {
   "cell_type": "markdown",
   "id": "db8335f5",
   "metadata": {},
   "source": [
    "## Inheritance\n",
    "---\n",
    "Allows for a derived class to have the same attributes and operations as a parent class\n",
    "\n",
    "### Benefits\n",
    "* represents real-world relationships (i.e. Employee and Customer are both a Person)\n",
    "* reusability of code\n",
    "* extends class' features without changing it\n",
    "* transitive (i.e. Engineer -> Employee -> Person then Engineer has all features of both Employee and Person classes)\n",
    "\n",
    "*(FYI, Python also allows for multiple inheritance using `class FooBar(Class1, Class2) : ...` see https://youtu.be/zVFLBfqV-q0 for an example)*\n",
    "\n",
    "### \\_\\_str\\_\\_()\n",
    "\n",
    "This is how you build a string representation of your object.\n",
    "\n",
    "It's what you would see if you tried to print() the object\n",
    "\n",
    "### \\_\\_repr\\_\\_()\n",
    "\n",
    "This is what you see when you inspect variables in a Python interactive editor"
   ]
  },
  {
   "cell_type": "code",
   "execution_count": 203,
   "id": "dc2766f2",
   "metadata": {},
   "outputs": [
    {
     "ename": "NameError",
     "evalue": "name 'Student' is not defined",
     "output_type": "error",
     "traceback": [
      "\u001b[0;31m---------------------------------------------------------------------------\u001b[0m",
      "\u001b[0;31mNameError\u001b[0m                                 Traceback (most recent call last)",
      "\u001b[0;32m/var/folders/bq/fvvldy095vz80qbkf7d8zz2h0000gp/T/ipykernel_16053/3113291727.py\u001b[0m in \u001b[0;36m<module>\u001b[0;34m\u001b[0m\n\u001b[1;32m     40\u001b[0m         \u001b[0;32mreturn\u001b[0m \u001b[0mstr\u001b[0m\u001b[0;34m(\u001b[0m\u001b[0mobjRepr\u001b[0m\u001b[0;34m)\u001b[0m\u001b[0;34m\u001b[0m\u001b[0;34m\u001b[0m\u001b[0m\n\u001b[1;32m     41\u001b[0m \u001b[0;34m\u001b[0m\u001b[0m\n\u001b[0;32m---> 42\u001b[0;31m \u001b[0;32mclass\u001b[0m \u001b[0mStudent\u001b[0m\u001b[0;34m(\u001b[0m\u001b[0mPerson\u001b[0m\u001b[0;34m)\u001b[0m\u001b[0;34m:\u001b[0m\u001b[0;34m\u001b[0m\u001b[0;34m\u001b[0m\u001b[0m\n\u001b[0m\u001b[1;32m     43\u001b[0m \u001b[0;34m\u001b[0m\u001b[0m\n\u001b[1;32m     44\u001b[0m     \u001b[0;32mdef\u001b[0m \u001b[0m__init__\u001b[0m\u001b[0;34m(\u001b[0m\u001b[0mself\u001b[0m\u001b[0;34m,\u001b[0m \u001b[0mfirstName\u001b[0m\u001b[0;34m,\u001b[0m \u001b[0mlastName\u001b[0m\u001b[0;34m,\u001b[0m \u001b[0memailAddress\u001b[0m\u001b[0;34m,\u001b[0m \u001b[0maddress\u001b[0m\u001b[0;34m)\u001b[0m\u001b[0;34m:\u001b[0m\u001b[0;34m\u001b[0m\u001b[0;34m\u001b[0m\u001b[0m\n",
      "\u001b[0;32m/var/folders/bq/fvvldy095vz80qbkf7d8zz2h0000gp/T/ipykernel_16053/3113291727.py\u001b[0m in \u001b[0;36mStudent\u001b[0;34m()\u001b[0m\n\u001b[1;32m     55\u001b[0m \u001b[0;34m\u001b[0m\u001b[0m\n\u001b[1;32m     56\u001b[0m     \u001b[0;32mif\u001b[0m \u001b[0m__name__\u001b[0m \u001b[0;34m==\u001b[0m \u001b[0;34m\"__main__\"\u001b[0m\u001b[0;34m:\u001b[0m\u001b[0;34m\u001b[0m\u001b[0;34m\u001b[0m\u001b[0m\n\u001b[0;32m---> 57\u001b[0;31m         \u001b[0mstudent\u001b[0m \u001b[0;34m=\u001b[0m \u001b[0mStudent\u001b[0m\u001b[0;34m(\u001b[0m\u001b[0;34m\"Jane\"\u001b[0m\u001b[0;34m,\u001b[0m \u001b[0;34m\"Austen\"\u001b[0m\u001b[0;34m,\u001b[0m \u001b[0;34m\"jane.austen@gmail.com\"\u001b[0m\u001b[0;34m,\u001b[0m \u001b[0mAddress\u001b[0m\u001b[0;34m(\u001b[0m\u001b[0;34m\"100 Main St.\"\u001b[0m\u001b[0;34m,\u001b[0m \u001b[0;34m\"Philadelphia\"\u001b[0m\u001b[0;34m,\u001b[0m \u001b[0;34m\"PA\"\u001b[0m\u001b[0;34m,\u001b[0m \u001b[0;34m\"19010\"\u001b[0m\u001b[0;34m)\u001b[0m\u001b[0;34m)\u001b[0m\u001b[0;34m\u001b[0m\u001b[0;34m\u001b[0m\u001b[0m\n\u001b[0m\u001b[1;32m     58\u001b[0m     \u001b[0malumnus\u001b[0m\u001b[0;34m.\u001b[0m\u001b[0msetDegreeAndProgram\u001b[0m\u001b[0;34m(\u001b[0m\u001b[0;34m\"Bachelor's of Fine Arts\"\u001b[0m\u001b[0;34m,\u001b[0m \u001b[0;34m\"Creative Writing\"\u001b[0m\u001b[0;34m)\u001b[0m\u001b[0;34m\u001b[0m\u001b[0;34m\u001b[0m\u001b[0m\n\u001b[1;32m     59\u001b[0m     \u001b[0mprint\u001b[0m\u001b[0;34m(\u001b[0m\u001b[0mstudent\u001b[0m\u001b[0;34m)\u001b[0m\u001b[0;34m\u001b[0m\u001b[0;34m\u001b[0m\u001b[0m\n",
      "\u001b[0;31mNameError\u001b[0m: name 'Student' is not defined"
     ]
    }
   ],
   "source": [
    "class Address:\n",
    "    \n",
    "    def __init__(street, city, state, zipcode):\n",
    "        self._street = street\n",
    "        self._city = city\n",
    "        self._state = state\n",
    "        self._zipcode = zipcode\n",
    "        \n",
    "    def __str__(self):\n",
    "        return(f\"{self._street}\\n{self._city}, {self._state} {self._zipcode}\")\n",
    "    \n",
    "    def __repr(self):\n",
    "        objRepr = {}\n",
    "        objRepr[\"street\"] = self._street\n",
    "        objRepr[\"city\"] = self._city\n",
    "        objRepr[\"state\"] = self._state\n",
    "        objRepr[\"zipcode\"] = self._zipcode\n",
    "        return str(objRepr)\n",
    "\n",
    "class Person:\n",
    "    \n",
    "    def __init__(self, firstName, lastName, emailAddress, address):\n",
    "        self.firstName = firstName\n",
    "        self.lastName = lastName\n",
    "        self._emailAddress = emailAddress\n",
    "        self.__address = address\n",
    "        \n",
    "    def changeAddress(self, address):\n",
    "        self.__address = address\n",
    "        \n",
    "    def __str__(self):\n",
    "        return f\"{self._firstName} {self._lastName}\\n{self._emailAddress}\\n{self._address}\"\n",
    "    \n",
    "    def __repr(self):\n",
    "        objRepr = {}\n",
    "        objRepr[\"firstName\"] = self.firstName\n",
    "        objRepr[\"lastName\"] = self.lastName\n",
    "        objRepr[\"email\"] = self._emailAddress\n",
    "        objRepr[\"address\"] = self.__address\n",
    "        return str(objRepr)\n",
    "    \n",
    "class Student(Person):\n",
    "    \n",
    "    def __init__(self, firstName, lastName, emailAddress, address):\n",
    "        self.degree = None\n",
    "        self.program = None\n",
    "        super().__init__(firstName, lastName, emailAddress, address)\n",
    "        \n",
    "    def setDegreeAndProgram(self, degree, program):\n",
    "        self.degree = degree\n",
    "        self.program = program\n",
    "        \n",
    "    def __str__(self):\n",
    "        return(f\"{super().__str__()} \\nDegree/Program: {self.degree} {self.program}\")\n",
    "    \n",
    "    if __name__ == \"__main__\":\n",
    "        student = Student(\"Jane\", \"Austen\", \"jane.austen@gmail.com\", Address(\"100 Main St.\", \"Philadelphia\", \"PA\", \"19010\"))\n",
    "    alumnus.setDegreeAndProgram(\"Bachelor's of Fine Arts\", \"Creative Writing\")\n",
    "    print(student)\n",
    "    \n",
    "    class Alumnus(Student):\n",
    "        \n",
    "        def __init__(self, firstName, lastName, emailAddress, address, degree = None, program = None):\n",
    "            self.graduated = True\n",
    "            super().__init__(firstName, lastName, emailAddress, address, degree, program)\n",
    "            \n",
    "        def __str__(self):\n",
    "            return(f\"{super().__str__()}\\nGraduated: {self.graduated}\")\n",
    "        \n",
    "if __name__ == \"__main__\":\n",
    "    alumnus = Alumnus(\"Jane\", \"Austen\", \"jane.austen@gmail.com\", Address(\"100 Main St.\", \"Philadelphia\", \"PA\", \"19010\"))\n",
    "    alumnus.setDegreeAndProgram(\"Bachelor's of Fine Arts\", \"Creative Writing\")\n",
    "    print(alumnus)"
   ]
  },
  {
   "cell_type": "code",
   "execution_count": null,
   "id": "ee842d53",
   "metadata": {},
   "outputs": [],
   "source": []
  }
 ],
 "metadata": {
  "kernelspec": {
   "display_name": "Python 3 (ipykernel)",
   "language": "python",
   "name": "python3"
  },
  "language_info": {
   "codemirror_mode": {
    "name": "ipython",
    "version": 3
   },
   "file_extension": ".py",
   "mimetype": "text/x-python",
   "name": "python",
   "nbconvert_exporter": "python",
   "pygments_lexer": "ipython3",
   "version": "3.9.6"
  }
 },
 "nbformat": 4,
 "nbformat_minor": 5
}
