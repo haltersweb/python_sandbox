{
 "cells": [
  {
   "cell_type": "markdown",
   "id": "f08c4135",
   "metadata": {},
   "source": [
    "# Mapping, Filtering, List Comprehension\n",
    "\n",
    "## mapping\n",
    "* Not often used but should be understood.  List comprehension is easier.\n",
    "* `map(<transformer_expression_or_function_name>, <list_to_transform>)`\n",
    "* this returns a **map object** (not a list object)\n",
    "* must **convert** map object to a sequence object (i.e. list, tuple, etc.)\n",
    "* for **example**: use **list()** to create list from map object"
   ]
  },
  {
   "cell_type": "code",
   "execution_count": 7,
   "id": "241a8c3b",
   "metadata": {},
   "outputs": [
    {
     "name": "stdout",
     "output_type": "stream",
     "text": [
      "doubling the list gives:\n",
      "[4, 8, 12]\n",
      "squaring the list gives:\n",
      "[4, 16, 36]\n"
     ]
    }
   ],
   "source": [
    "foo = [2, 4, 6]\n",
    "def double(x):\n",
    "    return x*2\n",
    "print('doubling the list gives:')\n",
    "print(list(map(double, foo)))\n",
    "print('squaring the list gives:')\n",
    "print(list(map(lambda x : x**2, foo)))"
   ]
  },
  {
   "cell_type": "markdown",
   "id": "bc82365e",
   "metadata": {},
   "source": [
    "## filtering\n",
    "* Not often used but should be understood.  List-comprehension is easier.\n",
    "* `filter(<filter_expression_or_function_name>, <list_to_transform>)`\n",
    "* filter expression resolves as boolean\n",
    "* must then use using **list()** to create list from filter object"
   ]
  },
  {
   "cell_type": "code",
   "execution_count": 25,
   "id": "6a3c4590",
   "metadata": {},
   "outputs": [
    {
     "name": "stdout",
     "output_type": "stream",
     "text": [
      "Even numbers:\n",
      "[2, 4, 6]\n"
     ]
    }
   ],
   "source": [
    "bar = [1,2,3,4,5,6,7]\n",
    "print('Even numbers:')\n",
    "print(list(filter(lambda num : num % 2 == 0, bar)))"
   ]
  },
  {
   "cell_type": "code",
   "execution_count": 3,
   "id": "fd3dfc7c",
   "metadata": {},
   "outputs": [
    {
     "name": "stdout",
     "output_type": "stream",
     "text": [
      "Divisible by 10:\n",
      "[10, 100, 1000]\n"
     ]
    }
   ],
   "source": [
    "def isDivBy10(x):\n",
    "    return (x % 10 == 0)\n",
    "bbbar = [8, 9, 10, 98, 99, 100, 1000]\n",
    "print('Divisible by 10:')\n",
    "print(list(filter(isDivBy10, bbbar)))"
   ]
  },
  {
   "cell_type": "markdown",
   "id": "f3dfd0f1",
   "metadata": {},
   "source": [
    "## list comprehension\n",
    "* Used most often to transform lists\n",
    "* logic happens __within list constructor__ \\[ \\]\n",
    "* logic often uses __for in__ (similar to mapping), or __for in if__ (similar to filtering)\n",
    "* no need to employ **list()** to return the results in list format\n",
    "\n",
    "### akin to map()\n",
    "* uses __for in__ logic\n",
    "* `[<transformer_expression_on_varname> for <varname> in <seq_to_transform>]`\n",
    "* cannot use function name for first parameter in __filter__ due to the use of __for in__, but can call the function by passing in the iterator variable. i.e. `[triple(y) for y in yada]`"
   ]
  },
  {
   "cell_type": "code",
   "execution_count": 28,
   "id": "9c796522",
   "metadata": {},
   "outputs": [
    {
     "name": "stdout",
     "output_type": "stream",
     "text": [
      "Triple it:\n",
      "[3, 6, '111', '222']\n"
     ]
    }
   ],
   "source": [
    "yada = [1,2,'1','2']\n",
    "print('Triple it:')\n",
    "print([y * 3 for y in yada])"
   ]
  },
  {
   "cell_type": "code",
   "execution_count": 2,
   "id": "1ec75d51",
   "metadata": {},
   "outputs": [
    {
     "name": "stdout",
     "output_type": "stream",
     "text": [
      "[30, 300, '101010', '100100100']\n"
     ]
    }
   ],
   "source": [
    "def triple(x):\n",
    "    return (3 * x)\n",
    "yyyada = [10, 100, '10', '100']\n",
    "print([triple(y) for y in yyyada])"
   ]
  },
  {
   "cell_type": "markdown",
   "id": "5410d2e3",
   "metadata": {},
   "source": [
    "### akin to filter()\n",
    "* uses __for in if__ logic\n",
    "* `[<transformer_expression_on_varname> for <varname> in <seq_to_filter> if <filtration_expression_on_varname>]`\n",
    "* filter expression resolves as boolean"
   ]
  },
  {
   "cell_type": "code",
   "execution_count": 30,
   "id": "663f7581",
   "metadata": {},
   "outputs": [
    {
     "name": "stdout",
     "output_type": "stream",
     "text": [
      "Divisible by 3:\n",
      "[0, 3, 6, 9]\n"
     ]
    }
   ],
   "source": [
    "yada_yada = [0,1,2,3,4,5,6,7,8,9,10]\n",
    "print('Divisible by 3:')\n",
    "print([yy for yy in yada_yada if yy % 3 == 0])\n",
    "# in this case we didn't need to transform yy so the transformer expression is just the yy itself"
   ]
  },
  {
   "cell_type": "markdown",
   "id": "67df7a27",
   "metadata": {},
   "source": [
    "### example 1\n",
    "\n",
    "make a list called `names` which contains the first names from the dictionary `math_101`"
   ]
  },
  {
   "cell_type": "code",
   "execution_count": 37,
   "id": "e99c10b6",
   "metadata": {},
   "outputs": [
    {
     "name": "stdout",
     "output_type": "stream",
     "text": [
      "[\n",
      "  {\n",
      "    \"first_name\": \"Jonathan\",\n",
      "    \"last_name\": \"Halter\",\n",
      "    \"major\": \"psychology\"\n",
      "  },\n",
      "  {\n",
      "    \"first_name\": \"Lydia\",\n",
      "    \"last_name\": \"Halter\",\n",
      "    \"major\": \"physics\"\n",
      "  },\n",
      "  {\n",
      "    \"first_name\": \"Justin\",\n",
      "    \"last_name\": \"Scarpulla\",\n",
      "    \"major\": \"math\"\n",
      "  }\n",
      "]\n"
     ]
    }
   ],
   "source": [
    "math_101 = {'students': [{'first_name' : 'Jonathan', 'last_name' : 'Halter', 'major' : 'psychology'}, {'first_name' : 'Lydia', 'last_name' : 'Halter', 'major' : 'physics'}, {'first_name' : 'Justin', 'last_name' : 'Scarpulla', 'major' : 'math'}]}\n",
    "\n",
    "#get list to filter\n",
    "students = math_101['students']\n",
    "\n",
    "#let's see what I'm left with\n",
    "import json\n",
    "print(json.dumps(students, indent = 2))\n",
    "# yup, I can iterate over this list of dictionaries\n"
   ]
  },
  {
   "cell_type": "code",
   "execution_count": 38,
   "id": "600430da",
   "metadata": {},
   "outputs": [
    {
     "name": "stdout",
     "output_type": "stream",
     "text": [
      "['Jonathan', 'Lydia', 'Justin']\n"
     ]
    }
   ],
   "source": [
    "# pseudo-code:\n",
    "# names = [<transform_item> for <item> in <list> if <filter_expr>]\n",
    "# <transform_item> is student['first_name']\n",
    "# <item> is student\n",
    "# <list> is students\n",
    "# no filter needed so either:\n",
    "    # <filter_expr> is True\n",
    "    # or just delete the filtering altogether\n",
    "    \n",
    "names = [student['first_name'] for student in students]\n",
    "print(names)"
   ]
  },
  {
   "cell_type": "markdown",
   "id": "2eef89fa",
   "metadata": {},
   "source": [
    "### example 2\n",
    "\n",
    "Write a function `long_words` which takes a list of strings and returns a **list of the lengths** of strings with 4 or more letters.  Try it three ways:\n",
    "* manual accumulation\n",
    "* map and filter functions\n",
    "* list comprehension"
   ]
  },
  {
   "cell_type": "code",
   "execution_count": 53,
   "id": "0a5fb3b7",
   "metadata": {},
   "outputs": [
    {
     "name": "stdout",
     "output_type": "stream",
     "text": [
      "[4, 5]\n"
     ]
    }
   ],
   "source": [
    "# manual accumulation\n",
    "words = ['how', 'I', 'when', 'where', 'if']\n",
    "def long_words(st_lst):\n",
    "    len_list = []\n",
    "    for st in st_lst:\n",
    "        if len(st) >= 4:\n",
    "            len_list.append(len(st))\n",
    "    return len_list\n",
    "print(long_words(words))"
   ]
  },
  {
   "cell_type": "code",
   "execution_count": 54,
   "id": "312ab653",
   "metadata": {},
   "outputs": [
    {
     "name": "stdout",
     "output_type": "stream",
     "text": [
      "[4, 5]\n"
     ]
    }
   ],
   "source": [
    "# map and filter functions\n",
    "words = ['how', 'I', 'when', 'where', 'if']\n",
    "def long_words(st_lst):\n",
    "    filtered_list = list(filter(lambda st : len(st) >= 4, st_lst))\n",
    "    len_list = list(map(len, filtered_list))\n",
    "    return len_list\n",
    "print(long_words(words))"
   ]
  },
  {
   "cell_type": "code",
   "execution_count": 55,
   "id": "1e0b002a",
   "metadata": {},
   "outputs": [
    {
     "name": "stdout",
     "output_type": "stream",
     "text": [
      "[4, 5]\n"
     ]
    }
   ],
   "source": [
    "# list comprehension\n",
    "words = ['how', 'I', 'when', 'where', 'if']\n",
    "def long_words(st_lst):\n",
    "    return [len(st) for st in st_lst if len(st) >= 4]\n",
    "print(long_words(words))"
   ]
  },
  {
   "cell_type": "code",
   "execution_count": 4,
   "id": "7c4020a6",
   "metadata": {},
   "outputs": [
    {
     "name": "stdout",
     "output_type": "stream",
     "text": [
      "['Zaptos', 'Charizard', 'Diglett', 'Tauros', 'Lanturn', 'Wailord']\n"
     ]
    }
   ],
   "source": [
    "lst_tups = [('Articuno', 'Moltres', 'Zaptos'), ('Beedrill', 'Metapod', 'Charizard', 'Venasaur', 'Squirtle'), ('Oddish', 'Poliwag', 'Diglett', 'Bellsprout'), ('Ponyta', \"Farfetch'd\", \"Tauros\", 'Dragonite'), ('Hoothoot', 'Chikorita', 'Lanturn', 'Flaaffy', 'Unown', 'Teddiursa', 'Phanpy'), ('Loudred', 'Volbeat', 'Wailord', 'Seviper', 'Sealeo')]\n",
    "t_check = [pokemon[2] for pokemon in lst_tups]\n",
    "print(t_check)"
   ]
  },
  {
   "cell_type": "code",
   "execution_count": null,
   "id": "c49c7bf5",
   "metadata": {},
   "outputs": [],
   "source": []
  }
 ],
 "metadata": {
  "kernelspec": {
   "display_name": "Python 3 (ipykernel)",
   "language": "python",
   "name": "python3"
  },
  "language_info": {
   "codemirror_mode": {
    "name": "ipython",
    "version": 3
   },
   "file_extension": ".py",
   "mimetype": "text/x-python",
   "name": "python",
   "nbconvert_exporter": "python",
   "pygments_lexer": "ipython3",
   "version": "3.8.11"
  }
 },
 "nbformat": 4,
 "nbformat_minor": 5
}
