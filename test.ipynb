{
 "cells": [
  {
   "cell_type": "code",
   "execution_count": 15,
   "id": "fb5c9b57",
   "metadata": {},
   "outputs": [
    {
     "data": {
      "text/plain": [
       "[4, 2, 8, 23.4, 9, 545, 9, 1, 234.001, 5, 49, 8, 9, 34, 52, 1, -2, 9.1, 4]"
      ]
     },
     "execution_count": 15,
     "metadata": {},
     "output_type": "execute_result"
    }
   ],
   "source": [
    "nums = [4, 2, 8, 23.4, 8, 9, 545, 9, 1, 234.001, 5, 49, 8, 9 , 34, 52, 1, -2, 9.1, 4]\n",
    "i = 0\n",
    "which = 1\n",
    "for num in nums:\n",
    "    if num == 8:\n",
    "        if which == 2:\n",
    "            del nums[i]\n",
    "            break\n",
    "        which += 1\n",
    "    i += 1\n",
    "nums"
   ]
  },
  {
   "cell_type": "code",
   "execution_count": 16,
   "id": "e6618d09",
   "metadata": {},
   "outputs": [
    {
     "name": "stdout",
     "output_type": "stream",
     "text": [
      "['a', 'b', 'c', 'd', 'f']\n"
     ]
    }
   ],
   "source": [
    "alist = ['a', 'd', 'f']\n",
    "alist[1:1] = ['b', 'c']\n",
    "print(alist)"
   ]
  },
  {
   "cell_type": "code",
   "execution_count": 17,
   "id": "2f748335",
   "metadata": {},
   "outputs": [
    {
     "name": "stdout",
     "output_type": "stream",
     "text": [
      "['a', 'b', 'c', 'd', 'e', 'f']\n"
     ]
    }
   ],
   "source": [
    "alist[4:4] = ['e']\n",
    "print(alist)"
   ]
  },
  {
   "cell_type": "code",
   "execution_count": 18,
   "id": "9007e23c",
   "metadata": {},
   "outputs": [
    {
     "data": {
      "text/plain": [
       "[]"
      ]
     },
     "execution_count": 18,
     "metadata": {},
     "output_type": "execute_result"
    }
   ],
   "source": [
    "alist[1:1]"
   ]
  },
  {
   "cell_type": "code",
   "execution_count": 19,
   "id": "2ebe518c",
   "metadata": {},
   "outputs": [
    {
     "data": {
      "text/plain": [
       "[]"
      ]
     },
     "execution_count": 19,
     "metadata": {},
     "output_type": "execute_result"
    }
   ],
   "source": [
    "alist[4:4]"
   ]
  },
  {
   "cell_type": "code",
   "execution_count": 20,
   "id": "4f90e3e8",
   "metadata": {},
   "outputs": [],
   "source": [
    "alist[0:0] = [\"Z\"]"
   ]
  },
  {
   "cell_type": "code",
   "execution_count": 21,
   "id": "7757ef85",
   "metadata": {},
   "outputs": [
    {
     "data": {
      "text/plain": [
       "['Z', 'a', 'b', 'c', 'd', 'e', 'f']"
      ]
     },
     "execution_count": 21,
     "metadata": {},
     "output_type": "execute_result"
    }
   ],
   "source": [
    "alist"
   ]
  },
  {
   "cell_type": "code",
   "execution_count": 22,
   "id": "7bdf824b",
   "metadata": {},
   "outputs": [
    {
     "data": {
      "text/plain": [
       "['Z', 'a', 'b', 'c', 'd', 'e', 'E', 'N', 'D', 'f']"
      ]
     },
     "execution_count": 22,
     "metadata": {},
     "output_type": "execute_result"
    }
   ],
   "source": [
    "alist[-1:-1] = \"END\"\n",
    "alist"
   ]
  },
  {
   "cell_type": "code",
   "execution_count": 24,
   "id": "524836f4",
   "metadata": {},
   "outputs": [],
   "source": [
    "alist[-1:-1] = [\"FINAL\"]"
   ]
  },
  {
   "cell_type": "code",
   "execution_count": 25,
   "id": "8becad5f",
   "metadata": {},
   "outputs": [
    {
     "data": {
      "text/plain": [
       "['Z', 'a', 'b', 'c', 'd', 'e', 'E', 'N', 'D', 'FINAL', 'f']"
      ]
     },
     "execution_count": 25,
     "metadata": {},
     "output_type": "execute_result"
    }
   ],
   "source": [
    "alist"
   ]
  },
  {
   "cell_type": "code",
   "execution_count": 26,
   "id": "afe21345",
   "metadata": {},
   "outputs": [
    {
     "name": "stdout",
     "output_type": "stream",
     "text": [
      "4403451696\n",
      "4403451696\n"
     ]
    }
   ],
   "source": [
    "a = \"banana\"\n",
    "b = \"banana\"\n",
    "\n",
    "print(id(a))\n",
    "print(id(b))"
   ]
  },
  {
   "cell_type": "code",
   "execution_count": 27,
   "id": "fa505d8b",
   "metadata": {},
   "outputs": [
    {
     "name": "stdout",
     "output_type": "stream",
     "text": [
      "4403453360\n",
      "4403453360\n"
     ]
    }
   ],
   "source": [
    "a = \"soup\"\n",
    "b = \"soup\"\n",
    "\n",
    "print(id(a))\n",
    "print(id(b))"
   ]
  },
  {
   "cell_type": "code",
   "execution_count": 28,
   "id": "894f2786",
   "metadata": {},
   "outputs": [
    {
     "name": "stdout",
     "output_type": "stream",
     "text": [
      "4403443632\n",
      "4403443632\n"
     ]
    }
   ],
   "source": [
    "a = \"banana\"\n",
    "b = \"banana\"\n",
    "\n",
    "print(id(a))\n",
    "print(id(b))"
   ]
  },
  {
   "cell_type": "code",
   "execution_count": 29,
   "id": "fc304fed",
   "metadata": {},
   "outputs": [
    {
     "name": "stdout",
     "output_type": "stream",
     "text": [
      "banana\n",
      "4403443632\n"
     ]
    }
   ],
   "source": [
    "c = a\n",
    "print(c)\n",
    "print(id(c))"
   ]
  },
  {
   "cell_type": "code",
   "execution_count": 30,
   "id": "4bab4762",
   "metadata": {},
   "outputs": [
    {
     "name": "stdout",
     "output_type": "stream",
     "text": [
      "4505049328\n",
      "4505049328\n"
     ]
    }
   ],
   "source": [
    "a = \"soup\"\n",
    "b = \"soup\"\n",
    "\n",
    "print(id(a))\n",
    "print(id(b))"
   ]
  },
  {
   "cell_type": "code",
   "execution_count": 31,
   "id": "11ff3914",
   "metadata": {},
   "outputs": [
    {
     "name": "stdout",
     "output_type": "stream",
     "text": [
      "4403443632\n"
     ]
    }
   ],
   "source": [
    "print(id(c))"
   ]
  },
  {
   "cell_type": "code",
   "execution_count": 32,
   "id": "728e3dce",
   "metadata": {},
   "outputs": [
    {
     "name": "stdout",
     "output_type": "stream",
     "text": [
      "4403443632\n",
      "4403443632\n",
      "4403443632\n"
     ]
    }
   ],
   "source": [
    "a = \"banana\"\n",
    "b = \"banana\"\n",
    "\n",
    "print(id(a))\n",
    "print(id(b))\n",
    "print(id(c))"
   ]
  },
  {
   "cell_type": "code",
   "execution_count": 33,
   "id": "b520b83f",
   "metadata": {},
   "outputs": [
    {
     "name": "stdout",
     "output_type": "stream",
     "text": [
      "4403404096\n",
      "4403241856\n"
     ]
    }
   ],
   "source": [
    "foo = (1,2,3)\n",
    "bar = (1,2,3)\n",
    "\n",
    "print(id(foo))\n",
    "print(id(bar))"
   ]
  },
  {
   "cell_type": "code",
   "execution_count": 34,
   "id": "62987f61",
   "metadata": {},
   "outputs": [
    {
     "data": {
      "text/plain": [
       "tuple"
      ]
     },
     "execution_count": 34,
     "metadata": {},
     "output_type": "execute_result"
    }
   ],
   "source": [
    "type(foo)"
   ]
  },
  {
   "cell_type": "code",
   "execution_count": 35,
   "id": "0423f407",
   "metadata": {},
   "outputs": [
    {
     "data": {
      "text/plain": [
       "False"
      ]
     },
     "execution_count": 35,
     "metadata": {},
     "output_type": "execute_result"
    }
   ],
   "source": [
    "foo is bar"
   ]
  },
  {
   "cell_type": "code",
   "execution_count": 36,
   "id": "79461cb8",
   "metadata": {},
   "outputs": [
    {
     "data": {
      "text/plain": [
       "True"
      ]
     },
     "execution_count": 36,
     "metadata": {},
     "output_type": "execute_result"
    }
   ],
   "source": [
    "a is c"
   ]
  },
  {
   "cell_type": "code",
   "execution_count": 38,
   "id": "8231ce52",
   "metadata": {},
   "outputs": [
    {
     "data": {
      "text/plain": [
       "True"
      ]
     },
     "execution_count": 38,
     "metadata": {},
     "output_type": "execute_result"
    }
   ],
   "source": [
    "bar = foo\n",
    "foo is bar"
   ]
  },
  {
   "cell_type": "code",
   "execution_count": 39,
   "id": "26e18296",
   "metadata": {},
   "outputs": [
    {
     "data": {
      "text/plain": [
       "(1, 2, 3)"
      ]
     },
     "execution_count": 39,
     "metadata": {},
     "output_type": "execute_result"
    }
   ],
   "source": [
    "bar"
   ]
  },
  {
   "cell_type": "code",
   "execution_count": 40,
   "id": "1778e3a9",
   "metadata": {},
   "outputs": [
    {
     "data": {
      "text/plain": [
       "'banana'"
      ]
     },
     "execution_count": 40,
     "metadata": {},
     "output_type": "execute_result"
    }
   ],
   "source": [
    "a"
   ]
  },
  {
   "cell_type": "code",
   "execution_count": 41,
   "id": "d002b565",
   "metadata": {},
   "outputs": [
    {
     "data": {
      "text/plain": [
       "False"
      ]
     },
     "execution_count": 41,
     "metadata": {},
     "output_type": "execute_result"
    }
   ],
   "source": [
    "foo = [1,2,3]\n",
    "bar = [1,2,3]\n",
    "\n",
    "foo is bar"
   ]
  },
  {
   "cell_type": "code",
   "execution_count": 42,
   "id": "e2abcc8b",
   "metadata": {},
   "outputs": [
    {
     "name": "stdout",
     "output_type": "stream",
     "text": [
      "zsh:1: command not found: foo\r\n"
     ]
    }
   ],
   "source": [
    "!foo is bar"
   ]
  },
  {
   "cell_type": "code",
   "execution_count": 43,
   "id": "fd323bfa",
   "metadata": {},
   "outputs": [
    {
     "name": "stdout",
     "output_type": "stream",
     "text": [
      "zsh:1: command not found: foo\r\n"
     ]
    }
   ],
   "source": [
    "!(foo is bar)"
   ]
  },
  {
   "cell_type": "code",
   "execution_count": 44,
   "id": "02f3a2bc",
   "metadata": {},
   "outputs": [],
   "source": [
    "bar = foo"
   ]
  },
  {
   "cell_type": "code",
   "execution_count": 45,
   "id": "428187d3",
   "metadata": {},
   "outputs": [
    {
     "data": {
      "text/plain": [
       "True"
      ]
     },
     "execution_count": 45,
     "metadata": {},
     "output_type": "execute_result"
    }
   ],
   "source": [
    "foo is bar"
   ]
  },
  {
   "cell_type": "code",
   "execution_count": 46,
   "id": "6ca21533",
   "metadata": {},
   "outputs": [
    {
     "data": {
      "text/plain": [
       "[1, 2, 3]"
      ]
     },
     "execution_count": 46,
     "metadata": {},
     "output_type": "execute_result"
    }
   ],
   "source": [
    "bar"
   ]
  },
  {
   "cell_type": "code",
   "execution_count": 47,
   "id": "7bb1f3d8",
   "metadata": {},
   "outputs": [
    {
     "data": {
      "text/plain": [
       "[1, 'True', 3]"
      ]
     },
     "execution_count": 47,
     "metadata": {},
     "output_type": "execute_result"
    }
   ],
   "source": [
    "bar[1] = \"True\"\n",
    "bar"
   ]
  },
  {
   "cell_type": "code",
   "execution_count": 48,
   "id": "f180967c",
   "metadata": {},
   "outputs": [
    {
     "data": {
      "text/plain": [
       "[1, 'True', 3]"
      ]
     },
     "execution_count": 48,
     "metadata": {},
     "output_type": "execute_result"
    }
   ],
   "source": [
    "foo"
   ]
  },
  {
   "cell_type": "code",
   "execution_count": null,
   "id": "0588c013",
   "metadata": {},
   "outputs": [],
   "source": [
    "\n",
    "\n",
    "    \n",
    "    "
   ]
  },
  {
   "cell_type": "code",
   "execution_count": 49,
   "id": "85e064cb",
   "metadata": {},
   "outputs": [
    {
     "name": "stdout",
     "output_type": "stream",
     "text": [
      "4403474368\n",
      "4403474368\n"
     ]
    }
   ],
   "source": [
    "foo = [1,2,3,4]\n",
    "bar = foo\n",
    "print(id(foo))\n",
    "print(id(bar))"
   ]
  },
  {
   "cell_type": "code",
   "execution_count": 50,
   "id": "e4b4600d",
   "metadata": {},
   "outputs": [
    {
     "name": "stdout",
     "output_type": "stream",
     "text": [
      "[4, 3, 2, 1]\n",
      "[4, 3, 2, 1]\n"
     ]
    }
   ],
   "source": [
    "foo.reverse()\n",
    "print(foo)\n",
    "print(bar)"
   ]
  },
  {
   "cell_type": "code",
   "execution_count": 51,
   "id": "4980a265",
   "metadata": {},
   "outputs": [
    {
     "name": "stdout",
     "output_type": "stream",
     "text": [
      "4403474368\n",
      "4403474368\n"
     ]
    }
   ],
   "source": [
    "print(id(foo))\n",
    "print(id(bar))"
   ]
  },
  {
   "cell_type": "code",
   "execution_count": 52,
   "id": "4409e5a1",
   "metadata": {},
   "outputs": [
    {
     "name": "stdout",
     "output_type": "stream",
     "text": [
      "[5, 27, 3, 12]\n",
      "None\n"
     ]
    }
   ],
   "source": [
    "mylist = []\n",
    "mylist.append(5)\n",
    "mylist.append(27)\n",
    "mylist.append(3)\n",
    "mylist.append(12)\n",
    "print(mylist)\n",
    "\n",
    "mylist = mylist.sort() #  sort returns None and assigns it to the var mylist\n",
    "print(mylist)"
   ]
  },
  {
   "cell_type": "code",
   "execution_count": 53,
   "id": "bfc195ec",
   "metadata": {},
   "outputs": [
    {
     "name": "stdout",
     "output_type": "stream",
     "text": [
      "[5, 27, 3, 12]\n",
      "[3, 5, 12, 27]\n"
     ]
    }
   ],
   "source": [
    "mylist = []\n",
    "mylist.append(5)\n",
    "mylist.append(27)\n",
    "mylist.append(3)\n",
    "mylist.append(12)\n",
    "print(mylist)\n",
    "\n",
    "mylist.sort()   # mutates mylist\n",
    "print(mylist)"
   ]
  },
  {
   "cell_type": "code",
   "execution_count": 54,
   "id": "6f03a32f",
   "metadata": {},
   "outputs": [
    {
     "name": "stdout",
     "output_type": "stream",
     "text": [
      "4358343312\n",
      "4358343312\n"
     ]
    }
   ],
   "source": [
    "x = 5\n",
    "y = 5\n",
    "print(id(x))\n",
    "print(id(y))"
   ]
  },
  {
   "cell_type": "code",
   "execution_count": 55,
   "id": "9975b059",
   "metadata": {},
   "outputs": [
    {
     "name": "stdout",
     "output_type": "stream",
     "text": [
      "6\n",
      "5\n"
     ]
    }
   ],
   "source": [
    "x += 1\n",
    "print(x)\n",
    "print(y)"
   ]
  },
  {
   "cell_type": "code",
   "execution_count": 56,
   "id": "89d71df8",
   "metadata": {},
   "outputs": [
    {
     "name": "stdout",
     "output_type": "stream",
     "text": [
      "4358343344\n",
      "4358343312\n"
     ]
    }
   ],
   "source": [
    "print(id(x))\n",
    "print(id(y))"
   ]
  },
  {
   "cell_type": "code",
   "execution_count": 57,
   "id": "8ad6af37",
   "metadata": {},
   "outputs": [
    {
     "name": "stdout",
     "output_type": "stream",
     "text": [
      "[5, 4, 3]\n"
     ]
    }
   ],
   "source": [
    "x = [5]\n",
    "y = x\n",
    "x += [4,3]\n",
    "print(y)"
   ]
  },
  {
   "cell_type": "code",
   "execution_count": 59,
   "id": "5f9bd431",
   "metadata": {},
   "outputs": [
    {
     "name": "stdout",
     "output_type": "stream",
     "text": [
      "4380928432\n",
      "4380928432\n",
      "foo\n",
      "4505130544\n",
      "4380928432\n"
     ]
    }
   ],
   "source": [
    "x = 'foo'\n",
    "y = x\n",
    "print(id(x))\n",
    "print(id(y))\n",
    "x += \" bar\"\n",
    "print(y)\n",
    "print(id(x))\n",
    "print(id(y))"
   ]
  },
  {
   "cell_type": "code",
   "execution_count": 60,
   "id": "00d58ebb",
   "metadata": {},
   "outputs": [
    {
     "name": "stdout",
     "output_type": "stream",
     "text": [
      "4380928432\n",
      "4402365808\n"
     ]
    }
   ],
   "source": [
    "x = \"foo\"\n",
    "print(id(x))\n",
    "x += \"foo\" + \"bar\"\n",
    "print(id(x))"
   ]
  },
  {
   "cell_type": "code",
   "execution_count": null,
   "id": "b1c9e099",
   "metadata": {},
   "outputs": [],
   "source": [
    "\n",
    "\n",
    "\n"
   ]
  },
  {
   "cell_type": "code",
   "execution_count": 63,
   "id": "a2341320",
   "metadata": {},
   "outputs": [
    {
     "name": "stdout",
     "output_type": "stream",
     "text": [
      "4403476544\n",
      "[45, 32, 88, 'cat']\n",
      "4403476544\n"
     ]
    }
   ],
   "source": [
    "origlist = [45,32,88]\n",
    "print(id(origlist))\n",
    "origlist.append(\"cat\")\n",
    "print(origlist)\n",
    "print(id(origlist))"
   ]
  },
  {
   "cell_type": "code",
   "execution_count": 65,
   "id": "986b935d",
   "metadata": {},
   "outputs": [
    {
     "name": "stdout",
     "output_type": "stream",
     "text": [
      "[45, 32, 88, 'cat', 'cat']\n",
      "4403474688\n"
     ]
    }
   ],
   "source": [
    "origlist = origlist + [\"cat\"]\n",
    "print(origlist)\n",
    "print(id(origlist))"
   ]
  },
  {
   "cell_type": "code",
   "execution_count": null,
   "id": "5406c766",
   "metadata": {},
   "outputs": [],
   "source": [
    "\n",
    "\n",
    "\n"
   ]
  },
  {
   "cell_type": "code",
   "execution_count": 72,
   "id": "971b2027",
   "metadata": {},
   "outputs": [
    {
     "name": "stdout",
     "output_type": "stream",
     "text": [
      "The set is {5, 9}.\n"
     ]
    }
   ],
   "source": [
    "a = 5\n",
    "b = 9\n",
    "setStr = 'The set is {{{}, {}}}.'.format(a, b)\n",
    "print(setStr)\n",
    "\n",
    "#THIS WORKS"
   ]
  },
  {
   "cell_type": "code",
   "execution_count": null,
   "id": "d9e659a8",
   "metadata": {},
   "outputs": [],
   "source": [
    "a = 5\n",
    "b = 9\n",
    "setStr = 'The set is \\{\\{\\{}, {}}}.'.format(a, b)\n",
    "print(setStr)\n",
    "\n",
    "IN 9.9. Non-mutating Methods on Strings\n",
    "this DOES NOT WORK"
   ]
  },
  {
   "cell_type": "code",
   "execution_count": null,
   "id": "ea525579",
   "metadata": {},
   "outputs": [],
   "source": [
    "\n",
    "\n",
    "\n"
   ]
  },
  {
   "cell_type": "code",
   "execution_count": 76,
   "id": "21ff26d8",
   "metadata": {},
   "outputs": [
    {
     "name": "stdout",
     "output_type": "stream",
     "text": [
      "10\n",
      "15\n",
      "20\n",
      "25\n",
      "30\n",
      "[5, 10, 15, 20, 25]\n"
     ]
    }
   ],
   "source": [
    "numbs = [5, 10, 15, 20, 25]\n",
    "for num in numbs:\n",
    "    num = num + 5  # num just holds a value, it doesn't hold the list elem\n",
    "    print(num)\n",
    "print(numbs)"
   ]
  },
  {
   "cell_type": "code",
   "execution_count": 77,
   "id": "12d5cad6",
   "metadata": {
    "scrolled": true
   },
   "outputs": [
    {
     "name": "stdout",
     "output_type": "stream",
     "text": [
      "10\n",
      "15\n",
      "20\n",
      "25\n",
      "30\n",
      "[10, 15, 20, 25, 30]\n"
     ]
    }
   ],
   "source": [
    "numbs = [5, 10, 15, 20, 25]\n",
    "for i in range(len(numbs)):\n",
    "    numbs[i] = numbs[i] + 5\n",
    "    print(numbs[i])\n",
    "print(numbs)"
   ]
  },
  {
   "cell_type": "code",
   "execution_count": null,
   "id": "01c96d04",
   "metadata": {},
   "outputs": [],
   "source": [
    "\n",
    "\n",
    "\n"
   ]
  },
  {
   "cell_type": "code",
   "execution_count": 79,
   "id": "b00124a7",
   "metadata": {},
   "outputs": [
    {
     "name": "stdout",
     "output_type": "stream",
     "text": [
      "10\n"
     ]
    }
   ],
   "source": [
    "scores = \"67 80 90 78 93 20 79 89 96 97 92 88 79 68 58 90 98 100 79 74 83 88 80 86 85 70 90 100\"\n",
    "a_scores = 0\n",
    "scores_list = scores.split()\n",
    "for score in scores_list:\n",
    "    if int(score) >= 90:\n",
    "        a_scores += 1\n",
    "print(a_scores)\n",
    "\n",
    "# set up my iterator var called \"a_scores\" to hold the number of scores that are A\n",
    "# slice my scores into a list of number strings\n",
    "# loop through the scores_list and test if int(score) is >= 90\n",
    "# if it is then a_scores += 1\n",
    "\n"
   ]
  },
  {
   "cell_type": "code",
   "execution_count": 84,
   "id": "f31aa4be",
   "metadata": {},
   "outputs": [
    {
     "name": "stdout",
     "output_type": "stream",
     "text": [
      "OHSE\n"
     ]
    }
   ],
   "source": [
    "stopwords = ['to', 'a', 'for', 'by', 'an', 'am', 'the', 'so', 'it', 'and', \"The\"]\n",
    "org = \"The organization for health, safety, and education\"\n",
    "acro = \"\"\n",
    "org_word_list = org.split()\n",
    "for word in org_word_list:\n",
    "    if word not in stopwords:\n",
    "        acro += word[0].upper()\n",
    "print(acro)\n",
    "        \n",
    "# assign an empty string var called \"acro\"\n",
    "# make list of words in org.  Call it \"org_word_list\"\n",
    "# loop through the words in org\n",
    "# if word is not in stopwords\n",
    "# variable init_char equals the first letter\n",
    "# make init_char uppercase\n",
    "# += init_char to acro (can I += to a string?)"
   ]
  },
  {
   "cell_type": "code",
   "execution_count": 85,
   "id": "e661b5b0",
   "metadata": {},
   "outputs": [
    {
     "name": "stdout",
     "output_type": "stream",
     "text": [
      "4398402096\n",
      "hello goodbye\n",
      "4505069552\n"
     ]
    }
   ],
   "source": [
    "my_str = \"hello\"\n",
    "print(id(my_str))\n",
    "my_str += \" goodbye\"\n",
    "print(my_str)\n",
    "print(id(my_str))"
   ]
  },
  {
   "cell_type": "code",
   "execution_count": 90,
   "id": "f0ffb8f9",
   "metadata": {},
   "outputs": [
    {
     "name": "stdout",
     "output_type": "stream",
     "text": [
      "WA. EA. AI. AR. VI\n"
     ]
    }
   ],
   "source": [
    "stopwords = ['to', 'a', 'for', 'by', 'an', 'am', 'the', 'so', 'it', 'and', 'The']\n",
    "sent = \"The water earth and air are vital\"\n",
    "acro = \"\"\n",
    "sent_words = sent.split()\n",
    "for word in sent_words:\n",
    "    if word not in stopwords:\n",
    "        acro = acro + word[0:2].upper() + \". \"\n",
    "acro = acro[:-2]\n",
    "print(acro)"
   ]
  },
  {
   "cell_type": "code",
   "execution_count": 106,
   "id": "97eb1333",
   "metadata": {},
   "outputs": [
    {
     "name": "stdout",
     "output_type": "stream",
     "text": [
      "False\n"
     ]
    }
   ],
   "source": [
    "p_phrase = \"was it a car or a cat I saw\"\n",
    "r_phrase = \"\"\n",
    "for i in range(len(p_phrase)):\n",
    "    r_phrase += p_phrase[(i * -1) - 1]\n",
    "print(r_phrase == p_phrase)"
   ]
  },
  {
   "cell_type": "code",
   "execution_count": 108,
   "id": "aca6d6c1",
   "metadata": {},
   "outputs": [
    {
     "name": "stdout",
     "output_type": "stream",
     "text": [
      "The store has 12 shoes, each for 29.99 USD.\n",
      "The store has 20 shirts, each for 9.99 USD.\n",
      "The store has 25 sweatpants, each for 15.00 USD.\n",
      "The store has 13 scarves, each for 7.75 USD.\n"
     ]
    }
   ],
   "source": [
    "inventory = [\"shoes, 12, 29.99\", \"shirts, 20, 9.99\", \"sweatpants, 25, 15.00\", \"scarves, 13, 7.75\"]\n",
    "#ex: The store has 12 shoes, each for 29.99 USD.\n",
    "for item_data in inventory:\n",
    "    data = item_data.split(\", \")\n",
    "    item = data[0]\n",
    "    amt = data[1]\n",
    "    cost = data[2]\n",
    "    print(\"The store has {} {}, each for {} USD.\".format(amt, item, cost))"
   ]
  },
  {
   "cell_type": "code",
   "execution_count": null,
   "id": "7e649a60",
   "metadata": {},
   "outputs": [],
   "source": []
  },
  {
   "cell_type": "code",
   "execution_count": 111,
   "id": "b2f55078",
   "metadata": {},
   "outputs": [
    {
     "name": "stdout",
     "output_type": "stream",
     "text": [
      "True! You are you!\n"
     ]
    }
   ],
   "source": [
    "str1 = \"Today you are you! That is truer than true! There is no one alive who is you-er than you!\"\n",
    "responses = {\n",
    "    \"false\" : \"False. You aren’t you?\",\n",
    "    \"true\" : \"True! You are you!\",\n",
    "    \"neither\" : \"Neither true nor false!\"\n",
    "}\n",
    "output = \"\"\n",
    "if \"false\" in str1:\n",
    "    output = responses[\"false\"]\n",
    "elif \"true\" in str1:\n",
    "    output = responses[\"true\"]\n",
    "else:\n",
    "    output = responses[\"neither\"]\n",
    "print(output)"
   ]
  },
  {
   "cell_type": "code",
   "execution_count": 112,
   "id": "42a74f32",
   "metadata": {},
   "outputs": [
    {
     "name": "stdout",
     "output_type": "stream",
     "text": [
      "[4, 2, True, 6, 5]\n"
     ]
    }
   ],
   "source": [
    "alist = [4,2,8,6,5]\n",
    "alist[2] = True\n",
    "print(alist)"
   ]
  },
  {
   "cell_type": "code",
   "execution_count": null,
   "id": "4afe2b0f",
   "metadata": {},
   "outputs": [],
   "source": [
    "\n",
    "\n"
   ]
  },
  {
   "cell_type": "code",
   "execution_count": 115,
   "id": "1cf10670",
   "metadata": {},
   "outputs": [
    {
     "name": "stdout",
     "output_type": "stream",
     "text": [
      "here is a \n"
     ]
    }
   ],
   "source": [
    "fileobj = open('../python_sandbox/files/basic_text.txt')\n",
    "contents = fileobj.read()\n",
    "print(contents[:10])\n",
    "fileobj.close()"
   ]
  },
  {
   "cell_type": "code",
   "execution_count": null,
   "id": "ffb89517",
   "metadata": {},
   "outputs": [],
   "source": []
  },
  {
   "cell_type": "markdown",
   "id": "8fcf597e",
   "metadata": {},
   "source": [
    "From **ActiveCode (ac_9_10_9)** question in FOPP practice\n",
    "\n",
    "Read in the contents of the file `SP500.txt` which has monthly data for 2016 and 2017 about the S&P 500 closing prices as well as some other financial indicators, including the **“Long Term Interest Rate”**, which is interest rate paid on 10-year U.S. government bonds.\n",
    "\n",
    "Write a program that computes the **average closing price (SP500)** (the second column, labeled SP500) and the **highest long-term interest rate**. Both should be computed **only for the period from June 2016 through May 2017**. Save the results in the variables `mean_SP` and `max_interest`."
   ]
  },
  {
   "cell_type": "code",
   "execution_count": 17,
   "id": "4b9f4e22",
   "metadata": {},
   "outputs": [
    {
     "name": "stdout",
     "output_type": "stream",
     "text": [
      "Date,SP500,Dividend,Earnings,Consumer Price Index,Long Interest Rate,Real Price,Real Dividend,Real Earnings,PE10\n",
      "\n",
      "\n",
      "['1/1/2016,1918.6,43.55,86.5,236.92,2.09,2023.23,45.93,91.22,24.21\\n', '2/1/2016,1904.42,43.72,86.47,237.11,1.78,2006.62,46.06,91.11,24\\n', '3/1/2016,2021.95,43.88,86.44,238.13,1.89,2121.32,46.04,90.69,25.37\\n', '4/1/2016,2075.54,44.07,86.6,239.26,1.81,2167.27,46.02,90.43,25.92\\n', '5/1/2016,2065.55,44.27,86.76,240.23,1.81,2148.15,46.04,90.23,25.69\\n', '6/1/2016,2083.89,44.46,86.92,241.02,1.64,2160.13,46.09,90.1,25.84\\n', '7/1/2016,2148.9,44.65,87.64,240.63,1.5,2231.13,46.36,91,26.69\\n', '8/1/2016,2170.95,44.84,88.37,240.85,1.56,2251.95,46.51,91.66,26.95\\n', '9/1/2016,2157.69,45.03,89.09,241.43,1.63,2232.83,46.6,92.19,26.73\\n', '10/1/2016,2143.02,45.25,90.91,241.73,1.76,2214.89,46.77,93.96,26.53\\n', '11/1/2016,2164.99,45.48,92.73,241.35,2.14,2241.08,47.07,95.99,26.85\\n', '12/1/2016,2246.63,45.7,94.55,241.43,2.49,2324.83,47.29,97.84,27.87\\n', '1/1/2017,2275.12,45.93,96.46,242.84,2.43,2340.67,47.25,99.24,28.06\\n', '2/1/2017,2329.91,46.15,98.38,243.6,2.42,2389.52,47.33,100.89,28.66\\n', '3/1/2017,2366.82,46.38,100.29,243.8,2.48,2425.4,47.53,102.77,29.09\\n', '4/1/2017,2359.31,46.66,101.53,244.52,2.3,2410.56,47.67,103.74,28.9\\n', '5/1/2017,2395.35,46.94,102.78,244.73,2.3,2445.29,47.92,104.92,29.31\\n', '6/1/2017,2433.99,47.22,104.02,244.96,2.19,2482.48,48.16,106.09,29.75\\n', '7/1/2017,2454.1,47.54,105.04,244.79,2.32,2504.72,48.52,107.21,30\\n', '8/1/2017,2456.22,47.85,106.06,245.52,2.21,2499.4,48.69,107.92,29.91\\n', '9/1/2017,2492.84,48.17,107.08,246.82,2.2,2523.31,48.76,108.39,30.17\\n', '10/1/2017,2557,48.42,108.01,246.66,2.36,2589.89,49.05,109.4,30.92\\n', '11/1/2017,2593.61,48.68,108.95,246.67,2.35,2626.9,49.3,110.35,31.3\\n', '12/1/2017,2664.34,48.93,109.88,246.52,2.4,2700.13,49.59,111.36,32.09\\n']\n"
     ]
    }
   ],
   "source": [
    "fileobj = open('files/SP500.txt', 'r')\n",
    "data_set = fileobj.readlines()\n",
    "titles = data_set.pop(0)\n",
    "print(titles)\n",
    "print()\n",
    "print(data_set)\n",
    "fileobj.close()"
   ]
  },
  {
   "cell_type": "code",
   "execution_count": 18,
   "id": "51a54d7c",
   "metadata": {},
   "outputs": [],
   "source": [
    "titles = titles.split(',')"
   ]
  },
  {
   "cell_type": "code",
   "execution_count": 19,
   "id": "74e8340e",
   "metadata": {},
   "outputs": [
    {
     "name": "stdout",
     "output_type": "stream",
     "text": [
      "1\n",
      "5\n"
     ]
    }
   ],
   "source": [
    "i_SP500 = titles.index('SP500')\n",
    "i_rate = titles.index('Long Interest Rate')\n",
    "print(i_SP500)\n",
    "print(i_rate)"
   ]
  },
  {
   "cell_type": "code",
   "execution_count": 34,
   "id": "dc4973a7",
   "metadata": {},
   "outputs": [],
   "source": [
    "total_SP = 0\n",
    "mean_SP = 0\n",
    "no_months = 0\n",
    "max_interest = 0"
   ]
  },
  {
   "cell_type": "code",
   "execution_count": 35,
   "id": "1ab88570",
   "metadata": {},
   "outputs": [
    {
     "name": "stdout",
     "output_type": "stream",
     "text": [
      "6   2016   2083.89   1.64\n",
      "7   2016   2148.9   1.5\n",
      "8   2016   2170.95   1.56\n",
      "9   2016   2157.69   1.63\n",
      "10   2016   2143.02   1.76\n",
      "11   2016   2164.99   2.14\n",
      "12   2016   2246.63   2.49\n",
      "1   2017   2275.12   2.43\n",
      "2   2017   2329.91   2.42\n",
      "3   2017   2366.82   2.48\n",
      "4   2017   2359.31   2.3\n",
      "5   2017   2395.35   2.3\n"
     ]
    }
   ],
   "source": [
    "for data in data_set:\n",
    "    items = data.strip().split(',')\n",
    "    date = items[0].split('/')\n",
    "    month = int(date[0])\n",
    "    year = int(date[-1])\n",
    "    # print(month, ' ', year)\n",
    "    if (month >= 6 and year == 2016) or (month <6 and year == 2017):\n",
    "        print(month, ' ', year, ' ', float(items[i_SP500]), ' ', float(items[i_rate]))\n",
    "        total_SP += float(items[i_SP500])\n",
    "        no_months += 1\n",
    "        if float(items[i_rate]) > max_interest:\n",
    "            max_interest = float(items[i_rate])\n",
    "mean_SP = total_SP / no_months"
   ]
  },
  {
   "cell_type": "code",
   "execution_count": 36,
   "id": "5c6174ee",
   "metadata": {},
   "outputs": [],
   "source": [
    "total_SP = round(total_SP, 2)\n",
    "mean_SP = round(mean_SP, 2)"
   ]
  },
  {
   "cell_type": "code",
   "execution_count": 37,
   "id": "3c5261a6",
   "metadata": {},
   "outputs": [
    {
     "name": "stdout",
     "output_type": "stream",
     "text": [
      "26842.58\n",
      "12\n",
      "2236.88\n",
      "2.49\n"
     ]
    }
   ],
   "source": [
    "print(total_SP) # 26842.58\n",
    "print(no_months) # 12\n",
    "\n",
    "print(mean_SP) # 2236.88\n",
    "print(max_interest) # 2.49"
   ]
  },
  {
   "cell_type": "code",
   "execution_count": null,
   "id": "423c65b0",
   "metadata": {},
   "outputs": [],
   "source": []
  },
  {
   "cell_type": "markdown",
   "id": "74ec4e3a",
   "metadata": {},
   "source": [
    "Sort the following string alphabetically, from z to a,\n",
    "and assign it to the variable `sorted_letters`."
   ]
  },
  {
   "cell_type": "code",
   "execution_count": 34,
   "id": "ee1bad00",
   "metadata": {},
   "outputs": [],
   "source": [
    "letters = \"alwnfiwaksuezlaeiajsdl\"\n",
    "sorted_letters = sorted(letters, reverse = True)"
   ]
  },
  {
   "cell_type": "markdown",
   "id": "b139d4b1",
   "metadata": {},
   "source": [
    "Sort the list below, `animals`, into alphabetical order, a-z.\n",
    "Save the new list as `animals_sorted`."
   ]
  },
  {
   "cell_type": "code",
   "execution_count": 35,
   "id": "57491545",
   "metadata": {},
   "outputs": [],
   "source": [
    "animals = ['elephant', 'cat', 'moose', 'antelope', 'elk', 'rabbit', 'zebra', 'yak', 'salamander', 'deer', 'otter', 'minx', 'giraffe', 'goat', 'cow', 'tiger', 'bear']\n",
    "animals_sorted = sorted(animals)"
   ]
  },
  {
   "cell_type": "markdown",
   "id": "4200f0a9",
   "metadata": {},
   "source": [
    "The dictionary, `medals`, shows the medal count for six countries during the Rio Olympics. Sort the country names so they appear alphabetically. Save this list to the variable `alphabetical`."
   ]
  },
  {
   "cell_type": "code",
   "execution_count": 36,
   "id": "66f73685",
   "metadata": {},
   "outputs": [],
   "source": [
    "medals = {'Japan':41, 'Russia':56, 'South Korea':21, 'United States':121, 'Germany':42, 'China':70}\n",
    "alphabetical = sorted(medals)"
   ]
  },
  {
   "cell_type": "markdown",
   "id": "14b8a2b3",
   "metadata": {},
   "source": [
    "Given the same dictionary, `medals`, now sort by the medal count. Save the three countries with the highest medal count to the list, `top_three`."
   ]
  },
  {
   "cell_type": "code",
   "execution_count": 28,
   "id": "7ef9105a",
   "metadata": {},
   "outputs": [],
   "source": [
    "medals = {'Japan':41, 'Russia':56, 'South Korea':21, 'United States':121, 'Germany':42, 'China':70}\n",
    "top_three = (sorted(medals, reverse = True, key = (lambda c : medals[c])))[:3]"
   ]
  },
  {
   "cell_type": "markdown",
   "id": "0e81ecb5",
   "metadata": {},
   "source": [
    "We have provided the dictionary `groceries`. You should return a list of its keys, but they should be sorted by their values, from highest to lowest. Save the new list as `most_needed`."
   ]
  },
  {
   "cell_type": "code",
   "execution_count": 38,
   "id": "83c18eed",
   "metadata": {},
   "outputs": [
    {
     "name": "stdout",
     "output_type": "stream",
     "text": [
      "['granola bars', 'carrots', 'spinach', 'bananas', 'onions', 'apples', 'coffee', 'cereal', 'pasta', 'salsa', 'orange juice', 'peanut butter', 'popcorn', 'rice']\n"
     ]
    }
   ],
   "source": [
    "groceries = {'apples': 5, 'pasta': 3, 'carrots': 12, 'orange juice': 2, 'bananas': 8, 'popcorn': 1, 'salsa': 3, 'cereal': 4, 'coffee': 5, 'granola bars': 15, 'onions': 7, 'rice': 1, 'peanut butter': 2, 'spinach': 9}\n",
    "most_needed = sorted(groceries, reverse = True, key = (lambda g_item : groceries[g_item]))\n",
    "print(most_needed)"
   ]
  },
  {
   "cell_type": "markdown",
   "id": "b7ee5b8f",
   "metadata": {},
   "source": [
    "Create a function called `last_four` that takes in a single ID number and returns the last four digits. For example, the number 17573005 should return 3005. Then, use the resulting function to sort the list of ids stored in the variable, `ids`, from lowest to highest. Save this sorted list in the variable, `sorted_ids`. Hint: Remember that only strings can be indexed, so conversions may be needed."
   ]
  },
  {
   "cell_type": "code",
   "execution_count": 46,
   "id": "e34ae34a",
   "metadata": {},
   "outputs": [
    {
     "name": "stdout",
     "output_type": "stream",
     "text": [
      "[17573005, 17579000, 17572345, 17572342, 17570002, 17579329]\n"
     ]
    }
   ],
   "source": [
    "ids = [17573005, 17572342, 17579000, 17570002, 17572345, 17579329]\n",
    "\n",
    "def last_four(id_num):\n",
    "    id_str = str(id_num)\n",
    "    id_4 = id_str[-4:]\n",
    "    return id(id_4)\n",
    "\n",
    "sorted_ids = sorted(ids, key = last_four)\n",
    "\n",
    "print(sorted_ids)"
   ]
  },
  {
   "cell_type": "markdown",
   "id": "eb52542e",
   "metadata": {},
   "source": [
    "Sort the list `ids` by the last four digits of each id. Do this using lambda and not using a defined function. Save this sorted list in the variable `sorted_id`."
   ]
  },
  {
   "cell_type": "code",
   "execution_count": 45,
   "id": "3fe3686d",
   "metadata": {},
   "outputs": [
    {
     "name": "stdout",
     "output_type": "stream",
     "text": [
      "[17570002, 17572342, 17572345, 17573005, 17579000, 17579329]\n"
     ]
    }
   ],
   "source": [
    "ids = [17573005, 17572342, 17579000, 17570002, 17572345, 17579329]\n",
    "\n",
    "sorted_id = sorted(ids, key = (lambda id : int(str(id)[-4:])))\n",
    "\n",
    "print(sorted_id)"
   ]
  },
  {
   "cell_type": "markdown",
   "id": "d3bdb039",
   "metadata": {},
   "source": [
    "Sort the following list by each element’s second letter a to z. Do so by using lambda. Assign the resulting value to the variable `lambda_sort`."
   ]
  },
  {
   "cell_type": "code",
   "execution_count": 33,
   "id": "b15a0730",
   "metadata": {},
   "outputs": [],
   "source": [
    "ex_lst = ['hi', 'how are you', 'bye', 'apple', 'zebra', 'dance']\n",
    "\n",
    "lambda_sort = sorted(ex_lst, key = (lambda s : s[1]))"
   ]
  },
  {
   "cell_type": "code",
   "execution_count": null,
   "id": "a68a6e87",
   "metadata": {},
   "outputs": [],
   "source": []
  },
  {
   "cell_type": "code",
   "execution_count": null,
   "id": "0f754d57",
   "metadata": {},
   "outputs": [],
   "source": []
  },
  {
   "cell_type": "code",
   "execution_count": 47,
   "id": "39013365",
   "metadata": {},
   "outputs": [
    {
     "data": {
      "text/plain": [
       "'cd'"
      ]
     },
     "execution_count": 47,
     "metadata": {},
     "output_type": "execute_result"
    }
   ],
   "source": [
    "'abcd'[-2:]"
   ]
  },
  {
   "cell_type": "code",
   "execution_count": 53,
   "id": "0a3cdafa",
   "metadata": {},
   "outputs": [
    {
     "name": "stdout",
     "output_type": "stream",
     "text": [
      "[17570002, 17572342, 17572345, 17573005, 17579000, 17579329]\n"
     ]
    }
   ],
   "source": [
    "ids = [17573005, 17572342, 17579000, 17570002, 17572345, 17579329]\n",
    "def last_four(i):\n",
    "    return int(str(i)[-4:])\n",
    "sorted_id = sorted(ids, key = last_four)\n",
    "print(sorted_id)"
   ]
  },
  {
   "cell_type": "code",
   "execution_count": 54,
   "id": "392badca",
   "metadata": {},
   "outputs": [
    {
     "name": "stdout",
     "output_type": "stream",
     "text": [
      "[17570002, 17572342, 17572345, 17573005, 17579000, 17579329]\n"
     ]
    }
   ],
   "source": [
    "ids = [17573005, 17572342, 17579000, 17570002, 17572345, 17579329]\n",
    "sorted_id = sorted(ids, key = (lambda i : int(str(i)[-4:])))\n",
    "print(sorted_id)"
   ]
  },
  {
   "cell_type": "code",
   "execution_count": 55,
   "id": "2b16b698",
   "metadata": {},
   "outputs": [
    {
     "name": "stdout",
     "output_type": "stream",
     "text": [
      "{'key1': {'c': True, 'a': 90, '5': 50}, 'key2': {'b': 3, 'c': 'yes'}}\n",
      "--------\n",
      "{\n",
      "  \"key1\": {\n",
      "    \"5\": 50,\n",
      "    \"a\": 90,\n",
      "    \"c\": true\n",
      "  },\n",
      "  \"key2\": {\n",
      "    \"b\": 3,\n",
      "    \"c\": \"yes\"\n",
      "  }\n",
      "}\n"
     ]
    }
   ],
   "source": [
    "import json\n",
    "def pretty(obj):\n",
    "    return json.dumps(obj, sort_keys=True, indent=2)\n",
    "\n",
    "d = {'key1': {'c': True, 'a': 90, '5': 50}, 'key2':{'b': 3, 'c': \"yes\"}}\n",
    "\n",
    "print(d)\n",
    "print('--------')\n",
    "print(pretty(d))"
   ]
  },
  {
   "cell_type": "code",
   "execution_count": null,
   "id": "f84f3607",
   "metadata": {},
   "outputs": [],
   "source": []
  },
  {
   "cell_type": "code",
   "execution_count": null,
   "id": "9973a939",
   "metadata": {},
   "outputs": [],
   "source": []
  },
  {
   "cell_type": "code",
   "execution_count": 74,
   "id": "0562bb8f",
   "metadata": {},
   "outputs": [
    {
     "name": "stdout",
     "output_type": "stream",
     "text": [
      "['d', 'e', 'f']\n",
      "True\n"
     ]
    }
   ],
   "source": [
    "foo = [['a', 'b', 'c'], ['d', 'e', 'f']]\n",
    "tf = False\n",
    "for lst in foo:\n",
    "    if 'e' in lst:\n",
    "        print(lst)\n",
    "        tf = True\n",
    "        break\n",
    "        \n",
    "print(tf)"
   ]
  },
  {
   "cell_type": "code",
   "execution_count": null,
   "id": "2c785b48",
   "metadata": {},
   "outputs": [],
   "source": []
  }
 ],
 "metadata": {
  "kernelspec": {
   "display_name": "Python 3 (ipykernel)",
   "language": "python",
   "name": "python3"
  },
  "language_info": {
   "codemirror_mode": {
    "name": "ipython",
    "version": 3
   },
   "file_extension": ".py",
   "mimetype": "text/x-python",
   "name": "python",
   "nbconvert_exporter": "python",
   "pygments_lexer": "ipython3",
   "version": "3.8.11"
  }
 },
 "nbformat": 4,
 "nbformat_minor": 5
}
