{
 "cells": [
  {
   "cell_type": "markdown",
   "id": "78214f75",
   "metadata": {},
   "source": [
    "# Order of Operations\n",
    "\n",
    "1. parentheses: `( )`\n",
    "2. exponent: `**`\n",
    "3. negative/positive argument `-a`, `+b`\n",
    "4. multiplication: `*`, `/`, `//`, `%`, `@` (matrix multiplication)\n",
    "4. addition: `+`, `-`\n",
    "5. relational: (`==`, `!=`, `>`, `>=`, `<`, `<=`\n",
    "6. boolean `not` (flips Truthy or Falsy)\n",
    "7. boolean `and`\n",
    "8. boolean `or`\n",
    "\n",
    "(I don't know where membership operations `in`, `not in` goes)\n",
    "\n",
    "For readability, clarity, and to mitigage misunderstandings of OoO, just use parentheses in expressions."
   ]
  },
  {
   "cell_type": "code",
   "execution_count": null,
   "id": "6241ba88",
   "metadata": {},
   "outputs": [],
   "source": []
  }
 ],
 "metadata": {
  "kernelspec": {
   "display_name": "Python 3 (ipykernel)",
   "language": "python",
   "name": "python3"
  },
  "language_info": {
   "codemirror_mode": {
    "name": "ipython",
    "version": 3
   },
   "file_extension": ".py",
   "mimetype": "text/x-python",
   "name": "python",
   "nbconvert_exporter": "python",
   "pygments_lexer": "ipython3",
   "version": "3.8.11"
  }
 },
 "nbformat": 4,
 "nbformat_minor": 5
}
