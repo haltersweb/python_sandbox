{
 "cells": [
  {
   "cell_type": "markdown",
   "id": "fbe27892",
   "metadata": {},
   "source": [
    "# Slice Operator\n",
    "\n",
    "## slice notation `[start:stop:step]`"
   ]
  },
  {
   "cell_type": "code",
   "execution_count": 2,
   "id": "e3e7abd1",
   "metadata": {},
   "outputs": [],
   "source": [
    "foo = 'hello there'"
   ]
  },
  {
   "cell_type": "code",
   "execution_count": 3,
   "id": "460b6fe7",
   "metadata": {},
   "outputs": [
    {
     "name": "stdout",
     "output_type": "stream",
     "text": [
      "hel\n",
      "hel\n"
     ]
    }
   ],
   "source": [
    "print(foo[0:3])\n",
    "print(foo[:3])"
   ]
  },
  {
   "cell_type": "code",
   "execution_count": 8,
   "id": "d7cb6791",
   "metadata": {},
   "outputs": [
    {
     "name": "stdout",
     "output_type": "stream",
     "text": [
      "hello ther\n",
      "hello ther\n"
     ]
    }
   ],
   "source": [
    "print(foo[0:10])\n",
    "print(foo[:-1])"
   ]
  },
  {
   "cell_type": "code",
   "execution_count": 10,
   "id": "b68c021e",
   "metadata": {},
   "outputs": [
    {
     "name": "stdout",
     "output_type": "stream",
     "text": [
      "11\n",
      "hello there\n",
      "hello there\n",
      "hello there\n"
     ]
    }
   ],
   "source": [
    "print(len(foo))\n",
    "print(foo[0:11])\n",
    "print(foo[:len(foo)])\n",
    "print(foo[:])"
   ]
  },
  {
   "cell_type": "code",
   "execution_count": 16,
   "id": "0c40ca74",
   "metadata": {},
   "outputs": [
    {
     "name": "stdout",
     "output_type": "stream",
     "text": [
      "hlotee\n",
      "hlotee\n"
     ]
    }
   ],
   "source": [
    "print(foo[0:11:2])\n",
    "print(foo[::2])"
   ]
  },
  {
   "cell_type": "code",
   "execution_count": 18,
   "id": "8ba3cefe",
   "metadata": {},
   "outputs": [
    {
     "name": "stdout",
     "output_type": "stream",
     "text": [
      "hello there\n",
      "ereht olleh\n"
     ]
    }
   ],
   "source": [
    "print(foo[::1])\n",
    "print(foo[::-1])"
   ]
  },
  {
   "cell_type": "code",
   "execution_count": null,
   "id": "345bf0d2",
   "metadata": {},
   "outputs": [],
   "source": []
  }
 ],
 "metadata": {
  "kernelspec": {
   "display_name": "Python 3 (ipykernel)",
   "language": "python",
   "name": "python3"
  },
  "language_info": {
   "codemirror_mode": {
    "name": "ipython",
    "version": 3
   },
   "file_extension": ".py",
   "mimetype": "text/x-python",
   "name": "python",
   "nbconvert_exporter": "python",
   "pygments_lexer": "ipython3",
   "version": "3.8.11"
  }
 },
 "nbformat": 4,
 "nbformat_minor": 5
}
