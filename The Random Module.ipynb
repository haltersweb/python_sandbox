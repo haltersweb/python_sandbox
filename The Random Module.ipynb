{
 "cells": [
  {
   "cell_type": "markdown",
   "id": "f7cdf9d7",
   "metadata": {},
   "source": [
    "# The `random` Module\n",
    "\n",
    "Generates pseudo-random numbers.\n",
    "\n",
    "Never use for cryptography or security.  Too predictable and re-creatable.  Instead use the `secrets` module instead."
   ]
  },
  {
   "cell_type": "code",
   "execution_count": 3,
   "id": "04b06691",
   "metadata": {},
   "outputs": [
    {
     "data": {
      "text/plain": [
       "0.39274699204130736"
      ]
     },
     "execution_count": 3,
     "metadata": {},
     "output_type": "execute_result"
    }
   ],
   "source": [
    "import random\n",
    "random.random()"
   ]
  },
  {
   "cell_type": "code",
   "execution_count": 5,
   "id": "3f7034fc",
   "metadata": {},
   "outputs": [
    {
     "data": {
      "text/plain": [
       "['BPF',\n",
       " 'LOG4',\n",
       " 'NV_MAGICCONST',\n",
       " 'RECIP_BPF',\n",
       " 'Random',\n",
       " 'SG_MAGICCONST',\n",
       " 'SystemRandom',\n",
       " 'TWOPI',\n",
       " '_Sequence',\n",
       " '_Set',\n",
       " '__all__',\n",
       " '__builtins__',\n",
       " '__cached__',\n",
       " '__doc__',\n",
       " '__file__',\n",
       " '__loader__',\n",
       " '__name__',\n",
       " '__package__',\n",
       " '__spec__',\n",
       " '_accumulate',\n",
       " '_acos',\n",
       " '_bisect',\n",
       " '_ceil',\n",
       " '_cos',\n",
       " '_e',\n",
       " '_exp',\n",
       " '_inst',\n",
       " '_log',\n",
       " '_os',\n",
       " '_pi',\n",
       " '_random',\n",
       " '_repeat',\n",
       " '_sha512',\n",
       " '_sin',\n",
       " '_sqrt',\n",
       " '_test',\n",
       " '_test_generator',\n",
       " '_urandom',\n",
       " '_warn',\n",
       " 'betavariate',\n",
       " 'choice',\n",
       " 'choices',\n",
       " 'expovariate',\n",
       " 'gammavariate',\n",
       " 'gauss',\n",
       " 'getrandbits',\n",
       " 'getstate',\n",
       " 'lognormvariate',\n",
       " 'normalvariate',\n",
       " 'paretovariate',\n",
       " 'randint',\n",
       " 'random',\n",
       " 'randrange',\n",
       " 'sample',\n",
       " 'seed',\n",
       " 'setstate',\n",
       " 'shuffle',\n",
       " 'triangular',\n",
       " 'uniform',\n",
       " 'vonmisesvariate',\n",
       " 'weibullvariate']"
      ]
     },
     "execution_count": 5,
     "metadata": {},
     "output_type": "execute_result"
    }
   ],
   "source": [
    "# let's look at all random methods\n",
    "dir(random)"
   ]
  },
  {
   "cell_type": "markdown",
   "id": "82584a27",
   "metadata": {},
   "source": [
    "## Bookkeeping functions\n",
    "\n",
    "* `random.seed()`\n",
    "* `random.getstate()`\n",
    "* `random.setstate()`\n",
    "\n",
    "### `seed(a=None, version=2)`\n",
    "\n",
    "* Initializes the random number generator.\n",
    "* Paired with `random.random()`\n",
    "* Useful when you want to control the \"random\" result.\n",
    "\n",
    "#### a\n",
    "\n",
    "Optional.  A seed value that will generate the same random number every time.  Great for testing between developers.\n",
    "\n",
    "Default or `a=None`:\n",
    "* current system time is used  \n",
    "* Or other randomness source provided with os.urandom()\n",
    "\n",
    "If a is an `int`:\n",
    "* specific integer is used to always generate the same random number\n",
    "* must set it each time `random.random()` is run, otherwise **a** will default back\n",
    "\n",
    "#### version\n",
    "\n",
    "Version 2 is the default.  Version 1 is an older method.  No need to set."
   ]
  },
  {
   "cell_type": "code",
   "execution_count": 39,
   "id": "ea9ba2a2",
   "metadata": {},
   "outputs": [
    {
     "name": "stdout",
     "output_type": "stream",
     "text": [
      "With seed set to 100:\n",
      "0.1456692551041303\n",
      "With seed set to 100 again:\n",
      "0.1456692551041303\n",
      "With seed reverted to default:\n",
      "0.45492700451402135\n",
      "0.7707838056590222\n"
     ]
    }
   ],
   "source": [
    "# setting seed = 100\n",
    "random.seed(100)\n",
    "print(\"With seed set to 100:\")\n",
    "print(random.random())\n",
    "\n",
    "random.seed(100)\n",
    "print(\"With seed set to 100 again:\")\n",
    "print(random.random())\n",
    "\n",
    "# seed reverts back to default after random() call\n",
    "print(\"With seed reverted to default:\")\n",
    "print(random.random())\n",
    "print(random.random())"
   ]
  },
  {
   "cell_type": "markdown",
   "id": "555a7173",
   "metadata": {},
   "source": [
    "### `getstate()`\n",
    "\n",
    "* Returns an object capturing the current internal state (seed) of **one or more** following `random()`.\n",
    "* Then use that state next time with `setstate(state)` to generate the same random number(s)\n",
    "\n",
    "### `setstate(state)`\n",
    "\n",
    "* Reverts back to when `getstate()` was called and uses that.\n",
    "* This way you will get the same result as you did at `getstate()`.\n",
    "* paired with both `random()` and `getstate()`.\n",
    "\n",
    "#### state\n",
    "\n",
    "the state you had obtained with `getstate()`"
   ]
  },
  {
   "cell_type": "code",
   "execution_count": 46,
   "id": "13b6a690",
   "metadata": {
    "scrolled": true
   },
   "outputs": [
    {
     "name": "stdout",
     "output_type": "stream",
     "text": [
      "0.34700445361481724\n",
      "now get the state that dictates the following random numbers:\n",
      "0.6263216391927974\n",
      "0.9633157837008631\n",
      "revert to the state gotten and print the two random numbers again:\n",
      "0.6263216391927974\n",
      "0.9633157837008631\n",
      "we're still following the state we set:\n",
      "0.21083399208685016\n"
     ]
    }
   ],
   "source": [
    "print(random.random())\n",
    "print(\"now get the state that dictates the following random numbers:\")\n",
    "st = random.getstate()\n",
    "print(random.random())\n",
    "print(random.random())\n",
    "print(\"revert to the state gotten and print the two random numbers again:\")\n",
    "random.setstate(st)\n",
    "print(random.random())\n",
    "print(random.random())\n",
    "print(\"we're still following the state we set:\")\n",
    "print(random.random())"
   ]
  },
  {
   "cell_type": "code",
   "execution_count": 47,
   "id": "89d7f280",
   "metadata": {},
   "outputs": [
    {
     "name": "stdout",
     "output_type": "stream",
     "text": [
      "(3, (1787546680, 2835000078, 2124125430, 440972303, 3401674009, 2168484653, 2077999363, 152610013, 4192009738, 2059751988, 2307519835, 4080641595, 1398943226, 4049388473, 2153531171, 745260401, 3980084302, 675178041, 2638708678, 4269066800, 541328943, 696477377, 2764323465, 3927960198, 3204458709, 3125438741, 290699118, 1134796374, 3268359736, 4095377628, 3190109658, 2918737407, 3475859255, 192148871, 1631973137, 1741125563, 1202666734, 3973036964, 3936488542, 2047943488, 1945672432, 937644568, 437969033, 940759401, 2965594861, 3706893296, 3958903733, 3807459835, 3640229905, 2138609788, 2236183143, 988978801, 512366304, 3618670376, 2256796642, 4263366433, 3539373492, 3617931574, 3321397172, 1387327957, 1729435297, 1396752506, 3220650820, 2153720952, 1237790624, 3171180480, 3388517131, 3178219601, 1485942171, 358990798, 3445945907, 2097093425, 1179367024, 1648460439, 3608031480, 1515217143, 986819203, 2203558234, 3736150909, 2623888638, 2344657010, 2852172517, 1562780270, 492818548, 3952529490, 447646547, 2081480125, 1932392825, 3887951727, 2226245897, 719997766, 1717912135, 4113676997, 1696006002, 227915938, 3468498897, 893326101, 1062861832, 1963350693, 1085937955, 4268583269, 472184822, 3946793477, 3913458111, 2935047390, 3353477056, 1835435845, 1973323190, 2406823312, 1687855883, 876556900, 3259485619, 1731899246, 2978116631, 2294536741, 3648995959, 883940723, 772879535, 858513024, 61046727, 1680179480, 1312344642, 2744513169, 445791312, 269967290, 1605819501, 3989078375, 1017278341, 4221763023, 1924202838, 2212542292, 3702510075, 3766007714, 3055757377, 921629147, 2761420933, 3869130902, 1215744262, 2931501907, 4288257291, 2977571619, 3127659068, 1260328448, 3846892385, 2385885183, 4292229939, 408766466, 1311638255, 2240078444, 1576899225, 3575478585, 30077252, 3624842525, 3078171324, 3173335691, 3403535494, 14767050, 1260438698, 1096455380, 3572532738, 3202070440, 1243794048, 2833842335, 1599906149, 1456768263, 4091420988, 1882503184, 3147199200, 2663554979, 1435882720, 3053977324, 823584489, 1903209704, 2970371013, 3269759360, 3612160793, 1781111012, 4167867737, 176815005, 2986755978, 1846716912, 3533154870, 1149672010, 2585999665, 1131715984, 510114303, 2140237217, 2651154953, 97307593, 1083556076, 2889377735, 776370413, 4277608182, 3626795195, 3249651695, 2680897377, 1871982889, 1871055035, 1289538566, 524702311, 832095789, 3123020471, 2016009043, 937316826, 2741009158, 3584417191, 1249376627, 1305216127, 3743353708, 2697415891, 2104646648, 2136085156, 808791761, 1553141527, 3666252642, 1008803061, 4102361943, 2713415390, 2076377572, 1532344251, 518879053, 1030133301, 63440601, 93285101, 1180883598, 3653843114, 3991506846, 3413948814, 1065895952, 4019478308, 196766190, 2677202688, 1376092222, 2313341912, 2752584925, 842848482, 511308250, 303416710, 740529765, 3924844332, 3910627120, 2829349599, 3483150074, 3454713320, 636418806, 4289701789, 3541002019, 3008346381, 431681804, 3646693373, 1957464880, 870226167, 1929553858, 2647761668, 3088458211, 495887408, 1780758309, 2324056961, 3215027790, 320787222, 2848840431, 4105111912, 1547674619, 1166074054, 219572064, 2103454091, 4034678863, 2815601206, 2779717552, 238813787, 2689489063, 97348652, 3751614640, 3305151682, 917686661, 1580729163, 1081387241, 117365325, 4114008288, 3107862161, 3398825551, 716721411, 3010406175, 2949749829, 775309427, 3978365092, 3806740758, 2939858488, 377649454, 3890539028, 2307544179, 1167888499, 969992383, 3686659554, 1156005708, 318761658, 346456849, 2266987604, 2525244136, 4036360167, 1488710023, 3491550709, 3274016291, 3245161864, 1329389471, 1786252396, 751848009, 2591632118, 2245830521, 9860816, 327073754, 926987501, 2560905746, 2955028757, 1865514611, 1322728310, 2584573789, 20050868, 1112386174, 2916049421, 434381942, 1382833004, 2231380405, 2355866064, 226393087, 3684692061, 254201938, 3758891651, 377412397, 2128233431, 2394783627, 3253460421, 1205477267, 1637484839, 875841195, 970610461, 2096653566, 1236555228, 337894401, 2276693314, 3131705787, 1868348956, 602301474, 1054501071, 3062815030, 2728266999, 2721933060, 1632149514, 975679231, 3072915264, 3458453328, 320677216, 2196535534, 2926429188, 649638021, 3464644933, 3779613830, 3343090602, 1174268645, 913444547, 1127528077, 2676436005, 78858206, 4112368683, 3346681609, 2144229245, 2244277851, 2507472911, 1152175851, 1657556950, 1946133173, 728322239, 828465576, 1954591102, 957906697, 3401568798, 1222883330, 1234989605, 3997391964, 13046593, 1316190761, 2818911760, 1574383566, 2237733474, 1553502430, 2457557147, 1975458768, 2175398217, 4239783811, 968431040, 3059672600, 2287732849, 2202687202, 19199741, 3383893934, 1289862200, 2663762039, 483824322, 2253586493, 2708538985, 3365370836, 4141488106, 1417965601, 1999123428, 98700139, 2610676937, 623129441, 3117401503, 612282942, 509791424, 3621882655, 3831408533, 3081323471, 1673073074, 3132217214, 3150769013, 1780434249, 4031359806, 4183080188, 3073062960, 1163827418, 4019636386, 1003393161, 2808264610, 1197156071, 3772661411, 751552864, 216660272, 2582390259, 166469505, 971724837, 3904168075, 2985837822, 3770492080, 4227244628, 98454466, 2156863703, 1397547633, 1093206404, 3283110935, 55983369, 311468324, 658222036, 511920085, 4072010569, 2713310715, 2662679871, 1733722081, 2347166594, 2444058458, 685786631, 2207703792, 1804262378, 3454426226, 127181076, 2036436637, 1873785181, 49934860, 1079062047, 886738614, 3596379407, 334314642, 2516232722, 1254770165, 2226968662, 3721144885, 509606949, 3117916399, 1227447819, 2433551945, 2956153611, 4103426017, 1364175191, 91568587, 3318984586, 3717715273, 362414014, 2793470579, 1920606788, 1984713240, 1983314485, 2101264810, 3381029549, 175167300, 3386946970, 23193648, 3735129379, 1041153196, 1688609196, 316325962, 1381561937, 1438604007, 2388662764, 1319507036, 759523998, 2345548184, 2842307568, 841614296, 312991053, 2415513267, 163255992, 589144364, 2990605064, 3875368026, 3388935162, 708060078, 183070387, 961863347, 1013407162, 384207864, 1178810674, 120828612, 2854650115, 3044888893, 4281779495, 497752980, 2645543506, 2420191973, 493159292, 4248573440, 1254878685, 602526488, 3561634793, 565576042, 2926793420, 3651724382, 3631408515, 1862175411, 2590447930, 640562557, 2762239598, 3704145812, 2964019540, 805444275, 2500862204, 3378483933, 2361536222, 3055054139, 1445657826, 1797171778, 1602634246, 4192554595, 3615119745, 4266146216, 830462370, 1729886967, 2796807708, 3921158983, 111030805, 1362706367, 1100100348, 1567738625, 2994779902, 3305670632, 1707718066, 3919917356, 3835495959, 3892274345, 671599831, 1269759830, 224751645, 60294092, 1593115061, 1579378808, 1480229868, 2000410882, 4112261640, 2463263622, 2728646569, 552085975, 3555903451, 3039132097, 1831301100, 4044778299, 1675835913, 648196250, 809485194, 477160570, 4051272440, 2749773644, 3492510524, 985840352, 684273647, 1010912924, 2877221493, 4068823308, 168125668, 912792625, 3049671785, 2588476630, 1143447331, 2149544555, 4163968735, 1616965689, 386487160, 421799896, 181206101, 4049714489, 2362317530, 2940892834, 1410541824, 749942066, 791520725, 4114814101, 4165839056, 4016371256, 1787376493, 1858605919, 1203893485, 1063150888, 3895083870, 192958868, 731621606, 963134955, 2472347807, 1204385949, 757627657, 1831518600, 2527208853, 1683133020, 1177118552, 1742717827, 75281788, 3951046251, 40), None)\n"
     ]
    }
   ],
   "source": [
    "print(st)"
   ]
  },
  {
   "cell_type": "markdown",
   "id": "aaf54e67",
   "metadata": {},
   "source": [
    "## Random bytes\n",
    "\n",
    "* `random.randbytes()`\n",
    "\n",
    "## Random integers\n",
    "\n",
    "* `random.randrange()`\n",
    "* `random.randint()`\n",
    "* `random.getrandbits()`\n",
    "\n",
    "### `randrange(stop)` and `randrange(start, stop[, step])`\n",
    "\n",
    "* Returns a randomly selected element from either `0` or `start` to `(1 - stop)`\n",
    "* Does **not** build a range object.  So less memory req'd.\n",
    "* Similar function `choice(range(start, stop, step))` **does** build a range object.\n",
    "* step is assumed to be `1` unless specified"
   ]
  },
  {
   "cell_type": "code",
   "execution_count": 64,
   "id": "860fb457",
   "metadata": {},
   "outputs": [
    {
     "data": {
      "text/plain": [
       "1"
      ]
     },
     "execution_count": 64,
     "metadata": {},
     "output_type": "execute_result"
    }
   ],
   "source": [
    "random.randrange(5) # 0,1,2,3,4"
   ]
  },
  {
   "cell_type": "code",
   "execution_count": 65,
   "id": "015a54da",
   "metadata": {},
   "outputs": [
    {
     "data": {
      "text/plain": [
       "6"
      ]
     },
     "execution_count": 65,
     "metadata": {},
     "output_type": "execute_result"
    }
   ],
   "source": [
    "random.randrange(3,7) # 3,4,5,6"
   ]
  },
  {
   "cell_type": "code",
   "execution_count": 80,
   "id": "5bf6cf15",
   "metadata": {},
   "outputs": [
    {
     "data": {
      "text/plain": [
       "5"
      ]
     },
     "execution_count": 80,
     "metadata": {},
     "output_type": "execute_result"
    }
   ],
   "source": [
    "random.randrange(3,7,2) # 3,5"
   ]
  },
  {
   "cell_type": "markdown",
   "id": "4dc9cff7",
   "metadata": {},
   "source": [
    "### `randint(a, b)`\n",
    "\n",
    "* Returns a random integer from a to **inclusive** b\n",
    "* same as `randrange(a, b+1)`"
   ]
  },
  {
   "cell_type": "code",
   "execution_count": 79,
   "id": "d1153e39",
   "metadata": {},
   "outputs": [
    {
     "data": {
      "text/plain": [
       "4"
      ]
     },
     "execution_count": 79,
     "metadata": {},
     "output_type": "execute_result"
    }
   ],
   "source": [
    "random.randint(2,4) # 2,3,4"
   ]
  },
  {
   "cell_type": "markdown",
   "id": "31f417b2",
   "metadata": {},
   "source": [
    "### `getrandbits(k)`"
   ]
  },
  {
   "cell_type": "markdown",
   "id": "50586ced",
   "metadata": {},
   "source": [
    "## For sequences\n",
    "\n",
    "* `random.choice()`\n",
    "* `random.choices()`\n",
    "* `random.shuffle()`\n",
    "* `random.sample()`\n",
    "\n",
    "### `choice(seq)`\n",
    "\n",
    "Returns a random element from sequence `seq`"
   ]
  },
  {
   "cell_type": "code",
   "execution_count": 83,
   "id": "af1168d1",
   "metadata": {},
   "outputs": [
    {
     "name": "stdout",
     "output_type": "stream",
     "text": [
      "Ciao Adina!\n"
     ]
    }
   ],
   "source": [
    "greeting = random.choice(['Hello', 'Ciao', 'Howdy', 'Hey ho', 'Hi'])\n",
    "print(greeting, 'Adina!')"
   ]
  },
  {
   "cell_type": "markdown",
   "id": "ddd9e595",
   "metadata": {},
   "source": [
    "### `choices(population, weights=None, *, cum_weights=None, k=1)`\n",
    "\n",
    "### `shuffle(x)`\n",
    "\n",
    "### `sample(population, k, *, counts=None)`"
   ]
  },
  {
   "cell_type": "markdown",
   "id": "042f7c15",
   "metadata": {},
   "source": [
    "## Real-valued distributions\n",
    "\n",
    "* `random.random()`\n",
    "* `random.uniform()`\n",
    "* and lots more\n",
    "\n",
    "### `random()`\n",
    "\n",
    "* returns the next random floating point number in range `[0.0, 1.0)`\n",
    "* aka `0.0 - 0.99999...`"
   ]
  },
  {
   "cell_type": "code",
   "execution_count": 84,
   "id": "ccdaf781",
   "metadata": {},
   "outputs": [
    {
     "data": {
      "text/plain": [
       "0.8473725082277769"
      ]
     },
     "execution_count": 84,
     "metadata": {},
     "output_type": "execute_result"
    }
   ],
   "source": [
    "random.random()"
   ]
  },
  {
   "cell_type": "markdown",
   "id": "116adbe9",
   "metadata": {},
   "source": [
    "### `uniform(a, b)`\n",
    "\n",
    "* returns a random FP number between a and b, where a <= N <=b"
   ]
  },
  {
   "cell_type": "code",
   "execution_count": null,
   "id": "2464668a",
   "metadata": {},
   "outputs": [],
   "source": []
  }
 ],
 "metadata": {
  "kernelspec": {
   "display_name": "Python 3 (ipykernel)",
   "language": "python",
   "name": "python3"
  },
  "language_info": {
   "codemirror_mode": {
    "name": "ipython",
    "version": 3
   },
   "file_extension": ".py",
   "mimetype": "text/x-python",
   "name": "python",
   "nbconvert_exporter": "python",
   "pygments_lexer": "ipython3",
   "version": "3.8.11"
  }
 },
 "nbformat": 4,
 "nbformat_minor": 5
}
