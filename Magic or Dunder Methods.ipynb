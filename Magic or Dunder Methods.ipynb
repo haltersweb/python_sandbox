{
 "cells": [
  {
   "cell_type": "markdown",
   "id": "5e165dda",
   "metadata": {},
   "source": [
    "Magic (aka Dunder) Methods\n",
    "\n",
    "\n",
    "AKA \"dunder\" (double under) methods due to initial and trailing \"\\_\\_\"\n",
    "\n",
    "Examples are:\n",
    "\n",
    "* \\_\\_init\\_\\_\n",
    "* \\_\\_add\\_\\_\n",
    "* \\_\\_next\\_\\_\n",
    "* \\_\\_main\\_\\_\n",
    "* \\_\\_len\\_\\_\n",
    "\n",
    "For example, \\_\\_init\\_\\_() is a method for initialization.  It is invoked without any call, when an instance of a class is created. (Similar to constructors in other languages)"
   ]
  },
  {
   "cell_type": "code",
   "execution_count": null,
   "id": "4f2b4bfa",
   "metadata": {},
   "outputs": [],
   "source": []
  }
 ],
 "metadata": {
  "kernelspec": {
   "display_name": "Python 3 (ipykernel)",
   "language": "python",
   "name": "python3"
  },
  "language_info": {
   "codemirror_mode": {
    "name": "ipython",
    "version": 3
   },
   "file_extension": ".py",
   "mimetype": "text/x-python",
   "name": "python",
   "nbconvert_exporter": "python",
   "pygments_lexer": "ipython3",
   "version": "3.9.6"
  }
 },
 "nbformat": 4,
 "nbformat_minor": 5
}
