{
 "cells": [
  {
   "cell_type": "markdown",
   "id": "43b1cd8d",
   "metadata": {},
   "source": [
    "# Strings\n",
    "\n",
    "## Immutable\n",
    "\n",
    "Strings are immutable.  You can't change them.  You can just return a new string.\n",
    "\n",
    "## Special types of strings\n",
    "\n",
    "* unicode string (u).  The default.\n",
    "* f-string (f or F).  Used for formatting.\n",
    "* raw string (r or R).  Used to prevent escape characters in a string.\n",
    "* raw f-string (fr, fR, Fr, FR)\n",
    "* bytes (b)\n",
    "* empty string i.e. myStr = \"\"\n",
    "\n",
    "## Triple quotes\n",
    "\n",
    "* ''' ''' or \"\"\" \"\"\"\n",
    "* Used for __multiline__ strings"
   ]
  },
  {
   "cell_type": "code",
   "execution_count": 4,
   "id": "0af8c4d7",
   "metadata": {},
   "outputs": [
    {
     "data": {
      "text/plain": [
       "\"\\nWhether the weather be cold\\nor whether the weather be hot\\nwe'll be together whatever the weather\\nwhether we like it or not.\\n\""
      ]
     },
     "execution_count": 4,
     "metadata": {},
     "output_type": "execute_result"
    }
   ],
   "source": [
    "poem = '''\n",
    "Whether the weather be cold\n",
    "or whether the weather be hot\n",
    "we'll be together whatever the weather\n",
    "whether we like it or not.\n",
    "'''\n",
    "poem"
   ]
  },
  {
   "cell_type": "code",
   "execution_count": 5,
   "id": "41663fdf",
   "metadata": {},
   "outputs": [
    {
     "name": "stdout",
     "output_type": "stream",
     "text": [
      "\n",
      "Whether the weather be cold\n",
      "or whether the weather be hot\n",
      "we'll be together whatever the weather\n",
      "whether we like it or not.\n",
      "\n"
     ]
    }
   ],
   "source": [
    "print(poem)"
   ]
  },
  {
   "cell_type": "markdown",
   "id": "be68d979",
   "metadata": {},
   "source": [
    "## Raw stings\n",
    "* negates escapes such as \\n, \\t, etc.\n",
    "* doesn't affect multiline new lines created using triple quotes\n",
    "* for some reason an extra backslash is added when outputting the variable (but not when printing)"
   ]
  },
  {
   "cell_type": "code",
   "execution_count": 12,
   "id": "db6f910a",
   "metadata": {},
   "outputs": [
    {
     "data": {
      "text/plain": [
       "'She said: \\\\\"I had a duckbilled platipus\\\\nWhen I was up at Trinity.\\\\\"'"
      ]
     },
     "execution_count": 12,
     "metadata": {},
     "output_type": "execute_result"
    }
   ],
   "source": [
    "penguin = r\"She said: \\\"I had a duckbilled platipus\\nWhen I was up at Trinity.\\\"\"\n",
    "penguin\n",
    "# (note the extra backslashes)"
   ]
  },
  {
   "cell_type": "code",
   "execution_count": 13,
   "id": "5134b2fe",
   "metadata": {},
   "outputs": [
    {
     "name": "stdout",
     "output_type": "stream",
     "text": [
      "She said: \\\"I had a duckbilled platipus\\nWhen I was up at Trinity.\\\"\n"
     ]
    }
   ],
   "source": [
    "print(penguin)\n",
    "# (all escape characters are printed literally)"
   ]
  },
  {
   "cell_type": "code",
   "execution_count": 14,
   "id": "b55e97eb",
   "metadata": {},
   "outputs": [
    {
     "data": {
      "text/plain": [
       "'\\nBoys and girls, come out to play.\\nThe moon doth shine as bright as day.\\n'"
      ]
     },
     "execution_count": 14,
     "metadata": {},
     "output_type": "execute_result"
    }
   ],
   "source": [
    "moon = r'''\n",
    "Boys and girls, come out to play.\n",
    "The moon doth shine as bright as day.\n",
    "'''\n",
    "moon\n",
    "# (retains the multiline format)"
   ]
  },
  {
   "cell_type": "code",
   "execution_count": 15,
   "id": "10004abd",
   "metadata": {},
   "outputs": [
    {
     "name": "stdout",
     "output_type": "stream",
     "text": [
      "\n",
      "Boys and girls, come out to play.\n",
      "The moon doth shine as bright as day.\n",
      "\n"
     ]
    }
   ],
   "source": [
    "print(moon)\n",
    "# (printed as multiline)"
   ]
  },
  {
   "cell_type": "markdown",
   "id": "1dce5d15",
   "metadata": {},
   "source": [
    "## Combine in other ways (besides \"+\")\n",
    "### space delimited"
   ]
  },
  {
   "cell_type": "code",
   "execution_count": 18,
   "id": "f99f1c3a",
   "metadata": {},
   "outputs": [
    {
     "data": {
      "text/plain": [
       "'Hello. Goodbye.'"
      ]
     },
     "execution_count": 18,
     "metadata": {},
     "output_type": "execute_result"
    }
   ],
   "source": [
    "\"Hello. \" \"Goodbye.\""
   ]
  },
  {
   "cell_type": "code",
   "execution_count": 19,
   "id": "282d0797",
   "metadata": {},
   "outputs": [
    {
     "name": "stdout",
     "output_type": "stream",
     "text": [
      "Ciao. Arrivederci.\n"
     ]
    }
   ],
   "source": [
    "print(\"Ciao. \" \"Arrivederci.\")"
   ]
  },
  {
   "cell_type": "markdown",
   "id": "f3ebf624",
   "metadata": {},
   "source": [
    "### space between\n",
    "\n",
    "* when concatenating, Python doesn't add spaces.\n",
    "* when printing with multiple arguments, Python DOES add spaces."
   ]
  },
  {
   "cell_type": "code",
   "execution_count": 23,
   "id": "f1308eba",
   "metadata": {},
   "outputs": [
    {
     "name": "stdout",
     "output_type": "stream",
     "text": [
      "onetwothree\n"
     ]
    }
   ],
   "source": [
    "one = \"one\"\n",
    "two = \"two\"\n",
    "three = \"three\"\n",
    "foo = one + two + three\n",
    "print(foo)"
   ]
  },
  {
   "cell_type": "code",
   "execution_count": 25,
   "id": "662b3c6e",
   "metadata": {},
   "outputs": [
    {
     "name": "stdout",
     "output_type": "stream",
     "text": [
      "one two three\n"
     ]
    }
   ],
   "source": [
    "print(one,two,three)"
   ]
  },
  {
   "cell_type": "markdown",
   "id": "fe573e26",
   "metadata": {},
   "source": [
    "### duplication"
   ]
  },
  {
   "cell_type": "code",
   "execution_count": 36,
   "id": "fd77fc00",
   "metadata": {},
   "outputs": [
    {
     "data": {
      "text/plain": [
       "'Na Na Na \\n'"
      ]
     },
     "execution_count": 36,
     "metadata": {},
     "output_type": "execute_result"
    }
   ],
   "source": [
    "start = \"Na \" * 3 + '\\n'\n",
    "start"
   ]
  },
  {
   "cell_type": "code",
   "execution_count": 37,
   "id": "58f80256",
   "metadata": {},
   "outputs": [
    {
     "data": {
      "text/plain": [
       "'Boo Boo \\n'"
      ]
     },
     "execution_count": 37,
     "metadata": {},
     "output_type": "execute_result"
    }
   ],
   "source": [
    "end = \"Boo \" * 2 + '\\n'\n",
    "end"
   ]
  },
  {
   "cell_type": "code",
   "execution_count": 38,
   "id": "ae3bab11",
   "metadata": {},
   "outputs": [
    {
     "name": "stdout",
     "output_type": "stream",
     "text": [
      "Na Na Na \n",
      "Na Na Na \n",
      "Boo Boo \n",
      "\n"
     ]
    }
   ],
   "source": [
    "print (start + start + end)"
   ]
  },
  {
   "cell_type": "markdown",
   "id": "d76c6582",
   "metadata": {},
   "source": [
    "### strings are immutable\n",
    "\n",
    "* can't insert or remove a letter\n",
    "* can't change a letter\n",
    "* need to use replace() or slice() instead"
   ]
  },
  {
   "cell_type": "code",
   "execution_count": 43,
   "id": "fce9cff8",
   "metadata": {},
   "outputs": [
    {
     "ename": "TypeError",
     "evalue": "'str' object does not support item assignment",
     "output_type": "error",
     "traceback": [
      "\u001b[0;31m---------------------------------------------------------------------------\u001b[0m",
      "\u001b[0;31mTypeError\u001b[0m                                 Traceback (most recent call last)",
      "\u001b[0;32m/var/folders/bq/fvvldy095vz80qbkf7d8zz2h0000gp/T/ipykernel_4328/1792857918.py\u001b[0m in \u001b[0;36m<module>\u001b[0;34m\u001b[0m\n\u001b[0;32m----> 1\u001b[0;31m \u001b[0mstart\u001b[0m\u001b[0;34m[\u001b[0m\u001b[0;36m0\u001b[0m\u001b[0;34m]\u001b[0m \u001b[0;34m=\u001b[0m \u001b[0;34m\"Z\"\u001b[0m\u001b[0;34m\u001b[0m\u001b[0;34m\u001b[0m\u001b[0m\n\u001b[0m\u001b[1;32m      2\u001b[0m \u001b[0;31m# gives you a TypeError:\u001b[0m\u001b[0;34m\u001b[0m\u001b[0;34m\u001b[0m\u001b[0;34m\u001b[0m\u001b[0m\n",
      "\u001b[0;31mTypeError\u001b[0m: 'str' object does not support item assignment"
     ]
    }
   ],
   "source": [
    "start[0] = \"Z\"\n",
    "# gives you a TypeError:"
   ]
  },
  {
   "cell_type": "markdown",
   "id": "f763c659",
   "metadata": {},
   "source": [
    "## Get Characters with [ ]\n",
    "\n",
    "### single characters"
   ]
  },
  {
   "cell_type": "code",
   "execution_count": 40,
   "id": "a64ec02f",
   "metadata": {},
   "outputs": [
    {
     "name": "stdout",
     "output_type": "stream",
     "text": [
      "S\n",
      "u\n",
      "s\n"
     ]
    }
   ],
   "source": [
    "super = \"Supercalifragilisticexpialidocious\"\n",
    "print(super[0])\n",
    "print(super[1])\n",
    "print(super[-1])"
   ]
  },
  {
   "cell_type": "markdown",
   "id": "9830b802",
   "metadata": {},
   "source": [
    "### substrings with slice\n",
    "\n",
    "* \\[ : \\] extracts entire sequence (string), beginning to end.  Same as \\[ 0 : \\]\n",
    "* \\[ *start* : \\] extracts from start offset to end\n",
    "* \\[ : *end* \\] extracts from beginning to end offset non-inclusively (*end* offset - 1)\n",
    "* \\[ *start* : *end* \\] extracts from start offset to end offset non-inclusively\n",
    "* \\[ *start* : *end* : *step* \\] same as above but skipping characters by step"
   ]
  },
  {
   "cell_type": "code",
   "execution_count": 46,
   "id": "81c877a6",
   "metadata": {},
   "outputs": [
    {
     "data": {
      "text/plain": [
       "'Seafgiixadis'"
      ]
     },
     "execution_count": 46,
     "metadata": {},
     "output_type": "execute_result"
    }
   ],
   "source": [
    "super[ : : 3]"
   ]
  },
  {
   "cell_type": "markdown",
   "id": "942183f7",
   "metadata": {},
   "source": [
    "## length with len()"
   ]
  },
  {
   "cell_type": "code",
   "execution_count": 47,
   "id": "283265d5",
   "metadata": {},
   "outputs": [
    {
     "data": {
      "text/plain": [
       "34"
      ]
     },
     "execution_count": 47,
     "metadata": {},
     "output_type": "execute_result"
    }
   ],
   "source": [
    "len(super)"
   ]
  },
  {
   "cell_type": "markdown",
   "id": "8a85b92b",
   "metadata": {},
   "source": [
    "## split with split()\n",
    "\n",
    "* if no argument, default splitting character is a whitespace (space, newline, tabs]\n",
    "* pass character(s) you want to split on as argument"
   ]
  },
  {
   "cell_type": "code",
   "execution_count": 58,
   "id": "3b61a0d7",
   "metadata": {},
   "outputs": [
    {
     "data": {
      "text/plain": [
       "['Superca', 'fragi', 'sticexpia', 'docious']"
      ]
     },
     "execution_count": 58,
     "metadata": {},
     "output_type": "execute_result"
    }
   ],
   "source": [
    "super.split(\"li\")"
   ]
  },
  {
   "cell_type": "markdown",
   "id": "33e1ff28",
   "metadata": {},
   "source": [
    "## combine with join()\n",
    "\n",
    "## substitute with replace()\n",
    "\n",
    "## strip with strip()\n",
    "\n",
    "* default removes whitespace (space, newline, tabs) from beginning and end of string.\n",
    "* pass argument to remove specific character(s) from beginning and end. i.e. \" \", \"S\", \"Ss\" etc.\n",
    "* use lstrip() and rstrip() for only stripping left and right\n",
    "* remember, does __not__ change the string.  Just returns a new string."
   ]
  },
  {
   "cell_type": "code",
   "execution_count": 62,
   "id": "ea3436c8",
   "metadata": {},
   "outputs": [
    {
     "data": {
      "text/plain": [
       "'upercalifragilisticexpialidocious'"
      ]
     },
     "execution_count": 62,
     "metadata": {},
     "output_type": "execute_result"
    }
   ],
   "source": [
    "super.strip(\"S\")"
   ]
  },
  {
   "cell_type": "code",
   "execution_count": 64,
   "id": "f4042e2b",
   "metadata": {},
   "outputs": [
    {
     "data": {
      "text/plain": [
       "'upercalifragilisticexpialidociou'"
      ]
     },
     "execution_count": 64,
     "metadata": {},
     "output_type": "execute_result"
    }
   ],
   "source": [
    "super.strip(\"Ss\")"
   ]
  },
  {
   "cell_type": "code",
   "execution_count": 61,
   "id": "309d2305",
   "metadata": {},
   "outputs": [
    {
     "data": {
      "text/plain": [
       "'What the'"
      ]
     },
     "execution_count": 61,
     "metadata": {},
     "output_type": "execute_result"
    }
   ],
   "source": [
    "\"What the...!!?\".strip(\".?!\")"
   ]
  },
  {
   "cell_type": "markdown",
   "id": "1c0d83ca",
   "metadata": {},
   "source": [
    "## len() for length\n",
    "\n",
    "## startswith() and endswith()\n",
    "\n",
    "## find() and index()\n",
    "* two versions of each for starting at beginning or end\n",
    "    * find() and rfind()\n",
    "    * index() and rindex()\n",
    "* work the same if substring found\n",
    "* if substring not found:\n",
    "    * __find()__ returns __-1__\n",
    "    * __index()__ raises an exception (ValueError: substring not found)"
   ]
  },
  {
   "cell_type": "code",
   "execution_count": 67,
   "id": "10f43037",
   "metadata": {},
   "outputs": [
    {
     "name": "stdout",
     "output_type": "stream",
     "text": [
      "7\n",
      "7\n"
     ]
    }
   ],
   "source": [
    "# find the first \"li\" in Supercalifragilisticexpialidocious\n",
    "print(super.find(\"li\"))\n",
    "print(super.index(\"li\"))"
   ]
  },
  {
   "cell_type": "code",
   "execution_count": 68,
   "id": "c0a095be",
   "metadata": {},
   "outputs": [
    {
     "name": "stdout",
     "output_type": "stream",
     "text": [
      "25\n",
      "25\n"
     ]
    }
   ],
   "source": [
    "# find the last \"li\" in Supercalifragilisticexpialidocious\n",
    "print(super.rfind(\"li\"))\n",
    "print(super.rindex(\"li\"))\n",
    "\n",
    "# index where the last substring began (where the \"l\" in the last \"li\" is)"
   ]
  },
  {
   "cell_type": "code",
   "execution_count": 71,
   "id": "c22cc164",
   "metadata": {},
   "outputs": [
    {
     "name": "stdout",
     "output_type": "stream",
     "text": [
      "-1\n"
     ]
    }
   ],
   "source": [
    "# find a substring that isn't there\n",
    "print(super.find(\"sam\"))"
   ]
  },
  {
   "cell_type": "code",
   "execution_count": 72,
   "id": "ef598f4d",
   "metadata": {},
   "outputs": [
    {
     "ename": "ValueError",
     "evalue": "substring not found",
     "output_type": "error",
     "traceback": [
      "\u001b[0;31m---------------------------------------------------------------------------\u001b[0m",
      "\u001b[0;31mValueError\u001b[0m                                Traceback (most recent call last)",
      "\u001b[0;32m/var/folders/bq/fvvldy095vz80qbkf7d8zz2h0000gp/T/ipykernel_4328/2395537849.py\u001b[0m in \u001b[0;36m<module>\u001b[0;34m\u001b[0m\n\u001b[1;32m      1\u001b[0m \u001b[0;31m# find a string that isn't there\u001b[0m\u001b[0;34m\u001b[0m\u001b[0;34m\u001b[0m\u001b[0;34m\u001b[0m\u001b[0m\n\u001b[0;32m----> 2\u001b[0;31m \u001b[0mprint\u001b[0m\u001b[0;34m(\u001b[0m\u001b[0msuper\u001b[0m\u001b[0;34m.\u001b[0m\u001b[0mindex\u001b[0m\u001b[0;34m(\u001b[0m\u001b[0;34m\"sam\"\u001b[0m\u001b[0;34m)\u001b[0m\u001b[0;34m)\u001b[0m\u001b[0;34m\u001b[0m\u001b[0;34m\u001b[0m\u001b[0m\n\u001b[0m",
      "\u001b[0;31mValueError\u001b[0m: substring not found"
     ]
    }
   ],
   "source": [
    "# find a substring that isn't there\n",
    "print(super.index(\"sam\"))\n",
    "\n",
    "# returns ValueError: substring not found"
   ]
  },
  {
   "cell_type": "markdown",
   "id": "b2e21727",
   "metadata": {},
   "source": [
    "## count\n",
    "\n",
    "How many times does a substring occur"
   ]
  },
  {
   "cell_type": "code",
   "execution_count": 73,
   "id": "943c67f5",
   "metadata": {},
   "outputs": [
    {
     "data": {
      "text/plain": [
       "3"
      ]
     },
     "execution_count": 73,
     "metadata": {},
     "output_type": "execute_result"
    }
   ],
   "source": [
    "super.count(\"li\")"
   ]
  },
  {
   "cell_type": "markdown",
   "id": "ee503a0a",
   "metadata": {},
   "source": [
    "## isalnum()\n",
    "\n",
    "* Are all the characters __letters and/or numbers__?\n",
    "* i.e. __False__ if there is __punctuation__"
   ]
  },
  {
   "cell_type": "code",
   "execution_count": 79,
   "id": "1b0269de",
   "metadata": {},
   "outputs": [
    {
     "name": "stdout",
     "output_type": "stream",
     "text": [
      "True\n",
      "False\n"
     ]
    }
   ],
   "source": [
    "abc123 = \"abc123\"\n",
    "wow = \"Wow!!\"\n",
    "\n",
    "print(abc123.isalnum())\n",
    "print(wow.isalnum())"
   ]
  },
  {
   "cell_type": "markdown",
   "id": "db5d6a01",
   "metadata": {},
   "source": [
    "## Change case\n",
    "\n",
    "* capitalize()\n",
    "* title()\n",
    "* upper()\n",
    "* lower()\n",
    "* swapcase()"
   ]
  },
  {
   "cell_type": "code",
   "execution_count": 83,
   "id": "fec63329",
   "metadata": {},
   "outputs": [
    {
     "name": "stdout",
     "output_type": "stream",
     "text": [
      "a duck named Harry goes into a bar...\n"
     ]
    }
   ],
   "source": [
    "duck = \"a duck named Harry goes into a bar...\"\n",
    "print(duck)"
   ]
  },
  {
   "cell_type": "code",
   "execution_count": 84,
   "id": "b4453d46",
   "metadata": {},
   "outputs": [
    {
     "name": "stdout",
     "output_type": "stream",
     "text": [
      "A duck named harry goes into a bar...\n",
      "A Duck Named Harry Goes Into A Bar...\n",
      "A DUCK NAMED HARRY GOES INTO A BAR...\n",
      "a duck named harry goes into a bar...\n",
      "A DUCK NAMED hARRY GOES INTO A BAR...\n"
     ]
    }
   ],
   "source": [
    "print(duck.capitalize())\n",
    "print(duck.title())\n",
    "print(duck.upper())\n",
    "print(duck.lower())\n",
    "print(duck.swapcase())"
   ]
  },
  {
   "cell_type": "markdown",
   "id": "37b68a5d",
   "metadata": {},
   "source": [
    "## Alignment\n",
    "* center()\n",
    "* ljust()\n",
    "* rjust()\n",
    "\n",
    "all require an argument of the total number of spaces"
   ]
  },
  {
   "cell_type": "code",
   "execution_count": 91,
   "id": "6d4e95d4",
   "metadata": {},
   "outputs": [
    {
     "name": "stdout",
     "output_type": "stream",
     "text": [
      "|      a duck named Harry goes into a bar...       |\n",
      "|a duck named Harry goes into a bar...             |\n",
      "|             a duck named Harry goes into a bar...|\n"
     ]
    }
   ],
   "source": [
    "print(\"|\" + duck.center(50) + \"|\")\n",
    "print(\"|\" + duck.ljust(50) + \"|\")\n",
    "print(\"|\" + duck.rjust(50) + \"|\")"
   ]
  },
  {
   "cell_type": "code",
   "execution_count": null,
   "id": "bbc45093",
   "metadata": {},
   "outputs": [],
   "source": [
    "##"
   ]
  }
 ],
 "metadata": {
  "kernelspec": {
   "display_name": "Python 3 (ipykernel)",
   "language": "python",
   "name": "python3"
  },
  "language_info": {
   "codemirror_mode": {
    "name": "ipython",
    "version": 3
   },
   "file_extension": ".py",
   "mimetype": "text/x-python",
   "name": "python",
   "nbconvert_exporter": "python",
   "pygments_lexer": "ipython3",
   "version": "3.8.11"
  }
 },
 "nbformat": 4,
 "nbformat_minor": 5
}
