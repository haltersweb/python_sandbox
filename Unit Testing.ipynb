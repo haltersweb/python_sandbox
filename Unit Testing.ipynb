{
 "cells": [
  {
   "cell_type": "markdown",
   "id": "e01d8be7",
   "metadata": {},
   "source": [
    "# Unit Testing\n",
    "\n",
    "## writing tests\n",
    "\n",
    "1. consider all edge cases\n",
    "2. consider both happy and sad journeys\n",
    "3. consider anything that could go wrong\n",
    "4. __return value tests__ test what was returned when a function was invoked\n",
    "5. __side effect tests__ test if a variable was changed correctly\n",
    "6. other things you can test include printed output and writing to a file\n",
    "\n",
    "## types of tests\n",
    "\n",
    "* __unit tests:__ check that __small__ bits of code are correctly implemented.\n",
    "\n",
    "* __functional tests:__ check that __larger__ chunks of code work correctly.\n",
    "\n",
    "## testing methods\n",
    "\n",
    "NOTE: Neither `assert` nor other testing harnesses can be run in __Jupyter Notebook__.  You can test it from __terminal__. (workaround below)\n",
    "\n",
    "### `assert`\n",
    "\n",
    "1. Python has a built-in `assert <expr to test>, <optional: error text to return)>` to test code.\n",
    "2. `assert` evaluates to a Boolean, and throws a __runtime error__ if `False`, or __nothing__ if `True` (__success__)\n",
    "3. The runtime error returned is an `AssertionError`.\n",
    "4. For error details add the optional error text to return (string).\n",
    "5. `assert` is not a function.  Trying to use it as a function will always return `True`\n",
    "6. if you have more than one `assert` commands, it will stop at the __first failure__.\n",
    "\n",
    "Example test: `test_it.py` (test in __terminal__)\n",
    "\n",
    "### `unittest` python module\n",
    "\n",
    "Import other testing harnesses such as the module, `unittest` for more robust testing.\n",
    "\n",
    "## test-driven development\n",
    "\n",
    "Write your __tests__ first __before__ writing the __code__.  This way you can consider what you truly want to happen, and what pitfalls you might run into if you don't write your code correctly.\n",
    "\n",
    "## incremental development\n",
    "\n",
    "Avoid long debugging sessions by adding and testing only a small amount of code at a time.\n",
    "\n",
    "You can track your progress as the code passes more and more of the tests.\n",
    "\n",
    "Alternatively, you can write additional tests at each stage of incremental development.\n",
    "\n",
    "### future-proofing\n",
    "\n",
    "Identify any __code changes__ that causes one of the earlier tests, which used to pass, to not pass any more.\n",
    "\n",
    "### method\n",
    "\n",
    "Start with neutral code and your tests already written:\n",
    "\n",
    "```\n",
    "    def distance(x1, y1, x2, y2):\n",
    "        return None\n",
    "        \n",
    "    assert distance(1, 2, 1, 2) == 0\n",
    "    assert distance(1,2, 4,6) == 5\n",
    "    assert distance(0,0, 1,1) == 2**0.5\n",
    "```\n",
    "\n",
    "### testing in Jupyter Notebook\n",
    "\n",
    "Jupyter doesn't support assert or other testing harnesses.  But Rhunestone wrote `test` module (`test.py`) with a method called `testEqual` that can be used.\n",
    "\n",
    "I have added this module to my root directory for this project.\n",
    "\n",
    "#### Syntax:\n",
    "`testEqual(<expression to test>, <expected result>, <optional: number places to right of decimal is correct>)`\n",
    "\n",
    "#### Example:"
   ]
  },
  {
   "cell_type": "code",
   "execution_count": 5,
   "id": "ae4a5598",
   "metadata": {},
   "outputs": [],
   "source": [
    "from test import testEqual"
   ]
  },
  {
   "cell_type": "code",
   "execution_count": 38,
   "id": "6919a5f7",
   "metadata": {},
   "outputs": [
    {
     "name": "stdout",
     "output_type": "stream",
     "text": [
      "\tTest Failed: expected 0 but got None\n",
      "\tTest Failed: expected 5 but got None\n"
     ]
    },
    {
     "data": {
      "text/plain": [
       "False"
      ]
     },
     "execution_count": 38,
     "metadata": {},
     "output_type": "execute_result"
    }
   ],
   "source": [
    "def distance(x1, y1, x2, y2):\n",
    "    return None\n",
    "\n",
    "testEqual(distance(1, 2, 1, 2), 0)\n",
    "testEqual(distance(1,2, 4,6), 5)\n",
    "# testEqual(distance(0,0, 1,1), 2**0.5, 2) # 'NoneType' with 'float' equality test unsupported"
   ]
  },
  {
   "cell_type": "code",
   "execution_count": 31,
   "id": "1e912bde",
   "metadata": {},
   "outputs": [
    {
     "name": "stdout",
     "output_type": "stream",
     "text": [
      "\tTest Failed: expected 0 but got 1.4142135623730951\n",
      "\tTest Failed: expected 5 but got 1.4142135623730951\n",
      "\tPass\n"
     ]
    },
    {
     "data": {
      "text/plain": [
       "True"
      ]
     },
     "execution_count": 31,
     "metadata": {},
     "output_type": "execute_result"
    }
   ],
   "source": [
    "def distance(x1, y1, x2, y2):\n",
    "    return 2**0.5\n",
    "\n",
    "testEqual(distance(1, 2, 1, 2), 0)\n",
    "testEqual(distance(1,2, 4,6), 5)\n",
    "testEqual(distance(0,0, 1,1), 1.4199, 2) #NOTE: 1.4199 is not correct, but we tested only to 2 decimal places"
   ]
  },
  {
   "cell_type": "code",
   "execution_count": 36,
   "id": "29a3e556",
   "metadata": {},
   "outputs": [
    {
     "name": "stdout",
     "output_type": "stream",
     "text": [
      "\tPass\n",
      "\tPass\n",
      "\tPass\n"
     ]
    },
    {
     "data": {
      "text/plain": [
       "True"
      ]
     },
     "execution_count": 36,
     "metadata": {},
     "output_type": "execute_result"
    }
   ],
   "source": [
    "def distance(x1, y1, x2, y2):\n",
    "    x_dist = x2 - x1\n",
    "    y_dist = y2 - y1\n",
    "    \n",
    "    return (x_dist**2 + y_dist**2)**0.5\n",
    "\n",
    "testEqual(distance(1, 2, 1, 2), 0)\n",
    "testEqual(distance(1,2, 4,6), 5)\n",
    "testEqual(distance(0,0, 1,1), 2**0.5, 2) #NOTE: 2**0.5 is not correct, but we tested only to 2 decimal places"
   ]
  },
  {
   "cell_type": "markdown",
   "id": "28302a94",
   "metadata": {},
   "source": [
    "## Testing classes\n",
    "\n",
    "1. Test `__init__` using a __side-effect__ test by creating instance and checking that instance variables are set correctly.\n",
    "2. Test instance methods using __return value__ or __side-effect__ tests as apropos. "
   ]
  },
  {
   "cell_type": "code",
   "execution_count": null,
   "id": "5831ad36",
   "metadata": {},
   "outputs": [],
   "source": []
  }
 ],
 "metadata": {
  "kernelspec": {
   "display_name": "Python 3 (ipykernel)",
   "language": "python",
   "name": "python3"
  },
  "language_info": {
   "codemirror_mode": {
    "name": "ipython",
    "version": 3
   },
   "file_extension": ".py",
   "mimetype": "text/x-python",
   "name": "python",
   "nbconvert_exporter": "python",
   "pygments_lexer": "ipython3",
   "version": "3.8.11"
  }
 },
 "nbformat": 4,
 "nbformat_minor": 5
}
