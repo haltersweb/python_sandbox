{
 "cells": [
  {
   "cell_type": "markdown",
   "id": "00de5fa1",
   "metadata": {},
   "source": [
    "# Inheritance\n",
    "\n",
    "How the Python interpreter looks up attributes:\n",
    "\n",
    "1. it checks for an instance variable or method.  If not found, then ...\n",
    "2. it checks for its class' variable/method.  If not found, then ...\n",
    "3. it looks for a class variable in the parent class.  If not found, then ...\n",
    "4. this process goes on until the last ancestor is reached, at which point Python will signal an error.\n",
    "\n",
    "## Tamagotchi Pet super class"
   ]
  },
  {
   "cell_type": "code",
   "execution_count": 250,
   "id": "18017390",
   "metadata": {},
   "outputs": [],
   "source": [
    "from random import randrange # returns integer\n",
    "\n",
    "class Pet:\n",
    "    \"\"\"Class Pet creates a Tamagotchi\"\"\"\n",
    "        \n",
    "    boredom_decrement = 4\n",
    "    hunger_decrement = 6\n",
    "    boredom_threshold = 5\n",
    "    hunger_threshold = 10\n",
    "    sounds = ['Mrrp']\n",
    "    \n",
    "    def __init__(self, name = 'Kitty'):\n",
    "        self.name = name\n",
    "        self.hunger = randrange(self.hunger_threshold) #random\n",
    "        self.boredom = randrange(self.boredom_threshold) #random\n",
    "        self.sounds = self.sounds[:] # copy the class attribute sounds so we can make changes per pet\n",
    "    \n",
    "    def __str__(self):\n",
    "        state = 'I\\'m {}. '.format(self.name)\n",
    "        state += 'I feel {}.'.format(self.mood())\n",
    "        return state\n",
    "    \n",
    "    def clock_tick(self):\n",
    "        self.boredom += 1\n",
    "        self.hunger += 1\n",
    "    \n",
    "    def reduce_boredom(self):\n",
    "        self.boredom = max(self.boredom - self.boredom_decrement, 0)\n",
    "    \n",
    "    def reduce_hunger(self):\n",
    "        self.hunger = max(self.hunger - self.hunger_decrement, 0)\n",
    "    \n",
    "    def teach(self, word):\n",
    "        self.sounds.append(word)\n",
    "        self.reduce_boredom()\n",
    "        \n",
    "    def hi(self):\n",
    "        sound = self.sounds[randrange(0,len(self.sounds))]\n",
    "        print(sound)\n",
    "        self.reduce_boredom()\n",
    "    \n",
    "    def feed(self):\n",
    "        self.reduce_hunger()\n",
    "    \n",
    "    def mood(self):\n",
    "        if self.hunger <= self.hunger_threshold and self.boredom <= self.boredom_threshold:\n",
    "            return 'happy'\n",
    "        elif self.hunger > self.hunger_threshold:\n",
    "            return 'hungry'\n",
    "        else:\n",
    "            return 'bored'\n",
    "        \n",
    "    def check_stats(self):\n",
    "        print('Boredom: {}.  Hunger: {}.'.format(self.boredom, self.hunger))\n",
    "    "
   ]
  },
  {
   "cell_type": "code",
   "execution_count": 251,
   "id": "cece1075",
   "metadata": {},
   "outputs": [
    {
     "data": {
      "text/plain": [
       "['Mrrp', 'Rowl']"
      ]
     },
     "execution_count": 251,
     "metadata": {},
     "output_type": "execute_result"
    }
   ],
   "source": [
    "wulfric = Pet(\"Wulfric\")\n",
    "wulfric.teach(\"Rowl\")\n",
    "wulfric.sounds"
   ]
  },
  {
   "cell_type": "markdown",
   "id": "6f69ec01",
   "metadata": {},
   "source": [
    "## Create sub classes\n",
    "### Cat class\n",
    "* inherits from `Pet` class\n",
    "* has a different starting sound (`\"Meow\"`)\n",
    "* has a new `chase_rats()` method"
   ]
  },
  {
   "cell_type": "code",
   "execution_count": 252,
   "id": "9af88e61",
   "metadata": {},
   "outputs": [],
   "source": [
    "class Cat(Pet):\n",
    "    sounds = ['Meow']\n",
    "    def chase_rats(self):\n",
    "        print('What are you doing, Pinky? Taking over the world?!')"
   ]
  },
  {
   "cell_type": "code",
   "execution_count": 253,
   "id": "5f490dc1",
   "metadata": {},
   "outputs": [
    {
     "name": "stdout",
     "output_type": "stream",
     "text": [
      "I'm Percy. I feel happy.\n",
      "Meow\n",
      "What are you doing, Pinky? Taking over the world?!\n"
     ]
    }
   ],
   "source": [
    "percy = Cat(\"Percy\")\n",
    "print(percy)\n",
    "percy.hi()\n",
    "percy.chase_rats()\n",
    "percy.teach(\"Brrrrruuup\")"
   ]
  },
  {
   "cell_type": "markdown",
   "id": "5796f47d",
   "metadata": {},
   "source": [
    "### Cheshire class\n",
    "\n",
    "* inherit from `Cat` (which inherits from `Pet`)\n",
    "* has a method called `smile()`"
   ]
  },
  {
   "cell_type": "code",
   "execution_count": 254,
   "id": "98c4652f",
   "metadata": {},
   "outputs": [],
   "source": [
    "class Cheshire(Cat):\n",
    "    def smile(self):\n",
    "        print(\":D :D :D\")"
   ]
  },
  {
   "cell_type": "code",
   "execution_count": 255,
   "id": "48f074af",
   "metadata": {},
   "outputs": [
    {
     "name": "stdout",
     "output_type": "stream",
     "text": [
      "I'm Kiefer. I feel happy.\n",
      "Meow\n",
      "What are you doing, Pinky? Taking over the world?!\n",
      ":D :D :D\n"
     ]
    }
   ],
   "source": [
    "kiefer = Cheshire('Kiefer')\n",
    "print(kiefer)\n",
    "kiefer.hi()\n",
    "kiefer.chase_rats()\n",
    "kiefer.teach(\"Muchness\")\n",
    "kiefer.smile()"
   ]
  },
  {
   "cell_type": "markdown",
   "id": "65fce1f6",
   "metadata": {},
   "source": [
    "## Are subclasses instances? (answer: no)\n",
    "\n",
    "Use `issubclass(class_to_check, super_class)` to check if a class is a subclass of another class.\n",
    "\n",
    "Use `isinstance(inst_to_check, class)`to check of an object is an instance.\n",
    "\n",
    "Results:\n",
    "* a progeny class is a __subclass__ of all its __ancester__ class(es).\n",
    "* an instance is an __instance__ of all its __ancester__ class(es).\n",
    "* a __subclass__ is __not__ an __instance__.\n",
    "\n",
    "Creating a subclass doesn't run the master Class' `__init__`.  When an instance of a subclass is created, the subclass' `__init__` is run.  If it doesn't have an `__init__` method, then the master Class' `__init__` is run instead.\n",
    "\n",
    "Therefore it is not necessary for a subclass to have an `__init__` unless it will have additional instance variables that the master Class doesn't have.\n",
    "\n",
    "A subclass introducing either of the following does not require a new `__init__`:\n",
    "* redefining an instance variable's value\n",
    "* new or redefined methods"
   ]
  },
  {
   "cell_type": "code",
   "execution_count": 279,
   "id": "ee784d4d",
   "metadata": {},
   "outputs": [
    {
     "name": "stdout",
     "output_type": "stream",
     "text": [
      "Is Cat a subclass of Pet? True\n",
      "Is Cheshire a subclass of Pet? True\n"
     ]
    }
   ],
   "source": [
    "## check subclasses:\n",
    "\n",
    "print('Is Cat a subclass of Pet?', issubclass(Cat, Pet))\n",
    "print('Is Cheshire a subclass of Pet?', issubclass(Cheshire, Pet))\n"
   ]
  },
  {
   "cell_type": "code",
   "execution_count": 282,
   "id": "46e44c59",
   "metadata": {},
   "outputs": [
    {
     "name": "stdout",
     "output_type": "stream",
     "text": [
      "Is percy an instance of Cat? True\n",
      "Is percy also an instance of Pet? True\n",
      "\n",
      "Is the class Cat and instance of Pet? False\n"
     ]
    }
   ],
   "source": [
    "## check instances:\n",
    "\n",
    "print('Is percy an instance of Cat?', isinstance(percy, Cat))\n",
    "print('Is percy also an instance of Pet?', isinstance(percy, Pet))\n",
    "print()\n",
    "print('Is the class Cat and instance of Pet?', isinstance(Cat, Pet))"
   ]
  },
  {
   "cell_type": "markdown",
   "id": "c780a958",
   "metadata": {},
   "source": [
    "## Class variables vs instance variables\n",
    "\n",
    "[Excellent article on Medium](https://medium.com/python-features/class-vs-instance-variables-8d452e9abcbd)\n",
    "\n",
    "### class variables\n",
    "\n",
    "Declared inside the class definition (but outside any of the instance methods). They are not tied to any particular object of the class, hence __shared across all__ the objects of the class. __Modifying__ a class variable __affects all__ objects instance at the same time.\n",
    "\n",
    "### instance variables\n",
    "\n",
    "Declared __inside the constructor method__ of class (the `__init__` method). They are tied to the __particular object instance__ of the class, hence the contents of an instance variable are completely __independent__ from one object instance to the other.\n",
    "\n",
    "### variable examples\n",
    "\n",
    "No new class or instance variables were introduced in `Cat` or `Cheshire`.\n",
    "\n",
    "`Cat` did re-define the instance variable `sounds` from `['Mrrp']` to `['Meow']`.\n",
    "\n",
    "All instances created from `Pet`, `Cat`, and `Cheshire`, have the same instance variables since no new instance variables were introduced in `Cat` or `Cheshire`:\n",
    "* name\n",
    "* hunger\n",
    "* boredom\n",
    "* sounds (`sounds` was changed from a Class variable into an instance variable in `Pet`'s `__init__` )\n",
    "\n",
    "They also all have the same class variables:\n",
    "* boredom_decrement\n",
    "* hunger_decrement\n",
    "* boredom_threshold\n",
    "* hunger_threshold\n",
    "* ~~_sounds_~~ (`sounds` was changed into an instance variable in `Pet`'s `__init__`)"
   ]
  },
  {
   "cell_type": "markdown",
   "id": "45f12a9b",
   "metadata": {},
   "source": [
    "## my method to find instance and class variables\n",
    "\n",
    "I wrote this method to help me understand these variable categories better."
   ]
  },
  {
   "cell_type": "code",
   "execution_count": 256,
   "id": "4b20a7bd",
   "metadata": {},
   "outputs": [],
   "source": [
    "def inst_and_class_vars(class_or_instance):\n",
    "    instance_vars = [\n",
    "        k for k, v in vars(class_or_instance).items()\n",
    "        if not callable(v)\n",
    "        and not k.startswith(\"__\")\n",
    "    ]\n",
    "    class_vars = [\n",
    "        cl for cl in dir(class_or_instance)\n",
    "        if str(type(getattr(class_or_instance, cl))) != \"<class 'method'>\"\n",
    "        and str(type(getattr(class_or_instance, cl))) != \"<class 'function'>\"\n",
    "        and not cl.startswith(\"__\")\n",
    "        and cl not in instance_vars\n",
    "    ]\n",
    "    print('Instance variables:')\n",
    "    print(instance_vars)\n",
    "    print('')\n",
    "    print('Class variables')\n",
    "    print(class_vars)"
   ]
  },
  {
   "cell_type": "markdown",
   "id": "da94c6ef",
   "metadata": {},
   "source": [
    "### variables for my instances"
   ]
  },
  {
   "cell_type": "code",
   "execution_count": 258,
   "id": "bd4d5a48",
   "metadata": {},
   "outputs": [
    {
     "name": "stdout",
     "output_type": "stream",
     "text": [
      "Instance variables:\n",
      "['name', 'hunger', 'boredom', 'sounds']\n",
      "\n",
      "Class variables\n",
      "['boredom_decrement', 'boredom_threshold', 'hunger_decrement', 'hunger_threshold']\n"
     ]
    }
   ],
   "source": [
    "inst_and_class_vars(wulfric)"
   ]
  },
  {
   "cell_type": "code",
   "execution_count": 260,
   "id": "1712f02c",
   "metadata": {},
   "outputs": [
    {
     "name": "stdout",
     "output_type": "stream",
     "text": [
      "Instance variables:\n",
      "['name', 'hunger', 'boredom', 'sounds']\n",
      "\n",
      "Class variables\n",
      "['boredom_decrement', 'boredom_threshold', 'hunger_decrement', 'hunger_threshold']\n"
     ]
    }
   ],
   "source": [
    "inst_and_class_vars(percy)"
   ]
  },
  {
   "cell_type": "code",
   "execution_count": 262,
   "id": "327d77d4",
   "metadata": {
    "scrolled": true
   },
   "outputs": [
    {
     "name": "stdout",
     "output_type": "stream",
     "text": [
      "Instance variables:\n",
      "['name', 'hunger', 'boredom', 'sounds']\n",
      "\n",
      "Class variables\n",
      "['boredom_decrement', 'boredom_threshold', 'hunger_decrement', 'hunger_threshold']\n"
     ]
    }
   ],
   "source": [
    "inst_and_class_vars(kiefer)"
   ]
  },
  {
   "cell_type": "markdown",
   "id": "b77353be",
   "metadata": {},
   "source": [
    "### how sound (instance variable) value changes"
   ]
  },
  {
   "cell_type": "code",
   "execution_count": 285,
   "id": "dd3138c5",
   "metadata": {},
   "outputs": [
    {
     "name": "stdout",
     "output_type": "stream",
     "text": [
      "Pet class sounds: ['Mrrp']\n",
      "Pet instance, wulfric sounds after training: ['Mrrp', 'Rowl']\n"
     ]
    }
   ],
   "source": [
    "# Pet vs wulfric\n",
    "print('Pet class sounds:', Pet.sounds)\n",
    "print('Pet instance, wulfric sounds after training:', wulfric.sounds)"
   ]
  },
  {
   "cell_type": "code",
   "execution_count": 286,
   "id": "5cb5ca66",
   "metadata": {},
   "outputs": [
    {
     "name": "stdout",
     "output_type": "stream",
     "text": [
      "Cat class sounds: ['Meow']\n",
      "Cat instance, percy sounds after training: ['Meow', 'Brrrrruuup']\n"
     ]
    }
   ],
   "source": [
    "# Cat vs percy\n",
    "print('Cat class sounds:', Cat.sounds)\n",
    "print('Cat instance, percy sounds after training:', percy.sounds)"
   ]
  },
  {
   "cell_type": "code",
   "execution_count": 287,
   "id": "3b88c57b",
   "metadata": {},
   "outputs": [
    {
     "name": "stdout",
     "output_type": "stream",
     "text": [
      "Cheshire class sounds: ['Meow']\n",
      "Cheshier instance, kiefer sounds after training: ['Meow', 'Muchness']\n"
     ]
    }
   ],
   "source": [
    "# Cheshire vs kiefer\n",
    "print('Cheshire class sounds:', Cheshire.sounds)\n",
    "print('Cheshier instance, kiefer sounds after training:', kiefer.sounds)"
   ]
  },
  {
   "cell_type": "markdown",
   "id": "d60d1abd",
   "metadata": {},
   "source": [
    "## Overriding methods\n",
    "\n",
    "### sub classes: Dog and Cat (rewritten)\n",
    "\n",
    "* `Dog` -- *always* happy unless bored *and* hungry\n",
    "    * happy\n",
    "    * bored *and* hungry\n",
    "* `Cat` -- *only* happy if fed *and* not bored *and* not annoyed\n",
    "    * hungry (< threshold)\n",
    "    * grumpy; leave me alone (bored < 2)\n",
    "    * bored (< threshold)\n",
    "    * randomly annoyed (1/2 of the time)\n",
    "    * happy"
   ]
  },
  {
   "cell_type": "code",
   "execution_count": 388,
   "id": "922cfb0c",
   "metadata": {},
   "outputs": [],
   "source": [
    "class Cat(Pet):\n",
    "    \"\"\"Cat class as a subclass of Pet is hard to make happy\"\"\"\n",
    "    \n",
    "    sounds = ['Meow']\n",
    "    \n",
    "    def mood(self):\n",
    "        if self.hunger > self.hunger_threshold:\n",
    "            return \"hungry\"\n",
    "        elif self.boredom < 2:\n",
    "            return \"grumpy; leave me alone\"\n",
    "        elif self.boredom > self.boredom_threshold:\n",
    "            return \"bored\"\n",
    "        elif randrange(2) == 0: # 0 or 1\n",
    "            return \"randomly annoyed\"\n",
    "        else:\n",
    "            return \"happy\""
   ]
  },
  {
   "cell_type": "code",
   "execution_count": 313,
   "id": "7222cc2b",
   "metadata": {},
   "outputs": [],
   "source": [
    "class Dog(Pet):\n",
    "    \"\"\"Dog class as subclass of Pet is almost always happy\"\"\"\n",
    "    \n",
    "    sounds = ['Woof']\n",
    "    \n",
    "    def mood(self):\n",
    "        if (self.hunger > self.hunger_threshold) and (self.boredom > self.boredom_threshold):\n",
    "            return \"bored and hungry\"\n",
    "        else:\n",
    "            return \"happy\""
   ]
  },
  {
   "cell_type": "code",
   "execution_count": 314,
   "id": "7823ceed",
   "metadata": {},
   "outputs": [],
   "source": [
    "fluffy = Cat('Fluffy')\n",
    "astro = Dog('Astro')"
   ]
  },
  {
   "cell_type": "code",
   "execution_count": 316,
   "id": "ac5c5ef6",
   "metadata": {},
   "outputs": [
    {
     "data": {
      "text/plain": [
       "'grumpy; leave me alone'"
      ]
     },
     "execution_count": 316,
     "metadata": {},
     "output_type": "execute_result"
    }
   ],
   "source": [
    "fluffy.boredom = 1\n",
    "fluffy.mood()"
   ]
  },
  {
   "cell_type": "code",
   "execution_count": 320,
   "id": "7e1d9242",
   "metadata": {},
   "outputs": [
    {
     "name": "stdout",
     "output_type": "stream",
     "text": [
      "randomly annoyed\n",
      "happy\n",
      "happy\n",
      "happy\n",
      "happy\n",
      "randomly annoyed\n",
      "randomly annoyed\n",
      "randomly annoyed\n",
      "randomly annoyed\n",
      "happy\n"
     ]
    }
   ],
   "source": [
    "fluffy.boredom = 3\n",
    "for i in range(10):\n",
    "    print(fluffy.mood())"
   ]
  },
  {
   "cell_type": "code",
   "execution_count": 321,
   "id": "a40e3626",
   "metadata": {},
   "outputs": [
    {
     "data": {
      "text/plain": [
       "'happy'"
      ]
     },
     "execution_count": 321,
     "metadata": {},
     "output_type": "execute_result"
    }
   ],
   "source": [
    "astro.mood()"
   ]
  },
  {
   "cell_type": "markdown",
   "id": "d61ce3e9",
   "metadata": {},
   "source": [
    "## Invoking parent Class' method\n",
    "\n",
    "call parent's method when redefining that method in the subclass\n",
    "\n",
    "### using `Pet`'s `feed` method in `Dog`'s `feed` definition\n",
    "* should still decrease hunger (`Pet`'s `feed` method)\n",
    "* but should also say \"Aarf! Thanks\""
   ]
  },
  {
   "cell_type": "code",
   "execution_count": 322,
   "id": "ed1ec1ce",
   "metadata": {},
   "outputs": [],
   "source": [
    "class Dog(Pet):\n",
    "    \"\"\"Dog class as subclass of Pet is almost always happy\"\"\"\n",
    "    \n",
    "    sounds = ['Woof']\n",
    "    \n",
    "    def mood(self):\n",
    "        if (self.hunger > self.hunger_threshold) and (self.boredom > self.boredom_threshold):\n",
    "            return \"bored and hungry\"\n",
    "        else:\n",
    "            return \"happy\"\n",
    "        \n",
    "    def feed(self): #redefining the feed method\n",
    "        Pet.feed(self) # first run Pet's feed method\n",
    "        print(\"Aarf!  Thanks!\") # custom for Dog\n",
    "        "
   ]
  },
  {
   "cell_type": "code",
   "execution_count": 328,
   "id": "f5e21a4b",
   "metadata": {},
   "outputs": [
    {
     "name": "stdout",
     "output_type": "stream",
     "text": [
      "Ginger's hunger is: 8\n",
      "Aarf!  Thanks!\n",
      "Ginger's hunger is: 2\n"
     ]
    }
   ],
   "source": [
    "ginger = Dog(\"Ginger\")\n",
    "print('Ginger\\'s hunger is:', ginger.hunger)\n",
    "ginger.feed()\n",
    "print('Ginger\\'s hunger is:', ginger.hunger)"
   ]
  },
  {
   "cell_type": "markdown",
   "id": "4626f09d",
   "metadata": {},
   "source": [
    "### `super()` is a much more Pythonic way\n",
    "* don't need to remember which Class defines the method you want to call\n",
    "* crawl's up the ancestor classes until it finds the method\n",
    "* __NOTE:__ `super()` can be used as a __parameterless__ method since `super()` was defined with `self` as the default.  No need to pass `self` into `super().feed()`.\n",
    "* you can also use `super(<specific ancestor class>, self)` if you want to have more control on which ancester Class you want to use."
   ]
  },
  {
   "cell_type": "code",
   "execution_count": 335,
   "id": "eb6b99b8",
   "metadata": {},
   "outputs": [],
   "source": [
    "class Dog(Pet):\n",
    "    \"\"\"Dog class as subclass of Pet is almost always happy\"\"\"\n",
    "    \n",
    "    sounds = ['Woof']\n",
    "    \n",
    "    def mood(self):\n",
    "        if (self.hunger > self.hunger_threshold) and (self.boredom > self.boredom_threshold):\n",
    "            return \"bored and hungry\"\n",
    "        else:\n",
    "            return \"happy\"\n",
    "        \n",
    "    def feed(self): #redefining the feed method\n",
    "        super().feed() # first run Pet's feed method\n",
    "        print(\"Aarf!  Thanks!\") # custom for Dog\n",
    "        "
   ]
  },
  {
   "cell_type": "code",
   "execution_count": 336,
   "id": "f1b370d9",
   "metadata": {},
   "outputs": [
    {
     "name": "stdout",
     "output_type": "stream",
     "text": [
      "Ginger's hunger is: 1\n",
      "Aarf!  Thanks!\n",
      "Ginger's hunger is: 0\n"
     ]
    }
   ],
   "source": [
    "ginger = Dog(\"Ginger\")\n",
    "print('Ginger\\'s hunger is:', ginger.hunger)\n",
    "ginger.feed()\n",
    "print('Ginger\\'s hunger is:', ginger.hunger)"
   ]
  },
  {
   "cell_type": "markdown",
   "id": "cf7d2a01",
   "metadata": {},
   "source": [
    "### example running ancestor Class `__init__()`\n",
    "let's say we want to:\n",
    "* redefine initial `sound` value\n",
    "* `__init__` with a new instance variable: `chirp_number`\n",
    "* ensure `sound` does not become a class variable\n",
    "* ensure the other `Pet` instance variables, `hunger`, `boredom`, `name` are retained"
   ]
  },
  {
   "cell_type": "code",
   "execution_count": 384,
   "id": "e8324bd3",
   "metadata": {},
   "outputs": [],
   "source": [
    "class Bird(Pet):\n",
    "    sounds = ['Chirp'] # would become a class variable unless redefined in __init__\n",
    "    \n",
    "    def __init__(self, name='Kitty', chirp_number=2):\n",
    "        super().__init__(name) # name, hunger, boredom, sounds\n",
    "        # Pet.__init__(self, name) # the non-Pythonic way\n",
    "        self.chirp_number = chirp_number\n",
    "        \n",
    "    def hi(self):\n",
    "        for i in range(self.chirp_number):\n",
    "            print(self.sounds[randrange(0,len(self.sounds))])\n",
    "        self.reduce_boredom()"
   ]
  },
  {
   "cell_type": "code",
   "execution_count": 386,
   "id": "fb8dcf78",
   "metadata": {},
   "outputs": [
    {
     "name": "stdout",
     "output_type": "stream",
     "text": [
      "Tweety says:\n",
      "Chirp\n",
      "I tawt I taw a putty cat\n",
      "Chirp\n",
      "Chirp\n",
      "I tawt I taw a putty cat\n"
     ]
    }
   ],
   "source": [
    "tweety = Bird(\"Tweety\", chirp_number=5)\n",
    "print(tweety.name, 'says:')\n",
    "tweety.teach(\"I tawt I taw a putty cat\")\n",
    "tweety.hi()"
   ]
  },
  {
   "cell_type": "code",
   "execution_count": null,
   "id": "10f48076",
   "metadata": {},
   "outputs": [],
   "source": []
  },
  {
   "cell_type": "code",
   "execution_count": null,
   "id": "e7b56b24",
   "metadata": {},
   "outputs": [],
   "source": []
  }
 ],
 "metadata": {
  "kernelspec": {
   "display_name": "Python 3 (ipykernel)",
   "language": "python",
   "name": "python3"
  },
  "language_info": {
   "codemirror_mode": {
    "name": "ipython",
    "version": 3
   },
   "file_extension": ".py",
   "mimetype": "text/x-python",
   "name": "python",
   "nbconvert_exporter": "python",
   "pygments_lexer": "ipython3",
   "version": "3.8.11"
  }
 },
 "nbformat": 4,
 "nbformat_minor": 5
}
