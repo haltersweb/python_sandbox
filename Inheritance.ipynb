{
 "cells": [
  {
   "cell_type": "markdown",
   "id": "bbe123fe",
   "metadata": {},
   "source": [
    "# Inheritance\n",
    "\n",
    "How the Python interpreter looks up attributes:\n",
    "\n",
    "1. it checks for an instance variable or method.  If not found, then ...\n",
    "2. it checks for its class' variable/method.  If not found, then ...\n",
    "3. it looks for a class variable in the parent class.  If not found, then ...\n",
    "4. this process goes on until the last ancestor is reached, at which point Python will signal an error.\n",
    "\n",
    "## Tamagotchi Pet super class"
   ]
  },
  {
   "cell_type": "code",
   "execution_count": 1,
   "id": "6c5ec156",
   "metadata": {},
   "outputs": [],
   "source": [
    "from random import randrange # returns integer\n",
    "\n",
    "class Pet:\n",
    "    \"\"\"Class Pet creates a Tamagotchi\"\"\"\n",
    "        \n",
    "    boredom_decrement = 4\n",
    "    hunger_decrement = 6\n",
    "    boredom_threshold = 5\n",
    "    hunger_threshold = 10\n",
    "    sounds = ['Mrrp']\n",
    "    \n",
    "    def __init__(self, name = 'Kitty'):\n",
    "        self.name = name\n",
    "        self.hunger = randrange(self.hunger_threshold) #random\n",
    "        self.boredom = randrange(self.boredom_threshold) #random\n",
    "        self.sounds = self.sounds[:] # copy the class attribute sounds so we can make changes per pet\n",
    "    \n",
    "    def __str__(self):\n",
    "        state = 'I\\'m {}. '.format(self.name)\n",
    "        state += 'I feel {}.'.format(self.mood())\n",
    "        return state\n",
    "    \n",
    "    def clock_tick(self):\n",
    "        self.boredom += 1\n",
    "        self.hunger += 1\n",
    "    \n",
    "    def reduce_boredom(self):\n",
    "        self.boredom = max(self.boredom - self.boredom_decrement, 0)\n",
    "    \n",
    "    def reduce_hunger(self):\n",
    "        self.hunger = max(self.hunger - self.hunger_decrement, 0)\n",
    "    \n",
    "    def teach(self, word):\n",
    "        self.sounds.append(word)\n",
    "        self.reduce_boredom()\n",
    "        \n",
    "    def hi(self):\n",
    "        sound = self.sounds[randrange(0,len(self.sounds))]\n",
    "        print(sound)\n",
    "        self.reduce_boredom()\n",
    "    \n",
    "    def feed(self):\n",
    "        self.reduce_hunger()\n",
    "    \n",
    "    def mood(self):\n",
    "        if self.hunger <= self.hunger_threshold and self.boredom <= self.boredom_threshold:\n",
    "            return 'happy'\n",
    "        elif self.hunger > self.hunger_threshold:\n",
    "            return 'hungry'\n",
    "        else:\n",
    "            return 'bored'\n",
    "        \n",
    "    def check_stats(self):\n",
    "        print('Boredom: {}.  Hunger: {}.'.format(self.boredom, self.hunger))\n",
    "    "
   ]
  },
  {
   "cell_type": "code",
   "execution_count": 2,
   "id": "7bea68c7",
   "metadata": {},
   "outputs": [
    {
     "data": {
      "text/plain": [
       "['Mrrp', 'Rowl']"
      ]
     },
     "execution_count": 2,
     "metadata": {},
     "output_type": "execute_result"
    }
   ],
   "source": [
    "wulfric = Pet(\"Wulfric\")\n",
    "wulfric.teach(\"Rowl\")\n",
    "wulfric.sounds"
   ]
  },
  {
   "cell_type": "markdown",
   "id": "90611693",
   "metadata": {},
   "source": [
    "## create sub classes\n",
    "### Cat class\n",
    "* inherits from `Pet` class\n",
    "* has a different starting sound (`\"Meow\"`)\n",
    "* has a new `chase_rats()` method"
   ]
  },
  {
   "cell_type": "code",
   "execution_count": 3,
   "id": "ba65b678",
   "metadata": {},
   "outputs": [],
   "source": [
    "class Cat(Pet):\n",
    "    sounds = ['Meow']\n",
    "    def chase_rats(self):\n",
    "        print('What are you doing, Pinky? Taking over the world?!')"
   ]
  },
  {
   "cell_type": "code",
   "execution_count": 4,
   "id": "ed36c09d",
   "metadata": {},
   "outputs": [
    {
     "name": "stdout",
     "output_type": "stream",
     "text": [
      "I'm Percy. I feel happy.\n",
      "Meow\n",
      "What are you doing, Pinky? Taking over the world?!\n"
     ]
    }
   ],
   "source": [
    "percy = Cat(\"Percy\")\n",
    "print(percy)\n",
    "percy.hi()\n",
    "percy.chase_rats()"
   ]
  },
  {
   "cell_type": "markdown",
   "id": "4198a675",
   "metadata": {},
   "source": [
    "### Cheshire class\n",
    "\n",
    "* inherit from `Cat` (which inherits from `Pet`)\n",
    "* has a method called `smile()`"
   ]
  },
  {
   "cell_type": "code",
   "execution_count": 5,
   "id": "743706fb",
   "metadata": {},
   "outputs": [],
   "source": [
    "class Cheshire(Cat):\n",
    "    def smile(self):\n",
    "        print(\":D :D :D\")"
   ]
  },
  {
   "cell_type": "code",
   "execution_count": 10,
   "id": "710d323d",
   "metadata": {},
   "outputs": [
    {
     "name": "stdout",
     "output_type": "stream",
     "text": [
      "I'm Kiefer. I feel happy.\n",
      "Meow\n",
      "What are you doing, Pinky? Taking over the world?!\n",
      ":D :D :D\n"
     ]
    }
   ],
   "source": [
    "kiefer = Cheshire('Kiefer')\n",
    "print(kiefer)\n",
    "kiefer.hi()\n",
    "kiefer.chase_rats()\n",
    "kiefer.smile()"
   ]
  },
  {
   "cell_type": "markdown",
   "id": "d2b01d6b",
   "metadata": {},
   "source": [
    "## Class variables vs instance variables\n",
    "\n",
    "[Excellent article on Medium](https://medium.com/python-features/class-vs-instance-variables-8d452e9abcbd)\n",
    "\n",
    "No new class or instance variables were created in `Cat` or `Cheshire`\n",
    "\n",
    "In the case of `Pet`, `Cat`, and `Cheshire`, all have the same instance variables:\n",
    "* name\n",
    "* hunger\n",
    "* boredom\n",
    "* sounds (copied in `Pet`'s `__init__` from the Class variable `sounds`\n",
    "\n",
    "They also all have the same class variables:\n",
    "* boredom_decrement\n",
    "* hunger_decrement\n",
    "* boredom_threshold\n",
    "* hunger_threshold\n",
    "* sounds"
   ]
  },
  {
   "cell_type": "code",
   "execution_count": null,
   "id": "9274db9c",
   "metadata": {},
   "outputs": [],
   "source": [
    "#what instance variables exist in Cheshire class?\n",
    "\n",
    "    boredom_decrement = 4\n",
    "    hunger_decrement = 6\n",
    "    boredom_threshold = 5\n",
    "    hunger_threshold = 10\n",
    "    sounds = ['Mrrp']\n",
    "\n",
    "try:\n",
    "    var\n",
    "except NameError:\n",
    "    var_exists = False\n",
    "else:\n",
    "    var_exists = True"
   ]
  },
  {
   "cell_type": "code",
   "execution_count": 7,
   "id": "573a9577",
   "metadata": {},
   "outputs": [
    {
     "data": {
      "text/plain": [
       "{'name': 'Wulfric', 'hunger': 2, 'boredom': 0, 'sounds': ['Mrrp', 'Rowl']}"
      ]
     },
     "execution_count": 7,
     "metadata": {},
     "output_type": "execute_result"
    }
   ],
   "source": [
    "# wulfric is instance of Pet\n",
    "instance_variables = {\n",
    "        k: v for k, v in vars(wulfric).items()\n",
    "        if not callable(v)\n",
    "        and not k.startswith(\"__\")\n",
    "    }\n",
    "instance_variables"
   ]
  },
  {
   "cell_type": "code",
   "execution_count": 8,
   "id": "4d94e1e5",
   "metadata": {},
   "outputs": [
    {
     "data": {
      "text/plain": [
       "{'name': 'Percy', 'hunger': 6, 'boredom': 0, 'sounds': ['Meow']}"
      ]
     },
     "execution_count": 8,
     "metadata": {},
     "output_type": "execute_result"
    }
   ],
   "source": [
    "# percy is instance of Cat\n",
    "instance_variables = {\n",
    "        k: v for k, v in vars(percy).items()\n",
    "        if not callable(v)\n",
    "        and not k.startswith(\"__\")\n",
    "    }\n",
    "instance_variables"
   ]
  },
  {
   "cell_type": "code",
   "execution_count": 11,
   "id": "8ff47436",
   "metadata": {},
   "outputs": [
    {
     "data": {
      "text/plain": [
       "{'name': 'Kiefer', 'hunger': 9, 'boredom': 0, 'sounds': ['Meow']}"
      ]
     },
     "execution_count": 11,
     "metadata": {},
     "output_type": "execute_result"
    }
   ],
   "source": [
    "# kiefer is instance of Cheshire\n",
    "instance_variables = {\n",
    "        k: v for k, v in vars(kiefer).items()\n",
    "        if not callable(v)\n",
    "        and not k.startswith(\"__\")\n",
    "    }\n",
    "instance_variables"
   ]
  },
  {
   "cell_type": "code",
   "execution_count": 14,
   "id": "7edec5a2",
   "metadata": {},
   "outputs": [
    {
     "data": {
      "text/plain": [
       "{'__class__',\n",
       " '__delattr__',\n",
       " '__dict__',\n",
       " '__dir__',\n",
       " '__doc__',\n",
       " '__eq__',\n",
       " '__format__',\n",
       " '__ge__',\n",
       " '__getattribute__',\n",
       " '__gt__',\n",
       " '__hash__',\n",
       " '__init__',\n",
       " '__init_subclass__',\n",
       " '__le__',\n",
       " '__lt__',\n",
       " '__module__',\n",
       " '__ne__',\n",
       " '__new__',\n",
       " '__reduce__',\n",
       " '__reduce_ex__',\n",
       " '__repr__',\n",
       " '__setattr__',\n",
       " '__sizeof__',\n",
       " '__str__',\n",
       " '__subclasshook__',\n",
       " '__weakref__',\n",
       " 'boredom',\n",
       " 'boredom_decrement',\n",
       " 'boredom_threshold',\n",
       " 'check_stats',\n",
       " 'clock_tick',\n",
       " 'feed',\n",
       " 'hi',\n",
       " 'hunger',\n",
       " 'hunger_decrement',\n",
       " 'hunger_threshold',\n",
       " 'mood',\n",
       " 'name',\n",
       " 'reduce_boredom',\n",
       " 'reduce_hunger',\n",
       " 'sounds',\n",
       " 'teach'}"
      ]
     },
     "execution_count": 14,
     "metadata": {},
     "output_type": "execute_result"
    }
   ],
   "source": [
    "class_variables = {\n",
    "    cl for cl in dir(wulfric)\n",
    "}\n",
    "\n",
    "class_variables"
   ]
  },
  {
   "cell_type": "code",
   "execution_count": 15,
   "id": "f14aaab2",
   "metadata": {},
   "outputs": [
    {
     "data": {
      "text/plain": [
       "{'boredom',\n",
       " 'boredom_decrement',\n",
       " 'boredom_threshold',\n",
       " 'check_stats',\n",
       " 'clock_tick',\n",
       " 'feed',\n",
       " 'hi',\n",
       " 'hunger',\n",
       " 'hunger_decrement',\n",
       " 'hunger_threshold',\n",
       " 'mood',\n",
       " 'name',\n",
       " 'reduce_boredom',\n",
       " 'reduce_hunger',\n",
       " 'sounds',\n",
       " 'teach'}"
      ]
     },
     "execution_count": 15,
     "metadata": {},
     "output_type": "execute_result"
    }
   ],
   "source": [
    "class_variables = {\n",
    "    cl for cl in dir(wulfric)\n",
    "    if not cl.startswith(\"__\")\n",
    "}\n",
    "\n",
    "class_variables"
   ]
  },
  {
   "cell_type": "code",
   "execution_count": 34,
   "id": "41ad5d18",
   "metadata": {},
   "outputs": [
    {
     "data": {
      "text/plain": [
       "['boredom',\n",
       " 'boredom_decrement',\n",
       " 'boredom_threshold',\n",
       " 'check_stats',\n",
       " 'clock_tick',\n",
       " 'feed',\n",
       " 'hi',\n",
       " 'hunger',\n",
       " 'hunger_decrement',\n",
       " 'hunger_threshold',\n",
       " 'mood',\n",
       " 'name',\n",
       " 'reduce_boredom',\n",
       " 'reduce_hunger',\n",
       " 'sounds',\n",
       " 'teach']"
      ]
     },
     "execution_count": 34,
     "metadata": {},
     "output_type": "execute_result"
    }
   ],
   "source": [
    "class_variables = [\n",
    "    cl for cl in dir(wulfric)\n",
    "    if not cl.startswith(\"__\")\n",
    "    and not type(cl) == 'method'\n",
    "    ]\n",
    "\n",
    "#type(wulfric.class_variables[-1])\n",
    "class_variables       "
   ]
  },
  {
   "cell_type": "code",
   "execution_count": 18,
   "id": "8a1c2d21",
   "metadata": {},
   "outputs": [
    {
     "data": {
      "text/plain": [
       "method"
      ]
     },
     "execution_count": 18,
     "metadata": {},
     "output_type": "execute_result"
    }
   ],
   "source": [
    "type(wulfric.teach)"
   ]
  },
  {
   "cell_type": "code",
   "execution_count": 36,
   "id": "3a8a22ba",
   "metadata": {},
   "outputs": [
    {
     "data": {
      "text/plain": [
       "method"
      ]
     },
     "execution_count": 36,
     "metadata": {},
     "output_type": "execute_result"
    }
   ],
   "source": [
    "type(getattr(wulfric, class_variables[-1]))"
   ]
  },
  {
   "cell_type": "code",
   "execution_count": null,
   "id": "b1ab0c5d",
   "metadata": {},
   "outputs": [],
   "source": []
  }
 ],
 "metadata": {
  "kernelspec": {
   "display_name": "Python 3 (ipykernel)",
   "language": "python",
   "name": "python3"
  },
  "language_info": {
   "codemirror_mode": {
    "name": "ipython",
    "version": 3
   },
   "file_extension": ".py",
   "mimetype": "text/x-python",
   "name": "python",
   "nbconvert_exporter": "python",
   "pygments_lexer": "ipython3",
   "version": "3.8.11"
  }
 },
 "nbformat": 4,
 "nbformat_minor": 5
}
