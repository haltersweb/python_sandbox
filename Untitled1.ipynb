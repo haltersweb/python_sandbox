{
 "cells": [
  {
   "cell_type": "code",
   "execution_count": 9,
   "id": "68eb83a0",
   "metadata": {},
   "outputs": [
    {
     "data": {
      "text/plain": [
       "110"
      ]
     },
     "execution_count": 9,
     "metadata": {},
     "output_type": "execute_result"
    }
   ],
   "source": [
    "foo = [1,2,3,4]\n",
    "bar = sum(foo,100)\n",
    "bar"
   ]
  },
  {
   "cell_type": "code",
   "execution_count": 38,
   "id": "77b3b508",
   "metadata": {},
   "outputs": [
    {
     "data": {
      "text/plain": [
       "37"
      ]
     },
     "execution_count": 38,
     "metadata": {},
     "output_type": "execute_result"
    }
   ],
   "source": [
    "addition_str = \"2+5+10+20\"\n",
    "add_lst = addition_str.split(\"+\")\n",
    "sum_lst = []\n",
    "for sn in add_lst:\n",
    "    sum_lst.append(int(sn))\n",
    "sum_val = sum(sum_lst)\n",
    "sum_val"
   ]
  },
  {
   "cell_type": "code",
   "execution_count": 25,
   "id": "5a60f0b2",
   "metadata": {},
   "outputs": [],
   "source": [
    "foo = [2, 4, 6]\n",
    "def double(x):\n",
    "    return x*2\n",
    "bar = map(double, foo)"
   ]
  },
  {
   "cell_type": "code",
   "execution_count": 26,
   "id": "f651e16e",
   "metadata": {},
   "outputs": [
    {
     "data": {
      "text/plain": [
       "map"
      ]
     },
     "execution_count": 26,
     "metadata": {},
     "output_type": "execute_result"
    }
   ],
   "source": [
    "type(bar)"
   ]
  },
  {
   "cell_type": "code",
   "execution_count": 27,
   "id": "49ad66d9",
   "metadata": {},
   "outputs": [
    {
     "data": {
      "text/plain": [
       "<map at 0x11239d370>"
      ]
     },
     "execution_count": 27,
     "metadata": {},
     "output_type": "execute_result"
    }
   ],
   "source": [
    "bar"
   ]
  },
  {
   "cell_type": "code",
   "execution_count": 28,
   "id": "b4c12564",
   "metadata": {},
   "outputs": [
    {
     "data": {
      "text/plain": [
       "list"
      ]
     },
     "execution_count": 28,
     "metadata": {},
     "output_type": "execute_result"
    }
   ],
   "source": [
    "bar = list(map(double,foo))\n",
    "type(bar)"
   ]
  },
  {
   "cell_type": "code",
   "execution_count": 29,
   "id": "b276bf4f",
   "metadata": {},
   "outputs": [
    {
     "data": {
      "text/plain": [
       "[4, 8, 12]"
      ]
     },
     "execution_count": 29,
     "metadata": {},
     "output_type": "execute_result"
    }
   ],
   "source": [
    "bar"
   ]
  },
  {
   "cell_type": "code",
   "execution_count": 39,
   "id": "00da922b",
   "metadata": {},
   "outputs": [
    {
     "data": {
      "text/plain": [
       "37"
      ]
     },
     "execution_count": 39,
     "metadata": {},
     "output_type": "execute_result"
    }
   ],
   "source": [
    "addition_str = \"2+5+10+20\"\n",
    "add_lst = list(map(int, addition_str.split(\"+\")))\n",
    "lst_sum = sum(add_lst)\n",
    "lst_sum"
   ]
  },
  {
   "cell_type": "code",
   "execution_count": 42,
   "id": "d930c690",
   "metadata": {},
   "outputs": [
    {
     "data": {
      "text/plain": [
       "80.67142857142858"
      ]
     },
     "execution_count": 42,
     "metadata": {},
     "output_type": "execute_result"
    }
   ],
   "source": [
    "week_temps_f = \"75.1,77.7,83.2,82.5,81.0,79.5,85.7\"\n",
    "temps_f = list(map(float, week_temps_f.split(\",\")))\n",
    "avg_temp = sum(temps_f) / len(temps_f)\n",
    "avg_temp"
   ]
  },
  {
   "cell_type": "code",
   "execution_count": 45,
   "id": "67ddd10d",
   "metadata": {},
   "outputs": [
    {
     "ename": "IndexError",
     "evalue": "list index out of range",
     "output_type": "error",
     "traceback": [
      "\u001b[0;31m---------------------------------------------------------------------------\u001b[0m",
      "\u001b[0;31mIndexError\u001b[0m                                Traceback (most recent call last)",
      "\u001b[0;32m/var/folders/bq/fvvldy095vz80qbkf7d8zz2h0000gp/T/ipykernel_33009/200141504.py\u001b[0m in \u001b[0;36m<module>\u001b[0;34m\u001b[0m\n\u001b[1;32m      1\u001b[0m \u001b[0myada\u001b[0m \u001b[0;34m=\u001b[0m \u001b[0;34m[\u001b[0m\u001b[0;34m]\u001b[0m\u001b[0;34m\u001b[0m\u001b[0;34m\u001b[0m\u001b[0m\n\u001b[0;32m----> 2\u001b[0;31m \u001b[0myada\u001b[0m\u001b[0;34m[\u001b[0m\u001b[0;36m0\u001b[0m\u001b[0;34m]\u001b[0m\u001b[0;34m\u001b[0m\u001b[0;34m\u001b[0m\u001b[0m\n\u001b[0m",
      "\u001b[0;31mIndexError\u001b[0m: list index out of range"
     ]
    }
   ],
   "source": [
    "yada = []\n",
    "yada[0]"
   ]
  },
  {
   "cell_type": "code",
   "execution_count": 47,
   "id": "2202f84e",
   "metadata": {},
   "outputs": [
    {
     "data": {
      "text/plain": [
       "True"
      ]
     },
     "execution_count": 47,
     "metadata": {},
     "output_type": "execute_result"
    }
   ],
   "source": [
    "str = \"foo bar yada\"\n",
    "\"foo\" in str"
   ]
  },
  {
   "cell_type": "code",
   "execution_count": 56,
   "id": "8ab6dc4f",
   "metadata": {},
   "outputs": [
    {
     "name": "stdout",
     "output_type": "stream",
     "text": [
      "Triple it:\n",
      "[3, 6, '111', '222']\n"
     ]
    }
   ],
   "source": [
    "def triple(x):\n",
    "    return x * 3\n",
    "yada = [1,2,'1','2']\n",
    "print('Triple it:')\n",
    "print([triple(y) for y in yada])"
   ]
  },
  {
   "cell_type": "code",
   "execution_count": 60,
   "id": "b3d54284",
   "metadata": {},
   "outputs": [
    {
     "name": "stdout",
     "output_type": "stream",
     "text": [
      "Even numbers:\n",
      "[2, 4, 6]\n"
     ]
    }
   ],
   "source": [
    "def isItEven(x):\n",
    "    return (x % 2 == 0)\n",
    "bar = [1,2,3,4,5,6,7]\n",
    "print('Even numbers:')\n",
    "print(list(filter(isItEven, bar)))"
   ]
  },
  {
   "cell_type": "markdown",
   "id": "01b8cdb9",
   "metadata": {},
   "source": [
    "Provided is a list of numbers. For each of the numbers in the list, determine whether they are odd. If the number is odd, add `True` to a new list called `is_odd`. If the number is even, then add `False`."
   ]
  },
  {
   "cell_type": "code",
   "execution_count": 66,
   "id": "fc91b6a6",
   "metadata": {},
   "outputs": [
    {
     "name": "stdout",
     "output_type": "stream",
     "text": [
      "[True, False, True, True, False]\n",
      "[True, False, True, True, False]\n"
     ]
    }
   ],
   "source": [
    "def oddTrueOrFalse(x):\n",
    "    return (not x % 2 == 0)\n",
    "num_lst = [3, 20, -1, 9, 10]\n",
    "is_odd = list(map(lambda n : not n % 2 == 0, num_lst))\n",
    "is_odd_2 = list(map(oddTrueOrFalse, num_lst))\n",
    "print(is_odd)\n",
    "print(is_odd_2)"
   ]
  },
  {
   "cell_type": "code",
   "execution_count": 67,
   "id": "a3143e05",
   "metadata": {},
   "outputs": [
    {
     "name": "stdout",
     "output_type": "stream",
     "text": [
      "b is ['one', 'two', 'three']\n",
      "a is ['one', 'two', 'three']\n"
     ]
    }
   ],
   "source": [
    "a = [\"one\", \"two\"]\n",
    "b = a\n",
    "b.append(\"three\")\n",
    "print(\"b is\",b)\n",
    "print(\"a is\",a)"
   ]
  },
  {
   "cell_type": "code",
   "execution_count": 24,
   "id": "29248d63",
   "metadata": {
    "scrolled": true
   },
   "outputs": [
    {
     "name": "stdout",
     "output_type": "stream",
     "text": [
      "[1, 2, 3, 4]\n",
      "[1, 2, 3, 4]\n",
      "[1, 2, 3, 4]\n",
      "[1, 2, 3, 4, 5]\n",
      "[1, 2, 3, 4]\n",
      "[1, 2, 3, 4]\n",
      "[1, 2, 3, 4, 5]\n",
      "[1, 2, 3, 4, 6]\n",
      "[1, 2, 3, 4, 6]\n"
     ]
    }
   ],
   "source": [
    "# create an object and assign it to x\n",
    "x = [1,2,3,4]\n",
    "# y and z point to same object x\n",
    "y = x\n",
    "z = x\n",
    "print(x)\n",
    "print(y)\n",
    "print(z)\n",
    "# this addition method creates a new object and assigns it to x\n",
    "x = x + [5]\n",
    "# y and z still point to the original object\n",
    "print(x)\n",
    "print(y)\n",
    "print(z)\n",
    "# this addition method (+=) adds to original object\n",
    "y += [6]\n",
    "# y and z point to the original opject which has been modified\n",
    "print(x)\n",
    "print(y)\n",
    "print(z)"
   ]
  },
  {
   "cell_type": "code",
   "execution_count": 25,
   "id": "176ba368",
   "metadata": {},
   "outputs": [
    {
     "name": "stdout",
     "output_type": "stream",
     "text": [
      "q\n",
      "i\n",
      "i\n",
      "q\n",
      "i\n",
      "i\n"
     ]
    }
   ],
   "source": [
    "b = ['q', 'u', 'i']\n",
    "z = b\n",
    "b[1] = 'i'\n",
    "for elem in b:\n",
    "    print(elem)\n",
    "for item in z:\n",
    "    print(item)"
   ]
  },
  {
   "cell_type": "code",
   "execution_count": 27,
   "id": "05811abc",
   "metadata": {},
   "outputs": [
    {
     "data": {
      "text/plain": [
       "[10, 15, 20, 25, 30]"
      ]
     },
     "execution_count": 27,
     "metadata": {},
     "output_type": "execute_result"
    }
   ],
   "source": [
    "\n",
    "numbs = [5, 10, 15, 20, 25]\n",
    "numbs = list(map(lambda n : n + 5, numbs))\n",
    "numbs"
   ]
  },
  {
   "cell_type": "code",
   "execution_count": 35,
   "id": "9f2f42fc",
   "metadata": {},
   "outputs": [
    {
     "name": "stdout",
     "output_type": "stream",
     "text": [
      "90\n",
      "3\n",
      "{'n': 4, 'w': 'boo-yah'}\n",
      "{'b': 3, 'c': 'no'}\n"
     ]
    }
   ],
   "source": [
    "nested2 = [{'a': 1, 'b': 3}, {'a': 5, 'c': 90, 5: 50}, {'b': 3, 'c': \"yes\"}]\n",
    "\n",
    "#write code to print the value associated with key 'c' in the second dictionary (90)\n",
    "print(nested2[1]['c'])\n",
    "#write code to print the value associated with key 'b' in the third dictionary\n",
    "print(nested2[2]['b'])\n",
    "#add a fourth dictionary add the end of the list; print something to check your work.\n",
    "nested2.append({'n': 4, 'w': 'boo-yah'})\n",
    "print(nested2[-1])\n",
    "#change the value associated with 'c' in the third dictionary from \"yes\" to \"no\"; print something to check your work\n",
    "nested2[2]['c'] = \"no\"\n",
    "print(nested2[2])"
   ]
  },
  {
   "cell_type": "code",
   "execution_count": 42,
   "id": "facf78b5",
   "metadata": {},
   "outputs": [
    {
     "data": {
      "text/plain": [
       "dict_keys(['key1', 'key2', 5, '5'])"
      ]
     },
     "execution_count": 42,
     "metadata": {},
     "output_type": "execute_result"
    }
   ],
   "source": [
    "d = {'key1': {'a': 5, 'c': 90, 5: 50}, 'key2':{'b': 3, 'c': \"yes\"}}\n",
    "d[5] = {1: 2, 3: 4}\n",
    "d['5'] = {5:6, 7:8}\n",
    "d.keys()"
   ]
  },
  {
   "cell_type": "code",
   "execution_count": 43,
   "id": "f51b246c",
   "metadata": {},
   "outputs": [],
   "source": [
    "# get ready to zip in different ways...\n",
    "\n",
    "# two vectors\n",
    "v1 = [1,2,3]\n",
    "v2 = [4,5,6]\n",
    "# add the two vectors together"
   ]
  },
  {
   "cell_type": "code",
   "execution_count": 46,
   "id": "957ac20d",
   "metadata": {},
   "outputs": [
    {
     "name": "stdout",
     "output_type": "stream",
     "text": [
      "[(1, 4), (2, 5), (3, 6)]\n",
      "[5, 7, 9]\n"
     ]
    }
   ],
   "source": [
    "v3 = list(zip(v1, v2))\n",
    "print(v3)\n",
    "v4 = []\n",
    "for a,b in v3:\n",
    "    v4.append(a+b)\n",
    "print(v4)"
   ]
  },
  {
   "cell_type": "code",
   "execution_count": 49,
   "id": "c465a474",
   "metadata": {},
   "outputs": [
    {
     "data": {
      "text/plain": [
       "[5, 7, 9]"
      ]
     },
     "execution_count": 49,
     "metadata": {},
     "output_type": "execute_result"
    }
   ],
   "source": [
    "v_list_comprehension = [a + b for (a, b) in list(zip(v1, v2))]\n",
    "v_list_comprehension"
   ]
  },
  {
   "cell_type": "code",
   "execution_count": 51,
   "id": "8419ea40",
   "metadata": {},
   "outputs": [
    {
     "data": {
      "text/plain": [
       "[5, 7, 9]"
      ]
     },
     "execution_count": 51,
     "metadata": {},
     "output_type": "execute_result"
    }
   ],
   "source": [
    "v_via_map = list(map(lambda tup : tup[0] + tup[1], list(zip(v1, v2))))\n",
    "v_via_map"
   ]
  },
  {
   "cell_type": "markdown",
   "id": "cd649853",
   "metadata": {},
   "source": [
    "1. Below we have provided two lists of numbers, L1 and L2. Using zip and list comprehension, create a new list, L3, that sums the two numbers if the number from L1 is greater than 10 and the number from L2 is less than 5. This can be accomplished in one line of code."
   ]
  },
  {
   "cell_type": "code",
   "execution_count": 56,
   "id": "23e2c51f",
   "metadata": {},
   "outputs": [
    {
     "data": {
      "text/plain": [
       "[18, 57, 103]"
      ]
     },
     "execution_count": 56,
     "metadata": {},
     "output_type": "execute_result"
    }
   ],
   "source": [
    "L1 = [1, 5, 2, 16, 32, 3, 54, 8, 100]\n",
    "L2 = [1, 3, 10, 2, 42, 2, 3, 4, 3]\n",
    "# filtering uses for in if\n",
    "L3 = [a + b for (a, b) in list(zip(L1, L2)) if ((a > 10) and (b < 5))]"
   ]
  },
  {
   "cell_type": "code",
   "execution_count": 57,
   "id": "86dc8bae",
   "metadata": {},
   "outputs": [
    {
     "name": "stdout",
     "output_type": "stream",
     "text": [
      "[(1, 4, 8), (2, 5, 9), (3, 6, 10)]\n"
     ]
    }
   ],
   "source": [
    "LL1 = [1,2,3]\n",
    "LL2 = [4,5,6,7]\n",
    "LL3 = [8,9,10,11,12]\n",
    "print(list(zip(LL1, LL2, LL3)))"
   ]
  },
  {
   "cell_type": "code",
   "execution_count": 58,
   "id": "2e259100",
   "metadata": {},
   "outputs": [
    {
     "data": {
      "text/plain": [
       "['Fruit: plums',\n",
       " 'Fruit: watermelon',\n",
       " 'Fruit: kiwi',\n",
       " 'Fruit: strawberries',\n",
       " 'Fruit: blueberries',\n",
       " 'Fruit: peaches',\n",
       " 'Fruit: apples',\n",
       " 'Fruit: mangos',\n",
       " 'Fruit: papaya']"
      ]
     },
     "execution_count": 58,
     "metadata": {},
     "output_type": "execute_result"
    }
   ],
   "source": [
    "lst_check = ['plums', 'watermelon', 'kiwi', 'strawberries', 'blueberries', 'peaches', 'apples', 'mangos', 'papaya']\n",
    "map_testing = list(map(lambda f : ('Fruit: ' + f), lst_check))\n",
    "map_testing"
   ]
  },
  {
   "cell_type": "code",
   "execution_count": 59,
   "id": "9434d88f",
   "metadata": {},
   "outputs": [
    {
     "data": {
      "text/plain": [
       "['Brazil', 'Botswana', 'Britain', 'Bangladesh', 'Belarus', 'Belgium']"
      ]
     },
     "execution_count": 59,
     "metadata": {},
     "output_type": "execute_result"
    }
   ],
   "source": [
    "countries = ['Canada', 'Mexico', 'Brazil', 'Chile', 'Denmark', 'Botswana', 'Spain', 'Britain', 'Portugal', 'Russia', 'Thailand', 'Bangladesh', 'Nigeria', 'Argentina', 'Belarus', 'Laos', 'Australia', 'Panama', 'Egypt', 'Morocco', 'Switzerland', 'Belgium']\n",
    "b_countries = list(filter(lambda c : c[0] == \"B\", countries))\n",
    "b_countries"
   ]
  },
  {
   "cell_type": "code",
   "execution_count": 61,
   "id": "3f940c8d",
   "metadata": {},
   "outputs": [
    {
     "data": {
      "text/plain": [
       "['Jon',\n",
       " 'Cersei',\n",
       " 'Arya',\n",
       " 'Robb',\n",
       " 'Jamie',\n",
       " 'Daenerys',\n",
       " 'Sansa',\n",
       " 'Margaery',\n",
       " 'Eddard',\n",
       " 'Tyrion',\n",
       " 'Joffrey',\n",
       " 'Ramsey',\n",
       " 'Peter']"
      ]
     },
     "execution_count": 61,
     "metadata": {},
     "output_type": "execute_result"
    }
   ],
   "source": [
    "people = [('Snow', 'Jon'), ('Lannister', 'Cersei'), ('Stark', 'Arya'), ('Stark', 'Robb'), ('Lannister', 'Jamie'), ('Targaryen', 'Daenerys'), ('Stark', 'Sansa'), ('Tyrell', 'Margaery'), ('Stark', 'Eddard'), ('Lannister', 'Tyrion'), ('Baratheon', 'Joffrey'), ('Bolton', 'Ramsey'), ('Baelish', 'Peter')]\n",
    "first_names = [b for (a,b) in people]\n",
    "first_names"
   ]
  },
  {
   "cell_type": "code",
   "execution_count": 63,
   "id": "f8150b41",
   "metadata": {},
   "outputs": [
    {
     "data": {
      "text/plain": [
       "[['hi', 'bye', 'hi', 'bye'], 'hellohello', 'goodbyegoodbye', [9, 2, 9, 2], 8]"
      ]
     },
     "execution_count": 63,
     "metadata": {},
     "output_type": "execute_result"
    }
   ],
   "source": [
    "lst = [[\"hi\", \"bye\"], \"hello\", \"goodbye\", [9, 2], 4]\n",
    "lst2 = [el * 2 for el in lst]\n",
    "lst2"
   ]
  },
  {
   "cell_type": "code",
   "execution_count": 65,
   "id": "131dab57",
   "metadata": {},
   "outputs": [
    {
     "data": {
      "text/plain": [
       "['Tommy', 'Carl', 'Bob', 'Sue']"
      ]
     },
     "execution_count": 65,
     "metadata": {},
     "output_type": "execute_result"
    }
   ],
   "source": [
    "students = [('Tommy', 95), ('Linda', 63), ('Carl', 70), ('Bob', 100), ('Raymond', 50), ('Sue', 75)]\n",
    "passed = [a for (a,b) in students if b >= 70]\n",
    "passed"
   ]
  },
  {
   "cell_type": "code",
   "execution_count": 70,
   "id": "389a9655",
   "metadata": {},
   "outputs": [
    {
     "data": {
      "text/plain": [
       "[('left', 'right'), ('front', 'back')]"
      ]
     },
     "execution_count": 70,
     "metadata": {},
     "output_type": "execute_result"
    }
   ],
   "source": [
    "l1 = ['left', 'up', 'front']\n",
    "l2 = ['right', 'down', 'back']\n",
    "opposites = list(filter(lambda tup : len(tup[0]) > 3 and len(tup[1]) > 3, list(zip(l1,l2))))\n",
    "opposites"
   ]
  },
  {
   "cell_type": "code",
   "execution_count": 74,
   "id": "1d41ed5b",
   "metadata": {},
   "outputs": [
    {
     "data": {
      "text/plain": [
       "['black rhino',\n",
       " 'orangutan',\n",
       " 'sumatran elephant',\n",
       " 'blue whale',\n",
       " 'giant panda',\n",
       " 'green turtle']"
      ]
     },
     "execution_count": 74,
     "metadata": {},
     "output_type": "execute_result"
    }
   ],
   "source": [
    "\n",
    "species = ['golden retriever', 'white tailed deer', 'black rhino', 'brown squirrel', 'field mouse', 'orangutan', 'sumatran elephant', 'rainbow trout', 'black bear', 'blue whale', 'water moccasin', 'giant panda', 'green turtle', 'blue jay', 'japanese beetle']\n",
    "\n",
    "population = [10000, 90000, 1000, 2000000, 500000, 500, 1200, 8000, 12000, 2300, 7500, 100, 1800, 9500, 125000]\n",
    "\n",
    "pop_info = list(zip(species, population))\n",
    "endangered = [a for (a,b) in pop_info if b < 2500]\n",
    "endangered"
   ]
  },
  {
   "cell_type": "code",
   "execution_count": null,
   "id": "d2f927bd",
   "metadata": {},
   "outputs": [],
   "source": []
  }
 ],
 "metadata": {
  "kernelspec": {
   "display_name": "Python 3 (ipykernel)",
   "language": "python",
   "name": "python3"
  },
  "language_info": {
   "codemirror_mode": {
    "name": "ipython",
    "version": 3
   },
   "file_extension": ".py",
   "mimetype": "text/x-python",
   "name": "python",
   "nbconvert_exporter": "python",
   "pygments_lexer": "ipython3",
   "version": "3.8.11"
  }
 },
 "nbformat": 4,
 "nbformat_minor": 5
}
