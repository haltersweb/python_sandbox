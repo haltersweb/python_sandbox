{
 "cells": [
  {
   "cell_type": "markdown",
   "id": "a59a51ba",
   "metadata": {},
   "source": [
    "# Part 3 Final Exam\n",
    "\n",
    "Mash up data from two different APIs to make movie recommendations.\n",
    "* The TasteDive API lets you provide a movie (or bands, TV shows, etc.) as a query input, and returns a set of related items.\n",
    "* The OMDB API lets you provide a movie title as a query input and get back data about the movie, including scores from various review sites (Rotten Tomatoes, IMDB, etc.).\n",
    "\n",
    "You will put those two together.\n",
    "* You will use TasteDive to get related movies for a whole list of titles.\n",
    "* You’ll combine the resulting lists of related movies, and sort them according to their Rotten Tomatoes scores by making API call to the OMDB API.\n",
    "\n",
    "## Step 1\n",
    "\n",
    "### TasteDive\n",
    "* https://tastedive.com/read/api\n",
    "\n",
    "* Define a function, called `get_movies_from_tastedive`.\n",
    "* It should take one input parameter, a string that is the name of a movie or music artist.\n",
    "* The function should return the 5 TasteDive results that are associated with that string\n",
    "* Be sure to only get movies, not other kinds of media.\n",
    "* It will be a python dictionary with just one key, `Similar`.\n",
    "\n",
    "Try invoking your function with the input `“Black Panther”`.\n",
    "\n",
    "HINT: Be sure to include only `q`, `type`, and `limit` as parameters in order to extract data from the cache. If any other parameters are included, then the function will not be able to recognize the data that you’re attempting to pull from the cache. Remember, you will not need an api key in order to complete the project, because all data will be found in the cache.\n",
    "\n"
   ]
  },
  {
   "cell_type": "code",
   "execution_count": 29,
   "id": "5e6b075f",
   "metadata": {},
   "outputs": [
    {
     "name": "stdout",
     "output_type": "stream",
     "text": [
      "<Response [200]>\n",
      "https://tastedive.com/api/similar?k=444192-practice-DRUD67MN&q=Black+Panther&type=movies&limit=5\n",
      "{\n",
      "  \"Similar\": {\n",
      "    \"Info\": [\n",
      "      {\n",
      "        \"Name\": \"Black Panther\",\n",
      "        \"Type\": \"movie\"\n",
      "      }\n",
      "    ],\n",
      "    \"Results\": [\n",
      "      {\n",
      "        \"Name\": \"Avengers: Infinity War\",\n",
      "        \"Type\": \"movie\"\n",
      "      },\n",
      "      {\n",
      "        \"Name\": \"Ant-Man And The Wasp\",\n",
      "        \"Type\": \"movie\"\n",
      "      },\n",
      "      {\n",
      "        \"Name\": \"Thor: Ragnarok\",\n",
      "        \"Type\": \"movie\"\n",
      "      },\n",
      "      {\n",
      "        \"Name\": \"Guardians Of The Galaxy Vol. 2\",\n",
      "        \"Type\": \"movie\"\n",
      "      },\n",
      "      {\n",
      "        \"Name\": \"Captain Marvel\",\n",
      "        \"Type\": \"movie\"\n",
      "      }\n",
      "    ]\n",
      "  }\n",
      "}\n"
     ]
    }
   ],
   "source": [
    "import requests\n",
    "import json\n",
    "\n",
    "td_api_key = '' # Taste Dive key quota is 300\n",
    "\n",
    "# retrieve API key from file\n",
    "with open('tastedive.json', 'r') as f:\n",
    "    td_api_key = json.load(f)['key']\n",
    "    \n",
    "def get_movies_from_tastedive(q):\n",
    "    #q is a string containing music artist, movie, author, book, etc. (i.e. 'Red Hot Chili Peppers')\n",
    "    #q can have an identifier if, say, book and movie have same name (i.e. 'book:Harry Potter')\n",
    "    td_endpoint = 'https://tastedive.com/api/similar'\n",
    "    params = {\n",
    "        'k' : td_api_key,\n",
    "        'q' : q,\n",
    "        'type' : 'movies', #(optional) music, movies, shows, podcasts, books, authors, games\n",
    "        'limit' : '5' #(optional) maximum number of recommendations to retrieve (default is 20)\n",
    "    }\n",
    "    res = requests.get(td_endpoint, params=params)\n",
    "    print(res)\n",
    "    print(res.url)\n",
    "    return res.json()\n",
    "\n",
    "td_results = get_movies_from_tastedive('Black Panther')\n",
    "print(json.dumps(td_results, indent = 2))\n"
   ]
  },
  {
   "cell_type": "markdown",
   "id": "255d3b28",
   "metadata": {},
   "source": [
    "Next, you will need to write a function that extracts just the list of movie titles from a dictionary returned by `get_movies_from_tastedive`. Call it `extract_movie_titles`."
   ]
  },
  {
   "cell_type": "code",
   "execution_count": 37,
   "id": "a9db64b2",
   "metadata": {},
   "outputs": [],
   "source": [
    "def extract_movie_titles(td_d):\n",
    "    #td_d is the dictionary returned by get_movies_from_tastedive()\n",
    "    movies = td_d[\"Similar\"][\"Results\"]\n",
    "    return [m['Name'] for m in movies]"
   ]
  },
  {
   "cell_type": "code",
   "execution_count": 38,
   "id": "a09fabda",
   "metadata": {},
   "outputs": [
    {
     "name": "stdout",
     "output_type": "stream",
     "text": [
      "['Avengers: Infinity War', 'Ant-Man And The Wasp', 'Thor: Ragnarok', 'Guardians Of The Galaxy Vol. 2', 'Captain Marvel']\n"
     ]
    }
   ],
   "source": [
    "print(extract_movie_titles(td_results))"
   ]
  },
  {
   "cell_type": "markdown",
   "id": "4d65fad0",
   "metadata": {},
   "source": [
    "Next, you’ll write a function, called `get_related_titles`. It takes a list of movie titles as input. It gets five related movies for each from TasteDive, extracts the titles for all of them, and combines them all into a single list. Don’t include the same movie twice."
   ]
  },
  {
   "cell_type": "code",
   "execution_count": 65,
   "id": "0113b0a4",
   "metadata": {},
   "outputs": [
    {
     "name": "stdout",
     "output_type": "stream",
     "text": [
      "<Response [200]>\n",
      "https://tastedive.com/api/similar?k=444192-practice-DRUD67MN&q=Black+Panther&type=movies&limit=5\n",
      "<Response [200]>\n",
      "https://tastedive.com/api/similar?k=444192-practice-DRUD67MN&q=Captain+Marvel&type=movies&limit=5\n",
      "['Avengers: Infinity War', 'Ant-Man And The Wasp', 'Thor: Ragnarok', 'Guardians Of The Galaxy Vol. 2', 'Captain Marvel', 'Spider-Man: Far From Home', 'Avengers: Endgame']\n"
     ]
    }
   ],
   "source": [
    "def get_related_titles(movie_titles_l):\n",
    "    #movie_titles_l is a list of movie titles that you will get related movies from\n",
    "    all_results = []\n",
    "    for t in movie_titles_l:\n",
    "        td_res = get_movies_from_tastedive(t)\n",
    "        rel_movies = extract_movie_titles(td_res)\n",
    "        [all_results.append(m) for m in rel_movies if m not in all_results]\n",
    "    return all_results\n",
    "\n",
    "print(get_related_titles(['Black Panther', 'Captain Marvel']))"
   ]
  },
  {
   "cell_type": "markdown",
   "id": "192f7798",
   "metadata": {},
   "source": [
    "## Step 2:\n",
    "\n",
    "### OMDb"
   ]
  },
  {
   "cell_type": "markdown",
   "id": "3ab05b9f",
   "metadata": {},
   "source": [
    "Your next task will be to fetch data from __OMDB__. The documentation for the API is at https://www.omdbapi.com/\n",
    "\n",
    "Define a function called `get_movie_data`. It takes in __one parameter__ which is a string that should represent the __title of a movie__ you want to search. The function should __return a dictionary with information about that movie__.\n",
    "\n",
    "You will need to provide the following parameters: `t` and `r`."
   ]
  },
  {
   "cell_type": "code",
   "execution_count": 71,
   "id": "877ae354",
   "metadata": {},
   "outputs": [
    {
     "name": "stdout",
     "output_type": "stream",
     "text": [
      "4ef2cb3b\n"
     ]
    }
   ],
   "source": [
    "# get OMDb key from JSON file\n",
    "omdb_key = ''\n",
    "with open('OMDb.json', 'r') as f:\n",
    "    omdb_key = json.load(f)['key']\n",
    "print(omdb_key)"
   ]
  },
  {
   "cell_type": "code",
   "execution_count": 81,
   "id": "d7223969",
   "metadata": {},
   "outputs": [],
   "source": [
    "def get_movie_data(t):\n",
    "    #t is tile of movie to search\n",
    "    endpoint = 'http://www.omdbapi.com/'\n",
    "    params = {\n",
    "        'apikey' : '4ef2cb3b',\n",
    "        't' : t, #title of movie to search for\n",
    "        'r' : 'json' #data type to return\n",
    "    }\n",
    "    res = requests.get(endpoint, params=params)\n",
    "    #http://www.omdbapi.com/?t=Black+Panther&apikey=4ef2cb3b\n",
    "    print(res.url)\n",
    "    return res.json()"
   ]
  },
  {
   "cell_type": "code",
   "execution_count": 85,
   "id": "421ae09e",
   "metadata": {},
   "outputs": [
    {
     "name": "stdout",
     "output_type": "stream",
     "text": [
      "http://www.omdbapi.com/?apikey=4ef2cb3b&t=Black+Panther&r=json\n",
      "{\n",
      "  \"Title\": \"Black Panther\",\n",
      "  \"Year\": \"2018\",\n",
      "  \"Rated\": \"PG-13\",\n",
      "  \"Released\": \"16 Feb 2018\",\n",
      "  \"Runtime\": \"134 min\",\n",
      "  \"Genre\": \"Action, Adventure, Sci-Fi\",\n",
      "  \"Director\": \"Ryan Coogler\",\n",
      "  \"Writer\": \"Ryan Coogler, Joe Robert Cole, Stan Lee\",\n",
      "  \"Actors\": \"Chadwick Boseman, Michael B. Jordan, Lupita Nyong'o\",\n",
      "  \"Plot\": \"T'Challa, heir to the hidden but advanced kingdom of Wakanda, must step forward to lead his people into a new future and must confront a challenger from his country's past.\",\n",
      "  \"Language\": \"English, Swahili, Nama, Xhosa, Korean\",\n",
      "  \"Country\": \"United States\",\n",
      "  \"Awards\": \"Won 3 Oscars. 116 wins & 281 nominations total\",\n",
      "  \"Poster\": \"https://m.media-amazon.com/images/M/MV5BMTg1MTY2MjYzNV5BMl5BanBnXkFtZTgwMTc4NTMwNDI@._V1_SX300.jpg\",\n",
      "  \"Ratings\": [\n",
      "    {\n",
      "      \"Source\": \"Internet Movie Database\",\n",
      "      \"Value\": \"7.3/10\"\n",
      "    },\n",
      "    {\n",
      "      \"Source\": \"Rotten Tomatoes\",\n",
      "      \"Value\": \"96%\"\n",
      "    },\n",
      "    {\n",
      "      \"Source\": \"Metacritic\",\n",
      "      \"Value\": \"88/100\"\n",
      "    }\n",
      "  ],\n",
      "  \"Metascore\": \"88\",\n",
      "  \"imdbRating\": \"7.3\",\n",
      "  \"imdbVotes\": \"753,761\",\n",
      "  \"imdbID\": \"tt1825683\",\n",
      "  \"Type\": \"movie\",\n",
      "  \"DVD\": \"02 May 2018\",\n",
      "  \"BoxOffice\": \"$700,426,566\",\n",
      "  \"Production\": \"N/A\",\n",
      "  \"Website\": \"N/A\",\n",
      "  \"Response\": \"True\"\n",
      "}\n"
     ]
    }
   ],
   "source": [
    "o = get_movie_data('Black Panther')\n",
    "print(json.dumps(o, indent=2))"
   ]
  },
  {
   "cell_type": "markdown",
   "id": "9e456709",
   "metadata": {},
   "source": [
    "Now write a function called `get_movie_rating`. It takes an OMDB dictionary result for one movie and extracts the Rotten Tomatoes rating as an integer. For example, if given the OMDB dictionary for “Black Panther”, it would return 97. If there is no Rotten Tomatoes rating, return 0."
   ]
  },
  {
   "cell_type": "code",
   "execution_count": 100,
   "id": "aeb9a069",
   "metadata": {},
   "outputs": [],
   "source": [
    "def get_movie_rating(omdb_result_d):\n",
    "    rating = 0\n",
    "    rating_l = omdb_result_d['Ratings'] #returns a list of objects (\"Source\":\"Value\")\n",
    "    for r in rating_l:\n",
    "        if (r['Source'] == 'Rotten Tomatoes'):\n",
    "            rating = int(r['Value'][:-1])\n",
    "            break\n",
    "    return rating\n"
   ]
  },
  {
   "cell_type": "code",
   "execution_count": 105,
   "id": "83b8e1fc",
   "metadata": {},
   "outputs": [
    {
     "data": {
      "text/plain": [
       "96"
      ]
     },
     "execution_count": 105,
     "metadata": {},
     "output_type": "execute_result"
    }
   ],
   "source": [
    "get_movie_rating(o)"
   ]
  },
  {
   "cell_type": "markdown",
   "id": "e53d5371",
   "metadata": {},
   "source": [
    "## Step 3\n",
    "### Merge all results into a sorted list"
   ]
  },
  {
   "cell_type": "markdown",
   "id": "6c196087",
   "metadata": {},
   "source": [
    "Now, you’ll put it all together.\n",
    "\n",
    "Define a function `get_sorted_recommendations`. It takes a __list of movie titles__ as an input. It __returns__ a __sorted list__ of __related movie titles__ as output, up to five related movies for each input movie title.\n",
    "\n",
    "The movies should be sorted in __descending order__ by their __Rotten Tomatoes rating__, as returned by the `get_movie_rating` function. __Break ties in reverse alphabetic order__, so that ‘Yahşi Batı’ comes before ‘Eyyvah Eyvah’."
   ]
  },
  {
   "cell_type": "code",
   "execution_count": 142,
   "id": "f4a0584b",
   "metadata": {},
   "outputs": [
    {
     "name": "stdout",
     "output_type": "stream",
     "text": [
      "<Response [200]>\n",
      "https://tastedive.com/api/similar?k=444192-practice-DRUD67MN&q=Black+Panther&type=movies&limit=5\n",
      "<Response [200]>\n",
      "https://tastedive.com/api/similar?k=444192-practice-DRUD67MN&q=Captain+America&type=movies&limit=5\n",
      "http://www.omdbapi.com/?apikey=4ef2cb3b&t=Avengers%3A+Infinity+War&r=json\n",
      "http://www.omdbapi.com/?apikey=4ef2cb3b&t=Ant-Man+And+The+Wasp&r=json\n",
      "http://www.omdbapi.com/?apikey=4ef2cb3b&t=Thor%3A+Ragnarok&r=json\n",
      "http://www.omdbapi.com/?apikey=4ef2cb3b&t=Guardians+Of+The+Galaxy+Vol.+2&r=json\n",
      "http://www.omdbapi.com/?apikey=4ef2cb3b&t=Captain+Marvel&r=json\n",
      "http://www.omdbapi.com/?apikey=4ef2cb3b&t=The+Fantastic+Four&r=json\n",
      "http://www.omdbapi.com/?apikey=4ef2cb3b&t=Batman+%26+Robin&r=json\n",
      "http://www.omdbapi.com/?apikey=4ef2cb3b&t=Highlander+II%3A+The+Quickening&r=json\n",
      "http://www.omdbapi.com/?apikey=4ef2cb3b&t=Double+Dragon&r=json\n",
      "http://www.omdbapi.com/?apikey=4ef2cb3b&t=Highlander%3A+The+Source&r=json\n"
     ]
    },
    {
     "data": {
      "text/plain": [
       "['Thor: Ragnarok',\n",
       " 'Ant-Man And The Wasp',\n",
       " 'Guardians Of The Galaxy Vol. 2',\n",
       " 'Avengers: Infinity War',\n",
       " 'Captain Marvel',\n",
       " 'The Fantastic Four',\n",
       " 'Double Dragon',\n",
       " 'Batman & Robin',\n",
       " 'Highlander: The Source',\n",
       " 'Highlander II: The Quickening']"
      ]
     },
     "execution_count": 142,
     "metadata": {},
     "output_type": "execute_result"
    }
   ],
   "source": [
    "def get_sorted_recommendations(movie_titles_l):\n",
    "    #movie_titles_l is a list of movie titles to get related movie titles on\n",
    "    rel_titles_l = get_related_titles(movie_titles_l) # get a filtered list of related movie titles\n",
    "    rating_l = [] # collects list of ratings for the movie titles\n",
    "    for title in rel_titles_l:\n",
    "        data_d = get_movie_data(title)\n",
    "        rating_l.append(get_movie_rating(data_d))\n",
    "    collection = list(zip(rel_titles_l, rating_l))\n",
    "    sort_collection = sorted(collection, reverse=True, key=lambda c : (c[1], c[0]))\n",
    "    sorted_movies_t = list(zip(*sort_collection))[0]\n",
    "    return [s for s in sorted_movies_t]\n",
    "    \n",
    "get_sorted_recommendations(['Black Panther', 'Captain America'])"
   ]
  },
  {
   "cell_type": "code",
   "execution_count": 114,
   "id": "19c99869",
   "metadata": {},
   "outputs": [],
   "source": [
    "rel_titles_l = ['Avengers: Infinity War', 'Ant-Man And The Wasp', 'Thor: Ragnarok', 'Guardians Of The Galaxy Vol. 2', 'Captain Marvel', 'The Fantastic Four', 'Batman & Robin', 'Highlander II: The Quickening', 'Double Dragon', 'Highlander: The Source']\n",
    "rating_l = [85, 87, 93, 85, 79, 27, 12, 0, 12, 0]\n"
   ]
  },
  {
   "cell_type": "code",
   "execution_count": 119,
   "id": "8cd65cf7",
   "metadata": {},
   "outputs": [
    {
     "data": {
      "text/plain": [
       "[('Avengers: Infinity War', 85),\n",
       " ('Ant-Man And The Wasp', 87),\n",
       " ('Thor: Ragnarok', 93),\n",
       " ('Guardians Of The Galaxy Vol. 2', 85),\n",
       " ('Captain Marvel', 79),\n",
       " ('The Fantastic Four', 27),\n",
       " ('Batman & Robin', 12),\n",
       " ('Highlander II: The Quickening', 0),\n",
       " ('Double Dragon', 12),\n",
       " ('Highlander: The Source', 0)]"
      ]
     },
     "execution_count": 119,
     "metadata": {},
     "output_type": "execute_result"
    }
   ],
   "source": [
    "z = list(zip(rel_titles_l,rating_l))\n",
    "z"
   ]
  },
  {
   "cell_type": "code",
   "execution_count": 134,
   "id": "84a16db7",
   "metadata": {},
   "outputs": [
    {
     "data": {
      "text/plain": [
       "[('Thor: Ragnarok', 93),\n",
       " ('Ant-Man And The Wasp', 87),\n",
       " ('Guardians Of The Galaxy Vol. 2', 85),\n",
       " ('Avengers: Infinity War', 85),\n",
       " ('Captain Marvel', 79),\n",
       " ('The Fantastic Four', 27),\n",
       " ('Double Dragon', 12),\n",
       " ('Batman & Robin', 12),\n",
       " ('Highlander: The Source', 0),\n",
       " ('Highlander II: The Quickening', 0)]"
      ]
     },
     "execution_count": 134,
     "metadata": {},
     "output_type": "execute_result"
    }
   ],
   "source": [
    "z_sort = sorted(z, key=lambda x : (x[1], x[0]), reverse=True)\n",
    "z_sort"
   ]
  },
  {
   "cell_type": "code",
   "execution_count": null,
   "id": "928c87d9",
   "metadata": {},
   "outputs": [],
   "source": []
  }
 ],
 "metadata": {
  "kernelspec": {
   "display_name": "Python 3 (ipykernel)",
   "language": "python",
   "name": "python3"
  },
  "language_info": {
   "codemirror_mode": {
    "name": "ipython",
    "version": 3
   },
   "file_extension": ".py",
   "mimetype": "text/x-python",
   "name": "python",
   "nbconvert_exporter": "python",
   "pygments_lexer": "ipython3",
   "version": "3.8.11"
  }
 },
 "nbformat": 4,
 "nbformat_minor": 5
}
