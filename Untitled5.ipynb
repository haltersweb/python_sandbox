{
 "cells": [
  {
   "cell_type": "code",
   "execution_count": 2,
   "id": "a2874126",
   "metadata": {},
   "outputs": [],
   "source": [
    "from random import randrange # returns integer"
   ]
  },
  {
   "cell_type": "code",
   "execution_count": 4,
   "id": "d7c80a8c",
   "metadata": {},
   "outputs": [
    {
     "name": "stdout",
     "output_type": "stream",
     "text": [
      "4\n",
      "1\n",
      "2\n",
      "1\n",
      "0\n",
      "4\n",
      "0\n",
      "3\n",
      "4\n",
      "2\n",
      "2\n",
      "3\n",
      "4\n",
      "0\n",
      "4\n"
     ]
    }
   ],
   "source": [
    "for i in range(15):\n",
    "    print(randrange(5))"
   ]
  },
  {
   "cell_type": "code",
   "execution_count": null,
   "id": "30a5421f",
   "metadata": {},
   "outputs": [],
   "source": []
  }
 ],
 "metadata": {
  "kernelspec": {
   "display_name": "Python 3 (ipykernel)",
   "language": "python",
   "name": "python3"
  },
  "language_info": {
   "codemirror_mode": {
    "name": "ipython",
    "version": 3
   },
   "file_extension": ".py",
   "mimetype": "text/x-python",
   "name": "python",
   "nbconvert_exporter": "python",
   "pygments_lexer": "ipython3",
   "version": "3.8.11"
  }
 },
 "nbformat": 4,
 "nbformat_minor": 5
}
